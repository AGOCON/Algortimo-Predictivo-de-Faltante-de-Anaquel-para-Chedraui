{
 "cells": [
  {
   "cell_type": "code",
   "execution_count": 1,
   "metadata": {},
   "outputs": [],
   "source": [
    "# Importar librerías básicas\n",
    "import numpy as np\n",
    "import pandas as pd\n",
    "import matplotlib.pyplot as plt\n",
    "import seaborn as sns\n",
    "import researchpy as rp"
   ]
  },
  {
   "cell_type": "code",
   "execution_count": 2,
   "metadata": {},
   "outputs": [],
   "source": [
    "from sklearn import preprocessing\n",
    "from sklearn import model_selection\n",
    "import matplotlib.pyplot as plt\n",
    "from sklearn.model_selection import train_test_split\n",
    "from sklearn import neighbors\n",
    "from catboost import CatBoostClassifier, Pool, metrics, cv\n",
    "from sklearn.preprocessing import MinMaxScaler\n",
    "from sklearn.model_selection import train_test_split\n",
    "from sklearn.ensemble import RandomForestClassifier\n",
    "from sklearn.metrics import confusion_matrix\n",
    "\n",
    "from sklearn.metrics import accuracy_score\n",
    "from sklearn.metrics import balanced_accuracy_score\n",
    "from sklearn.metrics import recall_score\n",
    "from sklearn.metrics import precision_score\n",
    "from sklearn.metrics import f1_score"
   ]
  },
  {
   "cell_type": "code",
   "execution_count": 3,
   "metadata": {},
   "outputs": [],
   "source": [
    "# Especificar columnas\n",
    "relevant_columns = ['SKU','Categoria','FORMATO','Existencia','fiDesplazamiento','VentaPromedio','Y_Faltante']\n",
    "num_columns = ['Existencia','fiDesplazamiento','VentaPromedio']\n",
    "cat_columns = ['SKU','Categoria','FORMATO']\n",
    "target = ['Y_Faltante']"
   ]
  },
  {
   "cell_type": "code",
   "execution_count": 4,
   "metadata": {},
   "outputs": [
    {
     "name": "stdout",
     "output_type": "stream",
     "text": [
      "rows: 842788  columns: 7\n"
     ]
    }
   ],
   "source": [
    "# Abrir el archivo que contiene el conjunto de validación \n",
    "file_val = 'datos_prueba.csv'\n",
    "data_val = pd.read_csv(file_val, header=0,low_memory=False, encoding='latin-1',usecols=relevant_columns)\n",
    "print('rows:', data_val.shape[0], ' columns:', data_val.shape[1])"
   ]
  },
  {
   "cell_type": "code",
   "execution_count": 5,
   "metadata": {},
   "outputs": [],
   "source": [
    "data_val_limpio = data_val.dropna(subset=relevant_columns)"
   ]
  },
  {
   "cell_type": "code",
   "execution_count": 6,
   "metadata": {},
   "outputs": [],
   "source": [
    "data_val_limpio.to_csv('validacion_limpio.csv',index=True)"
   ]
  },
  {
   "cell_type": "code",
   "execution_count": 7,
   "metadata": {},
   "outputs": [],
   "source": [
    "dtype = {'SKU':'object','FORMATO':'object','REGION':'object','Tienda':'object','Categoria':'object','Proveedor':'object','CLASE':'object','SCLASE':'object','Mes':'object','DiaSem':'object','Sem':'object','Decil':'object','Existencia':'float','fiDesplazamiento':'float',\n",
    "\\\n",
    "'VentaPromedio':'float','Y_Faltante':'int'}"
   ]
  },
  {
   "cell_type": "code",
   "execution_count": 8,
   "metadata": {},
   "outputs": [
    {
     "name": "stdout",
     "output_type": "stream",
     "text": [
      "rows: 5094322  columns: 7\n"
     ]
    }
   ],
   "source": [
    "# Abrir el archivo\n",
    "file = 'datos_entrenamiento.csv'\n",
    "data = pd.read_csv(file, header=0,low_memory=False, encoding='latin-1',usecols=relevant_columns,dtype=dtype)\n",
    "print('rows:', data.shape[0], ' columns:', data.shape[1])"
   ]
  },
  {
   "cell_type": "code",
   "execution_count": 9,
   "metadata": {},
   "outputs": [
    {
     "name": "stdout",
     "output_type": "stream",
     "text": [
      "rows: 808828  columns: 7\n"
     ]
    }
   ],
   "source": [
    "# Abrir el archivo que contiene el conjunto de validación \n",
    "file_val = 'validacion_limpio.csv'\n",
    "#file_val = 'datos_prueba.csv'\n",
    "data_val = pd.read_csv(file_val, header=0,low_memory=False, encoding='latin-1',usecols=relevant_columns,dtype=dtype)\n",
    "print('rows:', data_val.shape[0], ' columns:', data_val.shape[1])"
   ]
  },
  {
   "cell_type": "code",
   "execution_count": 10,
   "metadata": {},
   "outputs": [
    {
     "data": {
      "text/html": [
       "<div>\n",
       "<style scoped>\n",
       "    .dataframe tbody tr th:only-of-type {\n",
       "        vertical-align: middle;\n",
       "    }\n",
       "\n",
       "    .dataframe tbody tr th {\n",
       "        vertical-align: top;\n",
       "    }\n",
       "\n",
       "    .dataframe thead th {\n",
       "        text-align: right;\n",
       "    }\n",
       "</style>\n",
       "<table border=\"1\" class=\"dataframe\">\n",
       "  <thead>\n",
       "    <tr style=\"text-align: right;\">\n",
       "      <th></th>\n",
       "      <th>SKU</th>\n",
       "      <th>FORMATO</th>\n",
       "      <th>Categoria</th>\n",
       "      <th>Existencia</th>\n",
       "      <th>fiDesplazamiento</th>\n",
       "      <th>VentaPromedio</th>\n",
       "      <th>Y_Faltante</th>\n",
       "    </tr>\n",
       "  </thead>\n",
       "  <tbody>\n",
       "    <tr>\n",
       "      <th>0</th>\n",
       "      <td>3618668</td>\n",
       "      <td>SUPER CHEDRAUI CD</td>\n",
       "      <td>DULCES Y CHOCOLATES</td>\n",
       "      <td>121.0</td>\n",
       "      <td>110.0</td>\n",
       "      <td>640.20</td>\n",
       "      <td>0</td>\n",
       "    </tr>\n",
       "    <tr>\n",
       "      <th>1</th>\n",
       "      <td>3141178</td>\n",
       "      <td>SUPER CHEDRAUI CD</td>\n",
       "      <td>DESECHABLE COCINA</td>\n",
       "      <td>331.0</td>\n",
       "      <td>67.0</td>\n",
       "      <td>2928.57</td>\n",
       "      <td>1</td>\n",
       "    </tr>\n",
       "    <tr>\n",
       "      <th>2</th>\n",
       "      <td>3705562</td>\n",
       "      <td>SUPER CHEDRAUI CD</td>\n",
       "      <td>DESODORANTES CABALLERO</td>\n",
       "      <td>0.0</td>\n",
       "      <td>0.0</td>\n",
       "      <td>0.00</td>\n",
       "      <td>1</td>\n",
       "    </tr>\n",
       "    <tr>\n",
       "      <th>3</th>\n",
       "      <td>3653073</td>\n",
       "      <td>CHEDRAUI CD</td>\n",
       "      <td>SALSAS</td>\n",
       "      <td>7.0</td>\n",
       "      <td>9.0</td>\n",
       "      <td>223.74</td>\n",
       "      <td>0</td>\n",
       "    </tr>\n",
       "    <tr>\n",
       "      <th>4</th>\n",
       "      <td>3419939</td>\n",
       "      <td>CHEDRAUI CD</td>\n",
       "      <td>VELAS Y VELADORAS</td>\n",
       "      <td>10.0</td>\n",
       "      <td>10.0</td>\n",
       "      <td>1103.00</td>\n",
       "      <td>1</td>\n",
       "    </tr>\n",
       "    <tr>\n",
       "      <th>...</th>\n",
       "      <td>...</td>\n",
       "      <td>...</td>\n",
       "      <td>...</td>\n",
       "      <td>...</td>\n",
       "      <td>...</td>\n",
       "      <td>...</td>\n",
       "      <td>...</td>\n",
       "    </tr>\n",
       "    <tr>\n",
       "      <th>808823</th>\n",
       "      <td>3691231</td>\n",
       "      <td>CHEDRAUI CD</td>\n",
       "      <td>AGUARDIENTES</td>\n",
       "      <td>0.0</td>\n",
       "      <td>5.0</td>\n",
       "      <td>0.00</td>\n",
       "      <td>1</td>\n",
       "    </tr>\n",
       "    <tr>\n",
       "      <th>808824</th>\n",
       "      <td>3108795</td>\n",
       "      <td>CHEDRAUI CD</td>\n",
       "      <td>ARTÃCULOS DE COCCIÃN</td>\n",
       "      <td>14.0</td>\n",
       "      <td>16.0</td>\n",
       "      <td>3061.76</td>\n",
       "      <td>1</td>\n",
       "    </tr>\n",
       "    <tr>\n",
       "      <th>808825</th>\n",
       "      <td>3074553</td>\n",
       "      <td>CHEDRAUI AB</td>\n",
       "      <td>ALIMENTACIÃN SECA</td>\n",
       "      <td>53.0</td>\n",
       "      <td>116.0</td>\n",
       "      <td>12899.20</td>\n",
       "      <td>0</td>\n",
       "    </tr>\n",
       "    <tr>\n",
       "      <th>808826</th>\n",
       "      <td>3678422</td>\n",
       "      <td>CHEDRAUI CD</td>\n",
       "      <td>JAMONES</td>\n",
       "      <td>0.0</td>\n",
       "      <td>2.0</td>\n",
       "      <td>0.00</td>\n",
       "      <td>1</td>\n",
       "    </tr>\n",
       "    <tr>\n",
       "      <th>808827</th>\n",
       "      <td>3716885</td>\n",
       "      <td>SUPER CHEDRAUI CD</td>\n",
       "      <td>ACCESORIOS</td>\n",
       "      <td>4.0</td>\n",
       "      <td>3.0</td>\n",
       "      <td>75.00</td>\n",
       "      <td>0</td>\n",
       "    </tr>\n",
       "  </tbody>\n",
       "</table>\n",
       "<p>808828 rows × 7 columns</p>\n",
       "</div>"
      ],
      "text/plain": [
       "            SKU            FORMATO               Categoria  Existencia  \\\n",
       "0       3618668  SUPER CHEDRAUI CD     DULCES Y CHOCOLATES       121.0   \n",
       "1       3141178  SUPER CHEDRAUI CD       DESECHABLE COCINA       331.0   \n",
       "2       3705562  SUPER CHEDRAUI CD  DESODORANTES CABALLERO         0.0   \n",
       "3       3653073        CHEDRAUI CD                  SALSAS         7.0   \n",
       "4       3419939        CHEDRAUI CD       VELAS Y VELADORAS        10.0   \n",
       "...         ...                ...                     ...         ...   \n",
       "808823  3691231        CHEDRAUI CD            AGUARDIENTES         0.0   \n",
       "808824  3108795        CHEDRAUI CD  ARTÃCULOS DE COCCIÃN        14.0   \n",
       "808825  3074553        CHEDRAUI AB      ALIMENTACIÃN SECA        53.0   \n",
       "808826  3678422        CHEDRAUI CD                 JAMONES         0.0   \n",
       "808827  3716885  SUPER CHEDRAUI CD              ACCESORIOS         4.0   \n",
       "\n",
       "        fiDesplazamiento  VentaPromedio  Y_Faltante  \n",
       "0                  110.0         640.20           0  \n",
       "1                   67.0        2928.57           1  \n",
       "2                    0.0           0.00           1  \n",
       "3                    9.0         223.74           0  \n",
       "4                   10.0        1103.00           1  \n",
       "...                  ...            ...         ...  \n",
       "808823               5.0           0.00           1  \n",
       "808824              16.0        3061.76           1  \n",
       "808825             116.0       12899.20           0  \n",
       "808826               2.0           0.00           1  \n",
       "808827               3.0          75.00           0  \n",
       "\n",
       "[808828 rows x 7 columns]"
      ]
     },
     "execution_count": 10,
     "metadata": {},
     "output_type": "execute_result"
    }
   ],
   "source": [
    "data_val = data_val.sample(frac=1).reset_index(drop=True)\n",
    "data_val"
   ]
  },
  {
   "cell_type": "code",
   "execution_count": 11,
   "metadata": {},
   "outputs": [],
   "source": [
    "# Aislamos las variables numéricas y realizamos un min-max scaling sobre ellas\n",
    "categorical = data.drop(columns=['Existencia','fiDesplazamiento','VentaPromedio','Y_Faltante'])\n",
    "numerical = data[['Existencia','fiDesplazamiento','VentaPromedio']]\n",
    "numerical_scaled = (numerical - numerical.min())/(numerical.max() - numerical.min()) \n",
    "faltante = data[\"Y_Faltante\"]"
   ]
  },
  {
   "cell_type": "code",
   "execution_count": 12,
   "metadata": {},
   "outputs": [],
   "source": [
    "scaled_data = pd.concat([categorical,numerical_scaled,faltante], axis=1)\n",
    "data = scaled_data"
   ]
  },
  {
   "cell_type": "code",
   "execution_count": 13,
   "metadata": {},
   "outputs": [],
   "source": [
    "data = data.dropna()\n",
    "data_val = data_val.dropna()"
   ]
  },
  {
   "cell_type": "code",
   "execution_count": 14,
   "metadata": {},
   "outputs": [
    {
     "data": {
      "text/plain": [
       "SKU                  object\n",
       "FORMATO              object\n",
       "Categoria            object\n",
       "Existencia          float64\n",
       "fiDesplazamiento    float64\n",
       "VentaPromedio       float64\n",
       "Y_Faltante            int64\n",
       "dtype: object"
      ]
     },
     "execution_count": 14,
     "metadata": {},
     "output_type": "execute_result"
    }
   ],
   "source": [
    "data.dtypes"
   ]
  },
  {
   "cell_type": "code",
   "execution_count": 15,
   "metadata": {},
   "outputs": [],
   "source": [
    "def segmentador_formato(frame,cadena):\n",
    "    arreglo = frame[frame['FORMATO']==cadena]\n",
    "    return arreglo "
   ]
  },
  {
   "cell_type": "markdown",
   "metadata": {},
   "source": [
    "## CHEDRAUI CD"
   ]
  },
  {
   "cell_type": "code",
   "execution_count": 16,
   "metadata": {},
   "outputs": [],
   "source": [
    "chedraui_cd = segmentador_formato(data,'CHEDRAUI CD')\n",
    "chedraui_cd_val = segmentador_formato(data_val,'CHEDRAUI CD')"
   ]
  },
  {
   "cell_type": "code",
   "execution_count": 17,
   "metadata": {},
   "outputs": [
    {
     "name": "stdout",
     "output_type": "stream",
     "text": [
      "yes %: 50.38754984598272- no %: 49.61245015401728\n"
     ]
    },
    {
     "data": {
      "image/png": "[encoded data removed]",
      "text/plain": [
       "<Figure size 720x360 with 1 Axes>"
      ]
     },
     "metadata": {
      "needs_background": "light"
     },
     "output_type": "display_data"
    }
   ],
   "source": [
    "# Revisamos la proporción de datos\n",
    "target = chedraui_cd['Y_Faltante']\n",
    "yes = target[target == 1].count()\n",
    "no = target[target == 0].count()\n",
    "print('yes %: ' + str(yes/len(target)*100) + '- no %: ' \\\n",
    "        + str(no/len(target)*100))\n",
    "\n",
    "\n",
    "fig, ax = plt.subplots(figsize=(10,5))\n",
    "plt.bar(\"Faltante\", yes)\n",
    "plt.bar(\"No Faltante\", no)\n",
    "ax.set_yticks([yes,no])\n",
    "plt.xticks(fontsize=15)\n",
    "plt.yticks(fontsize=15)\n",
    "plt.show()"
   ]
  },
  {
   "cell_type": "code",
   "execution_count": 18,
   "metadata": {},
   "outputs": [],
   "source": [
    "#Balanceamos a 50% - 50% nuestro conjunto de datos.\n",
    "data_yes = chedraui_cd[chedraui_cd[\"Y_Faltante\"] == 1]\n",
    "data_no = chedraui_cd[chedraui_cd[\"Y_Faltante\"] == 0]\n",
    "over_sampling = data_yes.sample(no, replace=True, \\\n",
    "random_state = 0)\n",
    "balanced_data = pd.concat([data_no, over_sampling], \\\n",
    "axis=0)\n",
    "chedraui_cd = balanced_data.reset_index(drop=True)"
   ]
  },
  {
   "cell_type": "code",
   "execution_count": 19,
   "metadata": {},
   "outputs": [
    {
     "name": "stdout",
     "output_type": "stream",
     "text": [
      "yes %: 50.0- no %: 50.0\n"
     ]
    },
    {
     "data": {
      "image/png": "[encoded data removed]",
      "text/plain": [
       "<Figure size 720x360 with 1 Axes>"
      ]
     },
     "metadata": {
      "needs_background": "light"
     },
     "output_type": "display_data"
    }
   ],
   "source": [
    "# Verificamos que el conjunto de datos está perfectamente balanceado\n",
    "# Revisamos la proporción de datos\n",
    "target = chedraui_cd['Y_Faltante']\n",
    "yes = target[target == 1].count()\n",
    "no = target[target == 0].count()\n",
    "print('yes %: ' + str(yes/len(target)*100) + '- no %: ' \\\n",
    "        + str(no/len(target)*100))\n",
    "\n",
    "\n",
    "fig, ax = plt.subplots(figsize=(10,5))\n",
    "plt.bar(\"Faltante\", yes)\n",
    "plt.bar(\"No Faltante\", no)\n",
    "ax.set_yticks([yes,no])\n",
    "plt.xticks(fontsize=15)\n",
    "plt.yticks(fontsize=15)\n",
    "plt.show()"
   ]
  },
  {
   "cell_type": "code",
   "execution_count": 20,
   "metadata": {},
   "outputs": [],
   "source": [
    "chedraui_cd = chedraui_cd.drop('FORMATO',axis=1)\n",
    "chedraui_cd_val = chedraui_cd_val.drop('FORMATO',axis=1)"
   ]
  },
  {
   "cell_type": "code",
   "execution_count": 21,
   "metadata": {},
   "outputs": [],
   "source": [
    "X_train = chedraui_cd.drop('Y_Faltante',axis=1)\n",
    "y_train = chedraui_cd.Y_Faltante\n",
    "X_val = chedraui_cd_val.drop('Y_Faltante',axis=1)\n",
    "y_val = chedraui_cd_val.Y_Faltante"
   ]
  },
  {
   "cell_type": "code",
   "execution_count": 22,
   "metadata": {},
   "outputs": [
    {
     "data": {
      "text/plain": [
       "array([0, 1])"
      ]
     },
     "execution_count": 22,
     "metadata": {},
     "output_type": "execute_result"
    }
   ],
   "source": [
    "indices_categoricos = np.where(X_train.dtypes != float)[0]\n",
    "indices_categoricos"
   ]
  },
  {
   "cell_type": "code",
   "execution_count": 23,
   "metadata": {},
   "outputs": [
    {
     "data": {
      "text/plain": [
       "array([2, 3, 4])"
      ]
     },
     "execution_count": 23,
     "metadata": {},
     "output_type": "execute_result"
    }
   ],
   "source": [
    "num_ind = np.where(X_train.dtypes != object)[0]\n",
    "num_ind"
   ]
  },
  {
   "cell_type": "code",
   "execution_count": 24,
   "metadata": {},
   "outputs": [
    {
     "data": {
      "text/plain": [
       "array([0, 1])"
      ]
     },
     "execution_count": 24,
     "metadata": {},
     "output_type": "execute_result"
    }
   ],
   "source": [
    "indices_categoricos = np.where(X_train.dtypes != float)[0]\n",
    "indices_categoricos"
   ]
  },
  {
   "cell_type": "code",
   "execution_count": 25,
   "metadata": {},
   "outputs": [
    {
     "data": {
      "text/plain": [
       "array([2, 3, 4])"
      ]
     },
     "execution_count": 25,
     "metadata": {},
     "output_type": "execute_result"
    }
   ],
   "source": [
    "num_ind = np.where(X_train.dtypes != object)[0]\n",
    "num_ind"
   ]
  },
  {
   "cell_type": "code",
   "execution_count": 26,
   "metadata": {},
   "outputs": [],
   "source": [
    "model = CatBoostClassifier(\n",
    "    l2_leaf_reg=int(1.0),\n",
    "    custom_loss=[metrics.Accuracy()],\n",
    "    random_seed=0,\n",
    "    logging_level='Verbose', # Write 'Silent' instead of 'verbose'\n",
    "    task_type='GPU',\n",
    "    iterations=160\n",
    ")"
   ]
  },
  {
   "cell_type": "code",
   "execution_count": 27,
   "metadata": {},
   "outputs": [
    {
     "data": {
      "application/vnd.jupyter.widget-view+json": {
       "model_id": "c227441554d34845ad5fff670ab2df18",
       "version_major": 2,
       "version_minor": 0
      },
      "text/plain": [
       "MetricVisualizer(layout=Layout(align_self='stretch', height='500px'))"
      ]
     },
     "metadata": {},
     "output_type": "display_data"
    },
    {
     "name": "stdout",
     "output_type": "stream",
     "text": [
      "0:\tlearn: 0.6707916\ttest: 0.6714958\tbest: 0.6714958 (0)\ttotal: 41.1ms\tremaining: 6.54s\n",
      "1:\tlearn: 0.6497316\ttest: 0.6516586\tbest: 0.6516586 (1)\ttotal: 92.4ms\tremaining: 7.3s\n",
      "2:\tlearn: 0.6298629\ttest: 0.6328129\tbest: 0.6328129 (2)\ttotal: 144ms\tremaining: 7.51s\n",
      "3:\tlearn: 0.6111041\ttest: 0.6150243\tbest: 0.6150243 (3)\ttotal: 194ms\tremaining: 7.56s\n",
      "4:\tlearn: 0.5933715\ttest: 0.5982720\tbest: 0.5982720 (4)\ttotal: 245ms\tremaining: 7.59s\n",
      "5:\tlearn: 0.5766211\ttest: 0.5826888\tbest: 0.5826888 (5)\ttotal: 296ms\tremaining: 7.59s\n",
      "6:\tlearn: 0.5607154\ttest: 0.5679191\tbest: 0.5679191 (6)\ttotal: 346ms\tremaining: 7.56s\n",
      "7:\tlearn: 0.5456397\ttest: 0.5537150\tbest: 0.5537150 (7)\ttotal: 390ms\tremaining: 7.41s\n",
      "8:\tlearn: 0.5313399\ttest: 0.5407701\tbest: 0.5407701 (8)\ttotal: 429ms\tremaining: 7.19s\n",
      "9:\tlearn: 0.5177464\ttest: 0.5280542\tbest: 0.5280542 (9)\ttotal: 479ms\tremaining: 7.18s\n",
      "10:\tlearn: 0.5048219\ttest: 0.5161025\tbest: 0.5161025 (10)\ttotal: 529ms\tremaining: 7.17s\n",
      "11:\tlearn: 0.4925183\ttest: 0.5047791\tbest: 0.5047791 (11)\ttotal: 574ms\tremaining: 7.08s\n",
      "12:\tlearn: 0.4808096\ttest: 0.4941149\tbest: 0.4941149 (12)\ttotal: 612ms\tremaining: 6.92s\n",
      "13:\tlearn: 0.4696745\ttest: 0.4842641\tbest: 0.4842641 (13)\ttotal: 651ms\tremaining: 6.79s\n",
      "14:\tlearn: 0.4590413\ttest: 0.4746944\tbest: 0.4746944 (14)\ttotal: 697ms\tremaining: 6.74s\n",
      "15:\tlearn: 0.4489241\ttest: 0.4658505\tbest: 0.4658505 (15)\ttotal: 748ms\tremaining: 6.73s\n",
      "16:\tlearn: 0.4392513\ttest: 0.4572938\tbest: 0.4572938 (16)\ttotal: 799ms\tremaining: 6.72s\n",
      "17:\tlearn: 0.4300377\ttest: 0.4489806\tbest: 0.4489806 (17)\ttotal: 839ms\tremaining: 6.62s\n",
      "18:\tlearn: 0.4212252\ttest: 0.4410386\tbest: 0.4410386 (18)\ttotal: 867ms\tremaining: 6.43s\n",
      "19:\tlearn: 0.4128732\ttest: 0.4337011\tbest: 0.4337011 (19)\ttotal: 889ms\tremaining: 6.22s\n",
      "20:\tlearn: 0.4048424\ttest: 0.4268812\tbest: 0.4268812 (20)\ttotal: 919ms\tremaining: 6.08s\n",
      "21:\tlearn: 0.3971482\ttest: 0.4200946\tbest: 0.4200946 (21)\ttotal: 957ms\tremaining: 6s\n",
      "22:\tlearn: 0.3897841\ttest: 0.4136929\tbest: 0.4136929 (22)\ttotal: 996ms\tremaining: 5.93s\n",
      "23:\tlearn: 0.3827499\ttest: 0.4077274\tbest: 0.4077274 (23)\ttotal: 1.03s\tremaining: 5.87s\n",
      "24:\tlearn: 0.3760254\ttest: 0.4021080\tbest: 0.4021080 (24)\ttotal: 1.08s\tremaining: 5.86s\n",
      "25:\tlearn: 0.3695814\ttest: 0.3967224\tbest: 0.3967224 (25)\ttotal: 1.13s\tremaining: 5.81s\n",
      "26:\tlearn: 0.3634007\ttest: 0.3915412\tbest: 0.3915412 (26)\ttotal: 1.16s\tremaining: 5.71s\n",
      "27:\tlearn: 0.3575156\ttest: 0.3864732\tbest: 0.3864732 (27)\ttotal: 1.18s\tremaining: 5.57s\n",
      "28:\tlearn: 0.3518673\ttest: 0.3818529\tbest: 0.3818529 (28)\ttotal: 1.21s\tremaining: 5.45s\n",
      "29:\tlearn: 0.3464342\ttest: 0.3773716\tbest: 0.3773716 (29)\ttotal: 1.25s\tremaining: 5.4s\n",
      "30:\tlearn: 0.3412357\ttest: 0.3732067\tbest: 0.3732067 (30)\ttotal: 1.27s\tremaining: 5.31s\n",
      "31:\tlearn: 0.3362602\ttest: 0.3691529\tbest: 0.3691529 (31)\ttotal: 1.3s\tremaining: 5.19s\n",
      "32:\tlearn: 0.3314770\ttest: 0.3652368\tbest: 0.3652368 (32)\ttotal: 1.32s\tremaining: 5.08s\n",
      "33:\tlearn: 0.3268847\ttest: 0.3615713\tbest: 0.3615713 (33)\ttotal: 1.36s\tremaining: 5.03s\n",
      "34:\tlearn: 0.3224855\ttest: 0.3581485\tbest: 0.3581485 (34)\ttotal: 1.39s\tremaining: 4.97s\n",
      "35:\tlearn: 0.3182930\ttest: 0.3549993\tbest: 0.3549993 (35)\ttotal: 1.41s\tremaining: 4.87s\n",
      "36:\tlearn: 0.3142625\ttest: 0.3519087\tbest: 0.3519087 (36)\ttotal: 1.44s\tremaining: 4.78s\n",
      "37:\tlearn: 0.3103819\ttest: 0.3489757\tbest: 0.3489757 (37)\ttotal: 1.46s\tremaining: 4.69s\n",
      "38:\tlearn: 0.3066510\ttest: 0.3461718\tbest: 0.3461718 (38)\ttotal: 1.48s\tremaining: 4.6s\n",
      "39:\tlearn: 0.3030862\ttest: 0.3436111\tbest: 0.3436111 (39)\ttotal: 1.5s\tremaining: 4.51s\n",
      "40:\tlearn: 0.2996666\ttest: 0.3411063\tbest: 0.3411063 (40)\ttotal: 1.53s\tremaining: 4.43s\n",
      "41:\tlearn: 0.2963721\ttest: 0.3387236\tbest: 0.3387236 (41)\ttotal: 1.55s\tremaining: 4.36s\n",
      "42:\tlearn: 0.2931766\ttest: 0.3364228\tbest: 0.3364228 (42)\ttotal: 1.57s\tremaining: 4.28s\n",
      "43:\tlearn: 0.2901251\ttest: 0.3343274\tbest: 0.3343274 (43)\ttotal: 1.6s\tremaining: 4.21s\n",
      "44:\tlearn: 0.2872164\ttest: 0.3323765\tbest: 0.3323765 (44)\ttotal: 1.62s\tremaining: 4.14s\n",
      "45:\tlearn: 0.2843845\ttest: 0.3304436\tbest: 0.3304436 (45)\ttotal: 1.64s\tremaining: 4.07s\n",
      "46:\tlearn: 0.2816656\ttest: 0.3286132\tbest: 0.3286132 (46)\ttotal: 1.67s\tremaining: 4.01s\n",
      "47:\tlearn: 0.2790796\ttest: 0.3269275\tbest: 0.3269275 (47)\ttotal: 1.69s\tremaining: 3.94s\n",
      "48:\tlearn: 0.2765835\ttest: 0.3252623\tbest: 0.3252623 (48)\ttotal: 1.71s\tremaining: 3.88s\n",
      "49:\tlearn: 0.2741834\ttest: 0.3238070\tbest: 0.3238070 (49)\ttotal: 1.74s\tremaining: 3.82s\n",
      "50:\tlearn: 0.2718639\ttest: 0.3224691\tbest: 0.3224691 (50)\ttotal: 1.76s\tremaining: 3.76s\n",
      "51:\tlearn: 0.2696444\ttest: 0.3211059\tbest: 0.3211059 (51)\ttotal: 1.78s\tremaining: 3.7s\n",
      "52:\tlearn: 0.2675308\ttest: 0.3199315\tbest: 0.3199315 (52)\ttotal: 1.8s\tremaining: 3.64s\n",
      "53:\tlearn: 0.2654569\ttest: 0.3187094\tbest: 0.3187094 (53)\ttotal: 1.83s\tremaining: 3.58s\n",
      "54:\tlearn: 0.2635091\ttest: 0.3175761\tbest: 0.3175761 (54)\ttotal: 1.85s\tremaining: 3.53s\n",
      "55:\tlearn: 0.2616228\ttest: 0.3164315\tbest: 0.3164315 (55)\ttotal: 1.87s\tremaining: 3.48s\n",
      "56:\tlearn: 0.2597847\ttest: 0.3155476\tbest: 0.3155476 (56)\ttotal: 1.9s\tremaining: 3.42s\n",
      "57:\tlearn: 0.2580349\ttest: 0.3147259\tbest: 0.3147259 (57)\ttotal: 1.92s\tremaining: 3.37s\n",
      "58:\tlearn: 0.2563607\ttest: 0.3138211\tbest: 0.3138211 (58)\ttotal: 1.94s\tremaining: 3.32s\n",
      "59:\tlearn: 0.2547870\ttest: 0.3130579\tbest: 0.3130579 (59)\ttotal: 1.96s\tremaining: 3.27s\n",
      "60:\tlearn: 0.2532053\ttest: 0.3123983\tbest: 0.3123983 (60)\ttotal: 1.99s\tremaining: 3.22s\n",
      "61:\tlearn: 0.2517056\ttest: 0.3116570\tbest: 0.3116570 (61)\ttotal: 2.01s\tremaining: 3.17s\n",
      "62:\tlearn: 0.2502684\ttest: 0.3110755\tbest: 0.3110755 (62)\ttotal: 2.03s\tremaining: 3.13s\n",
      "63:\tlearn: 0.2488645\ttest: 0.3104635\tbest: 0.3104635 (63)\ttotal: 2.05s\tremaining: 3.08s\n",
      "64:\tlearn: 0.2475422\ttest: 0.3098918\tbest: 0.3098918 (64)\ttotal: 2.08s\tremaining: 3.03s\n",
      "65:\tlearn: 0.2462545\ttest: 0.3094641\tbest: 0.3094641 (65)\ttotal: 2.1s\tremaining: 2.99s\n",
      "66:\tlearn: 0.2450470\ttest: 0.3091646\tbest: 0.3091646 (66)\ttotal: 2.12s\tremaining: 2.94s\n",
      "67:\tlearn: 0.2438721\ttest: 0.3086814\tbest: 0.3086814 (67)\ttotal: 2.14s\tremaining: 2.9s\n",
      "68:\tlearn: 0.2425999\ttest: 0.3076993\tbest: 0.3076993 (68)\ttotal: 2.17s\tremaining: 2.86s\n",
      "69:\tlearn: 0.2413986\ttest: 0.3067795\tbest: 0.3067795 (69)\ttotal: 2.19s\tremaining: 2.81s\n",
      "70:\tlearn: 0.2402216\ttest: 0.3059234\tbest: 0.3059234 (70)\ttotal: 2.21s\tremaining: 2.77s\n",
      "71:\tlearn: 0.2391008\ttest: 0.3046615\tbest: 0.3046615 (71)\ttotal: 2.23s\tremaining: 2.72s\n",
      "72:\tlearn: 0.2380046\ttest: 0.3037429\tbest: 0.3037429 (72)\ttotal: 2.24s\tremaining: 2.67s\n",
      "73:\tlearn: 0.2369511\ttest: 0.3028556\tbest: 0.3028556 (73)\ttotal: 2.26s\tremaining: 2.63s\n",
      "74:\tlearn: 0.2359420\ttest: 0.3021684\tbest: 0.3021684 (74)\ttotal: 2.27s\tremaining: 2.58s\n",
      "75:\tlearn: 0.2350017\ttest: 0.3014608\tbest: 0.3014608 (75)\ttotal: 2.29s\tremaining: 2.53s\n",
      "76:\tlearn: 0.2340669\ttest: 0.2999795\tbest: 0.2999795 (76)\ttotal: 2.31s\tremaining: 2.48s\n",
      "77:\tlearn: 0.2331644\ttest: 0.2993540\tbest: 0.2993540 (77)\ttotal: 2.32s\tremaining: 2.44s\n",
      "78:\tlearn: 0.2323193\ttest: 0.2981449\tbest: 0.2981449 (78)\ttotal: 2.33s\tremaining: 2.39s\n",
      "79:\tlearn: 0.2314873\ttest: 0.2967694\tbest: 0.2967694 (79)\ttotal: 2.35s\tremaining: 2.35s\n",
      "80:\tlearn: 0.2307149\ttest: 0.2956248\tbest: 0.2956248 (80)\ttotal: 2.36s\tremaining: 2.3s\n",
      "81:\tlearn: 0.2299438\ttest: 0.2943208\tbest: 0.2943208 (81)\ttotal: 2.38s\tremaining: 2.26s\n",
      "82:\tlearn: 0.2292128\ttest: 0.2938410\tbest: 0.2938410 (82)\ttotal: 2.39s\tremaining: 2.22s\n",
      "83:\tlearn: 0.2285023\ttest: 0.2927097\tbest: 0.2927097 (83)\ttotal: 2.4s\tremaining: 2.17s\n",
      "84:\tlearn: 0.2278160\ttest: 0.2914960\tbest: 0.2914960 (84)\ttotal: 2.42s\tremaining: 2.13s\n",
      "85:\tlearn: 0.2271945\ttest: 0.2910041\tbest: 0.2910041 (85)\ttotal: 2.43s\tremaining: 2.09s\n",
      "86:\tlearn: 0.2265662\ttest: 0.2898669\tbest: 0.2898669 (86)\ttotal: 2.44s\tremaining: 2.05s\n",
      "87:\tlearn: 0.2259488\ttest: 0.2887842\tbest: 0.2887842 (87)\ttotal: 2.46s\tremaining: 2.01s\n",
      "88:\tlearn: 0.2253815\ttest: 0.2887742\tbest: 0.2887742 (88)\ttotal: 2.47s\tremaining: 1.97s\n",
      "89:\tlearn: 0.2248154\ttest: 0.2883387\tbest: 0.2883387 (89)\ttotal: 2.48s\tremaining: 1.93s\n",
      "90:\tlearn: 0.2242851\ttest: 0.2873510\tbest: 0.2873510 (90)\ttotal: 2.5s\tremaining: 1.89s\n",
      "91:\tlearn: 0.2237832\ttest: 0.2865582\tbest: 0.2865582 (91)\ttotal: 2.51s\tremaining: 1.86s\n",
      "92:\tlearn: 0.2232790\ttest: 0.2855852\tbest: 0.2855852 (92)\ttotal: 2.53s\tremaining: 1.82s\n",
      "93:\tlearn: 0.2227762\ttest: 0.2853325\tbest: 0.2853325 (93)\ttotal: 2.54s\tremaining: 1.78s\n",
      "94:\tlearn: 0.2223359\ttest: 0.2845766\tbest: 0.2845766 (94)\ttotal: 2.55s\tremaining: 1.75s\n",
      "95:\tlearn: 0.2218552\ttest: 0.2843367\tbest: 0.2843367 (95)\ttotal: 2.57s\tremaining: 1.71s\n",
      "96:\tlearn: 0.2214171\ttest: 0.2835861\tbest: 0.2835861 (96)\ttotal: 2.58s\tremaining: 1.68s\n",
      "97:\tlearn: 0.2209985\ttest: 0.2833564\tbest: 0.2833564 (97)\ttotal: 2.59s\tremaining: 1.64s\n",
      "98:\tlearn: 0.2206315\ttest: 0.2831215\tbest: 0.2831215 (98)\ttotal: 2.61s\tremaining: 1.61s\n",
      "99:\tlearn: 0.2202478\ttest: 0.2823987\tbest: 0.2823987 (99)\ttotal: 2.62s\tremaining: 1.57s\n",
      "100:\tlearn: 0.2198541\ttest: 0.2822502\tbest: 0.2822502 (100)\ttotal: 2.64s\tremaining: 1.54s\n",
      "101:\tlearn: 0.2194974\ttest: 0.2816283\tbest: 0.2816283 (101)\ttotal: 2.65s\tremaining: 1.51s\n",
      "102:\tlearn: 0.2191642\ttest: 0.2814335\tbest: 0.2814335 (102)\ttotal: 2.66s\tremaining: 1.47s\n",
      "103:\tlearn: 0.2188214\ttest: 0.2812852\tbest: 0.2812852 (103)\ttotal: 2.68s\tremaining: 1.44s\n",
      "104:\tlearn: 0.2184889\ttest: 0.2807328\tbest: 0.2807328 (104)\ttotal: 2.69s\tremaining: 1.41s\n",
      "105:\tlearn: 0.2181601\ttest: 0.2812254\tbest: 0.2807328 (104)\ttotal: 2.7s\tremaining: 1.38s\n",
      "106:\tlearn: 0.2178737\ttest: 0.2805776\tbest: 0.2805776 (106)\ttotal: 2.72s\tremaining: 1.34s\n",
      "107:\tlearn: 0.2175734\ttest: 0.2805883\tbest: 0.2805776 (106)\ttotal: 2.73s\tremaining: 1.31s\n",
      "108:\tlearn: 0.2173088\ttest: 0.2800103\tbest: 0.2800103 (108)\ttotal: 2.74s\tremaining: 1.28s\n",
      "109:\tlearn: 0.2169892\ttest: 0.2792268\tbest: 0.2792268 (109)\ttotal: 2.76s\tremaining: 1.25s\n",
      "110:\tlearn: 0.2167232\ttest: 0.2784601\tbest: 0.2784601 (110)\ttotal: 2.77s\tremaining: 1.22s\n",
      "111:\tlearn: 0.2164564\ttest: 0.2781368\tbest: 0.2781368 (111)\ttotal: 2.78s\tremaining: 1.19s\n",
      "112:\tlearn: 0.2162034\ttest: 0.2776968\tbest: 0.2776968 (112)\ttotal: 2.8s\tremaining: 1.16s\n",
      "113:\tlearn: 0.2159402\ttest: 0.2770208\tbest: 0.2770208 (113)\ttotal: 2.81s\tremaining: 1.13s\n",
      "114:\tlearn: 0.2156939\ttest: 0.2767023\tbest: 0.2767023 (114)\ttotal: 2.83s\tremaining: 1.1s\n",
      "115:\tlearn: 0.2154569\ttest: 0.2765802\tbest: 0.2765802 (115)\ttotal: 2.84s\tremaining: 1.08s\n",
      "116:\tlearn: 0.2152257\ttest: 0.2765093\tbest: 0.2765093 (116)\ttotal: 2.85s\tremaining: 1.05s\n",
      "117:\tlearn: 0.2150072\ttest: 0.2757869\tbest: 0.2757869 (117)\ttotal: 2.87s\tremaining: 1.02s\n",
      "118:\tlearn: 0.2147913\ttest: 0.2752400\tbest: 0.2752400 (118)\ttotal: 2.88s\tremaining: 992ms\n",
      "119:\tlearn: 0.2145663\ttest: 0.2745109\tbest: 0.2745109 (119)\ttotal: 2.89s\tremaining: 964ms\n",
      "120:\tlearn: 0.2143475\ttest: 0.2746006\tbest: 0.2745109 (119)\ttotal: 2.9s\tremaining: 937ms\n",
      "121:\tlearn: 0.2141765\ttest: 0.2742570\tbest: 0.2742570 (121)\ttotal: 2.92s\tremaining: 909ms\n",
      "122:\tlearn: 0.2139910\ttest: 0.2744223\tbest: 0.2742570 (121)\ttotal: 2.93s\tremaining: 882ms\n",
      "123:\tlearn: 0.2137858\ttest: 0.2742451\tbest: 0.2742451 (123)\ttotal: 2.94s\tremaining: 855ms\n",
      "124:\tlearn: 0.2136034\ttest: 0.2739830\tbest: 0.2739830 (124)\ttotal: 2.96s\tremaining: 829ms\n",
      "125:\tlearn: 0.2134083\ttest: 0.2733224\tbest: 0.2733224 (125)\ttotal: 2.97s\tremaining: 802ms\n",
      "126:\tlearn: 0.2132803\ttest: 0.2731524\tbest: 0.2731524 (126)\ttotal: 2.99s\tremaining: 776ms\n",
      "127:\tlearn: 0.2131109\ttest: 0.2730724\tbest: 0.2730724 (127)\ttotal: 3s\tremaining: 750ms\n",
      "128:\tlearn: 0.2129738\ttest: 0.2732056\tbest: 0.2730724 (127)\ttotal: 3.01s\tremaining: 725ms\n",
      "129:\tlearn: 0.2128103\ttest: 0.2731841\tbest: 0.2730724 (127)\ttotal: 3.03s\tremaining: 699ms\n",
      "130:\tlearn: 0.2126423\ttest: 0.2725966\tbest: 0.2725966 (130)\ttotal: 3.04s\tremaining: 674ms\n",
      "131:\tlearn: 0.2124889\ttest: 0.2719844\tbest: 0.2719844 (131)\ttotal: 3.06s\tremaining: 648ms\n",
      "132:\tlearn: 0.2123423\ttest: 0.2716507\tbest: 0.2716507 (132)\ttotal: 3.07s\tremaining: 623ms\n",
      "133:\tlearn: 0.2121854\ttest: 0.2709977\tbest: 0.2709977 (133)\ttotal: 3.08s\tremaining: 598ms\n",
      "134:\tlearn: 0.2120363\ttest: 0.2704369\tbest: 0.2704369 (134)\ttotal: 3.1s\tremaining: 574ms\n",
      "135:\tlearn: 0.2118853\ttest: 0.2700875\tbest: 0.2700875 (135)\ttotal: 3.11s\tremaining: 549ms\n",
      "136:\tlearn: 0.2117426\ttest: 0.2694634\tbest: 0.2694634 (136)\ttotal: 3.12s\tremaining: 524ms\n",
      "137:\tlearn: 0.2116068\ttest: 0.2689929\tbest: 0.2689929 (137)\ttotal: 3.14s\tremaining: 500ms\n",
      "138:\tlearn: 0.2114829\ttest: 0.2684702\tbest: 0.2684702 (138)\ttotal: 3.15s\tremaining: 476ms\n",
      "139:\tlearn: 0.2113632\ttest: 0.2681447\tbest: 0.2681447 (139)\ttotal: 3.16s\tremaining: 452ms\n",
      "140:\tlearn: 0.2112376\ttest: 0.2677676\tbest: 0.2677676 (140)\ttotal: 3.18s\tremaining: 428ms\n",
      "141:\tlearn: 0.2111154\ttest: 0.2672352\tbest: 0.2672352 (141)\ttotal: 3.19s\tremaining: 404ms\n",
      "142:\tlearn: 0.2109892\ttest: 0.2668621\tbest: 0.2668621 (142)\ttotal: 3.2s\tremaining: 381ms\n",
      "143:\tlearn: 0.2108687\ttest: 0.2663104\tbest: 0.2663104 (143)\ttotal: 3.22s\tremaining: 357ms\n",
      "144:\tlearn: 0.2107655\ttest: 0.2662615\tbest: 0.2662615 (144)\ttotal: 3.23s\tremaining: 334ms\n",
      "145:\tlearn: 0.2106603\ttest: 0.2667083\tbest: 0.2662615 (144)\ttotal: 3.25s\tremaining: 311ms\n",
      "146:\tlearn: 0.2105543\ttest: 0.2668594\tbest: 0.2662615 (144)\ttotal: 3.26s\tremaining: 288ms\n",
      "147:\tlearn: 0.2104801\ttest: 0.2673743\tbest: 0.2662615 (144)\ttotal: 3.27s\tremaining: 266ms\n",
      "148:\tlearn: 0.2103828\ttest: 0.2679778\tbest: 0.2662615 (144)\ttotal: 3.29s\tremaining: 243ms\n",
      "149:\tlearn: 0.2102848\ttest: 0.2673748\tbest: 0.2662615 (144)\ttotal: 3.3s\tremaining: 220ms\n",
      "150:\tlearn: 0.2101912\ttest: 0.2673356\tbest: 0.2662615 (144)\ttotal: 3.32s\tremaining: 198ms\n",
      "151:\tlearn: 0.2100837\ttest: 0.2671061\tbest: 0.2662615 (144)\ttotal: 3.33s\tremaining: 175ms\n",
      "152:\tlearn: 0.2099991\ttest: 0.2672089\tbest: 0.2662615 (144)\ttotal: 3.35s\tremaining: 153ms\n",
      "153:\tlearn: 0.2099116\ttest: 0.2668939\tbest: 0.2662615 (144)\ttotal: 3.36s\tremaining: 131ms\n",
      "154:\tlearn: 0.2098143\ttest: 0.2667210\tbest: 0.2662615 (144)\ttotal: 3.38s\tremaining: 109ms\n",
      "155:\tlearn: 0.2097377\ttest: 0.2667125\tbest: 0.2662615 (144)\ttotal: 3.39s\tremaining: 86.9ms\n",
      "156:\tlearn: 0.2096685\ttest: 0.2666894\tbest: 0.2662615 (144)\ttotal: 3.4s\tremaining: 65ms\n",
      "157:\tlearn: 0.2096188\ttest: 0.2668552\tbest: 0.2662615 (144)\ttotal: 3.42s\tremaining: 43.3ms\n",
      "158:\tlearn: 0.2095342\ttest: 0.2666609\tbest: 0.2662615 (144)\ttotal: 3.43s\tremaining: 21.6ms\n",
      "159:\tlearn: 0.2094626\ttest: 0.2666375\tbest: 0.2662615 (144)\ttotal: 3.44s\tremaining: 0us\n",
      "bestTest = 0.2662614739\n",
      "bestIteration = 144\n",
      "Shrink model to first 145 iterations.\n"
     ]
    }
   ],
   "source": [
    "model.fit(\n",
    "    X_train, y_train,\n",
    "    cat_features=indices_categoricos,\n",
    "    eval_set=(X_val, y_val),\n",
    "    logging_level='Verbose',  # you can uncomment this for text output\n",
    "    plot=True\n",
    ");"
   ]
  },
  {
   "cell_type": "code",
   "execution_count": 28,
   "metadata": {},
   "outputs": [
    {
     "name": "stdout",
     "output_type": "stream",
     "text": [
      "Ago Model\n",
      "Tree count: 145\n",
      "Accuracy: 0.90324\n",
      "True Positive Rate: 0.84846\n",
      "Precision: 0.95342\n",
      "Balanced Accuracy: 0.90339\n",
      "F1 Score: 0.89788\n"
     ]
    }
   ],
   "source": [
    "print('Ago Model')\n",
    "print('Tree count: {}'.format(model.tree_count_))\n",
    "print('Accuracy: {:.5}'.format(accuracy_score(y_val, model.predict(X_val))))\n",
    "print('True Positive Rate: {:.5}'.format(recall_score(y_val, model.predict(X_val))))\n",
    "print('Precision: {:.5}'.format(precision_score(y_val, model.predict(X_val))))\n",
    "print('Balanced Accuracy: {:.5}'.format(balanced_accuracy_score(y_val, model.predict(X_val))))\n",
    "print('F1 Score: {:.5}'.format(f1_score(y_val, model.predict(X_val))))"
   ]
  },
  {
   "cell_type": "code",
   "execution_count": 29,
   "metadata": {},
   "outputs": [
    {
     "name": "stdout",
     "output_type": "stream",
     "text": [
      "Accuracy: 0.9032432994998932\n",
      "True Positive Rate 0.848457533692796\n",
      "Precision 0.8628247034214703\n",
      "Balanced accuracy 0.9033907421197803\n",
      "f1 score 0.8978811967047261\n"
     ]
    }
   ],
   "source": [
    "y_pred = model.predict(X_val)\n",
    "prediction_probs = model.predict_proba(X_val)\n",
    "\n",
    "accuracy = accuracy_score(y_val,y_pred)\n",
    "recall = recall_score(y_val,y_pred,average='binary',pos_label=1)\n",
    "precision = precision_score(y_val,y_pred,average='binary',pos_label=0)\n",
    "balanced_accuracy = balanced_accuracy_score(y_val,y_pred)\n",
    "f1 = f1_score(y_val,y_pred,pos_label=1)\n",
    "print(f'Accuracy: {accuracy}')\n",
    "print(f'True Positive Rate {recall}')\n",
    "print(f'Precision {precision}')\n",
    "print(f'Balanced accuracy {balanced_accuracy}')\n",
    "print(f'f1 score {f1}')"
   ]
  },
  {
   "cell_type": "code",
   "execution_count": 30,
   "metadata": {},
   "outputs": [
    {
     "data": {
      "text/plain": [
       "(174483, 7588, 27740, 155311)"
      ]
     },
     "execution_count": 30,
     "metadata": {},
     "output_type": "execute_result"
    }
   ],
   "source": [
    "# Calculamos las entradas de la matriz de confusión\n",
    "tn, fp, fn, tp = confusion_matrix(y_val, y_pred).ravel()\n",
    "tn,fp,fn,tp"
   ]
  },
  {
   "cell_type": "code",
   "execution_count": 31,
   "metadata": {},
   "outputs": [
    {
     "data": {
      "image/png": "[encoded data removed]",
      "text/plain": [
       "<Figure size 936x720 with 1 Axes>"
      ]
     },
     "metadata": {
      "needs_background": "light"
     },
     "output_type": "display_data"
    }
   ],
   "source": [
    "# Graficar la importancia de las variables\n",
    "fi2 = pd.Series(model.feature_importances_, index=X_train.columns)\n",
    "fig, ax = plt.subplots(figsize = (13,10))\n",
    "sns.barplot(x=fi2.values, y=fi2.index, ax=ax)\n",
    "plt.show()"
   ]
  },
  {
   "cell_type": "markdown",
   "metadata": {},
   "source": [
    "# Intento por incorporar random forests"
   ]
  },
  {
   "cell_type": "code",
   "execution_count": 32,
   "metadata": {},
   "outputs": [],
   "source": [
    "# Predicciones del conjunto de validación\n",
    "y_pred_train = model.predict(X_train)\n",
    "y_prob_train = model.predict_proba(X_train)\n",
    "pred_cb_train = pd.DataFrame(y_prob_train).assign(CBPred=pd.Series(y_pred_train))\n",
    "train_target = pd.Series(y_train)"
   ]
  },
  {
   "cell_type": "code",
   "execution_count": 33,
   "metadata": {},
   "outputs": [],
   "source": [
    "# Predicciones del conjunto de validación\n",
    "y_pred_val = model.predict(X_val)\n",
    "y_prob_val = model.predict_proba(X_val)\n",
    "pred_cb_val = pd.DataFrame(y_prob_val).assign(CBPred=pd.Series(y_pred_val))\n",
    "val_target = pd.Series(y_val)"
   ]
  },
  {
   "cell_type": "code",
   "execution_count": 34,
   "metadata": {},
   "outputs": [
    {
     "name": "stderr",
     "output_type": "stream",
     "text": [
      "/home/rlopez/anaconda3/envs/Algoritmo/lib/python3.9/site-packages/sklearn/utils/validation.py:1688: FutureWarning: Feature names only support names that are all strings. Got feature names with dtypes: ['int', 'str']. An error will be raised in 1.2.\n",
      "  warnings.warn(\n",
      "/home/rlopez/anaconda3/envs/Algoritmo/lib/python3.9/site-packages/sklearn/utils/validation.py:1688: FutureWarning: Feature names only support names that are all strings. Got feature names with dtypes: ['int', 'str']. An error will be raised in 1.2.\n",
      "  warnings.warn(\n",
      "/home/rlopez/anaconda3/envs/Algoritmo/lib/python3.9/site-packages/sklearn/utils/validation.py:1688: FutureWarning: Feature names only support names that are all strings. Got feature names with dtypes: ['int', 'str']. An error will be raised in 1.2.\n",
      "  warnings.warn(\n",
      "/home/rlopez/anaconda3/envs/Algoritmo/lib/python3.9/site-packages/sklearn/utils/validation.py:1688: FutureWarning: Feature names only support names that are all strings. Got feature names with dtypes: ['int', 'str']. An error will be raised in 1.2.\n",
      "  warnings.warn(\n"
     ]
    },
    {
     "name": "stdout",
     "output_type": "stream",
     "text": [
      "Precisión entrenamiento: 0.9478, Presición validación: 0.8879\n"
     ]
    }
   ],
   "source": [
    "from sklearn.ensemble import RandomForestClassifier\n",
    "rfc = RandomForestClassifier(random_state=0)\n",
    "rfc.fit(pred_cb_train, train_target)\n",
    "rfc.predict(pred_cb_val)\n",
    "acc_train = rfc.score(pred_cb_train,train_target)\n",
    "acc_test = rfc.score(pred_cb_val,val_target)\n",
    "\n",
    "print(f'Precisión entrenamiento: {acc_train.round(4)}, Presición validación: {acc_test.round(4)}')"
   ]
  },
  {
   "cell_type": "code",
   "execution_count": 35,
   "metadata": {},
   "outputs": [
    {
     "name": "stderr",
     "output_type": "stream",
     "text": [
      "/home/rlopez/anaconda3/envs/Algoritmo/lib/python3.9/site-packages/sklearn/utils/validation.py:1688: FutureWarning: Feature names only support names that are all strings. Got feature names with dtypes: ['int', 'str']. An error will be raised in 1.2.\n",
      "  warnings.warn(\n"
     ]
    },
    {
     "name": "stdout",
     "output_type": "stream",
     "text": [
      "Accuracy: 0.8878703556619432\n",
      "True Positive Rate 0.8245079240211745\n",
      "Precision 0.9448054387019231\n",
      "Balanced accuracy 0.8880408803007048\n",
      "f1 score 0.8805671027873802\n"
     ]
    }
   ],
   "source": [
    "y_pred = rfc.predict(pred_cb_val)\n",
    "accuracy = accuracy_score(val_target,y_pred)\n",
    "recall = recall_score(val_target,y_pred)\n",
    "precision = precision_score(val_target,y_pred)\n",
    "balanced_accuracy = balanced_accuracy_score(val_target,y_pred)\n",
    "f1 = f1_score(val_target,y_pred)\n",
    "print(f'Accuracy: {accuracy}')\n",
    "print(f'True Positive Rate {recall}')\n",
    "print(f'Precision {precision}')\n",
    "print(f'Balanced accuracy {balanced_accuracy}')\n",
    "print(f'f1 score {f1}')"
   ]
  },
  {
   "cell_type": "code",
   "execution_count": 36,
   "metadata": {},
   "outputs": [
    {
     "data": {
      "text/plain": [
       "(173254, 8817, 32124, 150927)"
      ]
     },
     "execution_count": 36,
     "metadata": {},
     "output_type": "execute_result"
    }
   ],
   "source": [
    "# Calculamos las entradas de la matriz de confusión\n",
    "tn, fp, fn, tp = confusion_matrix(val_target, y_pred).ravel()\n",
    "tn,fp,fn,tp"
   ]
  },
  {
   "cell_type": "markdown",
   "metadata": {},
   "source": [
    "## AdaBoost"
   ]
  },
  {
   "cell_type": "code",
   "execution_count": 37,
   "metadata": {},
   "outputs": [
    {
     "name": "stderr",
     "output_type": "stream",
     "text": [
      "/home/rlopez/anaconda3/envs/Algoritmo/lib/python3.9/site-packages/sklearn/utils/validation.py:1688: FutureWarning: Feature names only support names that are all strings. Got feature names with dtypes: ['int', 'str']. An error will be raised in 1.2.\n",
      "  warnings.warn(\n",
      "/home/rlopez/anaconda3/envs/Algoritmo/lib/python3.9/site-packages/sklearn/utils/validation.py:1688: FutureWarning: Feature names only support names that are all strings. Got feature names with dtypes: ['int', 'str']. An error will be raised in 1.2.\n",
      "  warnings.warn(\n",
      "/home/rlopez/anaconda3/envs/Algoritmo/lib/python3.9/site-packages/sklearn/utils/validation.py:1688: FutureWarning: Feature names only support names that are all strings. Got feature names with dtypes: ['int', 'str']. An error will be raised in 1.2.\n",
      "  warnings.warn(\n",
      "/home/rlopez/anaconda3/envs/Algoritmo/lib/python3.9/site-packages/sklearn/utils/validation.py:1688: FutureWarning: Feature names only support names that are all strings. Got feature names with dtypes: ['int', 'str']. An error will be raised in 1.2.\n",
      "  warnings.warn(\n"
     ]
    },
    {
     "name": "stdout",
     "output_type": "stream",
     "text": [
      "Precisión entrenamiento: 0.929, Presición validación: 0.8987\n"
     ]
    }
   ],
   "source": [
    "from sklearn.ensemble import AdaBoostClassifier\n",
    "rfc = AdaBoostClassifier(random_state=0)\n",
    "rfc.fit(pred_cb_train, train_target)\n",
    "rfc.predict(pred_cb_val)\n",
    "acc_train = rfc.score(pred_cb_train,train_target)\n",
    "acc_test = rfc.score(pred_cb_val,val_target)\n",
    "\n",
    "print(f'Precisión entrenamiento: {acc_train.round(4)}, Presición validación: {acc_test.round(4)}')"
   ]
  },
  {
   "cell_type": "code",
   "execution_count": 38,
   "metadata": {},
   "outputs": [
    {
     "name": "stderr",
     "output_type": "stream",
     "text": [
      "/home/rlopez/anaconda3/envs/Algoritmo/lib/python3.9/site-packages/sklearn/utils/validation.py:1688: FutureWarning: Feature names only support names that are all strings. Got feature names with dtypes: ['int', 'str']. An error will be raised in 1.2.\n",
      "  warnings.warn(\n"
     ]
    },
    {
     "name": "stdout",
     "output_type": "stream",
     "text": [
      "Accuracy: 0.8987379560804334\n",
      "True Positive Rate 0.8385094864272798\n",
      "Precision 0.9539346931672695\n",
      "Balanced accuracy 0.8989000464195321\n",
      "f1 score 0.8925056621108116\n"
     ]
    }
   ],
   "source": [
    "y_pred = rfc.predict(pred_cb_val)\n",
    "accuracy = accuracy_score(val_target,y_pred)\n",
    "recall = recall_score(val_target,y_pred)\n",
    "precision = precision_score(val_target,y_pred)\n",
    "balanced_accuracy = balanced_accuracy_score(val_target,y_pred)\n",
    "f1 = f1_score(val_target,y_pred)\n",
    "print(f'Accuracy: {accuracy}')\n",
    "print(f'True Positive Rate {recall}')\n",
    "print(f'Precision {precision}')\n",
    "print(f'Balanced accuracy {balanced_accuracy}')\n",
    "print(f'f1 score {f1}')"
   ]
  },
  {
   "cell_type": "code",
   "execution_count": 39,
   "metadata": {},
   "outputs": [
    {
     "data": {
      "text/plain": [
       "(174659, 7412, 29561, 153490)"
      ]
     },
     "execution_count": 39,
     "metadata": {},
     "output_type": "execute_result"
    }
   ],
   "source": [
    "# Calculamos las entradas de la matriz de confusión\n",
    "tn, fp, fn, tp = confusion_matrix(val_target, y_pred).ravel()\n",
    "tn,fp,fn,tp"
   ]
  },
  {
   "cell_type": "markdown",
   "metadata": {},
   "source": [
    "# XGBClassifier"
   ]
  },
  {
   "cell_type": "code",
   "execution_count": 1,
   "metadata": {},
   "outputs": [
    {
     "ename": "NameError",
     "evalue": "name 'pred_cb_train' is not defined",
     "output_type": "error",
     "traceback": [
      "\u001b[0;31m---------------------------------------------------------------------------\u001b[0m",
      "\u001b[0;31mNameError\u001b[0m                                 Traceback (most recent call last)",
      "\u001b[1;32m/home/rlopez/Algoritmo_Chedraui/New_Dataset/Categoria_Formato/Formatos/Formatos.ipynb Cell 44\u001b[0m in \u001b[0;36m<cell line: 3>\u001b[0;34m()\u001b[0m\n\u001b[1;32m      <a href='vscode-notebook-cell://ssh-remote%2Bneo/home/rlopez/Algoritmo_Chedraui/New_Dataset/Categoria_Formato/Formatos/Formatos.ipynb#ch0000043vscode-remote?line=0'>1</a>\u001b[0m \u001b[39mfrom\u001b[39;00m \u001b[39mxgboost\u001b[39;00m \u001b[39mimport\u001b[39;00m XGBClassifier\n\u001b[1;32m      <a href='vscode-notebook-cell://ssh-remote%2Bneo/home/rlopez/Algoritmo_Chedraui/New_Dataset/Categoria_Formato/Formatos/Formatos.ipynb#ch0000043vscode-remote?line=1'>2</a>\u001b[0m rfc \u001b[39m=\u001b[39m XGBClassifier(random_state\u001b[39m=\u001b[39m\u001b[39m0\u001b[39m)\n\u001b[0;32m----> <a href='vscode-notebook-cell://ssh-remote%2Bneo/home/rlopez/Algoritmo_Chedraui/New_Dataset/Categoria_Formato/Formatos/Formatos.ipynb#ch0000043vscode-remote?line=2'>3</a>\u001b[0m rfc\u001b[39m.\u001b[39mfit(pred_cb_train, train_target)\n\u001b[1;32m      <a href='vscode-notebook-cell://ssh-remote%2Bneo/home/rlopez/Algoritmo_Chedraui/New_Dataset/Categoria_Formato/Formatos/Formatos.ipynb#ch0000043vscode-remote?line=3'>4</a>\u001b[0m rfc\u001b[39m.\u001b[39mpredict(pred_cb_val)\n\u001b[1;32m      <a href='vscode-notebook-cell://ssh-remote%2Bneo/home/rlopez/Algoritmo_Chedraui/New_Dataset/Categoria_Formato/Formatos/Formatos.ipynb#ch0000043vscode-remote?line=4'>5</a>\u001b[0m acc_train \u001b[39m=\u001b[39m rfc\u001b[39m.\u001b[39mscore(pred_cb_train,train_target)\n",
      "\u001b[0;31mNameError\u001b[0m: name 'pred_cb_train' is not defined"
     ]
    }
   ],
   "source": [
    "from xgboost import XGBClassifier\n",
    "rfc = XGBClassifier(random_state=0)\n",
    "rfc.fit(pred_cb_train, train_target)\n",
    "rfc.predict(pred_cb_val)\n",
    "acc_train = rfc.score(pred_cb_train,train_target)\n",
    "acc_test = rfc.score(pred_cb_val,val_target)\n",
    "\n",
    "print(f'Precisión entrenamiento: {acc_train.round(4)}, Presición validación: {acc_test.round(4)}')"
   ]
  },
  {
   "cell_type": "code",
   "execution_count": 41,
   "metadata": {},
   "outputs": [
    {
     "name": "stdout",
     "output_type": "stream",
     "text": [
      "Accuracy: 0.9030132394103888\n",
      "True Positive Rate 0.8486705890708054\n",
      "Precision 0.9527109486633837\n",
      "Balanced accuracy 0.9031594894923152\n",
      "f1 score 0.897686298076923\n"
     ]
    }
   ],
   "source": [
    "y_pred = rfc.predict(pred_cb_val)\n",
    "accuracy = accuracy_score(val_target,y_pred)\n",
    "recall = recall_score(val_target,y_pred)\n",
    "precision = precision_score(val_target,y_pred)\n",
    "balanced_accuracy = balanced_accuracy_score(val_target,y_pred)\n",
    "f1 = f1_score(val_target,y_pred)\n",
    "print(f'Accuracy: {accuracy}')\n",
    "print(f'True Positive Rate {recall}')\n",
    "print(f'Precision {precision}')\n",
    "print(f'Balanced accuracy {balanced_accuracy}')\n",
    "print(f'f1 score {f1}')"
   ]
  },
  {
   "cell_type": "code",
   "execution_count": 42,
   "metadata": {},
   "outputs": [
    {
     "data": {
      "text/plain": [
       "(174360, 7711, 27701, 155350)"
      ]
     },
     "execution_count": 42,
     "metadata": {},
     "output_type": "execute_result"
    }
   ],
   "source": [
    "# Calculamos las entradas de la matriz de confusión\n",
    "tn, fp, fn, tp = confusion_matrix(val_target, y_pred).ravel()\n",
    "tn,fp,fn,tp"
   ]
  },
  {
   "cell_type": "markdown",
   "metadata": {},
   "source": [
    "## Gradient Boost"
   ]
  },
  {
   "cell_type": "code",
   "execution_count": 43,
   "metadata": {},
   "outputs": [
    {
     "name": "stderr",
     "output_type": "stream",
     "text": [
      "/home/rlopez/anaconda3/envs/Algoritmo/lib/python3.9/site-packages/sklearn/utils/validation.py:1688: FutureWarning: Feature names only support names that are all strings. Got feature names with dtypes: ['int', 'str']. An error will be raised in 1.2.\n",
      "  warnings.warn(\n"
     ]
    },
    {
     "ename": "KeyboardInterrupt",
     "evalue": "",
     "output_type": "error",
     "traceback": [
      "\u001b[0;31m---------------------------------------------------------------------------\u001b[0m",
      "\u001b[0;31mKeyboardInterrupt\u001b[0m                         Traceback (most recent call last)",
      "\u001b[1;32m/home/rlopez/Algoritmo_Chedraui/New_Dataset/Categoria_Formato/Formatos/Formatos.ipynb Cell 48\u001b[0m in \u001b[0;36m<cell line: 3>\u001b[0;34m()\u001b[0m\n\u001b[1;32m      <a href='vscode-notebook-cell://ssh-remote%2Bneo/home/rlopez/Algoritmo_Chedraui/New_Dataset/Categoria_Formato/Formatos/Formatos.ipynb#ch0000047vscode-remote?line=0'>1</a>\u001b[0m \u001b[39mfrom\u001b[39;00m \u001b[39msklearn\u001b[39;00m\u001b[39m.\u001b[39;00m\u001b[39mensemble\u001b[39;00m \u001b[39mimport\u001b[39;00m RandomForestClassifier, GradientBoostingClassifier, AdaBoostClassifier\n\u001b[1;32m      <a href='vscode-notebook-cell://ssh-remote%2Bneo/home/rlopez/Algoritmo_Chedraui/New_Dataset/Categoria_Formato/Formatos/Formatos.ipynb#ch0000047vscode-remote?line=1'>2</a>\u001b[0m rfc \u001b[39m=\u001b[39m GradientBoostingClassifier(random_state\u001b[39m=\u001b[39m\u001b[39m0\u001b[39m)\n\u001b[0;32m----> <a href='vscode-notebook-cell://ssh-remote%2Bneo/home/rlopez/Algoritmo_Chedraui/New_Dataset/Categoria_Formato/Formatos/Formatos.ipynb#ch0000047vscode-remote?line=2'>3</a>\u001b[0m rfc\u001b[39m.\u001b[39;49mfit(pred_cb_train, train_target)\n\u001b[1;32m      <a href='vscode-notebook-cell://ssh-remote%2Bneo/home/rlopez/Algoritmo_Chedraui/New_Dataset/Categoria_Formato/Formatos/Formatos.ipynb#ch0000047vscode-remote?line=3'>4</a>\u001b[0m rfc\u001b[39m.\u001b[39mpredict(pred_cb_val)\n\u001b[1;32m      <a href='vscode-notebook-cell://ssh-remote%2Bneo/home/rlopez/Algoritmo_Chedraui/New_Dataset/Categoria_Formato/Formatos/Formatos.ipynb#ch0000047vscode-remote?line=4'>5</a>\u001b[0m acc_train \u001b[39m=\u001b[39m rfc\u001b[39m.\u001b[39mscore(pred_cb_train,train_target)\n",
      "File \u001b[0;32m~/anaconda3/envs/Algoritmo/lib/python3.9/site-packages/sklearn/ensemble/_gb.py:586\u001b[0m, in \u001b[0;36mBaseGradientBoosting.fit\u001b[0;34m(self, X, y, sample_weight, monitor)\u001b[0m\n\u001b[1;32m    583\u001b[0m     \u001b[39mself\u001b[39m\u001b[39m.\u001b[39m_resize_state()\n\u001b[1;32m    585\u001b[0m \u001b[39m# fit the boosting stages\u001b[39;00m\n\u001b[0;32m--> 586\u001b[0m n_stages \u001b[39m=\u001b[39m \u001b[39mself\u001b[39;49m\u001b[39m.\u001b[39;49m_fit_stages(\n\u001b[1;32m    587\u001b[0m     X,\n\u001b[1;32m    588\u001b[0m     y,\n\u001b[1;32m    589\u001b[0m     raw_predictions,\n\u001b[1;32m    590\u001b[0m     sample_weight,\n\u001b[1;32m    591\u001b[0m     \u001b[39mself\u001b[39;49m\u001b[39m.\u001b[39;49m_rng,\n\u001b[1;32m    592\u001b[0m     X_val,\n\u001b[1;32m    593\u001b[0m     y_val,\n\u001b[1;32m    594\u001b[0m     sample_weight_val,\n\u001b[1;32m    595\u001b[0m     begin_at_stage,\n\u001b[1;32m    596\u001b[0m     monitor,\n\u001b[1;32m    597\u001b[0m )\n\u001b[1;32m    599\u001b[0m \u001b[39m# change shape of arrays after fit (early-stopping or additional ests)\u001b[39;00m\n\u001b[1;32m    600\u001b[0m \u001b[39mif\u001b[39;00m n_stages \u001b[39m!=\u001b[39m \u001b[39mself\u001b[39m\u001b[39m.\u001b[39mestimators_\u001b[39m.\u001b[39mshape[\u001b[39m0\u001b[39m]:\n",
      "File \u001b[0;32m~/anaconda3/envs/Algoritmo/lib/python3.9/site-packages/sklearn/ensemble/_gb.py:663\u001b[0m, in \u001b[0;36mBaseGradientBoosting._fit_stages\u001b[0;34m(self, X, y, raw_predictions, sample_weight, random_state, X_val, y_val, sample_weight_val, begin_at_stage, monitor)\u001b[0m\n\u001b[1;32m    656\u001b[0m     old_oob_score \u001b[39m=\u001b[39m loss_(\n\u001b[1;32m    657\u001b[0m         y[\u001b[39m~\u001b[39msample_mask],\n\u001b[1;32m    658\u001b[0m         raw_predictions[\u001b[39m~\u001b[39msample_mask],\n\u001b[1;32m    659\u001b[0m         sample_weight[\u001b[39m~\u001b[39msample_mask],\n\u001b[1;32m    660\u001b[0m     )\n\u001b[1;32m    662\u001b[0m \u001b[39m# fit next stage of trees\u001b[39;00m\n\u001b[0;32m--> 663\u001b[0m raw_predictions \u001b[39m=\u001b[39m \u001b[39mself\u001b[39;49m\u001b[39m.\u001b[39;49m_fit_stage(\n\u001b[1;32m    664\u001b[0m     i,\n\u001b[1;32m    665\u001b[0m     X,\n\u001b[1;32m    666\u001b[0m     y,\n\u001b[1;32m    667\u001b[0m     raw_predictions,\n\u001b[1;32m    668\u001b[0m     sample_weight,\n\u001b[1;32m    669\u001b[0m     sample_mask,\n\u001b[1;32m    670\u001b[0m     random_state,\n\u001b[1;32m    671\u001b[0m     X_csc,\n\u001b[1;32m    672\u001b[0m     X_csr,\n\u001b[1;32m    673\u001b[0m )\n\u001b[1;32m    675\u001b[0m \u001b[39m# track deviance (= loss)\u001b[39;00m\n\u001b[1;32m    676\u001b[0m \u001b[39mif\u001b[39;00m do_oob:\n",
      "File \u001b[0;32m~/anaconda3/envs/Algoritmo/lib/python3.9/site-packages/sklearn/ensemble/_gb.py:246\u001b[0m, in \u001b[0;36mBaseGradientBoosting._fit_stage\u001b[0;34m(self, i, X, y, raw_predictions, sample_weight, sample_mask, random_state, X_csc, X_csr)\u001b[0m\n\u001b[1;32m    243\u001b[0m     sample_weight \u001b[39m=\u001b[39m sample_weight \u001b[39m*\u001b[39m sample_mask\u001b[39m.\u001b[39mastype(np\u001b[39m.\u001b[39mfloat64)\n\u001b[1;32m    245\u001b[0m X \u001b[39m=\u001b[39m X_csr \u001b[39mif\u001b[39;00m X_csr \u001b[39mis\u001b[39;00m \u001b[39mnot\u001b[39;00m \u001b[39mNone\u001b[39;00m \u001b[39melse\u001b[39;00m X\n\u001b[0;32m--> 246\u001b[0m tree\u001b[39m.\u001b[39;49mfit(X, residual, sample_weight\u001b[39m=\u001b[39;49msample_weight, check_input\u001b[39m=\u001b[39;49m\u001b[39mFalse\u001b[39;49;00m)\n\u001b[1;32m    248\u001b[0m \u001b[39m# update tree leaves\u001b[39;00m\n\u001b[1;32m    249\u001b[0m loss\u001b[39m.\u001b[39mupdate_terminal_regions(\n\u001b[1;32m    250\u001b[0m     tree\u001b[39m.\u001b[39mtree_,\n\u001b[1;32m    251\u001b[0m     X,\n\u001b[0;32m   (...)\u001b[0m\n\u001b[1;32m    258\u001b[0m     k\u001b[39m=\u001b[39mk,\n\u001b[1;32m    259\u001b[0m )\n",
      "File \u001b[0;32m~/anaconda3/envs/Algoritmo/lib/python3.9/site-packages/sklearn/tree/_classes.py:1315\u001b[0m, in \u001b[0;36mDecisionTreeRegressor.fit\u001b[0;34m(self, X, y, sample_weight, check_input, X_idx_sorted)\u001b[0m\n\u001b[1;32m   1278\u001b[0m \u001b[39mdef\u001b[39;00m \u001b[39mfit\u001b[39m(\n\u001b[1;32m   1279\u001b[0m     \u001b[39mself\u001b[39m, X, y, sample_weight\u001b[39m=\u001b[39m\u001b[39mNone\u001b[39;00m, check_input\u001b[39m=\u001b[39m\u001b[39mTrue\u001b[39;00m, X_idx_sorted\u001b[39m=\u001b[39m\u001b[39m\"\u001b[39m\u001b[39mdeprecated\u001b[39m\u001b[39m\"\u001b[39m\n\u001b[1;32m   1280\u001b[0m ):\n\u001b[1;32m   1281\u001b[0m     \u001b[39m\"\"\"Build a decision tree regressor from the training set (X, y).\u001b[39;00m\n\u001b[1;32m   1282\u001b[0m \n\u001b[1;32m   1283\u001b[0m \u001b[39m    Parameters\u001b[39;00m\n\u001b[0;32m   (...)\u001b[0m\n\u001b[1;32m   1312\u001b[0m \u001b[39m        Fitted estimator.\u001b[39;00m\n\u001b[1;32m   1313\u001b[0m \u001b[39m    \"\"\"\u001b[39;00m\n\u001b[0;32m-> 1315\u001b[0m     \u001b[39msuper\u001b[39;49m()\u001b[39m.\u001b[39;49mfit(\n\u001b[1;32m   1316\u001b[0m         X,\n\u001b[1;32m   1317\u001b[0m         y,\n\u001b[1;32m   1318\u001b[0m         sample_weight\u001b[39m=\u001b[39;49msample_weight,\n\u001b[1;32m   1319\u001b[0m         check_input\u001b[39m=\u001b[39;49mcheck_input,\n\u001b[1;32m   1320\u001b[0m         X_idx_sorted\u001b[39m=\u001b[39;49mX_idx_sorted,\n\u001b[1;32m   1321\u001b[0m     )\n\u001b[1;32m   1322\u001b[0m     \u001b[39mreturn\u001b[39;00m \u001b[39mself\u001b[39m\n",
      "File \u001b[0;32m~/anaconda3/envs/Algoritmo/lib/python3.9/site-packages/sklearn/tree/_classes.py:420\u001b[0m, in \u001b[0;36mBaseDecisionTree.fit\u001b[0;34m(self, X, y, sample_weight, check_input, X_idx_sorted)\u001b[0m\n\u001b[1;32m    409\u001b[0m \u001b[39melse\u001b[39;00m:\n\u001b[1;32m    410\u001b[0m     builder \u001b[39m=\u001b[39m BestFirstTreeBuilder(\n\u001b[1;32m    411\u001b[0m         splitter,\n\u001b[1;32m    412\u001b[0m         min_samples_split,\n\u001b[0;32m   (...)\u001b[0m\n\u001b[1;32m    417\u001b[0m         \u001b[39mself\u001b[39m\u001b[39m.\u001b[39mmin_impurity_decrease,\n\u001b[1;32m    418\u001b[0m     )\n\u001b[0;32m--> 420\u001b[0m builder\u001b[39m.\u001b[39;49mbuild(\u001b[39mself\u001b[39;49m\u001b[39m.\u001b[39;49mtree_, X, y, sample_weight)\n\u001b[1;32m    422\u001b[0m \u001b[39mif\u001b[39;00m \u001b[39mself\u001b[39m\u001b[39m.\u001b[39mn_outputs_ \u001b[39m==\u001b[39m \u001b[39m1\u001b[39m \u001b[39mand\u001b[39;00m is_classifier(\u001b[39mself\u001b[39m):\n\u001b[1;32m    423\u001b[0m     \u001b[39mself\u001b[39m\u001b[39m.\u001b[39mn_classes_ \u001b[39m=\u001b[39m \u001b[39mself\u001b[39m\u001b[39m.\u001b[39mn_classes_[\u001b[39m0\u001b[39m]\n",
      "\u001b[0;31mKeyboardInterrupt\u001b[0m: "
     ]
    }
   ],
   "source": [
    "from sklearn.ensemble import RandomForestClassifier, GradientBoostingClassifier, AdaBoostClassifier\n",
    "rfc = GradientBoostingClassifier(random_state=0)\n",
    "rfc.fit(pred_cb_train, train_target)\n",
    "rfc.predict(pred_cb_val)\n",
    "acc_train = rfc.score(pred_cb_train,train_target)\n",
    "acc_test = rfc.score(pred_cb_val,val_target)\n",
    "\n",
    "print(f'Precisión entrenamiento: {acc_train.round(4)}, Presición validación: {acc_test.round(4)}')"
   ]
  },
  {
   "cell_type": "code",
   "execution_count": null,
   "metadata": {},
   "outputs": [
    {
     "name": "stderr",
     "output_type": "stream",
     "text": [
      "/home/rlopez/anaconda3/envs/Algoritmo/lib/python3.9/site-packages/sklearn/utils/validation.py:1688: FutureWarning: Feature names only support names that are all strings. Got feature names with dtypes: ['int', 'str']. An error will be raised in 1.2.\n",
      "  warnings.warn(\n"
     ]
    },
    {
     "name": "stdout",
     "output_type": "stream",
     "text": [
      "Accuracy: 0.9183341458471415\n",
      "True Positive Rate 0.8804049144773861\n",
      "Precision 0.9531241683177101\n",
      "Balanced accuracy 0.9184362231871417\n",
      "f1 score 0.9153224890383262\n"
     ]
    }
   ],
   "source": [
    "y_pred = rfc.predict(pred_cb_val)\n",
    "accuracy = accuracy_score(val_target,y_pred)\n",
    "recall = recall_score(val_target,y_pred)\n",
    "precision = precision_score(val_target,y_pred)\n",
    "balanced_accuracy = balanced_accuracy_score(val_target,y_pred)\n",
    "f1 = f1_score(val_target,y_pred)\n",
    "print(f'Accuracy: {accuracy}')\n",
    "print(f'True Positive Rate {recall}')\n",
    "print(f'Precision {precision}')\n",
    "print(f'Balanced accuracy {balanced_accuracy}')\n",
    "print(f'f1 score {f1}')"
   ]
  },
  {
   "cell_type": "code",
   "execution_count": null,
   "metadata": {},
   "outputs": [],
   "source": [
    "# Calculamos las entradas de la matriz de confusión\n",
    "tn, fp, fn, tp = confusion_matrix(val_target, y_pred).ravel()\n",
    "tn,fp,fn,tp"
   ]
  },
  {
   "cell_type": "markdown",
   "metadata": {},
   "source": [
    "## KNeighbors"
   ]
  },
  {
   "cell_type": "code",
   "execution_count": null,
   "metadata": {},
   "outputs": [
    {
     "name": "stderr",
     "output_type": "stream",
     "text": [
      "/home/rlopez/anaconda3/envs/Algoritmo/lib/python3.9/site-packages/sklearn/utils/validation.py:1688: FutureWarning: Feature names only support names that are all strings. Got feature names with dtypes: ['int', 'str']. An error will be raised in 1.2.\n",
      "  warnings.warn(\n",
      "/home/rlopez/anaconda3/envs/Algoritmo/lib/python3.9/site-packages/sklearn/utils/validation.py:1688: FutureWarning: Feature names only support names that are all strings. Got feature names with dtypes: ['int', 'str']. An error will be raised in 1.2.\n",
      "  warnings.warn(\n",
      "/home/rlopez/anaconda3/envs/Algoritmo/lib/python3.9/site-packages/sklearn/utils/validation.py:1688: FutureWarning: Feature names only support names that are all strings. Got feature names with dtypes: ['int', 'str']. An error will be raised in 1.2.\n",
      "  warnings.warn(\n",
      "/home/rlopez/anaconda3/envs/Algoritmo/lib/python3.9/site-packages/sklearn/utils/validation.py:1688: FutureWarning: Feature names only support names that are all strings. Got feature names with dtypes: ['int', 'str']. An error will be raised in 1.2.\n",
      "  warnings.warn(\n"
     ]
    },
    {
     "name": "stdout",
     "output_type": "stream",
     "text": [
      "Precisión entrenamiento: 0.8336, Presición validación: 0.8557\n"
     ]
    }
   ],
   "source": [
    "from sklearn.neighbors import KNeighborsClassifier\n",
    "rfc = KNeighborsClassifier()\n",
    "rfc.fit(pred_cb_train, train_target)\n",
    "rfc.predict(pred_cb_val)\n",
    "acc_train = rfc.score(pred_cb_train,train_target)\n",
    "acc_test = rfc.score(pred_cb_val,val_target)\n",
    "\n",
    "print(f'Precisión entrenamiento: {acc_train.round(4)}, Presición validación: {acc_test.round(4)}')"
   ]
  },
  {
   "cell_type": "code",
   "execution_count": null,
   "metadata": {},
   "outputs": [
    {
     "name": "stderr",
     "output_type": "stream",
     "text": [
      "/home/rlopez/anaconda3/envs/Algoritmo/lib/python3.9/site-packages/sklearn/utils/validation.py:1688: FutureWarning: Feature names only support names that are all strings. Got feature names with dtypes: ['int', 'str']. An error will be raised in 1.2.\n",
      "  warnings.warn(\n"
     ]
    },
    {
     "name": "stdout",
     "output_type": "stream",
     "text": [
      "Accuracy: 0.8556893312372303\n",
      "True Positive Rate 0.7604164959492163\n",
      "Precision 0.9403161521313247\n",
      "Balanced accuracy 0.8559457349989008\n",
      "f1 score 0.8408516344942778\n"
     ]
    }
   ],
   "source": [
    "y_pred = rfc.predict(pred_cb_val)\n",
    "accuracy = accuracy_score(val_target,y_pred)\n",
    "recall = recall_score(val_target,y_pred)\n",
    "precision = precision_score(val_target,y_pred)\n",
    "balanced_accuracy = balanced_accuracy_score(val_target,y_pred)\n",
    "f1 = f1_score(val_target,y_pred)\n",
    "print(f'Accuracy: {accuracy}')\n",
    "print(f'True Positive Rate {recall}')\n",
    "print(f'Precision {precision}')\n",
    "print(f'Balanced accuracy {balanced_accuracy}')\n",
    "print(f'f1 score {f1}')"
   ]
  },
  {
   "cell_type": "code",
   "execution_count": null,
   "metadata": {},
   "outputs": [],
   "source": [
    "# Calculamos las entradas de la matriz de confusión\n",
    "tn, fp, fn, tp = confusion_matrix(val_target, y_pred).ravel()\n",
    "tn,fp,fn,tp"
   ]
  },
  {
   "cell_type": "markdown",
   "metadata": {},
   "source": [
    "# Naive Bayes"
   ]
  },
  {
   "cell_type": "code",
   "execution_count": null,
   "metadata": {},
   "outputs": [
    {
     "name": "stderr",
     "output_type": "stream",
     "text": [
      "/home/rlopez/anaconda3/envs/Algoritmo/lib/python3.9/site-packages/sklearn/utils/validation.py:1688: FutureWarning: Feature names only support names that are all strings. Got feature names with dtypes: ['int', 'str']. An error will be raised in 1.2.\n",
      "  warnings.warn(\n",
      "/home/rlopez/anaconda3/envs/Algoritmo/lib/python3.9/site-packages/sklearn/utils/validation.py:1688: FutureWarning: Feature names only support names that are all strings. Got feature names with dtypes: ['int', 'str']. An error will be raised in 1.2.\n",
      "  warnings.warn(\n",
      "/home/rlopez/anaconda3/envs/Algoritmo/lib/python3.9/site-packages/sklearn/utils/validation.py:1688: FutureWarning: Feature names only support names that are all strings. Got feature names with dtypes: ['int', 'str']. An error will be raised in 1.2.\n",
      "  warnings.warn(\n"
     ]
    },
    {
     "name": "stdout",
     "output_type": "stream",
     "text": [
      "Precisión entrenamiento: 0.9299, Presición validación: 0.93\n"
     ]
    },
    {
     "name": "stderr",
     "output_type": "stream",
     "text": [
      "/home/rlopez/anaconda3/envs/Algoritmo/lib/python3.9/site-packages/sklearn/utils/validation.py:1688: FutureWarning: Feature names only support names that are all strings. Got feature names with dtypes: ['int', 'str']. An error will be raised in 1.2.\n",
      "  warnings.warn(\n"
     ]
    }
   ],
   "source": [
    "from sklearn.naive_bayes import GaussianNB\n",
    "rfc = GaussianNB()\n",
    "rfc.fit(pred_cb_train, train_target)\n",
    "rfc.predict(pred_cb_val)\n",
    "acc_train = rfc.score(pred_cb_train,train_target)\n",
    "acc_test = rfc.score(pred_cb_val,val_target)\n",
    "\n",
    "print(f'Precisión entrenamiento: {acc_train.round(4)}, Presición validación: {acc_test.round(4)}')"
   ]
  },
  {
   "cell_type": "code",
   "execution_count": null,
   "metadata": {},
   "outputs": [
    {
     "name": "stderr",
     "output_type": "stream",
     "text": [
      "/home/rlopez/anaconda3/envs/Algoritmo/lib/python3.9/site-packages/sklearn/utils/validation.py:1688: FutureWarning: Feature names only support names that are all strings. Got feature names with dtypes: ['int', 'str']. An error will be raised in 1.2.\n",
      "  warnings.warn(\n"
     ]
    },
    {
     "name": "stdout",
     "output_type": "stream",
     "text": [
      "Accuracy: 0.930031605874201\n",
      "True Positive Rate 0.9015192487339594\n",
      "Precision 0.9564169139465876\n",
      "Balanced accuracy 0.9301083399779226\n",
      "f1 score 0.9281570325791983\n"
     ]
    }
   ],
   "source": [
    "y_pred = rfc.predict(pred_cb_val)\n",
    "accuracy = accuracy_score(val_target,y_pred)\n",
    "recall = recall_score(val_target,y_pred)\n",
    "precision = precision_score(val_target,y_pred)\n",
    "balanced_accuracy = balanced_accuracy_score(val_target,y_pred)\n",
    "f1 = f1_score(val_target,y_pred)\n",
    "print(f'Accuracy: {accuracy}')\n",
    "print(f'True Positive Rate {recall}')\n",
    "print(f'Precision {precision}')\n",
    "print(f'Balanced accuracy {balanced_accuracy}')\n",
    "print(f'f1 score {f1}')"
   ]
  },
  {
   "cell_type": "code",
   "execution_count": null,
   "metadata": {},
   "outputs": [
    {
     "data": {
      "text/plain": [
       "(174551, 7520, 18027, 165024)"
      ]
     },
     "execution_count": 41,
     "metadata": {},
     "output_type": "execute_result"
    }
   ],
   "source": [
    "# Calculamos las entradas de la matriz de confusión\n",
    "tn, fp, fn, tp = confusion_matrix(val_target, y_pred).ravel()\n",
    "tn,fp,fn,tp"
   ]
  },
  {
   "cell_type": "markdown",
   "metadata": {},
   "source": [
    "# Regresion Logistica"
   ]
  },
  {
   "cell_type": "code",
   "execution_count": null,
   "metadata": {},
   "outputs": [
    {
     "name": "stderr",
     "output_type": "stream",
     "text": [
      "/home/rlopez/anaconda3/envs/Algoritmo/lib/python3.9/site-packages/sklearn/utils/validation.py:1688: FutureWarning: Feature names only support names that are all strings. Got feature names with dtypes: ['int', 'str']. An error will be raised in 1.2.\n",
      "  warnings.warn(\n"
     ]
    },
    {
     "name": "stdout",
     "output_type": "stream",
     "text": [
      "Precisión entrenamiento: 0.9297, Presición validación: 0.927\n"
     ]
    },
    {
     "name": "stderr",
     "output_type": "stream",
     "text": [
      "/home/rlopez/anaconda3/envs/Algoritmo/lib/python3.9/site-packages/sklearn/utils/validation.py:1688: FutureWarning: Feature names only support names that are all strings. Got feature names with dtypes: ['int', 'str']. An error will be raised in 1.2.\n",
      "  warnings.warn(\n",
      "/home/rlopez/anaconda3/envs/Algoritmo/lib/python3.9/site-packages/sklearn/utils/validation.py:1688: FutureWarning: Feature names only support names that are all strings. Got feature names with dtypes: ['int', 'str']. An error will be raised in 1.2.\n",
      "  warnings.warn(\n",
      "/home/rlopez/anaconda3/envs/Algoritmo/lib/python3.9/site-packages/sklearn/utils/validation.py:1688: FutureWarning: Feature names only support names that are all strings. Got feature names with dtypes: ['int', 'str']. An error will be raised in 1.2.\n",
      "  warnings.warn(\n"
     ]
    }
   ],
   "source": [
    "from sklearn.linear_model import LogisticRegression\n",
    "rfc = LogisticRegression(random_state=0)\n",
    "rfc.fit(pred_cb_train, train_target)\n",
    "rfc.predict(pred_cb_val)\n",
    "acc_train = rfc.score(pred_cb_train,train_target)\n",
    "acc_test = rfc.score(pred_cb_val,val_target)\n",
    "\n",
    "print(f'Precisión entrenamiento: {acc_train.round(4)}, Presición validación: {acc_test.round(4)}')"
   ]
  },
  {
   "cell_type": "code",
   "execution_count": null,
   "metadata": {},
   "outputs": [
    {
     "name": "stderr",
     "output_type": "stream",
     "text": [
      "/home/rlopez/anaconda3/envs/Algoritmo/lib/python3.9/site-packages/sklearn/utils/validation.py:1688: FutureWarning: Feature names only support names that are all strings. Got feature names with dtypes: ['int', 'str']. An error will be raised in 1.2.\n",
      "  warnings.warn(\n"
     ]
    },
    {
     "name": "stdout",
     "output_type": "stream",
     "text": [
      "Accuracy: 0.9270106977941619\n",
      "True Positive Rate 0.9027975810020158\n",
      "Precision 0.9491313212531948\n",
      "Balanced accuracy 0.9270758615337369\n",
      "f1 score 0.925384835062688\n"
     ]
    }
   ],
   "source": [
    "y_pred = rfc.predict(pred_cb_val)\n",
    "accuracy = accuracy_score(val_target,y_pred)\n",
    "recall = recall_score(val_target,y_pred)\n",
    "precision = precision_score(val_target,y_pred)\n",
    "balanced_accuracy = balanced_accuracy_score(val_target,y_pred)\n",
    "f1 = f1_score(val_target,y_pred)\n",
    "print(f'Accuracy: {accuracy}')\n",
    "print(f'True Positive Rate {recall}')\n",
    "print(f'Precision {precision}')\n",
    "print(f'Balanced accuracy {balanced_accuracy}')\n",
    "print(f'f1 score {f1}')"
   ]
  },
  {
   "cell_type": "code",
   "execution_count": null,
   "metadata": {},
   "outputs": [
    {
     "data": {
      "text/plain": [
       "(173214, 8857, 17793, 165258)"
      ]
     },
     "execution_count": 38,
     "metadata": {},
     "output_type": "execute_result"
    }
   ],
   "source": [
    "# Calculamos las entradas de la matriz de confusión\n",
    "tn, fp, fn, tp = confusion_matrix(val_target, y_pred).ravel()\n",
    "tn,fp,fn,tp"
   ]
  },
  {
   "cell_type": "markdown",
   "metadata": {},
   "source": [
    "# Máquinas de soporte vectorial"
   ]
  },
  {
   "cell_type": "code",
   "execution_count": null,
   "metadata": {},
   "outputs": [
    {
     "name": "stderr",
     "output_type": "stream",
     "text": [
      "/home/rlopez/anaconda3/envs/Algoritmo/lib/python3.9/site-packages/sklearn/utils/validation.py:1688: FutureWarning: Feature names only support names that are all strings. Got feature names with dtypes: ['int', 'str']. An error will be raised in 1.2.\n",
      "  warnings.warn(\n"
     ]
    }
   ],
   "source": [
    "from sklearn.svm import SVC\n",
    "rfc = SVC(random_state=0)\n",
    "rfc.fit(pred_cb_train, train_target)\n",
    "rfc.predict(pred_cb_val)\n",
    "acc_train = rfc.score(pred_cb_train,train_target)\n",
    "acc_test = rfc.score(pred_cb_val,val_target)\n",
    "\n",
    "print(f'Precisión entrenamiento: {acc_train.round(4)}, Presición validación: {acc_test.round(4)}')"
   ]
  },
  {
   "cell_type": "code",
   "execution_count": null,
   "metadata": {},
   "outputs": [],
   "source": [
    "y_pred = rfc.predict(pred_cb_val)\n",
    "accuracy = accuracy_score(val_target,y_pred)\n",
    "recall = recall_score(val_target,y_pred)\n",
    "precision = precision_score(val_target,y_pred)\n",
    "balanced_accuracy = balanced_accuracy_score(val_target,y_pred)\n",
    "f1 = f1_score(val_target,y_pred)\n",
    "print(f'Accuracy: {accuracy}')\n",
    "print(f'True Positive Rate {recall}')\n",
    "print(f'Precision {precision}')\n",
    "print(f'Balanced accuracy {balanced_accuracy}')\n",
    "print(f'f1 score {f1}')"
   ]
  },
  {
   "cell_type": "code",
   "execution_count": null,
   "metadata": {},
   "outputs": [],
   "source": [
    "# Calculamos las entradas de la matriz de confusión\n",
    "tn, fp, fn, tp = confusion_matrix(val_target, y_pred).ravel()\n",
    "tn,fp,fn,tp"
   ]
  },
  {
   "cell_type": "markdown",
   "metadata": {},
   "source": [
    "## Local Cascade Ensemble"
   ]
  },
  {
   "cell_type": "code",
   "execution_count": null,
   "metadata": {},
   "outputs": [
    {
     "name": "stdout",
     "output_type": "stream",
     "text": [
      "Requirement already satisfied: lcensemble in /home/rlopez/anaconda3/envs/Algoritmo/lib/python3.9/site-packages (0.2.6)\n",
      "Collecting hyperopt==0.2.7\n",
      "  Using cached hyperopt-0.2.7-py2.py3-none-any.whl (1.6 MB)\n",
      "Requirement already satisfied: pandas==1.3.5 in /home/rlopez/anaconda3/envs/Algoritmo/lib/python3.9/site-packages (from lcensemble) (1.3.5)\n",
      "Requirement already satisfied: scikit-learn==1.0.2 in /home/rlopez/anaconda3/envs/Algoritmo/lib/python3.9/site-packages (from lcensemble) (1.0.2)\n",
      "Collecting numpy==1.21.5\n",
      "  Using cached numpy-1.21.5-cp39-cp39-manylinux_2_12_x86_64.manylinux2010_x86_64.whl (15.7 MB)\n",
      "Requirement already satisfied: xgboost==1.5.0 in /home/rlopez/anaconda3/envs/Algoritmo/lib/python3.9/site-packages (from lcensemble) (1.5.0)\n",
      "Requirement already satisfied: scipy in /home/rlopez/anaconda3/envs/Algoritmo/lib/python3.9/site-packages (from hyperopt==0.2.7->lcensemble) (1.7.3)\n",
      "Requirement already satisfied: tqdm in /home/rlopez/anaconda3/envs/Algoritmo/lib/python3.9/site-packages (from hyperopt==0.2.7->lcensemble) (4.64.0)\n",
      "Requirement already satisfied: six in /home/rlopez/anaconda3/envs/Algoritmo/lib/python3.9/site-packages (from hyperopt==0.2.7->lcensemble) (1.16.0)\n",
      "Requirement already satisfied: py4j in /home/rlopez/anaconda3/envs/Algoritmo/lib/python3.9/site-packages (from hyperopt==0.2.7->lcensemble) (0.10.9.5)\n",
      "Requirement already satisfied: future in /home/rlopez/anaconda3/envs/Algoritmo/lib/python3.9/site-packages (from hyperopt==0.2.7->lcensemble) (0.18.2)\n",
      "Requirement already satisfied: networkx>=2.2 in /home/rlopez/anaconda3/envs/Algoritmo/lib/python3.9/site-packages (from hyperopt==0.2.7->lcensemble) (2.8.4)\n",
      "Requirement already satisfied: cloudpickle in /home/rlopez/anaconda3/envs/Algoritmo/lib/python3.9/site-packages (from hyperopt==0.2.7->lcensemble) (2.1.0)\n",
      "Requirement already satisfied: python-dateutil>=2.7.3 in /home/rlopez/anaconda3/envs/Algoritmo/lib/python3.9/site-packages (from pandas==1.3.5->lcensemble) (2.8.2)\n",
      "Requirement already satisfied: pytz>=2017.3 in /home/rlopez/anaconda3/envs/Algoritmo/lib/python3.9/site-packages (from pandas==1.3.5->lcensemble) (2022.1)\n",
      "Requirement already satisfied: threadpoolctl>=2.0.0 in /home/rlopez/anaconda3/envs/Algoritmo/lib/python3.9/site-packages (from scikit-learn==1.0.2->lcensemble) (3.1.0)\n",
      "Requirement already satisfied: joblib>=0.11 in /home/rlopez/anaconda3/envs/Algoritmo/lib/python3.9/site-packages (from scikit-learn==1.0.2->lcensemble) (1.1.0)\n",
      "Installing collected packages: numpy, hyperopt\n",
      "  Attempting uninstall: numpy\n",
      "    Found existing installation: numpy 1.22.3\n",
      "    Uninstalling numpy-1.22.3:\n",
      "      Successfully uninstalled numpy-1.22.3\n",
      "  Attempting uninstall: hyperopt\n",
      "    Found existing installation: hyperopt 0.2.5\n",
      "    Uninstalling hyperopt-0.2.5:\n",
      "      Successfully uninstalled hyperopt-0.2.5\n",
      "\u001b[31mERROR: pip's dependency resolver does not currently take into account all the packages that are installed. This behaviour is the source of the following dependency conflicts.\n",
      "tensorflow 2.9.1 requires absl-py>=1.0.0, but you have absl-py 0.15.0 which is incompatible.\n",
      "tensorflow 2.9.1 requires flatbuffers<2,>=1.12, but you have flatbuffers 2.0 which is incompatible.\n",
      "tensorflow 2.9.1 requires protobuf<3.20,>=3.9.2, but you have protobuf 3.20.1 which is incompatible.\n",
      "tensorflow 2.9.1 requires tensorboard<2.10,>=2.9, but you have tensorboard 2.6.0 which is incompatible.\n",
      "tensorflow-gpu 2.9.1 requires absl-py>=1.0.0, but you have absl-py 0.15.0 which is incompatible.\n",
      "tensorflow-gpu 2.9.1 requires flatbuffers<2,>=1.12, but you have flatbuffers 2.0 which is incompatible.\n",
      "tensorflow-gpu 2.9.1 requires protobuf<3.20,>=3.9.2, but you have protobuf 3.20.1 which is incompatible.\n",
      "tensorflow-gpu 2.9.1 requires tensorboard<2.10,>=2.9, but you have tensorboard 2.6.0 which is incompatible.\n",
      "tensorboard 2.6.0 requires google-auth<2,>=1.6.3, but you have google-auth 2.8.0 which is incompatible.\u001b[0m\u001b[31m\n",
      "\u001b[0mSuccessfully installed hyperopt-0.2.7 numpy-1.21.5\n"
     ]
    }
   ],
   "source": [
    "!pip install lcensemble"
   ]
  },
  {
   "cell_type": "code",
   "execution_count": null,
   "metadata": {},
   "outputs": [
    {
     "ename": "KeyboardInterrupt",
     "evalue": "",
     "output_type": "error",
     "traceback": [
      "\u001b[0;31m---------------------------------------------------------------------------\u001b[0m",
      "\u001b[0;31mKeyboardInterrupt\u001b[0m                         Traceback (most recent call last)",
      "\u001b[1;32m/home/rlopez/Algoritmo_Chedraui/New_Dataset/Categoria_Formato/Formatos/Formatos.ipynb Cell 69\u001b[0m in \u001b[0;36m<cell line: 4>\u001b[0;34m()\u001b[0m\n\u001b[1;32m      <a href='vscode-notebook-cell://ssh-remote%2Bneo/home/rlopez/Algoritmo_Chedraui/New_Dataset/Categoria_Formato/Formatos/Formatos.ipynb#ch0000145vscode-remote?line=1'>2</a>\u001b[0m \u001b[39mfrom\u001b[39;00m \u001b[39mlce\u001b[39;00m \u001b[39mimport\u001b[39;00m LCEClassifier\n\u001b[1;32m      <a href='vscode-notebook-cell://ssh-remote%2Bneo/home/rlopez/Algoritmo_Chedraui/New_Dataset/Categoria_Formato/Formatos/Formatos.ipynb#ch0000145vscode-remote?line=2'>3</a>\u001b[0m rfc \u001b[39m=\u001b[39m LCEClassifier(n_jobs\u001b[39m=\u001b[39m\u001b[39m-\u001b[39m\u001b[39m1\u001b[39m, random_state\u001b[39m=\u001b[39m\u001b[39m123\u001b[39m)\n\u001b[0;32m----> <a href='vscode-notebook-cell://ssh-remote%2Bneo/home/rlopez/Algoritmo_Chedraui/New_Dataset/Categoria_Formato/Formatos/Formatos.ipynb#ch0000145vscode-remote?line=3'>4</a>\u001b[0m rfc\u001b[39m.\u001b[39;49mfit(pred_cb_train, train_target)\n\u001b[1;32m      <a href='vscode-notebook-cell://ssh-remote%2Bneo/home/rlopez/Algoritmo_Chedraui/New_Dataset/Categoria_Formato/Formatos/Formatos.ipynb#ch0000145vscode-remote?line=4'>5</a>\u001b[0m rfc\u001b[39m.\u001b[39mpredict(pred_cb_val)\n\u001b[1;32m      <a href='vscode-notebook-cell://ssh-remote%2Bneo/home/rlopez/Algoritmo_Chedraui/New_Dataset/Categoria_Formato/Formatos/Formatos.ipynb#ch0000145vscode-remote?line=5'>6</a>\u001b[0m acc_train \u001b[39m=\u001b[39m rfc\u001b[39m.\u001b[39mscore(pred_cb_train,train_target)\n",
      "File \u001b[0;32m~/anaconda3/envs/Algoritmo/lib/python3.9/site-packages/lce/_lce.py:424\u001b[0m, in \u001b[0;36mLCEClassifier.fit\u001b[0;34m(self, X, y)\u001b[0m\n\u001b[1;32m    417\u001b[0m \u001b[39mself\u001b[39m\u001b[39m.\u001b[39mbase_estimator_ \u001b[39m=\u001b[39m \u001b[39mself\u001b[39m\u001b[39m.\u001b[39m_generate_estimator()\n\u001b[1;32m    418\u001b[0m \u001b[39mself\u001b[39m\u001b[39m.\u001b[39mestimators_ \u001b[39m=\u001b[39m BaggingClassifier(base_estimator\u001b[39m=\u001b[39m\u001b[39mself\u001b[39m\u001b[39m.\u001b[39mbase_estimator_, \n\u001b[1;32m    419\u001b[0m                                      n_estimators\u001b[39m=\u001b[39m\u001b[39mself\u001b[39m\u001b[39m.\u001b[39mn_estimators,\n\u001b[1;32m    420\u001b[0m                                      bootstrap\u001b[39m=\u001b[39m\u001b[39mself\u001b[39m\u001b[39m.\u001b[39mbootstrap, \n\u001b[1;32m    421\u001b[0m                                      max_samples\u001b[39m=\u001b[39m\u001b[39mself\u001b[39m\u001b[39m.\u001b[39mmax_samples, \n\u001b[1;32m    422\u001b[0m                                      n_jobs\u001b[39m=\u001b[39m\u001b[39mself\u001b[39m\u001b[39m.\u001b[39mn_jobs, \n\u001b[1;32m    423\u001b[0m                                      random_state \u001b[39m=\u001b[39m \u001b[39mself\u001b[39m\u001b[39m.\u001b[39mrandom_state)\n\u001b[0;32m--> 424\u001b[0m \u001b[39mself\u001b[39;49m\u001b[39m.\u001b[39;49mestimators_\u001b[39m.\u001b[39;49mfit(X, y)\n\u001b[1;32m    425\u001b[0m \u001b[39mreturn\u001b[39;00m \u001b[39mself\u001b[39m\n",
      "File \u001b[0;32m~/anaconda3/envs/Algoritmo/lib/python3.9/site-packages/sklearn/ensemble/_bagging.py:269\u001b[0m, in \u001b[0;36mBaseBagging.fit\u001b[0;34m(self, X, y, sample_weight)\u001b[0m\n\u001b[1;32m    260\u001b[0m \u001b[39m# Convert data (X is required to be 2d and indexable)\u001b[39;00m\n\u001b[1;32m    261\u001b[0m X, y \u001b[39m=\u001b[39m \u001b[39mself\u001b[39m\u001b[39m.\u001b[39m_validate_data(\n\u001b[1;32m    262\u001b[0m     X,\n\u001b[1;32m    263\u001b[0m     y,\n\u001b[0;32m   (...)\u001b[0m\n\u001b[1;32m    267\u001b[0m     multi_output\u001b[39m=\u001b[39m\u001b[39mTrue\u001b[39;00m,\n\u001b[1;32m    268\u001b[0m )\n\u001b[0;32m--> 269\u001b[0m \u001b[39mreturn\u001b[39;00m \u001b[39mself\u001b[39;49m\u001b[39m.\u001b[39;49m_fit(X, y, \u001b[39mself\u001b[39;49m\u001b[39m.\u001b[39;49mmax_samples, sample_weight\u001b[39m=\u001b[39;49msample_weight)\n",
      "File \u001b[0;32m~/anaconda3/envs/Algoritmo/lib/python3.9/site-packages/sklearn/ensemble/_bagging.py:394\u001b[0m, in \u001b[0;36mBaseBagging._fit\u001b[0;34m(self, X, y, max_samples, max_depth, sample_weight)\u001b[0m\n\u001b[1;32m    391\u001b[0m seeds \u001b[39m=\u001b[39m random_state\u001b[39m.\u001b[39mrandint(MAX_INT, size\u001b[39m=\u001b[39mn_more_estimators)\n\u001b[1;32m    392\u001b[0m \u001b[39mself\u001b[39m\u001b[39m.\u001b[39m_seeds \u001b[39m=\u001b[39m seeds\n\u001b[0;32m--> 394\u001b[0m all_results \u001b[39m=\u001b[39m Parallel(\n\u001b[1;32m    395\u001b[0m     n_jobs\u001b[39m=\u001b[39;49mn_jobs, verbose\u001b[39m=\u001b[39;49m\u001b[39mself\u001b[39;49m\u001b[39m.\u001b[39;49mverbose, \u001b[39m*\u001b[39;49m\u001b[39m*\u001b[39;49m\u001b[39mself\u001b[39;49m\u001b[39m.\u001b[39;49m_parallel_args()\n\u001b[1;32m    396\u001b[0m )(\n\u001b[1;32m    397\u001b[0m     delayed(_parallel_build_estimators)(\n\u001b[1;32m    398\u001b[0m         n_estimators[i],\n\u001b[1;32m    399\u001b[0m         \u001b[39mself\u001b[39;49m,\n\u001b[1;32m    400\u001b[0m         X,\n\u001b[1;32m    401\u001b[0m         y,\n\u001b[1;32m    402\u001b[0m         sample_weight,\n\u001b[1;32m    403\u001b[0m         seeds[starts[i] : starts[i \u001b[39m+\u001b[39;49m \u001b[39m1\u001b[39;49m]],\n\u001b[1;32m    404\u001b[0m         total_n_estimators,\n\u001b[1;32m    405\u001b[0m         verbose\u001b[39m=\u001b[39;49m\u001b[39mself\u001b[39;49m\u001b[39m.\u001b[39;49mverbose,\n\u001b[1;32m    406\u001b[0m     )\n\u001b[1;32m    407\u001b[0m     \u001b[39mfor\u001b[39;49;00m i \u001b[39min\u001b[39;49;00m \u001b[39mrange\u001b[39;49m(n_jobs)\n\u001b[1;32m    408\u001b[0m )\n\u001b[1;32m    410\u001b[0m \u001b[39m# Reduce\u001b[39;00m\n\u001b[1;32m    411\u001b[0m \u001b[39mself\u001b[39m\u001b[39m.\u001b[39mestimators_ \u001b[39m+\u001b[39m\u001b[39m=\u001b[39m \u001b[39mlist\u001b[39m(\n\u001b[1;32m    412\u001b[0m     itertools\u001b[39m.\u001b[39mchain\u001b[39m.\u001b[39mfrom_iterable(t[\u001b[39m0\u001b[39m] \u001b[39mfor\u001b[39;00m t \u001b[39min\u001b[39;00m all_results)\n\u001b[1;32m    413\u001b[0m )\n",
      "File \u001b[0;32m~/anaconda3/envs/Algoritmo/lib/python3.9/site-packages/joblib/parallel.py:1056\u001b[0m, in \u001b[0;36mParallel.__call__\u001b[0;34m(self, iterable)\u001b[0m\n\u001b[1;32m   1053\u001b[0m     \u001b[39mself\u001b[39m\u001b[39m.\u001b[39m_iterating \u001b[39m=\u001b[39m \u001b[39mFalse\u001b[39;00m\n\u001b[1;32m   1055\u001b[0m \u001b[39mwith\u001b[39;00m \u001b[39mself\u001b[39m\u001b[39m.\u001b[39m_backend\u001b[39m.\u001b[39mretrieval_context():\n\u001b[0;32m-> 1056\u001b[0m     \u001b[39mself\u001b[39;49m\u001b[39m.\u001b[39;49mretrieve()\n\u001b[1;32m   1057\u001b[0m \u001b[39m# Make sure that we get a last message telling us we are done\u001b[39;00m\n\u001b[1;32m   1058\u001b[0m elapsed_time \u001b[39m=\u001b[39m time\u001b[39m.\u001b[39mtime() \u001b[39m-\u001b[39m \u001b[39mself\u001b[39m\u001b[39m.\u001b[39m_start_time\n",
      "File \u001b[0;32m~/anaconda3/envs/Algoritmo/lib/python3.9/site-packages/joblib/parallel.py:935\u001b[0m, in \u001b[0;36mParallel.retrieve\u001b[0;34m(self)\u001b[0m\n\u001b[1;32m    933\u001b[0m \u001b[39mtry\u001b[39;00m:\n\u001b[1;32m    934\u001b[0m     \u001b[39mif\u001b[39;00m \u001b[39mgetattr\u001b[39m(\u001b[39mself\u001b[39m\u001b[39m.\u001b[39m_backend, \u001b[39m'\u001b[39m\u001b[39msupports_timeout\u001b[39m\u001b[39m'\u001b[39m, \u001b[39mFalse\u001b[39;00m):\n\u001b[0;32m--> 935\u001b[0m         \u001b[39mself\u001b[39m\u001b[39m.\u001b[39m_output\u001b[39m.\u001b[39mextend(job\u001b[39m.\u001b[39;49mget(timeout\u001b[39m=\u001b[39;49m\u001b[39mself\u001b[39;49m\u001b[39m.\u001b[39;49mtimeout))\n\u001b[1;32m    936\u001b[0m     \u001b[39melse\u001b[39;00m:\n\u001b[1;32m    937\u001b[0m         \u001b[39mself\u001b[39m\u001b[39m.\u001b[39m_output\u001b[39m.\u001b[39mextend(job\u001b[39m.\u001b[39mget())\n",
      "File \u001b[0;32m~/anaconda3/envs/Algoritmo/lib/python3.9/site-packages/joblib/_parallel_backends.py:542\u001b[0m, in \u001b[0;36mLokyBackend.wrap_future_result\u001b[0;34m(future, timeout)\u001b[0m\n\u001b[1;32m    539\u001b[0m \u001b[39m\"\"\"Wrapper for Future.result to implement the same behaviour as\u001b[39;00m\n\u001b[1;32m    540\u001b[0m \u001b[39mAsyncResults.get from multiprocessing.\"\"\"\u001b[39;00m\n\u001b[1;32m    541\u001b[0m \u001b[39mtry\u001b[39;00m:\n\u001b[0;32m--> 542\u001b[0m     \u001b[39mreturn\u001b[39;00m future\u001b[39m.\u001b[39;49mresult(timeout\u001b[39m=\u001b[39;49mtimeout)\n\u001b[1;32m    543\u001b[0m \u001b[39mexcept\u001b[39;00m CfTimeoutError \u001b[39mas\u001b[39;00m e:\n\u001b[1;32m    544\u001b[0m     \u001b[39mraise\u001b[39;00m \u001b[39mTimeoutError\u001b[39;00m \u001b[39mfrom\u001b[39;00m \u001b[39me\u001b[39;00m\n",
      "File \u001b[0;32m~/anaconda3/envs/Algoritmo/lib/python3.9/concurrent/futures/_base.py:441\u001b[0m, in \u001b[0;36mFuture.result\u001b[0;34m(self, timeout)\u001b[0m\n\u001b[1;32m    438\u001b[0m \u001b[39melif\u001b[39;00m \u001b[39mself\u001b[39m\u001b[39m.\u001b[39m_state \u001b[39m==\u001b[39m FINISHED:\n\u001b[1;32m    439\u001b[0m     \u001b[39mreturn\u001b[39;00m \u001b[39mself\u001b[39m\u001b[39m.\u001b[39m__get_result()\n\u001b[0;32m--> 441\u001b[0m \u001b[39mself\u001b[39;49m\u001b[39m.\u001b[39;49m_condition\u001b[39m.\u001b[39;49mwait(timeout)\n\u001b[1;32m    443\u001b[0m \u001b[39mif\u001b[39;00m \u001b[39mself\u001b[39m\u001b[39m.\u001b[39m_state \u001b[39min\u001b[39;00m [CANCELLED, CANCELLED_AND_NOTIFIED]:\n\u001b[1;32m    444\u001b[0m     \u001b[39mraise\u001b[39;00m CancelledError()\n",
      "File \u001b[0;32m~/anaconda3/envs/Algoritmo/lib/python3.9/threading.py:312\u001b[0m, in \u001b[0;36mCondition.wait\u001b[0;34m(self, timeout)\u001b[0m\n\u001b[1;32m    310\u001b[0m \u001b[39mtry\u001b[39;00m:    \u001b[39m# restore state no matter what (e.g., KeyboardInterrupt)\u001b[39;00m\n\u001b[1;32m    311\u001b[0m     \u001b[39mif\u001b[39;00m timeout \u001b[39mis\u001b[39;00m \u001b[39mNone\u001b[39;00m:\n\u001b[0;32m--> 312\u001b[0m         waiter\u001b[39m.\u001b[39;49macquire()\n\u001b[1;32m    313\u001b[0m         gotit \u001b[39m=\u001b[39m \u001b[39mTrue\u001b[39;00m\n\u001b[1;32m    314\u001b[0m     \u001b[39melse\u001b[39;00m:\n",
      "\u001b[0;31mKeyboardInterrupt\u001b[0m: "
     ]
    },
    {
     "ename": "",
     "evalue": "",
     "output_type": "error",
     "traceback": [
      "\u001b[1;31mThe Kernel crashed while executing code in the the current cell or a previous cell. Please review the code in the cell(s) to identify a possible cause of the failure. Click <a href='https://aka.ms/vscodeJupyterKernelCrash'>here</a> for more info. View Jupyter <a href='command:jupyter.viewOutput'>log</a> for further details."
     ]
    }
   ],
   "source": [
    "# Entrenamos un LCE con los parametros por defecto\n",
    "from lce import LCEClassifier\n",
    "rfc = LCEClassifier(n_jobs=-1, random_state=123)\n",
    "rfc.fit(pred_cb_train, train_target)\n",
    "rfc.predict(pred_cb_val)\n",
    "acc_train = rfc.score(pred_cb_train,train_target)\n",
    "acc_test = rfc.score(pred_cb_val,val_target)\n",
    "\n",
    "print(f'Precisión entrenamiento: {acc_train.round(4)}, Presición validación: {acc_test.round(4)}')"
   ]
  },
  {
   "cell_type": "code",
   "execution_count": null,
   "metadata": {},
   "outputs": [],
   "source": [
    "y_pred = rfc.predict(pred_cb_val)\n",
    "accuracy = accuracy_score(val_target,y_pred)\n",
    "recall = recall_score(val_target,y_pred)\n",
    "precision = precision_score(val_target,y_pred)\n",
    "balanced_accuracy = balanced_accuracy_score(val_target,y_pred)\n",
    "f1 = f1_score(val_target,y_pred)\n",
    "print(f'Accuracy: {accuracy}')\n",
    "print(f'True Positive Rate {recall}')\n",
    "print(f'Precision {precision}')\n",
    "print(f'Balanced accuracy {balanced_accuracy}')\n",
    "print(f'f1 score {f1}')"
   ]
  },
  {
   "cell_type": "code",
   "execution_count": null,
   "metadata": {},
   "outputs": [],
   "source": [
    "# Calculamos las entradas de la matriz de confusión\n",
    "tn, fp, fn, tp = confusion_matrix(val_target, y_pred).ravel()\n",
    "tn,fp,fn,tp"
   ]
  }
 ],
 "metadata": {
  "kernelspec": {
   "display_name": "Python 3.9.12 ('Algoritmo')",
   "language": "python",
   "name": "python3"
  },
  "language_info": {
   "codemirror_mode": {
    "name": "ipython",
    "version": 3
   },
   "file_extension": ".py",
   "mimetype": "text/x-python",
   "name": "python",
   "nbconvert_exporter": "python",
   "pygments_lexer": "ipython3",
   "version": "3.9.12"
  },
  "orig_nbformat": 4,
  "vscode": {
   "interpreter": {
    "hash": "5ba923eacfd56490e106eee1b92d03f3661deef939e2ecc7d4f0c6e697bcb78c"
   }
  }
 },
 "nbformat": 4,
 "nbformat_minor": 2
}
