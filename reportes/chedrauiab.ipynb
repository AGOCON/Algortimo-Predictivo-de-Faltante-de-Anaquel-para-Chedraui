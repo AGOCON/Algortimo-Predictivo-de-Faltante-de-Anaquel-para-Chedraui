{
 "cells": [
  {
   "cell_type": "markdown",
   "metadata": {},
   "source": [
    "# CHEDRAUI AB"
   ]
  },
  {
   "cell_type": "code",
   "execution_count": 1,
   "metadata": {},
   "outputs": [],
   "source": [
    "# Importar librerías básicas\n",
    "import numpy as np\n",
    "import pandas as pd\n",
    "import matplotlib.pyplot as plt\n",
    "import seaborn as sns"
   ]
  },
  {
   "cell_type": "code",
   "execution_count": 2,
   "metadata": {},
   "outputs": [],
   "source": [
    "from sklearn import preprocessing\n",
    "from sklearn import model_selection\n",
    "import matplotlib.pyplot as plt\n",
    "from sklearn.model_selection import train_test_split\n",
    "from sklearn import neighbors\n",
    "from catboost import CatBoostClassifier, Pool, metrics, cv\n",
    "from sklearn.preprocessing import MinMaxScaler\n",
    "from sklearn.model_selection import train_test_split\n",
    "from sklearn.ensemble import RandomForestClassifier\n",
    "from sklearn.metrics import confusion_matrix\n",
    "\n",
    "from sklearn.metrics import accuracy_score\n",
    "from sklearn.metrics import balanced_accuracy_score\n",
    "from sklearn.metrics import recall_score\n",
    "from sklearn.metrics import precision_score\n",
    "from sklearn.metrics import f1_score"
   ]
  },
  {
   "cell_type": "code",
   "execution_count": 3,
   "metadata": {},
   "outputs": [],
   "source": [
    "# Especificar columnas\n",
    "relevant_columns = ['SKU','Tienda','FORMATO','Categoria','CLASE','Sem','Existencia','fiDesplazamiento','VentaPromedio','Y_Faltante']\n",
    "num_columns = ['Existencia','fiDesplazamiento','VentaPromedio']\n",
    "cat_columns = ['SKU','Tienda','FORMATO','Categoria','CLASE','Sem']\n",
    "target = ['Y_Faltante']"
   ]
  },
  {
   "cell_type": "code",
   "execution_count": 4,
   "metadata": {},
   "outputs": [],
   "source": [
    "dtype = {'SKU':'object','FORMATO':'object','REGION':'object','Tienda':'object','Categoria':'object','Proveedor':'object','CLASE':'object','SCLASE':'object','Mes':'object','DiaSem':'object','Sem':'object','Existencia':'float','fiDesplazamiento':'float',\n",
    "\\\n",
    "'VentaPromedio':'float','Y_Faltante':'int'}"
   ]
  },
  {
   "cell_type": "code",
   "execution_count": 5,
   "metadata": {},
   "outputs": [
    {
     "name": "stdout",
     "output_type": "stream",
     "text": [
      "rows: 3304660  columns: 10\n"
     ]
    }
   ],
   "source": [
    "# Abrir el archivo\n",
    "file = '8semanas.csv'\n",
    "data = pd.read_csv(file, header=0,low_memory=False, usecols=relevant_columns,dtype=dtype)\n",
    "print('rows:', data.shape[0], ' columns:', data.shape[1])"
   ]
  },
  {
   "cell_type": "code",
   "execution_count": 6,
   "metadata": {},
   "outputs": [
    {
     "name": "stdout",
     "output_type": "stream",
     "text": [
      "rows: 5094322  columns: 10\n"
     ]
    }
   ],
   "source": [
    "# Abrir el archivo\n",
    "file = 'datos_entrenamiento.csv'\n",
    "data_2 = pd.read_csv(file, header=0,low_memory=False, encoding='latin-1',usecols=relevant_columns,dtype=dtype)\n",
    "print('rows:', data_2.shape[0], ' columns:', data_2.shape[1])"
   ]
  },
  {
   "cell_type": "code",
   "execution_count": 7,
   "metadata": {},
   "outputs": [
    {
     "name": "stdout",
     "output_type": "stream",
     "text": [
      "rows: 8398982  columns: 10\n"
     ]
    }
   ],
   "source": [
    "data = pd.concat([data,data_2],join='inner')\n",
    "print('rows:', data.shape[0], ' columns:', data.shape[1])"
   ]
  },
  {
   "cell_type": "code",
   "execution_count": 8,
   "metadata": {},
   "outputs": [
    {
     "name": "stdout",
     "output_type": "stream",
     "text": [
      "rows: 842788  columns: 10\n"
     ]
    }
   ],
   "source": [
    "# Abrir el archivo que contiene el conjunto de validación \n",
    "file_val = 'datos_prueba.csv'\n",
    "data_val = pd.read_csv(file_val, header=0,low_memory=False, usecols=relevant_columns,encoding='latin-1',dtype=dtype)\n",
    "print('rows:', data_val.shape[0], ' columns:', data_val.shape[1])"
   ]
  },
  {
   "cell_type": "code",
   "execution_count": 9,
   "metadata": {},
   "outputs": [],
   "source": [
    "data = data.dropna()\n",
    "data_val = data_val.dropna()"
   ]
  },
  {
   "cell_type": "code",
   "execution_count": 10,
   "metadata": {},
   "outputs": [],
   "source": [
    "def segmentador_formato(frame,cadena):\n",
    "    arreglo = frame[frame['FORMATO']==cadena]\n",
    "    return arreglo "
   ]
  },
  {
   "cell_type": "code",
   "execution_count": 11,
   "metadata": {},
   "outputs": [],
   "source": [
    "chedraui_cd = segmentador_formato(data,'CHEDRAUI AB')\n",
    "chedraui_cd_val = segmentador_formato(data_val,'CHEDRAUI AB')"
   ]
  },
  {
   "cell_type": "code",
   "execution_count": 12,
   "metadata": {},
   "outputs": [
    {
     "name": "stdout",
     "output_type": "stream",
     "text": [
      "yes %: 50.196821648175124- no %: 49.80317835182487\n"
     ]
    },
    {
     "data": {
      "image/png": "[encoded data removed]",
      "text/plain": [
       "<Figure size 720x360 with 1 Axes>"
      ]
     },
     "metadata": {
      "needs_background": "light"
     },
     "output_type": "display_data"
    }
   ],
   "source": [
    "# Revisamos la proporción de datos\n",
    "target = chedraui_cd['Y_Faltante']\n",
    "yes = target[target == 1].count()\n",
    "no = target[target == 0].count()\n",
    "print('yes %: ' + str(yes/len(target)*100) + '- no %: ' \\\n",
    "        + str(no/len(target)*100))\n",
    "\n",
    "\n",
    "fig, ax = plt.subplots(figsize=(10,5))\n",
    "plt.bar(\"Faltante\", yes)\n",
    "plt.bar(\"No Faltante\", no)\n",
    "ax.set_yticks([yes,no])\n",
    "plt.xticks(fontsize=15)\n",
    "plt.yticks(fontsize=15)\n",
    "plt.show()"
   ]
  },
  {
   "cell_type": "code",
   "execution_count": 13,
   "metadata": {},
   "outputs": [],
   "source": [
    "#Balanceamos a 50% - 50% nuestro conjunto de datos.\n",
    "data_yes = chedraui_cd[chedraui_cd[\"Y_Faltante\"] == 1]\n",
    "data_no = chedraui_cd[chedraui_cd[\"Y_Faltante\"] == 0]\n",
    "over_sampling = data_yes.sample(no, replace=True, \\\n",
    "random_state = 0)\n",
    "balanced_data = pd.concat([data_no, over_sampling], \\\n",
    "axis=0)\n",
    "chedraui_cd = balanced_data.reset_index(drop=True)"
   ]
  },
  {
   "cell_type": "code",
   "execution_count": 14,
   "metadata": {},
   "outputs": [
    {
     "name": "stdout",
     "output_type": "stream",
     "text": [
      "yes %: 50.0- no %: 50.0\n"
     ]
    },
    {
     "data": {
      "image/png": "[encoded data removed]",
      "text/plain": [
       "<Figure size 720x360 with 1 Axes>"
      ]
     },
     "metadata": {
      "needs_background": "light"
     },
     "output_type": "display_data"
    }
   ],
   "source": [
    "# Verificamos que el conjunto de datos está perfectamente balanceado\n",
    "# Revisamos la proporción de datos\n",
    "target = chedraui_cd['Y_Faltante']\n",
    "yes = target[target == 1].count()\n",
    "no = target[target == 0].count()\n",
    "print('yes %: ' + str(yes/len(target)*100) + '- no %: ' \\\n",
    "        + str(no/len(target)*100))\n",
    "\n",
    "\n",
    "fig, ax = plt.subplots(figsize=(10,5))\n",
    "plt.bar(\"Faltante\", yes)\n",
    "plt.bar(\"No Faltante\", no)\n",
    "ax.set_yticks([yes,no])\n",
    "plt.xticks(fontsize=15)\n",
    "plt.yticks(fontsize=15)\n",
    "plt.show()"
   ]
  },
  {
   "cell_type": "code",
   "execution_count": 15,
   "metadata": {},
   "outputs": [],
   "source": [
    "chedraui_cd = chedraui_cd.drop('FORMATO',axis=1)\n",
    "chedraui_cd_val = chedraui_cd_val.drop('FORMATO',axis=1)"
   ]
  },
  {
   "cell_type": "code",
   "execution_count": 16,
   "metadata": {},
   "outputs": [],
   "source": [
    "X_train = chedraui_cd.drop('Y_Faltante',axis=1)\n",
    "y_train = chedraui_cd.Y_Faltante\n",
    "X_val = chedraui_cd_val.drop('Y_Faltante',axis=1)\n",
    "y_val = chedraui_cd_val.Y_Faltante"
   ]
  },
  {
   "cell_type": "code",
   "execution_count": 17,
   "metadata": {},
   "outputs": [
    {
     "data": {
      "text/plain": [
       "array([0, 1, 2, 3, 4])"
      ]
     },
     "execution_count": 17,
     "metadata": {},
     "output_type": "execute_result"
    }
   ],
   "source": [
    "indices_categoricos = np.where(X_train.dtypes != float)[0]\n",
    "indices_categoricos"
   ]
  },
  {
   "cell_type": "code",
   "execution_count": 18,
   "metadata": {},
   "outputs": [
    {
     "data": {
      "text/plain": [
       "array([5, 6, 7])"
      ]
     },
     "execution_count": 18,
     "metadata": {},
     "output_type": "execute_result"
    }
   ],
   "source": [
    "num_ind = np.where(X_train.dtypes != object)[0]\n",
    "num_ind"
   ]
  },
  {
   "cell_type": "code",
   "execution_count": 19,
   "metadata": {},
   "outputs": [],
   "source": [
    "model = CatBoostClassifier(\n",
    "    l2_leaf_reg=int(1.0),\n",
    "    custom_loss=[metrics.Accuracy()],\n",
    "    random_seed=0,\n",
    "    logging_level='Verbose', # Write 'Silent' instead of 'verbose'\n",
    "    task_type='GPU',\n",
    "    #iterations=190\n",
    ")"
   ]
  },
  {
   "cell_type": "code",
   "execution_count": 20,
   "metadata": {},
   "outputs": [
    {
     "data": {
      "application/vnd.jupyter.widget-view+json": {
       "model_id": "9ef0099ed97145e4b9ae32d5a10ab307",
       "version_major": 2,
       "version_minor": 0
      },
      "text/plain": [
       "MetricVisualizer(layout=Layout(align_self='stretch', height='500px'))"
      ]
     },
     "metadata": {},
     "output_type": "display_data"
    },
    {
     "name": "stdout",
     "output_type": "stream",
     "text": [
      "0:\tlearn: 0.6487959\ttest: 0.6502532\tbest: 0.6502532 (0)\ttotal: 588ms\tremaining: 9m 47s\n",
      "1:\tlearn: 0.6095383\ttest: 0.6109697\tbest: 0.6109697 (1)\ttotal: 966ms\tremaining: 8m 2s\n",
      "2:\tlearn: 0.5737491\ttest: 0.5764647\tbest: 0.5764647 (2)\ttotal: 1.2s\tremaining: 6m 39s\n",
      "3:\tlearn: 0.5418874\ttest: 0.5453384\tbest: 0.5453384 (3)\ttotal: 1.38s\tremaining: 5m 43s\n",
      "4:\tlearn: 0.5116908\ttest: 0.5154763\tbest: 0.5154763 (4)\ttotal: 1.6s\tremaining: 5m 18s\n",
      "5:\tlearn: 0.4849542\ttest: 0.4890031\tbest: 0.4890031 (5)\ttotal: 1.84s\tremaining: 5m 5s\n",
      "6:\tlearn: 0.4646927\ttest: 0.4717044\tbest: 0.4717044 (6)\ttotal: 2.1s\tremaining: 4m 57s\n",
      "7:\tlearn: 0.4426645\ttest: 0.4511242\tbest: 0.4511242 (7)\ttotal: 2.29s\tremaining: 4m 43s\n",
      "8:\tlearn: 0.4237794\ttest: 0.4321019\tbest: 0.4321019 (8)\ttotal: 2.48s\tremaining: 4m 33s\n",
      "9:\tlearn: 0.4067875\ttest: 0.4151729\tbest: 0.4151729 (9)\ttotal: 2.64s\tremaining: 4m 21s\n",
      "10:\tlearn: 0.3914624\ttest: 0.4007192\tbest: 0.4007192 (10)\ttotal: 2.84s\tremaining: 4m 15s\n",
      "11:\tlearn: 0.3780712\ttest: 0.3876477\tbest: 0.3876477 (11)\ttotal: 3.04s\tremaining: 4m 10s\n",
      "12:\tlearn: 0.3664475\ttest: 0.3758238\tbest: 0.3758238 (12)\ttotal: 3.15s\tremaining: 3m 59s\n",
      "13:\tlearn: 0.3558959\ttest: 0.3664100\tbest: 0.3664100 (13)\ttotal: 3.3s\tremaining: 3m 52s\n",
      "14:\tlearn: 0.3460466\ttest: 0.3570647\tbest: 0.3570647 (14)\ttotal: 3.45s\tremaining: 3m 46s\n",
      "15:\tlearn: 0.3373448\ttest: 0.3483992\tbest: 0.3483992 (15)\ttotal: 3.56s\tremaining: 3m 39s\n",
      "16:\tlearn: 0.3287757\ttest: 0.3400793\tbest: 0.3400793 (16)\ttotal: 3.73s\tremaining: 3m 35s\n",
      "17:\tlearn: 0.3212260\ttest: 0.3334202\tbest: 0.3334202 (17)\ttotal: 3.9s\tremaining: 3m 32s\n",
      "18:\tlearn: 0.3138748\ttest: 0.3265077\tbest: 0.3265077 (18)\ttotal: 4.08s\tremaining: 3m 30s\n",
      "19:\tlearn: 0.3005913\ttest: 0.3193288\tbest: 0.3193288 (19)\ttotal: 4.23s\tremaining: 3m 27s\n",
      "20:\tlearn: 0.2885490\ttest: 0.3123530\tbest: 0.3123530 (20)\ttotal: 4.41s\tremaining: 3m 25s\n",
      "21:\tlearn: 0.2776420\ttest: 0.3068137\tbest: 0.3068137 (21)\ttotal: 4.57s\tremaining: 3m 23s\n",
      "22:\tlearn: 0.2676887\ttest: 0.3017399\tbest: 0.3017399 (22)\ttotal: 4.72s\tremaining: 3m 20s\n",
      "23:\tlearn: 0.2585482\ttest: 0.2971894\tbest: 0.2971894 (23)\ttotal: 4.87s\tremaining: 3m 18s\n",
      "24:\tlearn: 0.2502439\ttest: 0.2931910\tbest: 0.2931910 (24)\ttotal: 5.04s\tremaining: 3m 16s\n",
      "25:\tlearn: 0.2426406\ttest: 0.2894398\tbest: 0.2894398 (25)\ttotal: 5.19s\tremaining: 3m 14s\n",
      "26:\tlearn: 0.2357090\ttest: 0.2857118\tbest: 0.2857118 (26)\ttotal: 5.34s\tremaining: 3m 12s\n",
      "27:\tlearn: 0.2293131\ttest: 0.2827674\tbest: 0.2827674 (27)\ttotal: 5.5s\tremaining: 3m 10s\n",
      "28:\tlearn: 0.2236862\ttest: 0.2799612\tbest: 0.2799612 (28)\ttotal: 5.65s\tremaining: 3m 9s\n",
      "29:\tlearn: 0.2183203\ttest: 0.2776893\tbest: 0.2776893 (29)\ttotal: 5.8s\tremaining: 3m 7s\n",
      "30:\tlearn: 0.2135044\ttest: 0.2757754\tbest: 0.2757754 (30)\ttotal: 5.97s\tremaining: 3m 6s\n",
      "31:\tlearn: 0.2089899\ttest: 0.2740257\tbest: 0.2740257 (31)\ttotal: 6.12s\tremaining: 3m 5s\n",
      "32:\tlearn: 0.2048176\ttest: 0.2723515\tbest: 0.2723515 (32)\ttotal: 6.31s\tremaining: 3m 5s\n",
      "33:\tlearn: 0.2010827\ttest: 0.2710692\tbest: 0.2710692 (33)\ttotal: 6.48s\tremaining: 3m 4s\n",
      "34:\tlearn: 0.1893143\ttest: 0.2696748\tbest: 0.2696748 (34)\ttotal: 6.66s\tremaining: 3m 3s\n",
      "35:\tlearn: 0.1875508\ttest: 0.2686742\tbest: 0.2686742 (35)\ttotal: 6.85s\tremaining: 3m 3s\n",
      "36:\tlearn: 0.1859280\ttest: 0.2678460\tbest: 0.2678460 (36)\ttotal: 7.02s\tremaining: 3m 2s\n",
      "37:\tlearn: 0.1824807\ttest: 0.2666483\tbest: 0.2666483 (37)\ttotal: 7.28s\tremaining: 3m 4s\n",
      "38:\tlearn: 0.1808372\ttest: 0.2658106\tbest: 0.2658106 (38)\ttotal: 7.49s\tremaining: 3m 4s\n",
      "39:\tlearn: 0.1778554\ttest: 0.2650911\tbest: 0.2650911 (39)\ttotal: 7.71s\tremaining: 3m 4s\n",
      "40:\tlearn: 0.1755723\ttest: 0.2645298\tbest: 0.2645298 (40)\ttotal: 7.9s\tremaining: 3m 4s\n",
      "41:\tlearn: 0.1729558\ttest: 0.2636298\tbest: 0.2636298 (41)\ttotal: 8.09s\tremaining: 3m 4s\n",
      "42:\tlearn: 0.1709644\ttest: 0.2631840\tbest: 0.2631840 (42)\ttotal: 8.29s\tremaining: 3m 4s\n",
      "43:\tlearn: 0.1692201\ttest: 0.2629578\tbest: 0.2629578 (43)\ttotal: 8.49s\tremaining: 3m 4s\n",
      "44:\tlearn: 0.1671904\ttest: 0.2625236\tbest: 0.2625236 (44)\ttotal: 8.64s\tremaining: 3m 3s\n",
      "45:\tlearn: 0.1650750\ttest: 0.2622429\tbest: 0.2622429 (45)\ttotal: 8.9s\tremaining: 3m 4s\n",
      "46:\tlearn: 0.1635571\ttest: 0.2619142\tbest: 0.2619142 (46)\ttotal: 9.08s\tremaining: 3m 4s\n",
      "47:\tlearn: 0.1627330\ttest: 0.2617175\tbest: 0.2617175 (47)\ttotal: 9.28s\tremaining: 3m 4s\n",
      "48:\tlearn: 0.1609285\ttest: 0.2617992\tbest: 0.2617175 (47)\ttotal: 9.54s\tremaining: 3m 5s\n",
      "49:\tlearn: 0.1585922\ttest: 0.2617412\tbest: 0.2617175 (47)\ttotal: 9.77s\tremaining: 3m 5s\n",
      "50:\tlearn: 0.1564265\ttest: 0.2617360\tbest: 0.2617175 (47)\ttotal: 9.99s\tremaining: 3m 5s\n",
      "51:\tlearn: 0.1549982\ttest: 0.2616330\tbest: 0.2616330 (51)\ttotal: 10.1s\tremaining: 3m 4s\n",
      "52:\tlearn: 0.1537801\ttest: 0.2614673\tbest: 0.2614673 (52)\ttotal: 10.3s\tremaining: 3m 3s\n",
      "53:\tlearn: 0.1526499\ttest: 0.2616878\tbest: 0.2614673 (52)\ttotal: 10.5s\tremaining: 3m 4s\n",
      "54:\tlearn: 0.1518772\ttest: 0.2616307\tbest: 0.2614673 (52)\ttotal: 10.7s\tremaining: 3m 4s\n",
      "55:\tlearn: 0.1508524\ttest: 0.2617411\tbest: 0.2614673 (52)\ttotal: 11s\tremaining: 3m 5s\n",
      "56:\tlearn: 0.1495939\ttest: 0.2617692\tbest: 0.2614673 (52)\ttotal: 11.1s\tremaining: 3m 4s\n",
      "57:\tlearn: 0.1479564\ttest: 0.2619157\tbest: 0.2614673 (52)\ttotal: 11.3s\tremaining: 3m 4s\n",
      "58:\tlearn: 0.1468264\ttest: 0.2619794\tbest: 0.2614673 (52)\ttotal: 11.5s\tremaining: 3m 3s\n",
      "59:\tlearn: 0.1457766\ttest: 0.2620565\tbest: 0.2614673 (52)\ttotal: 11.6s\tremaining: 3m 2s\n",
      "60:\tlearn: 0.1450182\ttest: 0.2622714\tbest: 0.2614673 (52)\ttotal: 11.8s\tremaining: 3m 2s\n",
      "61:\tlearn: 0.1440087\ttest: 0.2622417\tbest: 0.2614673 (52)\ttotal: 12s\tremaining: 3m 1s\n",
      "62:\tlearn: 0.1430677\ttest: 0.2622309\tbest: 0.2614673 (52)\ttotal: 12.1s\tremaining: 3m\n",
      "63:\tlearn: 0.1423042\ttest: 0.2626763\tbest: 0.2614673 (52)\ttotal: 12.3s\tremaining: 3m\n",
      "64:\tlearn: 0.1415227\ttest: 0.2628365\tbest: 0.2614673 (52)\ttotal: 12.5s\tremaining: 2m 59s\n",
      "65:\tlearn: 0.1407678\ttest: 0.2629784\tbest: 0.2614673 (52)\ttotal: 12.6s\tremaining: 2m 58s\n",
      "66:\tlearn: 0.1399118\ttest: 0.2630465\tbest: 0.2614673 (52)\ttotal: 12.8s\tremaining: 2m 57s\n",
      "67:\tlearn: 0.1392076\ttest: 0.2634431\tbest: 0.2614673 (52)\ttotal: 13s\tremaining: 2m 57s\n",
      "68:\tlearn: 0.1384675\ttest: 0.2635255\tbest: 0.2614673 (52)\ttotal: 13.2s\tremaining: 2m 57s\n",
      "69:\tlearn: 0.1375061\ttest: 0.2638104\tbest: 0.2614673 (52)\ttotal: 13.4s\tremaining: 2m 57s\n",
      "70:\tlearn: 0.1367848\ttest: 0.2643002\tbest: 0.2614673 (52)\ttotal: 13.6s\tremaining: 2m 57s\n",
      "71:\tlearn: 0.1362774\ttest: 0.2646690\tbest: 0.2614673 (52)\ttotal: 13.8s\tremaining: 2m 57s\n",
      "72:\tlearn: 0.1356957\ttest: 0.2650501\tbest: 0.2614673 (52)\ttotal: 13.9s\tremaining: 2m 56s\n",
      "73:\tlearn: 0.1355305\ttest: 0.2649434\tbest: 0.2614673 (52)\ttotal: 14.1s\tremaining: 2m 56s\n",
      "74:\tlearn: 0.1349576\ttest: 0.2651047\tbest: 0.2614673 (52)\ttotal: 14.3s\tremaining: 2m 56s\n",
      "75:\tlearn: 0.1343747\ttest: 0.2651300\tbest: 0.2614673 (52)\ttotal: 14.4s\tremaining: 2m 55s\n",
      "76:\tlearn: 0.1331470\ttest: 0.2665595\tbest: 0.2614673 (52)\ttotal: 14.6s\tremaining: 2m 54s\n",
      "77:\tlearn: 0.1317423\ttest: 0.2675791\tbest: 0.2614673 (52)\ttotal: 14.7s\tremaining: 2m 53s\n",
      "78:\tlearn: 0.1303019\ttest: 0.2695724\tbest: 0.2614673 (52)\ttotal: 14.8s\tremaining: 2m 52s\n",
      "79:\tlearn: 0.1283223\ttest: 0.2698163\tbest: 0.2614673 (52)\ttotal: 14.9s\tremaining: 2m 51s\n",
      "80:\tlearn: 0.1267133\ttest: 0.2709676\tbest: 0.2614673 (52)\ttotal: 15s\tremaining: 2m 50s\n",
      "81:\tlearn: 0.1255633\ttest: 0.2718968\tbest: 0.2614673 (52)\ttotal: 15.1s\tremaining: 2m 49s\n",
      "82:\tlearn: 0.1239808\ttest: 0.2723894\tbest: 0.2614673 (52)\ttotal: 15.3s\tremaining: 2m 48s\n",
      "83:\tlearn: 0.1229015\ttest: 0.2736051\tbest: 0.2614673 (52)\ttotal: 15.4s\tremaining: 2m 47s\n",
      "84:\tlearn: 0.1215620\ttest: 0.2747234\tbest: 0.2614673 (52)\ttotal: 15.5s\tremaining: 2m 46s\n",
      "85:\tlearn: 0.1203443\ttest: 0.2756338\tbest: 0.2614673 (52)\ttotal: 15.6s\tremaining: 2m 46s\n",
      "86:\tlearn: 0.1186002\ttest: 0.2754401\tbest: 0.2614673 (52)\ttotal: 15.8s\tremaining: 2m 45s\n",
      "87:\tlearn: 0.1174878\ttest: 0.2763968\tbest: 0.2614673 (52)\ttotal: 15.9s\tremaining: 2m 44s\n",
      "88:\tlearn: 0.1163909\ttest: 0.2774594\tbest: 0.2614673 (52)\ttotal: 16s\tremaining: 2m 44s\n",
      "89:\tlearn: 0.1150010\ttest: 0.2773898\tbest: 0.2614673 (52)\ttotal: 16.2s\tremaining: 2m 43s\n",
      "90:\tlearn: 0.1140585\ttest: 0.2783155\tbest: 0.2614673 (52)\ttotal: 16.3s\tremaining: 2m 42s\n",
      "91:\tlearn: 0.1131360\ttest: 0.2792765\tbest: 0.2614673 (52)\ttotal: 16.4s\tremaining: 2m 42s\n",
      "92:\tlearn: 0.1122549\ttest: 0.2795499\tbest: 0.2614673 (52)\ttotal: 16.6s\tremaining: 2m 41s\n",
      "93:\tlearn: 0.1109542\ttest: 0.2796921\tbest: 0.2614673 (52)\ttotal: 16.7s\tremaining: 2m 41s\n",
      "94:\tlearn: 0.1083466\ttest: 0.2802104\tbest: 0.2614673 (52)\ttotal: 16.9s\tremaining: 2m 41s\n",
      "95:\tlearn: 0.1075773\ttest: 0.2804752\tbest: 0.2614673 (52)\ttotal: 17.1s\tremaining: 2m 40s\n",
      "96:\tlearn: 0.1069186\ttest: 0.2813182\tbest: 0.2614673 (52)\ttotal: 17.2s\tremaining: 2m 40s\n",
      "97:\tlearn: 0.1063040\ttest: 0.2821379\tbest: 0.2614673 (52)\ttotal: 17.4s\tremaining: 2m 40s\n",
      "98:\tlearn: 0.1053167\ttest: 0.2821796\tbest: 0.2614673 (52)\ttotal: 17.5s\tremaining: 2m 39s\n",
      "99:\tlearn: 0.1038552\ttest: 0.2818918\tbest: 0.2614673 (52)\ttotal: 17.7s\tremaining: 2m 39s\n",
      "100:\tlearn: 0.1024875\ttest: 0.2818963\tbest: 0.2614673 (52)\ttotal: 17.9s\tremaining: 2m 38s\n",
      "101:\tlearn: 0.1018914\ttest: 0.2833379\tbest: 0.2614673 (52)\ttotal: 18s\tremaining: 2m 38s\n",
      "102:\tlearn: 0.1011227\ttest: 0.2840468\tbest: 0.2614673 (52)\ttotal: 18.2s\tremaining: 2m 38s\n",
      "103:\tlearn: 0.1004235\ttest: 0.2848669\tbest: 0.2614673 (52)\ttotal: 18.3s\tremaining: 2m 38s\n",
      "104:\tlearn: 0.1003779\ttest: 0.2848268\tbest: 0.2614673 (52)\ttotal: 18.5s\tremaining: 2m 37s\n",
      "105:\tlearn: 0.0993634\ttest: 0.2846215\tbest: 0.2614673 (52)\ttotal: 18.7s\tremaining: 2m 37s\n",
      "106:\tlearn: 0.0989193\ttest: 0.2844029\tbest: 0.2614673 (52)\ttotal: 18.9s\tremaining: 2m 37s\n",
      "107:\tlearn: 0.0983008\ttest: 0.2851385\tbest: 0.2614673 (52)\ttotal: 19s\tremaining: 2m 37s\n",
      "108:\tlearn: 0.0977252\ttest: 0.2862816\tbest: 0.2614673 (52)\ttotal: 19.2s\tremaining: 2m 36s\n",
      "109:\tlearn: 0.0969042\ttest: 0.2863097\tbest: 0.2614673 (52)\ttotal: 19.3s\tremaining: 2m 36s\n",
      "110:\tlearn: 0.0962277\ttest: 0.2859400\tbest: 0.2614673 (52)\ttotal: 19.4s\tremaining: 2m 35s\n",
      "111:\tlearn: 0.0961925\ttest: 0.2858305\tbest: 0.2614673 (52)\ttotal: 19.5s\tremaining: 2m 34s\n",
      "112:\tlearn: 0.0961549\ttest: 0.2857250\tbest: 0.2614673 (52)\ttotal: 19.6s\tremaining: 2m 33s\n",
      "113:\tlearn: 0.0954730\ttest: 0.2856416\tbest: 0.2614673 (52)\ttotal: 19.8s\tremaining: 2m 33s\n",
      "114:\tlearn: 0.0949395\ttest: 0.2862112\tbest: 0.2614673 (52)\ttotal: 20s\tremaining: 2m 33s\n",
      "115:\tlearn: 0.0942291\ttest: 0.2861718\tbest: 0.2614673 (52)\ttotal: 20.2s\tremaining: 2m 33s\n",
      "116:\tlearn: 0.0938465\ttest: 0.2861350\tbest: 0.2614673 (52)\ttotal: 20.3s\tremaining: 2m 33s\n",
      "117:\tlearn: 0.0932511\ttest: 0.2872679\tbest: 0.2614673 (52)\ttotal: 20.5s\tremaining: 2m 32s\n",
      "118:\tlearn: 0.0920941\ttest: 0.2878227\tbest: 0.2614673 (52)\ttotal: 20.7s\tremaining: 2m 33s\n",
      "119:\tlearn: 0.0915177\ttest: 0.2877164\tbest: 0.2614673 (52)\ttotal: 20.8s\tremaining: 2m 32s\n",
      "120:\tlearn: 0.0904122\ttest: 0.2884191\tbest: 0.2614673 (52)\ttotal: 21s\tremaining: 2m 32s\n",
      "121:\tlearn: 0.0899490\ttest: 0.2883464\tbest: 0.2614673 (52)\ttotal: 21.2s\tremaining: 2m 32s\n",
      "122:\tlearn: 0.0895123\ttest: 0.2883378\tbest: 0.2614673 (52)\ttotal: 21.4s\tremaining: 2m 32s\n",
      "123:\tlearn: 0.0890599\ttest: 0.2883521\tbest: 0.2614673 (52)\ttotal: 21.5s\tremaining: 2m 31s\n",
      "124:\tlearn: 0.0886591\ttest: 0.2882478\tbest: 0.2614673 (52)\ttotal: 21.7s\tremaining: 2m 31s\n",
      "125:\tlearn: 0.0882421\ttest: 0.2883679\tbest: 0.2614673 (52)\ttotal: 21.8s\tremaining: 2m 31s\n",
      "126:\tlearn: 0.0874975\ttest: 0.2881576\tbest: 0.2614673 (52)\ttotal: 22s\tremaining: 2m 31s\n",
      "127:\tlearn: 0.0871854\ttest: 0.2885413\tbest: 0.2614673 (52)\ttotal: 22.1s\tremaining: 2m 30s\n",
      "128:\tlearn: 0.0868549\ttest: 0.2890007\tbest: 0.2614673 (52)\ttotal: 22.2s\tremaining: 2m 30s\n",
      "129:\tlearn: 0.0867382\ttest: 0.2882834\tbest: 0.2614673 (52)\ttotal: 22.4s\tremaining: 2m 29s\n",
      "130:\tlearn: 0.0863764\ttest: 0.2886818\tbest: 0.2614673 (52)\ttotal: 22.6s\tremaining: 2m 29s\n",
      "131:\tlearn: 0.0860654\ttest: 0.2887663\tbest: 0.2614673 (52)\ttotal: 22.7s\tremaining: 2m 29s\n",
      "132:\tlearn: 0.0857699\ttest: 0.2891847\tbest: 0.2614673 (52)\ttotal: 22.9s\tremaining: 2m 29s\n",
      "133:\tlearn: 0.0854968\ttest: 0.2900298\tbest: 0.2614673 (52)\ttotal: 23s\tremaining: 2m 28s\n",
      "134:\tlearn: 0.0852475\ttest: 0.2905741\tbest: 0.2614673 (52)\ttotal: 23.2s\tremaining: 2m 28s\n",
      "135:\tlearn: 0.0848571\ttest: 0.2905155\tbest: 0.2614673 (52)\ttotal: 23.4s\tremaining: 2m 28s\n",
      "136:\tlearn: 0.0845837\ttest: 0.2900035\tbest: 0.2614673 (52)\ttotal: 23.5s\tremaining: 2m 28s\n",
      "137:\tlearn: 0.0842448\ttest: 0.2898386\tbest: 0.2614673 (52)\ttotal: 23.7s\tremaining: 2m 27s\n",
      "138:\tlearn: 0.0842147\ttest: 0.2897746\tbest: 0.2614673 (52)\ttotal: 23.8s\tremaining: 2m 27s\n",
      "139:\tlearn: 0.0839726\ttest: 0.2892464\tbest: 0.2614673 (52)\ttotal: 24s\tremaining: 2m 27s\n",
      "140:\tlearn: 0.0836923\ttest: 0.2887897\tbest: 0.2614673 (52)\ttotal: 24.1s\tremaining: 2m 26s\n",
      "141:\tlearn: 0.0834088\ttest: 0.2888436\tbest: 0.2614673 (52)\ttotal: 24.2s\tremaining: 2m 26s\n",
      "142:\tlearn: 0.0824792\ttest: 0.2895068\tbest: 0.2614673 (52)\ttotal: 24.4s\tremaining: 2m 26s\n",
      "143:\tlearn: 0.0822777\ttest: 0.2902572\tbest: 0.2614673 (52)\ttotal: 24.6s\tremaining: 2m 26s\n",
      "144:\tlearn: 0.0820606\ttest: 0.2909836\tbest: 0.2614673 (52)\ttotal: 24.7s\tremaining: 2m 25s\n",
      "145:\tlearn: 0.0817980\ttest: 0.2919953\tbest: 0.2614673 (52)\ttotal: 24.9s\tremaining: 2m 25s\n",
      "146:\tlearn: 0.0816851\ttest: 0.2913101\tbest: 0.2614673 (52)\ttotal: 25.1s\tremaining: 2m 25s\n",
      "147:\tlearn: 0.0809273\ttest: 0.2918027\tbest: 0.2614673 (52)\ttotal: 25.2s\tremaining: 2m 25s\n",
      "148:\tlearn: 0.0806830\ttest: 0.2926425\tbest: 0.2614673 (52)\ttotal: 25.4s\tremaining: 2m 24s\n",
      "149:\tlearn: 0.0803968\ttest: 0.2927273\tbest: 0.2614673 (52)\ttotal: 25.5s\tremaining: 2m 24s\n",
      "150:\tlearn: 0.0799020\ttest: 0.2920944\tbest: 0.2614673 (52)\ttotal: 25.7s\tremaining: 2m 24s\n",
      "151:\tlearn: 0.0798772\ttest: 0.2919099\tbest: 0.2614673 (52)\ttotal: 25.8s\tremaining: 2m 23s\n",
      "152:\tlearn: 0.0798115\ttest: 0.2914414\tbest: 0.2614673 (52)\ttotal: 25.9s\tremaining: 2m 23s\n",
      "153:\tlearn: 0.0797893\ttest: 0.2913409\tbest: 0.2614673 (52)\ttotal: 26s\tremaining: 2m 23s\n",
      "154:\tlearn: 0.0797276\ttest: 0.2904476\tbest: 0.2614673 (52)\ttotal: 26.2s\tremaining: 2m 22s\n",
      "155:\tlearn: 0.0795459\ttest: 0.2902548\tbest: 0.2614673 (52)\ttotal: 26.3s\tremaining: 2m 22s\n",
      "156:\tlearn: 0.0791019\ttest: 0.2898843\tbest: 0.2614673 (52)\ttotal: 26.5s\tremaining: 2m 22s\n",
      "157:\tlearn: 0.0784319\ttest: 0.2904277\tbest: 0.2614673 (52)\ttotal: 26.7s\tremaining: 2m 22s\n",
      "158:\tlearn: 0.0783814\ttest: 0.2898337\tbest: 0.2614673 (52)\ttotal: 26.8s\tremaining: 2m 21s\n",
      "159:\tlearn: 0.0782038\ttest: 0.2899433\tbest: 0.2614673 (52)\ttotal: 27s\tremaining: 2m 21s\n",
      "160:\tlearn: 0.0781117\ttest: 0.2879493\tbest: 0.2614673 (52)\ttotal: 27.1s\tremaining: 2m 21s\n",
      "161:\tlearn: 0.0779734\ttest: 0.2877339\tbest: 0.2614673 (52)\ttotal: 27.3s\tremaining: 2m 21s\n",
      "162:\tlearn: 0.0779186\ttest: 0.2876793\tbest: 0.2614673 (52)\ttotal: 27.4s\tremaining: 2m 20s\n",
      "163:\tlearn: 0.0777456\ttest: 0.2871834\tbest: 0.2614673 (52)\ttotal: 27.6s\tremaining: 2m 20s\n",
      "164:\tlearn: 0.0775903\ttest: 0.2878366\tbest: 0.2614673 (52)\ttotal: 27.7s\tremaining: 2m 20s\n",
      "165:\tlearn: 0.0775077\ttest: 0.2868851\tbest: 0.2614673 (52)\ttotal: 27.9s\tremaining: 2m 20s\n",
      "166:\tlearn: 0.0772807\ttest: 0.2870059\tbest: 0.2614673 (52)\ttotal: 28.1s\tremaining: 2m 19s\n",
      "167:\tlearn: 0.0771970\ttest: 0.2863662\tbest: 0.2614673 (52)\ttotal: 28.2s\tremaining: 2m 19s\n",
      "168:\tlearn: 0.0770439\ttest: 0.2860545\tbest: 0.2614673 (52)\ttotal: 28.4s\tremaining: 2m 19s\n",
      "169:\tlearn: 0.0770225\ttest: 0.2859332\tbest: 0.2614673 (52)\ttotal: 28.5s\tremaining: 2m 19s\n",
      "170:\tlearn: 0.0769059\ttest: 0.2858063\tbest: 0.2614673 (52)\ttotal: 28.7s\tremaining: 2m 19s\n",
      "171:\tlearn: 0.0767659\ttest: 0.2862143\tbest: 0.2614673 (52)\ttotal: 28.8s\tremaining: 2m 18s\n",
      "172:\tlearn: 0.0767068\ttest: 0.2830451\tbest: 0.2614673 (52)\ttotal: 29s\tremaining: 2m 18s\n",
      "173:\tlearn: 0.0766352\ttest: 0.2823244\tbest: 0.2614673 (52)\ttotal: 29.2s\tremaining: 2m 18s\n",
      "174:\tlearn: 0.0765728\ttest: 0.2825083\tbest: 0.2614673 (52)\ttotal: 29.3s\tremaining: 2m 18s\n",
      "175:\tlearn: 0.0764552\ttest: 0.2822570\tbest: 0.2614673 (52)\ttotal: 29.5s\tremaining: 2m 17s\n",
      "176:\tlearn: 0.0763827\ttest: 0.2813474\tbest: 0.2614673 (52)\ttotal: 29.6s\tremaining: 2m 17s\n",
      "177:\tlearn: 0.0762739\ttest: 0.2829335\tbest: 0.2614673 (52)\ttotal: 29.7s\tremaining: 2m 17s\n",
      "178:\tlearn: 0.0762134\ttest: 0.2824029\tbest: 0.2614673 (52)\ttotal: 29.9s\tremaining: 2m 17s\n",
      "179:\tlearn: 0.0758861\ttest: 0.2820266\tbest: 0.2614673 (52)\ttotal: 30.1s\tremaining: 2m 17s\n",
      "180:\tlearn: 0.0756973\ttest: 0.2822368\tbest: 0.2614673 (52)\ttotal: 30.2s\tremaining: 2m 16s\n",
      "181:\tlearn: 0.0755245\ttest: 0.2823179\tbest: 0.2614673 (52)\ttotal: 30.4s\tremaining: 2m 16s\n",
      "182:\tlearn: 0.0754295\ttest: 0.2823952\tbest: 0.2614673 (52)\ttotal: 30.6s\tremaining: 2m 16s\n",
      "183:\tlearn: 0.0753659\ttest: 0.2817937\tbest: 0.2614673 (52)\ttotal: 30.7s\tremaining: 2m 16s\n",
      "184:\tlearn: 0.0753264\ttest: 0.2815238\tbest: 0.2614673 (52)\ttotal: 30.9s\tremaining: 2m 16s\n",
      "185:\tlearn: 0.0752021\ttest: 0.2814273\tbest: 0.2614673 (52)\ttotal: 31s\tremaining: 2m 15s\n",
      "186:\tlearn: 0.0750726\ttest: 0.2813829\tbest: 0.2614673 (52)\ttotal: 31.2s\tremaining: 2m 15s\n",
      "187:\tlearn: 0.0750575\ttest: 0.2813198\tbest: 0.2614673 (52)\ttotal: 31.3s\tremaining: 2m 15s\n",
      "188:\tlearn: 0.0750397\ttest: 0.2812630\tbest: 0.2614673 (52)\ttotal: 31.4s\tremaining: 2m 14s\n",
      "189:\tlearn: 0.0749568\ttest: 0.2810182\tbest: 0.2614673 (52)\ttotal: 31.6s\tremaining: 2m 14s\n",
      "190:\tlearn: 0.0748836\ttest: 0.2811029\tbest: 0.2614673 (52)\ttotal: 31.7s\tremaining: 2m 14s\n",
      "191:\tlearn: 0.0748689\ttest: 0.2809574\tbest: 0.2614673 (52)\ttotal: 31.8s\tremaining: 2m 14s\n",
      "192:\tlearn: 0.0748009\ttest: 0.2810077\tbest: 0.2614673 (52)\ttotal: 32s\tremaining: 2m 13s\n",
      "193:\tlearn: 0.0746684\ttest: 0.2826217\tbest: 0.2614673 (52)\ttotal: 32.1s\tremaining: 2m 13s\n",
      "194:\tlearn: 0.0746516\ttest: 0.2825531\tbest: 0.2614673 (52)\ttotal: 32.3s\tremaining: 2m 13s\n",
      "195:\tlearn: 0.0745757\ttest: 0.2828775\tbest: 0.2614673 (52)\ttotal: 32.4s\tremaining: 2m 13s\n",
      "196:\tlearn: 0.0745280\ttest: 0.2835901\tbest: 0.2614673 (52)\ttotal: 32.6s\tremaining: 2m 12s\n",
      "197:\tlearn: 0.0744559\ttest: 0.2839092\tbest: 0.2614673 (52)\ttotal: 32.7s\tremaining: 2m 12s\n",
      "198:\tlearn: 0.0743736\ttest: 0.2836356\tbest: 0.2614673 (52)\ttotal: 32.9s\tremaining: 2m 12s\n",
      "199:\tlearn: 0.0741118\ttest: 0.2834280\tbest: 0.2614673 (52)\ttotal: 33.1s\tremaining: 2m 12s\n",
      "200:\tlearn: 0.0740672\ttest: 0.2835998\tbest: 0.2614673 (52)\ttotal: 33.2s\tremaining: 2m 12s\n",
      "201:\tlearn: 0.0739998\ttest: 0.2832197\tbest: 0.2614673 (52)\ttotal: 33.4s\tremaining: 2m 11s\n",
      "202:\tlearn: 0.0739407\ttest: 0.2833641\tbest: 0.2614673 (52)\ttotal: 33.6s\tremaining: 2m 11s\n",
      "203:\tlearn: 0.0738230\ttest: 0.2846101\tbest: 0.2614673 (52)\ttotal: 33.7s\tremaining: 2m 11s\n",
      "204:\tlearn: 0.0737397\ttest: 0.2844038\tbest: 0.2614673 (52)\ttotal: 33.8s\tremaining: 2m 11s\n",
      "205:\tlearn: 0.0736379\ttest: 0.2841195\tbest: 0.2614673 (52)\ttotal: 34s\tremaining: 2m 10s\n",
      "206:\tlearn: 0.0735688\ttest: 0.2838817\tbest: 0.2614673 (52)\ttotal: 34.1s\tremaining: 2m 10s\n",
      "207:\tlearn: 0.0735282\ttest: 0.2824495\tbest: 0.2614673 (52)\ttotal: 34.3s\tremaining: 2m 10s\n",
      "208:\tlearn: 0.0731566\ttest: 0.2824527\tbest: 0.2614673 (52)\ttotal: 34.4s\tremaining: 2m 10s\n",
      "209:\tlearn: 0.0731019\ttest: 0.2839209\tbest: 0.2614673 (52)\ttotal: 34.5s\tremaining: 2m 9s\n",
      "210:\tlearn: 0.0730153\ttest: 0.2844168\tbest: 0.2614673 (52)\ttotal: 34.7s\tremaining: 2m 9s\n",
      "211:\tlearn: 0.0729476\ttest: 0.2845469\tbest: 0.2614673 (52)\ttotal: 34.9s\tremaining: 2m 9s\n",
      "212:\tlearn: 0.0729233\ttest: 0.2845213\tbest: 0.2614673 (52)\ttotal: 35s\tremaining: 2m 9s\n",
      "213:\tlearn: 0.0728864\ttest: 0.2848728\tbest: 0.2614673 (52)\ttotal: 35.2s\tremaining: 2m 9s\n",
      "214:\tlearn: 0.0727680\ttest: 0.2852204\tbest: 0.2614673 (52)\ttotal: 35.4s\tremaining: 2m 9s\n",
      "215:\tlearn: 0.0727275\ttest: 0.2862944\tbest: 0.2614673 (52)\ttotal: 35.5s\tremaining: 2m 8s\n",
      "216:\tlearn: 0.0726849\ttest: 0.2852298\tbest: 0.2614673 (52)\ttotal: 35.7s\tremaining: 2m 8s\n",
      "217:\tlearn: 0.0726423\ttest: 0.2853513\tbest: 0.2614673 (52)\ttotal: 35.8s\tremaining: 2m 8s\n",
      "218:\tlearn: 0.0725478\ttest: 0.2853277\tbest: 0.2614673 (52)\ttotal: 36s\tremaining: 2m 8s\n",
      "219:\tlearn: 0.0724331\ttest: 0.2852205\tbest: 0.2614673 (52)\ttotal: 36.2s\tremaining: 2m 8s\n",
      "220:\tlearn: 0.0723822\ttest: 0.2854187\tbest: 0.2614673 (52)\ttotal: 36.3s\tremaining: 2m 7s\n",
      "221:\tlearn: 0.0723056\ttest: 0.2851722\tbest: 0.2614673 (52)\ttotal: 36.4s\tremaining: 2m 7s\n",
      "222:\tlearn: 0.0722334\ttest: 0.2848946\tbest: 0.2614673 (52)\ttotal: 36.6s\tremaining: 2m 7s\n",
      "223:\tlearn: 0.0721758\ttest: 0.2850686\tbest: 0.2614673 (52)\ttotal: 36.7s\tremaining: 2m 7s\n",
      "224:\tlearn: 0.0721093\ttest: 0.2846428\tbest: 0.2614673 (52)\ttotal: 36.9s\tremaining: 2m 6s\n",
      "225:\tlearn: 0.0720586\ttest: 0.2847267\tbest: 0.2614673 (52)\ttotal: 37s\tremaining: 2m 6s\n",
      "226:\tlearn: 0.0719851\ttest: 0.2848047\tbest: 0.2614673 (52)\ttotal: 37.2s\tremaining: 2m 6s\n",
      "227:\tlearn: 0.0719573\ttest: 0.2838818\tbest: 0.2614673 (52)\ttotal: 37.4s\tremaining: 2m 6s\n",
      "228:\tlearn: 0.0719365\ttest: 0.2835442\tbest: 0.2614673 (52)\ttotal: 37.5s\tremaining: 2m 6s\n",
      "229:\tlearn: 0.0718897\ttest: 0.2836325\tbest: 0.2614673 (52)\ttotal: 37.6s\tremaining: 2m 5s\n",
      "230:\tlearn: 0.0718320\ttest: 0.2836850\tbest: 0.2614673 (52)\ttotal: 37.7s\tremaining: 2m 5s\n",
      "231:\tlearn: 0.0718196\ttest: 0.2836419\tbest: 0.2614673 (52)\ttotal: 37.9s\tremaining: 2m 5s\n",
      "232:\tlearn: 0.0717517\ttest: 0.2830993\tbest: 0.2614673 (52)\ttotal: 38s\tremaining: 2m 5s\n",
      "233:\tlearn: 0.0717303\ttest: 0.2830263\tbest: 0.2614673 (52)\ttotal: 38.1s\tremaining: 2m 4s\n",
      "234:\tlearn: 0.0716864\ttest: 0.2832335\tbest: 0.2614673 (52)\ttotal: 38.3s\tremaining: 2m 4s\n",
      "235:\tlearn: 0.0716615\ttest: 0.2873225\tbest: 0.2614673 (52)\ttotal: 38.4s\tremaining: 2m 4s\n",
      "236:\tlearn: 0.0716469\ttest: 0.2872586\tbest: 0.2614673 (52)\ttotal: 38.5s\tremaining: 2m 3s\n",
      "237:\tlearn: 0.0716277\ttest: 0.2872396\tbest: 0.2614673 (52)\ttotal: 38.6s\tremaining: 2m 3s\n",
      "238:\tlearn: 0.0716082\ttest: 0.2871673\tbest: 0.2614673 (52)\ttotal: 38.8s\tremaining: 2m 3s\n",
      "239:\tlearn: 0.0715895\ttest: 0.2870862\tbest: 0.2614673 (52)\ttotal: 38.9s\tremaining: 2m 3s\n",
      "240:\tlearn: 0.0715358\ttest: 0.2868387\tbest: 0.2614673 (52)\ttotal: 39s\tremaining: 2m 2s\n",
      "241:\tlearn: 0.0715167\ttest: 0.2867661\tbest: 0.2614673 (52)\ttotal: 39.2s\tremaining: 2m 2s\n",
      "242:\tlearn: 0.0714366\ttest: 0.2873626\tbest: 0.2614673 (52)\ttotal: 39.3s\tremaining: 2m 2s\n",
      "243:\tlearn: 0.0713621\ttest: 0.2879412\tbest: 0.2614673 (52)\ttotal: 39.5s\tremaining: 2m 2s\n",
      "244:\tlearn: 0.0713497\ttest: 0.2880653\tbest: 0.2614673 (52)\ttotal: 39.6s\tremaining: 2m 2s\n",
      "245:\tlearn: 0.0713321\ttest: 0.2880437\tbest: 0.2614673 (52)\ttotal: 39.8s\tremaining: 2m 1s\n",
      "246:\tlearn: 0.0712865\ttest: 0.2882036\tbest: 0.2614673 (52)\ttotal: 39.9s\tremaining: 2m 1s\n",
      "247:\tlearn: 0.0711844\ttest: 0.2883637\tbest: 0.2614673 (52)\ttotal: 40.1s\tremaining: 2m 1s\n",
      "248:\tlearn: 0.0711191\ttest: 0.2882196\tbest: 0.2614673 (52)\ttotal: 40.3s\tremaining: 2m 1s\n",
      "249:\tlearn: 0.0710286\ttest: 0.2881253\tbest: 0.2614673 (52)\ttotal: 40.5s\tremaining: 2m 1s\n",
      "250:\tlearn: 0.0710025\ttest: 0.2874555\tbest: 0.2614673 (52)\ttotal: 40.6s\tremaining: 2m 1s\n",
      "251:\tlearn: 0.0709768\ttest: 0.2867726\tbest: 0.2614673 (52)\ttotal: 40.8s\tremaining: 2m 1s\n",
      "252:\tlearn: 0.0709626\ttest: 0.2867088\tbest: 0.2614673 (52)\ttotal: 40.9s\tremaining: 2m\n",
      "253:\tlearn: 0.0709377\ttest: 0.2875824\tbest: 0.2614673 (52)\ttotal: 41.1s\tremaining: 2m\n",
      "254:\tlearn: 0.0708317\ttest: 0.2875330\tbest: 0.2614673 (52)\ttotal: 41.2s\tremaining: 2m\n",
      "255:\tlearn: 0.0707976\ttest: 0.2876037\tbest: 0.2614673 (52)\ttotal: 41.4s\tremaining: 2m\n",
      "256:\tlearn: 0.0707510\ttest: 0.2876545\tbest: 0.2614673 (52)\ttotal: 41.5s\tremaining: 2m\n",
      "257:\tlearn: 0.0707180\ttest: 0.2888657\tbest: 0.2614673 (52)\ttotal: 41.6s\tremaining: 1m 59s\n",
      "258:\tlearn: 0.0706954\ttest: 0.2887458\tbest: 0.2614673 (52)\ttotal: 41.8s\tremaining: 1m 59s\n",
      "259:\tlearn: 0.0706757\ttest: 0.2886811\tbest: 0.2614673 (52)\ttotal: 41.9s\tremaining: 1m 59s\n",
      "260:\tlearn: 0.0706644\ttest: 0.2886417\tbest: 0.2614673 (52)\ttotal: 42.1s\tremaining: 1m 59s\n",
      "261:\tlearn: 0.0705653\ttest: 0.2886367\tbest: 0.2614673 (52)\ttotal: 42.2s\tremaining: 1m 58s\n",
      "262:\tlearn: 0.0705531\ttest: 0.2887494\tbest: 0.2614673 (52)\ttotal: 42.4s\tremaining: 1m 58s\n",
      "263:\tlearn: 0.0705173\ttest: 0.2886772\tbest: 0.2614673 (52)\ttotal: 42.6s\tremaining: 1m 58s\n",
      "264:\tlearn: 0.0705005\ttest: 0.2886247\tbest: 0.2614673 (52)\ttotal: 42.8s\tremaining: 1m 58s\n",
      "265:\tlearn: 0.0704854\ttest: 0.2885761\tbest: 0.2614673 (52)\ttotal: 42.9s\tremaining: 1m 58s\n",
      "266:\tlearn: 0.0702772\ttest: 0.2884916\tbest: 0.2614673 (52)\ttotal: 43.1s\tremaining: 1m 58s\n",
      "267:\tlearn: 0.0702623\ttest: 0.2885588\tbest: 0.2614673 (52)\ttotal: 43.2s\tremaining: 1m 58s\n",
      "268:\tlearn: 0.0702142\ttest: 0.2886530\tbest: 0.2614673 (52)\ttotal: 43.4s\tremaining: 1m 57s\n",
      "269:\tlearn: 0.0701996\ttest: 0.2885941\tbest: 0.2614673 (52)\ttotal: 43.5s\tremaining: 1m 57s\n",
      "270:\tlearn: 0.0701481\ttest: 0.2885483\tbest: 0.2614673 (52)\ttotal: 43.6s\tremaining: 1m 57s\n",
      "271:\tlearn: 0.0701350\ttest: 0.2884820\tbest: 0.2614673 (52)\ttotal: 43.8s\tremaining: 1m 57s\n",
      "272:\tlearn: 0.0701197\ttest: 0.2884159\tbest: 0.2614673 (52)\ttotal: 43.9s\tremaining: 1m 56s\n",
      "273:\tlearn: 0.0700348\ttest: 0.2886449\tbest: 0.2614673 (52)\ttotal: 44.1s\tremaining: 1m 56s\n",
      "274:\tlearn: 0.0699682\ttest: 0.2885652\tbest: 0.2614673 (52)\ttotal: 44.3s\tremaining: 1m 56s\n",
      "275:\tlearn: 0.0698966\ttest: 0.2887218\tbest: 0.2614673 (52)\ttotal: 44.4s\tremaining: 1m 56s\n",
      "276:\tlearn: 0.0698845\ttest: 0.2886636\tbest: 0.2614673 (52)\ttotal: 44.5s\tremaining: 1m 56s\n",
      "277:\tlearn: 0.0698502\ttest: 0.2897277\tbest: 0.2614673 (52)\ttotal: 44.6s\tremaining: 1m 55s\n",
      "278:\tlearn: 0.0698392\ttest: 0.2896308\tbest: 0.2614673 (52)\ttotal: 44.7s\tremaining: 1m 55s\n",
      "279:\tlearn: 0.0697766\ttest: 0.2898735\tbest: 0.2614673 (52)\ttotal: 44.9s\tremaining: 1m 55s\n",
      "280:\tlearn: 0.0697471\ttest: 0.2909801\tbest: 0.2614673 (52)\ttotal: 45s\tremaining: 1m 55s\n",
      "281:\tlearn: 0.0697308\ttest: 0.2909039\tbest: 0.2614673 (52)\ttotal: 45.2s\tremaining: 1m 55s\n",
      "282:\tlearn: 0.0697096\ttest: 0.2911163\tbest: 0.2614673 (52)\ttotal: 45.3s\tremaining: 1m 54s\n",
      "283:\tlearn: 0.0696609\ttest: 0.2912790\tbest: 0.2614673 (52)\ttotal: 45.5s\tremaining: 1m 54s\n",
      "284:\tlearn: 0.0696390\ttest: 0.2912819\tbest: 0.2614673 (52)\ttotal: 45.7s\tremaining: 1m 54s\n",
      "285:\tlearn: 0.0696357\ttest: 0.2914882\tbest: 0.2614673 (52)\ttotal: 45.8s\tremaining: 1m 54s\n",
      "286:\tlearn: 0.0696215\ttest: 0.2914410\tbest: 0.2614673 (52)\ttotal: 45.9s\tremaining: 1m 54s\n",
      "287:\tlearn: 0.0696074\ttest: 0.2913768\tbest: 0.2614673 (52)\ttotal: 46.1s\tremaining: 1m 53s\n",
      "288:\tlearn: 0.0695886\ttest: 0.2909184\tbest: 0.2614673 (52)\ttotal: 46.1s\tremaining: 1m 53s\n",
      "289:\tlearn: 0.0695791\ttest: 0.2908891\tbest: 0.2614673 (52)\ttotal: 46.3s\tremaining: 1m 53s\n",
      "290:\tlearn: 0.0695706\ttest: 0.2907928\tbest: 0.2614673 (52)\ttotal: 46.5s\tremaining: 1m 53s\n",
      "291:\tlearn: 0.0695499\ttest: 0.2905430\tbest: 0.2614673 (52)\ttotal: 46.6s\tremaining: 1m 53s\n",
      "292:\tlearn: 0.0695304\ttest: 0.2888720\tbest: 0.2614673 (52)\ttotal: 46.7s\tremaining: 1m 52s\n",
      "293:\tlearn: 0.0695107\ttest: 0.2889193\tbest: 0.2614673 (52)\ttotal: 46.9s\tremaining: 1m 52s\n",
      "294:\tlearn: 0.0694988\ttest: 0.2888020\tbest: 0.2614673 (52)\ttotal: 47.1s\tremaining: 1m 52s\n",
      "295:\tlearn: 0.0694593\ttest: 0.2889584\tbest: 0.2614673 (52)\ttotal: 47.3s\tremaining: 1m 52s\n",
      "296:\tlearn: 0.0694300\ttest: 0.2885484\tbest: 0.2614673 (52)\ttotal: 47.4s\tremaining: 1m 52s\n",
      "297:\tlearn: 0.0693536\ttest: 0.2886317\tbest: 0.2614673 (52)\ttotal: 47.5s\tremaining: 1m 51s\n",
      "298:\tlearn: 0.0693301\ttest: 0.2886277\tbest: 0.2614673 (52)\ttotal: 47.7s\tremaining: 1m 51s\n",
      "299:\tlearn: 0.0693019\ttest: 0.2887965\tbest: 0.2614673 (52)\ttotal: 47.8s\tremaining: 1m 51s\n",
      "300:\tlearn: 0.0692588\ttest: 0.2892725\tbest: 0.2614673 (52)\ttotal: 47.9s\tremaining: 1m 51s\n",
      "301:\tlearn: 0.0692330\ttest: 0.2890834\tbest: 0.2614673 (52)\ttotal: 48.1s\tremaining: 1m 51s\n",
      "302:\tlearn: 0.0692058\ttest: 0.2891639\tbest: 0.2614673 (52)\ttotal: 48.2s\tremaining: 1m 50s\n",
      "303:\tlearn: 0.0691924\ttest: 0.2891716\tbest: 0.2614673 (52)\ttotal: 48.4s\tremaining: 1m 50s\n",
      "304:\tlearn: 0.0691600\ttest: 0.2893285\tbest: 0.2614673 (52)\ttotal: 48.5s\tremaining: 1m 50s\n",
      "305:\tlearn: 0.0691139\ttest: 0.2893746\tbest: 0.2614673 (52)\ttotal: 48.7s\tremaining: 1m 50s\n",
      "306:\tlearn: 0.0691062\ttest: 0.2893748\tbest: 0.2614673 (52)\ttotal: 48.9s\tremaining: 1m 50s\n",
      "307:\tlearn: 0.0690903\ttest: 0.2894596\tbest: 0.2614673 (52)\ttotal: 49s\tremaining: 1m 50s\n",
      "308:\tlearn: 0.0690368\ttest: 0.2895377\tbest: 0.2614673 (52)\ttotal: 49.2s\tremaining: 1m 49s\n",
      "309:\tlearn: 0.0690281\ttest: 0.2892344\tbest: 0.2614673 (52)\ttotal: 49.4s\tremaining: 1m 49s\n",
      "310:\tlearn: 0.0690134\ttest: 0.2891633\tbest: 0.2614673 (52)\ttotal: 49.4s\tremaining: 1m 49s\n",
      "311:\tlearn: 0.0689942\ttest: 0.2893053\tbest: 0.2614673 (52)\ttotal: 49.6s\tremaining: 1m 49s\n",
      "312:\tlearn: 0.0688209\ttest: 0.2892226\tbest: 0.2614673 (52)\ttotal: 49.7s\tremaining: 1m 49s\n",
      "313:\tlearn: 0.0688120\ttest: 0.2890343\tbest: 0.2614673 (52)\ttotal: 49.9s\tremaining: 1m 49s\n",
      "314:\tlearn: 0.0687843\ttest: 0.2892643\tbest: 0.2614673 (52)\ttotal: 50s\tremaining: 1m 48s\n",
      "315:\tlearn: 0.0687496\ttest: 0.2889506\tbest: 0.2614673 (52)\ttotal: 50.2s\tremaining: 1m 48s\n",
      "316:\tlearn: 0.0687367\ttest: 0.2888910\tbest: 0.2614673 (52)\ttotal: 50.3s\tremaining: 1m 48s\n",
      "317:\tlearn: 0.0687179\ttest: 0.2886801\tbest: 0.2614673 (52)\ttotal: 50.4s\tremaining: 1m 48s\n",
      "318:\tlearn: 0.0686826\ttest: 0.2888074\tbest: 0.2614673 (52)\ttotal: 50.6s\tremaining: 1m 47s\n",
      "319:\tlearn: 0.0686702\ttest: 0.2887424\tbest: 0.2614673 (52)\ttotal: 50.7s\tremaining: 1m 47s\n",
      "320:\tlearn: 0.0686377\ttest: 0.2889178\tbest: 0.2614673 (52)\ttotal: 50.9s\tremaining: 1m 47s\n",
      "321:\tlearn: 0.0686108\ttest: 0.2885737\tbest: 0.2614673 (52)\ttotal: 51.1s\tremaining: 1m 47s\n",
      "322:\tlearn: 0.0685979\ttest: 0.2886715\tbest: 0.2614673 (52)\ttotal: 51.3s\tremaining: 1m 47s\n",
      "323:\tlearn: 0.0685918\ttest: 0.2901834\tbest: 0.2614673 (52)\ttotal: 51.5s\tremaining: 1m 47s\n",
      "324:\tlearn: 0.0685643\ttest: 0.2902842\tbest: 0.2614673 (52)\ttotal: 51.6s\tremaining: 1m 47s\n",
      "325:\tlearn: 0.0685517\ttest: 0.2902197\tbest: 0.2614673 (52)\ttotal: 51.8s\tremaining: 1m 47s\n",
      "326:\tlearn: 0.0685434\ttest: 0.2901860\tbest: 0.2614673 (52)\ttotal: 52s\tremaining: 1m 46s\n",
      "327:\tlearn: 0.0685223\ttest: 0.2909371\tbest: 0.2614673 (52)\ttotal: 52.1s\tremaining: 1m 46s\n",
      "328:\tlearn: 0.0684875\ttest: 0.2906136\tbest: 0.2614673 (52)\ttotal: 52.3s\tremaining: 1m 46s\n",
      "329:\tlearn: 0.0684477\ttest: 0.2907260\tbest: 0.2614673 (52)\ttotal: 52.5s\tremaining: 1m 46s\n",
      "330:\tlearn: 0.0684281\ttest: 0.2907082\tbest: 0.2614673 (52)\ttotal: 52.6s\tremaining: 1m 46s\n",
      "331:\tlearn: 0.0682012\ttest: 0.2909154\tbest: 0.2614673 (52)\ttotal: 52.8s\tremaining: 1m 46s\n",
      "332:\tlearn: 0.0680576\ttest: 0.2908450\tbest: 0.2614673 (52)\ttotal: 53s\tremaining: 1m 46s\n",
      "333:\tlearn: 0.0680421\ttest: 0.2904527\tbest: 0.2614673 (52)\ttotal: 53.1s\tremaining: 1m 45s\n",
      "334:\tlearn: 0.0680314\ttest: 0.2904001\tbest: 0.2614673 (52)\ttotal: 53.3s\tremaining: 1m 45s\n",
      "335:\tlearn: 0.0680171\ttest: 0.2903438\tbest: 0.2614673 (52)\ttotal: 53.5s\tremaining: 1m 45s\n",
      "336:\tlearn: 0.0679914\ttest: 0.2905304\tbest: 0.2614673 (52)\ttotal: 53.7s\tremaining: 1m 45s\n",
      "337:\tlearn: 0.0679690\ttest: 0.2906885\tbest: 0.2614673 (52)\ttotal: 53.8s\tremaining: 1m 45s\n",
      "338:\tlearn: 0.0679567\ttest: 0.2907415\tbest: 0.2614673 (52)\ttotal: 54s\tremaining: 1m 45s\n",
      "339:\tlearn: 0.0679427\ttest: 0.2907004\tbest: 0.2614673 (52)\ttotal: 54.2s\tremaining: 1m 45s\n",
      "340:\tlearn: 0.0679264\ttest: 0.2878137\tbest: 0.2614673 (52)\ttotal: 54.3s\tremaining: 1m 44s\n",
      "341:\tlearn: 0.0679147\ttest: 0.2871879\tbest: 0.2614673 (52)\ttotal: 54.5s\tremaining: 1m 44s\n",
      "342:\tlearn: 0.0679043\ttest: 0.2871410\tbest: 0.2614673 (52)\ttotal: 54.6s\tremaining: 1m 44s\n",
      "343:\tlearn: 0.0678896\ttest: 0.2869323\tbest: 0.2614673 (52)\ttotal: 54.8s\tremaining: 1m 44s\n",
      "344:\tlearn: 0.0678838\ttest: 0.2870400\tbest: 0.2614673 (52)\ttotal: 54.9s\tremaining: 1m 44s\n",
      "345:\tlearn: 0.0678727\ttest: 0.2865472\tbest: 0.2614673 (52)\ttotal: 55.1s\tremaining: 1m 44s\n",
      "346:\tlearn: 0.0678680\ttest: 0.2865230\tbest: 0.2614673 (52)\ttotal: 55.2s\tremaining: 1m 43s\n",
      "347:\tlearn: 0.0678558\ttest: 0.2864439\tbest: 0.2614673 (52)\ttotal: 55.4s\tremaining: 1m 43s\n",
      "348:\tlearn: 0.0678108\ttest: 0.2865917\tbest: 0.2614673 (52)\ttotal: 55.5s\tremaining: 1m 43s\n",
      "349:\tlearn: 0.0677961\ttest: 0.2866727\tbest: 0.2614673 (52)\ttotal: 55.7s\tremaining: 1m 43s\n",
      "350:\tlearn: 0.0677820\ttest: 0.2867396\tbest: 0.2614673 (52)\ttotal: 55.9s\tremaining: 1m 43s\n",
      "351:\tlearn: 0.0677542\ttest: 0.2867125\tbest: 0.2614673 (52)\ttotal: 56.1s\tremaining: 1m 43s\n",
      "352:\tlearn: 0.0677483\ttest: 0.2866770\tbest: 0.2614673 (52)\ttotal: 56.2s\tremaining: 1m 43s\n",
      "353:\tlearn: 0.0677248\ttest: 0.2867071\tbest: 0.2614673 (52)\ttotal: 56.5s\tremaining: 1m 43s\n",
      "354:\tlearn: 0.0676373\ttest: 0.2866754\tbest: 0.2614673 (52)\ttotal: 56.6s\tremaining: 1m 42s\n",
      "355:\tlearn: 0.0676314\ttest: 0.2866269\tbest: 0.2614673 (52)\ttotal: 56.7s\tremaining: 1m 42s\n",
      "356:\tlearn: 0.0676230\ttest: 0.2882432\tbest: 0.2614673 (52)\ttotal: 56.9s\tremaining: 1m 42s\n",
      "357:\tlearn: 0.0675703\ttest: 0.2882446\tbest: 0.2614673 (52)\ttotal: 57.1s\tremaining: 1m 42s\n",
      "358:\tlearn: 0.0675137\ttest: 0.2887226\tbest: 0.2614673 (52)\ttotal: 57.2s\tremaining: 1m 42s\n",
      "359:\tlearn: 0.0675006\ttest: 0.2885830\tbest: 0.2614673 (52)\ttotal: 57.4s\tremaining: 1m 42s\n",
      "360:\tlearn: 0.0674495\ttest: 0.2887916\tbest: 0.2614673 (52)\ttotal: 57.5s\tremaining: 1m 41s\n",
      "361:\tlearn: 0.0674310\ttest: 0.2905025\tbest: 0.2614673 (52)\ttotal: 57.7s\tremaining: 1m 41s\n",
      "362:\tlearn: 0.0674257\ttest: 0.2904703\tbest: 0.2614673 (52)\ttotal: 57.9s\tremaining: 1m 41s\n",
      "363:\tlearn: 0.0674162\ttest: 0.2908574\tbest: 0.2614673 (52)\ttotal: 58s\tremaining: 1m 41s\n",
      "364:\tlearn: 0.0674059\ttest: 0.2908090\tbest: 0.2614673 (52)\ttotal: 58.1s\tremaining: 1m 41s\n",
      "365:\tlearn: 0.0673859\ttest: 0.2907989\tbest: 0.2614673 (52)\ttotal: 58.2s\tremaining: 1m 40s\n",
      "366:\tlearn: 0.0672729\ttest: 0.2908915\tbest: 0.2614673 (52)\ttotal: 58.4s\tremaining: 1m 40s\n",
      "367:\tlearn: 0.0672591\ttest: 0.2910405\tbest: 0.2614673 (52)\ttotal: 58.5s\tremaining: 1m 40s\n",
      "368:\tlearn: 0.0672452\ttest: 0.2910129\tbest: 0.2614673 (52)\ttotal: 58.6s\tremaining: 1m 40s\n",
      "369:\tlearn: 0.0672151\ttest: 0.2911974\tbest: 0.2614673 (52)\ttotal: 58.8s\tremaining: 1m 40s\n",
      "370:\tlearn: 0.0672113\ttest: 0.2911853\tbest: 0.2614673 (52)\ttotal: 59s\tremaining: 1m 40s\n",
      "371:\tlearn: 0.0671947\ttest: 0.2910394\tbest: 0.2614673 (52)\ttotal: 59.2s\tremaining: 1m 39s\n",
      "372:\tlearn: 0.0671661\ttest: 0.2913279\tbest: 0.2614673 (52)\ttotal: 59.4s\tremaining: 1m 39s\n",
      "373:\tlearn: 0.0671575\ttest: 0.2912595\tbest: 0.2614673 (52)\ttotal: 59.5s\tremaining: 1m 39s\n",
      "374:\tlearn: 0.0671529\ttest: 0.2911839\tbest: 0.2614673 (52)\ttotal: 59.7s\tremaining: 1m 39s\n",
      "375:\tlearn: 0.0671127\ttest: 0.2911759\tbest: 0.2614673 (52)\ttotal: 59.8s\tremaining: 1m 39s\n",
      "376:\tlearn: 0.0671013\ttest: 0.2911166\tbest: 0.2614673 (52)\ttotal: 1m\tremaining: 1m 39s\n",
      "377:\tlearn: 0.0670697\ttest: 0.2912313\tbest: 0.2614673 (52)\ttotal: 1m\tremaining: 1m 39s\n",
      "378:\tlearn: 0.0670624\ttest: 0.2911768\tbest: 0.2614673 (52)\ttotal: 1m\tremaining: 1m 38s\n",
      "379:\tlearn: 0.0670524\ttest: 0.2912756\tbest: 0.2614673 (52)\ttotal: 1m\tremaining: 1m 38s\n",
      "380:\tlearn: 0.0670404\ttest: 0.2906540\tbest: 0.2614673 (52)\ttotal: 1m\tremaining: 1m 38s\n",
      "381:\tlearn: 0.0670121\ttest: 0.2903784\tbest: 0.2614673 (52)\ttotal: 1m\tremaining: 1m 38s\n",
      "382:\tlearn: 0.0669925\ttest: 0.2880807\tbest: 0.2614673 (52)\ttotal: 1m 1s\tremaining: 1m 38s\n",
      "383:\tlearn: 0.0669824\ttest: 0.2881866\tbest: 0.2614673 (52)\ttotal: 1m 1s\tremaining: 1m 38s\n",
      "384:\tlearn: 0.0669704\ttest: 0.2881778\tbest: 0.2614673 (52)\ttotal: 1m 1s\tremaining: 1m 37s\n",
      "385:\tlearn: 0.0669665\ttest: 0.2881645\tbest: 0.2614673 (52)\ttotal: 1m 1s\tremaining: 1m 37s\n",
      "386:\tlearn: 0.0669545\ttest: 0.2889263\tbest: 0.2614673 (52)\ttotal: 1m 1s\tremaining: 1m 37s\n",
      "387:\tlearn: 0.0668992\ttest: 0.2888757\tbest: 0.2614673 (52)\ttotal: 1m 1s\tremaining: 1m 37s\n",
      "388:\tlearn: 0.0668500\ttest: 0.2889941\tbest: 0.2614673 (52)\ttotal: 1m 2s\tremaining: 1m 37s\n",
      "389:\tlearn: 0.0668372\ttest: 0.2890004\tbest: 0.2614673 (52)\ttotal: 1m 2s\tremaining: 1m 37s\n",
      "390:\tlearn: 0.0668048\ttest: 0.2891982\tbest: 0.2614673 (52)\ttotal: 1m 2s\tremaining: 1m 37s\n",
      "391:\tlearn: 0.0667889\ttest: 0.2891793\tbest: 0.2614673 (52)\ttotal: 1m 2s\tremaining: 1m 36s\n",
      "392:\tlearn: 0.0667776\ttest: 0.2892150\tbest: 0.2614673 (52)\ttotal: 1m 2s\tremaining: 1m 36s\n",
      "393:\tlearn: 0.0667336\ttest: 0.2892310\tbest: 0.2614673 (52)\ttotal: 1m 2s\tremaining: 1m 36s\n",
      "394:\tlearn: 0.0667243\ttest: 0.2892421\tbest: 0.2614673 (52)\ttotal: 1m 3s\tremaining: 1m 36s\n",
      "395:\tlearn: 0.0666812\ttest: 0.2894334\tbest: 0.2614673 (52)\ttotal: 1m 3s\tremaining: 1m 36s\n",
      "396:\tlearn: 0.0666745\ttest: 0.2893612\tbest: 0.2614673 (52)\ttotal: 1m 3s\tremaining: 1m 36s\n",
      "397:\tlearn: 0.0666532\ttest: 0.2893788\tbest: 0.2614673 (52)\ttotal: 1m 3s\tremaining: 1m 35s\n",
      "398:\tlearn: 0.0666255\ttest: 0.2895500\tbest: 0.2614673 (52)\ttotal: 1m 3s\tremaining: 1m 35s\n",
      "399:\tlearn: 0.0665732\ttest: 0.2895691\tbest: 0.2614673 (52)\ttotal: 1m 3s\tremaining: 1m 35s\n",
      "400:\tlearn: 0.0665642\ttest: 0.2894375\tbest: 0.2614673 (52)\ttotal: 1m 4s\tremaining: 1m 35s\n",
      "401:\tlearn: 0.0665524\ttest: 0.2888043\tbest: 0.2614673 (52)\ttotal: 1m 4s\tremaining: 1m 35s\n",
      "402:\tlearn: 0.0665454\ttest: 0.2888105\tbest: 0.2614673 (52)\ttotal: 1m 4s\tremaining: 1m 35s\n",
      "403:\tlearn: 0.0665393\ttest: 0.2886498\tbest: 0.2614673 (52)\ttotal: 1m 4s\tremaining: 1m 35s\n",
      "404:\tlearn: 0.0665354\ttest: 0.2886274\tbest: 0.2614673 (52)\ttotal: 1m 4s\tremaining: 1m 34s\n",
      "405:\tlearn: 0.0665256\ttest: 0.2886711\tbest: 0.2614673 (52)\ttotal: 1m 4s\tremaining: 1m 34s\n",
      "406:\tlearn: 0.0665215\ttest: 0.2887113\tbest: 0.2614673 (52)\ttotal: 1m 5s\tremaining: 1m 34s\n",
      "407:\tlearn: 0.0665116\ttest: 0.2879892\tbest: 0.2614673 (52)\ttotal: 1m 5s\tremaining: 1m 34s\n",
      "408:\tlearn: 0.0664988\ttest: 0.2881143\tbest: 0.2614673 (52)\ttotal: 1m 5s\tremaining: 1m 34s\n",
      "409:\tlearn: 0.0664668\ttest: 0.2882597\tbest: 0.2614673 (52)\ttotal: 1m 5s\tremaining: 1m 34s\n",
      "410:\tlearn: 0.0664590\ttest: 0.2877820\tbest: 0.2614673 (52)\ttotal: 1m 5s\tremaining: 1m 34s\n",
      "411:\tlearn: 0.0664227\ttest: 0.2881347\tbest: 0.2614673 (52)\ttotal: 1m 5s\tremaining: 1m 33s\n",
      "412:\tlearn: 0.0664137\ttest: 0.2881046\tbest: 0.2614673 (52)\ttotal: 1m 5s\tremaining: 1m 33s\n",
      "413:\tlearn: 0.0663813\ttest: 0.2882867\tbest: 0.2614673 (52)\ttotal: 1m 6s\tremaining: 1m 33s\n",
      "414:\tlearn: 0.0663712\ttest: 0.2883896\tbest: 0.2614673 (52)\ttotal: 1m 6s\tremaining: 1m 33s\n",
      "415:\tlearn: 0.0663622\ttest: 0.2881669\tbest: 0.2614673 (52)\ttotal: 1m 6s\tremaining: 1m 33s\n",
      "416:\tlearn: 0.0663304\ttest: 0.2883284\tbest: 0.2614673 (52)\ttotal: 1m 6s\tremaining: 1m 33s\n",
      "417:\tlearn: 0.0663264\ttest: 0.2881937\tbest: 0.2614673 (52)\ttotal: 1m 6s\tremaining: 1m 33s\n",
      "418:\tlearn: 0.0662840\ttest: 0.2882081\tbest: 0.2614673 (52)\ttotal: 1m 7s\tremaining: 1m 33s\n",
      "419:\tlearn: 0.0662526\ttest: 0.2881093\tbest: 0.2614673 (52)\ttotal: 1m 7s\tremaining: 1m 32s\n",
      "420:\tlearn: 0.0662476\ttest: 0.2880919\tbest: 0.2614673 (52)\ttotal: 1m 7s\tremaining: 1m 32s\n",
      "421:\tlearn: 0.0662333\ttest: 0.2879696\tbest: 0.2614673 (52)\ttotal: 1m 7s\tremaining: 1m 32s\n",
      "422:\tlearn: 0.0662233\ttest: 0.2870840\tbest: 0.2614673 (52)\ttotal: 1m 7s\tremaining: 1m 32s\n",
      "423:\tlearn: 0.0662146\ttest: 0.2881926\tbest: 0.2614673 (52)\ttotal: 1m 7s\tremaining: 1m 32s\n",
      "424:\tlearn: 0.0662078\ttest: 0.2881905\tbest: 0.2614673 (52)\ttotal: 1m 7s\tremaining: 1m 31s\n",
      "425:\tlearn: 0.0661982\ttest: 0.2881512\tbest: 0.2614673 (52)\ttotal: 1m 8s\tremaining: 1m 31s\n",
      "426:\tlearn: 0.0661962\ttest: 0.2881284\tbest: 0.2614673 (52)\ttotal: 1m 8s\tremaining: 1m 31s\n",
      "427:\tlearn: 0.0661877\ttest: 0.2881024\tbest: 0.2614673 (52)\ttotal: 1m 8s\tremaining: 1m 31s\n",
      "428:\tlearn: 0.0661821\ttest: 0.2880682\tbest: 0.2614673 (52)\ttotal: 1m 8s\tremaining: 1m 31s\n",
      "429:\tlearn: 0.0661723\ttest: 0.2881297\tbest: 0.2614673 (52)\ttotal: 1m 8s\tremaining: 1m 31s\n",
      "430:\tlearn: 0.0661453\ttest: 0.2879341\tbest: 0.2614673 (52)\ttotal: 1m 8s\tremaining: 1m 31s\n",
      "431:\tlearn: 0.0661423\ttest: 0.2878837\tbest: 0.2614673 (52)\ttotal: 1m 9s\tremaining: 1m 30s\n",
      "432:\tlearn: 0.0661048\ttest: 0.2880107\tbest: 0.2614673 (52)\ttotal: 1m 9s\tremaining: 1m 30s\n",
      "433:\tlearn: 0.0661002\ttest: 0.2877718\tbest: 0.2614673 (52)\ttotal: 1m 9s\tremaining: 1m 30s\n",
      "434:\tlearn: 0.0660926\ttest: 0.2877345\tbest: 0.2614673 (52)\ttotal: 1m 9s\tremaining: 1m 30s\n",
      "435:\tlearn: 0.0660838\ttest: 0.2876723\tbest: 0.2614673 (52)\ttotal: 1m 9s\tremaining: 1m 30s\n",
      "436:\tlearn: 0.0660478\ttest: 0.2879666\tbest: 0.2614673 (52)\ttotal: 1m 9s\tremaining: 1m 30s\n",
      "437:\tlearn: 0.0660198\ttest: 0.2882341\tbest: 0.2614673 (52)\ttotal: 1m 10s\tremaining: 1m 29s\n",
      "438:\tlearn: 0.0660001\ttest: 0.2883142\tbest: 0.2614673 (52)\ttotal: 1m 10s\tremaining: 1m 29s\n",
      "439:\tlearn: 0.0659807\ttest: 0.2884842\tbest: 0.2614673 (52)\ttotal: 1m 10s\tremaining: 1m 29s\n",
      "440:\tlearn: 0.0659682\ttest: 0.2879880\tbest: 0.2614673 (52)\ttotal: 1m 10s\tremaining: 1m 29s\n",
      "441:\tlearn: 0.0659642\ttest: 0.2883796\tbest: 0.2614673 (52)\ttotal: 1m 10s\tremaining: 1m 29s\n",
      "442:\tlearn: 0.0659555\ttest: 0.2880339\tbest: 0.2614673 (52)\ttotal: 1m 10s\tremaining: 1m 29s\n",
      "443:\tlearn: 0.0659538\ttest: 0.2880161\tbest: 0.2614673 (52)\ttotal: 1m 10s\tremaining: 1m 28s\n",
      "444:\tlearn: 0.0659516\ttest: 0.2880215\tbest: 0.2614673 (52)\ttotal: 1m 11s\tremaining: 1m 28s\n",
      "445:\tlearn: 0.0659425\ttest: 0.2881014\tbest: 0.2614673 (52)\ttotal: 1m 11s\tremaining: 1m 28s\n",
      "446:\tlearn: 0.0659409\ttest: 0.2880464\tbest: 0.2614673 (52)\ttotal: 1m 11s\tremaining: 1m 28s\n",
      "447:\tlearn: 0.0659337\ttest: 0.2877992\tbest: 0.2614673 (52)\ttotal: 1m 11s\tremaining: 1m 28s\n",
      "448:\tlearn: 0.0659179\ttest: 0.2875385\tbest: 0.2614673 (52)\ttotal: 1m 11s\tremaining: 1m 27s\n",
      "449:\tlearn: 0.0659021\ttest: 0.2856395\tbest: 0.2614673 (52)\ttotal: 1m 11s\tremaining: 1m 27s\n",
      "450:\tlearn: 0.0658930\ttest: 0.2856022\tbest: 0.2614673 (52)\ttotal: 1m 12s\tremaining: 1m 27s\n",
      "451:\tlearn: 0.0658895\ttest: 0.2856437\tbest: 0.2614673 (52)\ttotal: 1m 12s\tremaining: 1m 27s\n",
      "452:\tlearn: 0.0658644\ttest: 0.2856456\tbest: 0.2614673 (52)\ttotal: 1m 12s\tremaining: 1m 27s\n",
      "453:\tlearn: 0.0657634\ttest: 0.2854604\tbest: 0.2614673 (52)\ttotal: 1m 12s\tremaining: 1m 27s\n",
      "454:\tlearn: 0.0657558\ttest: 0.2855405\tbest: 0.2614673 (52)\ttotal: 1m 12s\tremaining: 1m 27s\n",
      "455:\tlearn: 0.0657362\ttest: 0.2857117\tbest: 0.2614673 (52)\ttotal: 1m 12s\tremaining: 1m 26s\n",
      "456:\tlearn: 0.0656975\ttest: 0.2856194\tbest: 0.2614673 (52)\ttotal: 1m 12s\tremaining: 1m 26s\n",
      "457:\tlearn: 0.0656897\ttest: 0.2856896\tbest: 0.2614673 (52)\ttotal: 1m 13s\tremaining: 1m 26s\n",
      "458:\tlearn: 0.0656672\ttest: 0.2853367\tbest: 0.2614673 (52)\ttotal: 1m 13s\tremaining: 1m 26s\n",
      "459:\tlearn: 0.0656468\ttest: 0.2853514\tbest: 0.2614673 (52)\ttotal: 1m 13s\tremaining: 1m 26s\n",
      "460:\tlearn: 0.0656393\ttest: 0.2851505\tbest: 0.2614673 (52)\ttotal: 1m 13s\tremaining: 1m 26s\n",
      "461:\tlearn: 0.0656311\ttest: 0.2851335\tbest: 0.2614673 (52)\ttotal: 1m 13s\tremaining: 1m 25s\n",
      "462:\tlearn: 0.0656205\ttest: 0.2851819\tbest: 0.2614673 (52)\ttotal: 1m 13s\tremaining: 1m 25s\n",
      "463:\tlearn: 0.0656144\ttest: 0.2851334\tbest: 0.2614673 (52)\ttotal: 1m 14s\tremaining: 1m 25s\n",
      "464:\tlearn: 0.0656096\ttest: 0.2847777\tbest: 0.2614673 (52)\ttotal: 1m 14s\tremaining: 1m 25s\n",
      "465:\tlearn: 0.0656000\ttest: 0.2847421\tbest: 0.2614673 (52)\ttotal: 1m 14s\tremaining: 1m 25s\n",
      "466:\tlearn: 0.0655957\ttest: 0.2847209\tbest: 0.2614673 (52)\ttotal: 1m 14s\tremaining: 1m 25s\n",
      "467:\tlearn: 0.0655947\ttest: 0.2847154\tbest: 0.2614673 (52)\ttotal: 1m 14s\tremaining: 1m 24s\n",
      "468:\tlearn: 0.0655789\ttest: 0.2846641\tbest: 0.2614673 (52)\ttotal: 1m 14s\tremaining: 1m 24s\n",
      "469:\tlearn: 0.0655576\ttest: 0.2848678\tbest: 0.2614673 (52)\ttotal: 1m 14s\tremaining: 1m 24s\n",
      "470:\tlearn: 0.0655499\ttest: 0.2849099\tbest: 0.2614673 (52)\ttotal: 1m 15s\tremaining: 1m 24s\n",
      "471:\tlearn: 0.0655369\ttest: 0.2847929\tbest: 0.2614673 (52)\ttotal: 1m 15s\tremaining: 1m 24s\n",
      "472:\tlearn: 0.0655250\ttest: 0.2849123\tbest: 0.2614673 (52)\ttotal: 1m 15s\tremaining: 1m 24s\n",
      "473:\tlearn: 0.0655207\ttest: 0.2847701\tbest: 0.2614673 (52)\ttotal: 1m 15s\tremaining: 1m 23s\n",
      "474:\tlearn: 0.0655146\ttest: 0.2860056\tbest: 0.2614673 (52)\ttotal: 1m 15s\tremaining: 1m 23s\n",
      "475:\tlearn: 0.0655030\ttest: 0.2859143\tbest: 0.2614673 (52)\ttotal: 1m 15s\tremaining: 1m 23s\n",
      "476:\tlearn: 0.0654972\ttest: 0.2858741\tbest: 0.2614673 (52)\ttotal: 1m 16s\tremaining: 1m 23s\n",
      "477:\tlearn: 0.0654891\ttest: 0.2854762\tbest: 0.2614673 (52)\ttotal: 1m 16s\tremaining: 1m 23s\n",
      "478:\tlearn: 0.0654719\ttest: 0.2854134\tbest: 0.2614673 (52)\ttotal: 1m 16s\tremaining: 1m 22s\n",
      "479:\tlearn: 0.0654684\ttest: 0.2853760\tbest: 0.2614673 (52)\ttotal: 1m 16s\tremaining: 1m 22s\n",
      "480:\tlearn: 0.0654571\ttest: 0.2851330\tbest: 0.2614673 (52)\ttotal: 1m 16s\tremaining: 1m 22s\n",
      "481:\tlearn: 0.0654508\ttest: 0.2851465\tbest: 0.2614673 (52)\ttotal: 1m 16s\tremaining: 1m 22s\n",
      "482:\tlearn: 0.0654435\ttest: 0.2851301\tbest: 0.2614673 (52)\ttotal: 1m 16s\tremaining: 1m 22s\n",
      "483:\tlearn: 0.0654379\ttest: 0.2853023\tbest: 0.2614673 (52)\ttotal: 1m 16s\tremaining: 1m 22s\n",
      "484:\tlearn: 0.0654163\ttest: 0.2854578\tbest: 0.2614673 (52)\ttotal: 1m 17s\tremaining: 1m 21s\n",
      "485:\tlearn: 0.0654088\ttest: 0.2855215\tbest: 0.2614673 (52)\ttotal: 1m 17s\tremaining: 1m 21s\n",
      "486:\tlearn: 0.0653957\ttest: 0.2835265\tbest: 0.2614673 (52)\ttotal: 1m 17s\tremaining: 1m 21s\n",
      "487:\tlearn: 0.0653890\ttest: 0.2834963\tbest: 0.2614673 (52)\ttotal: 1m 17s\tremaining: 1m 21s\n",
      "488:\tlearn: 0.0653629\ttest: 0.2828668\tbest: 0.2614673 (52)\ttotal: 1m 17s\tremaining: 1m 21s\n",
      "489:\tlearn: 0.0653581\ttest: 0.2829121\tbest: 0.2614673 (52)\ttotal: 1m 18s\tremaining: 1m 21s\n",
      "490:\tlearn: 0.0653546\ttest: 0.2828265\tbest: 0.2614673 (52)\ttotal: 1m 18s\tremaining: 1m 21s\n",
      "491:\tlearn: 0.0653516\ttest: 0.2828337\tbest: 0.2614673 (52)\ttotal: 1m 18s\tremaining: 1m 20s\n",
      "492:\tlearn: 0.0653498\ttest: 0.2830011\tbest: 0.2614673 (52)\ttotal: 1m 18s\tremaining: 1m 20s\n",
      "493:\tlearn: 0.0653400\ttest: 0.2829877\tbest: 0.2614673 (52)\ttotal: 1m 18s\tremaining: 1m 20s\n",
      "494:\tlearn: 0.0653356\ttest: 0.2830168\tbest: 0.2614673 (52)\ttotal: 1m 18s\tremaining: 1m 20s\n",
      "495:\tlearn: 0.0653298\ttest: 0.2829917\tbest: 0.2614673 (52)\ttotal: 1m 18s\tremaining: 1m 20s\n",
      "496:\tlearn: 0.0653236\ttest: 0.2828981\tbest: 0.2614673 (52)\ttotal: 1m 19s\tremaining: 1m 20s\n",
      "497:\tlearn: 0.0653142\ttest: 0.2828730\tbest: 0.2614673 (52)\ttotal: 1m 19s\tremaining: 1m 19s\n",
      "498:\tlearn: 0.0653077\ttest: 0.2828304\tbest: 0.2614673 (52)\ttotal: 1m 19s\tremaining: 1m 19s\n",
      "499:\tlearn: 0.0652932\ttest: 0.2828772\tbest: 0.2614673 (52)\ttotal: 1m 19s\tremaining: 1m 19s\n",
      "500:\tlearn: 0.0652906\ttest: 0.2831168\tbest: 0.2614673 (52)\ttotal: 1m 19s\tremaining: 1m 19s\n",
      "501:\tlearn: 0.0652763\ttest: 0.2831960\tbest: 0.2614673 (52)\ttotal: 1m 19s\tremaining: 1m 19s\n",
      "502:\tlearn: 0.0652640\ttest: 0.2832819\tbest: 0.2614673 (52)\ttotal: 1m 19s\tremaining: 1m 18s\n",
      "503:\tlearn: 0.0652593\ttest: 0.2832459\tbest: 0.2614673 (52)\ttotal: 1m 20s\tremaining: 1m 18s\n",
      "504:\tlearn: 0.0652377\ttest: 0.2833722\tbest: 0.2614673 (52)\ttotal: 1m 20s\tremaining: 1m 18s\n",
      "505:\tlearn: 0.0652335\ttest: 0.2836415\tbest: 0.2614673 (52)\ttotal: 1m 20s\tremaining: 1m 18s\n",
      "506:\tlearn: 0.0652191\ttest: 0.2837854\tbest: 0.2614673 (52)\ttotal: 1m 20s\tremaining: 1m 18s\n",
      "507:\tlearn: 0.0652093\ttest: 0.2838523\tbest: 0.2614673 (52)\ttotal: 1m 20s\tremaining: 1m 18s\n",
      "508:\tlearn: 0.0652008\ttest: 0.2836487\tbest: 0.2614673 (52)\ttotal: 1m 20s\tremaining: 1m 17s\n",
      "509:\tlearn: 0.0651969\ttest: 0.2840098\tbest: 0.2614673 (52)\ttotal: 1m 20s\tremaining: 1m 17s\n",
      "510:\tlearn: 0.0651919\ttest: 0.2842260\tbest: 0.2614673 (52)\ttotal: 1m 21s\tremaining: 1m 17s\n",
      "511:\tlearn: 0.0651859\ttest: 0.2840764\tbest: 0.2614673 (52)\ttotal: 1m 21s\tremaining: 1m 17s\n",
      "512:\tlearn: 0.0650368\ttest: 0.2840928\tbest: 0.2614673 (52)\ttotal: 1m 21s\tremaining: 1m 17s\n",
      "513:\tlearn: 0.0650302\ttest: 0.2842063\tbest: 0.2614673 (52)\ttotal: 1m 21s\tremaining: 1m 17s\n",
      "514:\tlearn: 0.0650243\ttest: 0.2842022\tbest: 0.2614673 (52)\ttotal: 1m 21s\tremaining: 1m 17s\n",
      "515:\tlearn: 0.0650044\ttest: 0.2841827\tbest: 0.2614673 (52)\ttotal: 1m 22s\tremaining: 1m 16s\n",
      "516:\tlearn: 0.0649972\ttest: 0.2841936\tbest: 0.2614673 (52)\ttotal: 1m 22s\tremaining: 1m 16s\n",
      "517:\tlearn: 0.0649948\ttest: 0.2849532\tbest: 0.2614673 (52)\ttotal: 1m 22s\tremaining: 1m 16s\n",
      "518:\tlearn: 0.0649816\ttest: 0.2848585\tbest: 0.2614673 (52)\ttotal: 1m 22s\tremaining: 1m 16s\n",
      "519:\tlearn: 0.0649730\ttest: 0.2847157\tbest: 0.2614673 (52)\ttotal: 1m 22s\tremaining: 1m 16s\n",
      "520:\tlearn: 0.0649716\ttest: 0.2847173\tbest: 0.2614673 (52)\ttotal: 1m 22s\tremaining: 1m 16s\n",
      "521:\tlearn: 0.0649648\ttest: 0.2846740\tbest: 0.2614673 (52)\ttotal: 1m 23s\tremaining: 1m 16s\n",
      "522:\tlearn: 0.0649306\ttest: 0.2848417\tbest: 0.2614673 (52)\ttotal: 1m 23s\tremaining: 1m 15s\n",
      "523:\tlearn: 0.0649244\ttest: 0.2848575\tbest: 0.2614673 (52)\ttotal: 1m 23s\tremaining: 1m 15s\n",
      "524:\tlearn: 0.0649173\ttest: 0.2834843\tbest: 0.2614673 (52)\ttotal: 1m 23s\tremaining: 1m 15s\n",
      "525:\tlearn: 0.0649024\ttest: 0.2835428\tbest: 0.2614673 (52)\ttotal: 1m 23s\tremaining: 1m 15s\n",
      "526:\tlearn: 0.0648832\ttest: 0.2836259\tbest: 0.2614673 (52)\ttotal: 1m 23s\tremaining: 1m 15s\n",
      "527:\tlearn: 0.0648607\ttest: 0.2838360\tbest: 0.2614673 (52)\ttotal: 1m 23s\tremaining: 1m 14s\n",
      "528:\tlearn: 0.0648560\ttest: 0.2837339\tbest: 0.2614673 (52)\ttotal: 1m 24s\tremaining: 1m 14s\n",
      "529:\tlearn: 0.0648507\ttest: 0.2836375\tbest: 0.2614673 (52)\ttotal: 1m 24s\tremaining: 1m 14s\n",
      "530:\tlearn: 0.0648458\ttest: 0.2833544\tbest: 0.2614673 (52)\ttotal: 1m 24s\tremaining: 1m 14s\n",
      "531:\tlearn: 0.0648396\ttest: 0.2834000\tbest: 0.2614673 (52)\ttotal: 1m 24s\tremaining: 1m 14s\n",
      "532:\tlearn: 0.0648325\ttest: 0.2832399\tbest: 0.2614673 (52)\ttotal: 1m 24s\tremaining: 1m 14s\n",
      "533:\tlearn: 0.0647971\ttest: 0.2832387\tbest: 0.2614673 (52)\ttotal: 1m 24s\tremaining: 1m 13s\n",
      "534:\tlearn: 0.0647893\ttest: 0.2834344\tbest: 0.2614673 (52)\ttotal: 1m 24s\tremaining: 1m 13s\n",
      "535:\tlearn: 0.0647869\ttest: 0.2834087\tbest: 0.2614673 (52)\ttotal: 1m 25s\tremaining: 1m 13s\n",
      "536:\tlearn: 0.0647837\ttest: 0.2834007\tbest: 0.2614673 (52)\ttotal: 1m 25s\tremaining: 1m 13s\n",
      "537:\tlearn: 0.0647670\ttest: 0.2842671\tbest: 0.2614673 (52)\ttotal: 1m 25s\tremaining: 1m 13s\n",
      "538:\tlearn: 0.0647596\ttest: 0.2842212\tbest: 0.2614673 (52)\ttotal: 1m 25s\tremaining: 1m 13s\n",
      "539:\tlearn: 0.0647422\ttest: 0.2840741\tbest: 0.2614673 (52)\ttotal: 1m 25s\tremaining: 1m 12s\n",
      "540:\tlearn: 0.0647357\ttest: 0.2839446\tbest: 0.2614673 (52)\ttotal: 1m 25s\tremaining: 1m 12s\n",
      "541:\tlearn: 0.0647320\ttest: 0.2842788\tbest: 0.2614673 (52)\ttotal: 1m 25s\tremaining: 1m 12s\n",
      "542:\tlearn: 0.0647165\ttest: 0.2840751\tbest: 0.2614673 (52)\ttotal: 1m 25s\tremaining: 1m 12s\n",
      "543:\tlearn: 0.0646949\ttest: 0.2846135\tbest: 0.2614673 (52)\ttotal: 1m 26s\tremaining: 1m 12s\n",
      "544:\tlearn: 0.0646856\ttest: 0.2843186\tbest: 0.2614673 (52)\ttotal: 1m 26s\tremaining: 1m 11s\n",
      "545:\tlearn: 0.0646791\ttest: 0.2840999\tbest: 0.2614673 (52)\ttotal: 1m 26s\tremaining: 1m 11s\n",
      "546:\tlearn: 0.0646756\ttest: 0.2840991\tbest: 0.2614673 (52)\ttotal: 1m 26s\tremaining: 1m 11s\n",
      "547:\tlearn: 0.0646702\ttest: 0.2841150\tbest: 0.2614673 (52)\ttotal: 1m 26s\tremaining: 1m 11s\n",
      "548:\tlearn: 0.0646654\ttest: 0.2841559\tbest: 0.2614673 (52)\ttotal: 1m 26s\tremaining: 1m 11s\n",
      "549:\tlearn: 0.0646399\ttest: 0.2843728\tbest: 0.2614673 (52)\ttotal: 1m 26s\tremaining: 1m 11s\n",
      "550:\tlearn: 0.0646313\ttest: 0.2835030\tbest: 0.2614673 (52)\ttotal: 1m 27s\tremaining: 1m 11s\n",
      "551:\tlearn: 0.0646304\ttest: 0.2835051\tbest: 0.2614673 (52)\ttotal: 1m 27s\tremaining: 1m 10s\n",
      "552:\tlearn: 0.0646284\ttest: 0.2834401\tbest: 0.2614673 (52)\ttotal: 1m 27s\tremaining: 1m 10s\n",
      "553:\tlearn: 0.0646214\ttest: 0.2821664\tbest: 0.2614673 (52)\ttotal: 1m 27s\tremaining: 1m 10s\n",
      "554:\tlearn: 0.0646189\ttest: 0.2821591\tbest: 0.2614673 (52)\ttotal: 1m 27s\tremaining: 1m 10s\n",
      "555:\tlearn: 0.0646112\ttest: 0.2816781\tbest: 0.2614673 (52)\ttotal: 1m 27s\tremaining: 1m 10s\n",
      "556:\tlearn: 0.0646079\ttest: 0.2815126\tbest: 0.2614673 (52)\ttotal: 1m 28s\tremaining: 1m 10s\n",
      "557:\tlearn: 0.0645790\ttest: 0.2815441\tbest: 0.2614673 (52)\ttotal: 1m 28s\tremaining: 1m 9s\n",
      "558:\tlearn: 0.0645755\ttest: 0.2816349\tbest: 0.2614673 (52)\ttotal: 1m 28s\tremaining: 1m 9s\n",
      "559:\tlearn: 0.0645735\ttest: 0.2815823\tbest: 0.2614673 (52)\ttotal: 1m 28s\tremaining: 1m 9s\n",
      "560:\tlearn: 0.0645653\ttest: 0.2815340\tbest: 0.2614673 (52)\ttotal: 1m 28s\tremaining: 1m 9s\n",
      "561:\tlearn: 0.0645580\ttest: 0.2821644\tbest: 0.2614673 (52)\ttotal: 1m 28s\tremaining: 1m 9s\n",
      "562:\tlearn: 0.0645557\ttest: 0.2821085\tbest: 0.2614673 (52)\ttotal: 1m 28s\tremaining: 1m 8s\n",
      "563:\tlearn: 0.0645537\ttest: 0.2822129\tbest: 0.2614673 (52)\ttotal: 1m 29s\tremaining: 1m 8s\n",
      "564:\tlearn: 0.0645494\ttest: 0.2823928\tbest: 0.2614673 (52)\ttotal: 1m 29s\tremaining: 1m 8s\n",
      "565:\tlearn: 0.0645397\ttest: 0.2823818\tbest: 0.2614673 (52)\ttotal: 1m 29s\tremaining: 1m 8s\n",
      "566:\tlearn: 0.0645358\ttest: 0.2822307\tbest: 0.2614673 (52)\ttotal: 1m 29s\tremaining: 1m 8s\n",
      "567:\tlearn: 0.0645334\ttest: 0.2822236\tbest: 0.2614673 (52)\ttotal: 1m 29s\tremaining: 1m 8s\n",
      "568:\tlearn: 0.0645209\ttest: 0.2822436\tbest: 0.2614673 (52)\ttotal: 1m 29s\tremaining: 1m 8s\n",
      "569:\tlearn: 0.0645131\ttest: 0.2815703\tbest: 0.2614673 (52)\ttotal: 1m 30s\tremaining: 1m 7s\n",
      "570:\tlearn: 0.0645106\ttest: 0.2813791\tbest: 0.2614673 (52)\ttotal: 1m 30s\tremaining: 1m 7s\n",
      "571:\tlearn: 0.0645083\ttest: 0.2813519\tbest: 0.2614673 (52)\ttotal: 1m 30s\tremaining: 1m 7s\n",
      "572:\tlearn: 0.0644956\ttest: 0.2813117\tbest: 0.2614673 (52)\ttotal: 1m 30s\tremaining: 1m 7s\n",
      "573:\tlearn: 0.0644817\ttest: 0.2813573\tbest: 0.2614673 (52)\ttotal: 1m 30s\tremaining: 1m 7s\n",
      "574:\tlearn: 0.0644683\ttest: 0.2814321\tbest: 0.2614673 (52)\ttotal: 1m 30s\tremaining: 1m 7s\n",
      "575:\tlearn: 0.0643508\ttest: 0.2814057\tbest: 0.2614673 (52)\ttotal: 1m 30s\tremaining: 1m 6s\n",
      "576:\tlearn: 0.0643488\ttest: 0.2817371\tbest: 0.2614673 (52)\ttotal: 1m 31s\tremaining: 1m 6s\n",
      "577:\tlearn: 0.0643466\ttest: 0.2816538\tbest: 0.2614673 (52)\ttotal: 1m 31s\tremaining: 1m 6s\n",
      "578:\tlearn: 0.0643414\ttest: 0.2816378\tbest: 0.2614673 (52)\ttotal: 1m 31s\tremaining: 1m 6s\n",
      "579:\tlearn: 0.0643237\ttest: 0.2813649\tbest: 0.2614673 (52)\ttotal: 1m 31s\tremaining: 1m 6s\n",
      "580:\tlearn: 0.0643174\ttest: 0.2815125\tbest: 0.2614673 (52)\ttotal: 1m 31s\tremaining: 1m 6s\n",
      "581:\tlearn: 0.0643120\ttest: 0.2816497\tbest: 0.2614673 (52)\ttotal: 1m 31s\tremaining: 1m 5s\n",
      "582:\tlearn: 0.0643054\ttest: 0.2814955\tbest: 0.2614673 (52)\ttotal: 1m 31s\tremaining: 1m 5s\n",
      "583:\tlearn: 0.0642746\ttest: 0.2829502\tbest: 0.2614673 (52)\ttotal: 1m 32s\tremaining: 1m 5s\n",
      "584:\tlearn: 0.0642563\ttest: 0.2829742\tbest: 0.2614673 (52)\ttotal: 1m 32s\tremaining: 1m 5s\n",
      "585:\tlearn: 0.0642537\ttest: 0.2829618\tbest: 0.2614673 (52)\ttotal: 1m 32s\tremaining: 1m 5s\n",
      "586:\tlearn: 0.0642389\ttest: 0.2830237\tbest: 0.2614673 (52)\ttotal: 1m 32s\tremaining: 1m 5s\n",
      "587:\tlearn: 0.0642335\ttest: 0.2830045\tbest: 0.2614673 (52)\ttotal: 1m 32s\tremaining: 1m 4s\n",
      "588:\tlearn: 0.0642264\ttest: 0.2830685\tbest: 0.2614673 (52)\ttotal: 1m 32s\tremaining: 1m 4s\n",
      "589:\tlearn: 0.0642168\ttest: 0.2828854\tbest: 0.2614673 (52)\ttotal: 1m 33s\tremaining: 1m 4s\n",
      "590:\tlearn: 0.0642045\ttest: 0.2829318\tbest: 0.2614673 (52)\ttotal: 1m 33s\tremaining: 1m 4s\n",
      "591:\tlearn: 0.0641913\ttest: 0.2830415\tbest: 0.2614673 (52)\ttotal: 1m 33s\tremaining: 1m 4s\n",
      "592:\tlearn: 0.0641892\ttest: 0.2830065\tbest: 0.2614673 (52)\ttotal: 1m 33s\tremaining: 1m 4s\n",
      "593:\tlearn: 0.0641879\ttest: 0.2828590\tbest: 0.2614673 (52)\ttotal: 1m 33s\tremaining: 1m 3s\n",
      "594:\tlearn: 0.0641827\ttest: 0.2831139\tbest: 0.2614673 (52)\ttotal: 1m 33s\tremaining: 1m 3s\n",
      "595:\tlearn: 0.0641721\ttest: 0.2832682\tbest: 0.2614673 (52)\ttotal: 1m 33s\tremaining: 1m 3s\n",
      "596:\tlearn: 0.0641619\ttest: 0.2833837\tbest: 0.2614673 (52)\ttotal: 1m 34s\tremaining: 1m 3s\n",
      "597:\tlearn: 0.0641542\ttest: 0.2836663\tbest: 0.2614673 (52)\ttotal: 1m 34s\tremaining: 1m 3s\n",
      "598:\tlearn: 0.0641392\ttest: 0.2834573\tbest: 0.2614673 (52)\ttotal: 1m 34s\tremaining: 1m 3s\n",
      "599:\tlearn: 0.0641284\ttest: 0.2834538\tbest: 0.2614673 (52)\ttotal: 1m 34s\tremaining: 1m 2s\n",
      "600:\tlearn: 0.0641237\ttest: 0.2834514\tbest: 0.2614673 (52)\ttotal: 1m 34s\tremaining: 1m 2s\n",
      "601:\tlearn: 0.0641170\ttest: 0.2827617\tbest: 0.2614673 (52)\ttotal: 1m 34s\tremaining: 1m 2s\n",
      "602:\tlearn: 0.0641085\ttest: 0.2826441\tbest: 0.2614673 (52)\ttotal: 1m 34s\tremaining: 1m 2s\n",
      "603:\tlearn: 0.0641035\ttest: 0.2827620\tbest: 0.2614673 (52)\ttotal: 1m 35s\tremaining: 1m 2s\n",
      "604:\tlearn: 0.0641010\ttest: 0.2823691\tbest: 0.2614673 (52)\ttotal: 1m 35s\tremaining: 1m 2s\n",
      "605:\tlearn: 0.0640975\ttest: 0.2823770\tbest: 0.2614673 (52)\ttotal: 1m 35s\tremaining: 1m 2s\n",
      "606:\tlearn: 0.0640957\ttest: 0.2824971\tbest: 0.2614673 (52)\ttotal: 1m 35s\tremaining: 1m 1s\n",
      "607:\tlearn: 0.0640829\ttest: 0.2826267\tbest: 0.2614673 (52)\ttotal: 1m 35s\tremaining: 1m 1s\n",
      "608:\tlearn: 0.0640798\ttest: 0.2825873\tbest: 0.2614673 (52)\ttotal: 1m 35s\tremaining: 1m 1s\n",
      "609:\tlearn: 0.0640692\ttest: 0.2815986\tbest: 0.2614673 (52)\ttotal: 1m 36s\tremaining: 1m 1s\n",
      "610:\tlearn: 0.0640529\ttest: 0.2814378\tbest: 0.2614673 (52)\ttotal: 1m 36s\tremaining: 1m 1s\n",
      "611:\tlearn: 0.0640502\ttest: 0.2813804\tbest: 0.2614673 (52)\ttotal: 1m 36s\tremaining: 1m 1s\n",
      "612:\tlearn: 0.0640428\ttest: 0.2810409\tbest: 0.2614673 (52)\ttotal: 1m 36s\tremaining: 1m\n",
      "613:\tlearn: 0.0640398\ttest: 0.2810321\tbest: 0.2614673 (52)\ttotal: 1m 36s\tremaining: 1m\n",
      "614:\tlearn: 0.0640312\ttest: 0.2810665\tbest: 0.2614673 (52)\ttotal: 1m 36s\tremaining: 1m\n",
      "615:\tlearn: 0.0640293\ttest: 0.2810858\tbest: 0.2614673 (52)\ttotal: 1m 36s\tremaining: 1m\n",
      "616:\tlearn: 0.0640247\ttest: 0.2807173\tbest: 0.2614673 (52)\ttotal: 1m 37s\tremaining: 1m\n",
      "617:\tlearn: 0.0640151\ttest: 0.2807049\tbest: 0.2614673 (52)\ttotal: 1m 37s\tremaining: 1m\n",
      "618:\tlearn: 0.0640054\ttest: 0.2800206\tbest: 0.2614673 (52)\ttotal: 1m 37s\tremaining: 60s\n",
      "619:\tlearn: 0.0640038\ttest: 0.2800757\tbest: 0.2614673 (52)\ttotal: 1m 37s\tremaining: 59.8s\n",
      "620:\tlearn: 0.0639999\ttest: 0.2800963\tbest: 0.2614673 (52)\ttotal: 1m 37s\tremaining: 59.6s\n",
      "621:\tlearn: 0.0639879\ttest: 0.2798881\tbest: 0.2614673 (52)\ttotal: 1m 37s\tremaining: 59.5s\n",
      "622:\tlearn: 0.0639804\ttest: 0.2798526\tbest: 0.2614673 (52)\ttotal: 1m 38s\tremaining: 59.3s\n",
      "623:\tlearn: 0.0639752\ttest: 0.2801689\tbest: 0.2614673 (52)\ttotal: 1m 38s\tremaining: 59.2s\n",
      "624:\tlearn: 0.0639729\ttest: 0.2808225\tbest: 0.2614673 (52)\ttotal: 1m 38s\tremaining: 59s\n",
      "625:\tlearn: 0.0639690\ttest: 0.2805704\tbest: 0.2614673 (52)\ttotal: 1m 38s\tremaining: 58.8s\n",
      "626:\tlearn: 0.0639550\ttest: 0.2805581\tbest: 0.2614673 (52)\ttotal: 1m 38s\tremaining: 58.7s\n",
      "627:\tlearn: 0.0639402\ttest: 0.2805987\tbest: 0.2614673 (52)\ttotal: 1m 38s\tremaining: 58.5s\n",
      "628:\tlearn: 0.0639372\ttest: 0.2806309\tbest: 0.2614673 (52)\ttotal: 1m 38s\tremaining: 58.4s\n",
      "629:\tlearn: 0.0639328\ttest: 0.2812566\tbest: 0.2614673 (52)\ttotal: 1m 39s\tremaining: 58.2s\n",
      "630:\tlearn: 0.0639216\ttest: 0.2812373\tbest: 0.2614673 (52)\ttotal: 1m 39s\tremaining: 58s\n",
      "631:\tlearn: 0.0639098\ttest: 0.2812738\tbest: 0.2614673 (52)\ttotal: 1m 39s\tremaining: 57.9s\n",
      "632:\tlearn: 0.0639083\ttest: 0.2812264\tbest: 0.2614673 (52)\ttotal: 1m 39s\tremaining: 57.7s\n",
      "633:\tlearn: 0.0639030\ttest: 0.2811045\tbest: 0.2614673 (52)\ttotal: 1m 39s\tremaining: 57.5s\n",
      "634:\tlearn: 0.0639016\ttest: 0.2810711\tbest: 0.2614673 (52)\ttotal: 1m 39s\tremaining: 57.3s\n",
      "635:\tlearn: 0.0638982\ttest: 0.2810091\tbest: 0.2614673 (52)\ttotal: 1m 39s\tremaining: 57.1s\n",
      "636:\tlearn: 0.0638918\ttest: 0.2805658\tbest: 0.2614673 (52)\ttotal: 1m 40s\tremaining: 57s\n",
      "637:\tlearn: 0.0638893\ttest: 0.2805884\tbest: 0.2614673 (52)\ttotal: 1m 40s\tremaining: 56.8s\n",
      "638:\tlearn: 0.0638776\ttest: 0.2804413\tbest: 0.2614673 (52)\ttotal: 1m 40s\tremaining: 56.7s\n",
      "639:\tlearn: 0.0638530\ttest: 0.2804658\tbest: 0.2614673 (52)\ttotal: 1m 40s\tremaining: 56.5s\n",
      "640:\tlearn: 0.0638388\ttest: 0.2804857\tbest: 0.2614673 (52)\ttotal: 1m 40s\tremaining: 56.4s\n",
      "641:\tlearn: 0.0638339\ttest: 0.2803296\tbest: 0.2614673 (52)\ttotal: 1m 40s\tremaining: 56.2s\n",
      "642:\tlearn: 0.0638191\ttest: 0.2801354\tbest: 0.2614673 (52)\ttotal: 1m 40s\tremaining: 56s\n",
      "643:\tlearn: 0.0638072\ttest: 0.2801273\tbest: 0.2614673 (52)\ttotal: 1m 41s\tremaining: 55.8s\n",
      "644:\tlearn: 0.0638005\ttest: 0.2801359\tbest: 0.2614673 (52)\ttotal: 1m 41s\tremaining: 55.7s\n",
      "645:\tlearn: 0.0637948\ttest: 0.2802843\tbest: 0.2614673 (52)\ttotal: 1m 41s\tremaining: 55.5s\n",
      "646:\tlearn: 0.0637915\ttest: 0.2802732\tbest: 0.2614673 (52)\ttotal: 1m 41s\tremaining: 55.3s\n",
      "647:\tlearn: 0.0637880\ttest: 0.2802367\tbest: 0.2614673 (52)\ttotal: 1m 41s\tremaining: 55.1s\n",
      "648:\tlearn: 0.0637825\ttest: 0.2802115\tbest: 0.2614673 (52)\ttotal: 1m 41s\tremaining: 55s\n",
      "649:\tlearn: 0.0637762\ttest: 0.2802251\tbest: 0.2614673 (52)\ttotal: 1m 41s\tremaining: 54.8s\n",
      "650:\tlearn: 0.0637525\ttest: 0.2802494\tbest: 0.2614673 (52)\ttotal: 1m 42s\tremaining: 54.7s\n",
      "651:\tlearn: 0.0637422\ttest: 0.2807944\tbest: 0.2614673 (52)\ttotal: 1m 42s\tremaining: 54.5s\n",
      "652:\tlearn: 0.0637350\ttest: 0.2807116\tbest: 0.2614673 (52)\ttotal: 1m 42s\tremaining: 54.3s\n",
      "653:\tlearn: 0.0637323\ttest: 0.2807560\tbest: 0.2614673 (52)\ttotal: 1m 42s\tremaining: 54.2s\n",
      "654:\tlearn: 0.0637280\ttest: 0.2806645\tbest: 0.2614673 (52)\ttotal: 1m 42s\tremaining: 54s\n",
      "655:\tlearn: 0.0637247\ttest: 0.2807141\tbest: 0.2614673 (52)\ttotal: 1m 42s\tremaining: 53.9s\n",
      "656:\tlearn: 0.0637149\ttest: 0.2806892\tbest: 0.2614673 (52)\ttotal: 1m 42s\tremaining: 53.7s\n",
      "657:\tlearn: 0.0637005\ttest: 0.2805565\tbest: 0.2614673 (52)\ttotal: 1m 42s\tremaining: 53.5s\n",
      "658:\tlearn: 0.0636989\ttest: 0.2807375\tbest: 0.2614673 (52)\ttotal: 1m 43s\tremaining: 53.3s\n",
      "659:\tlearn: 0.0636825\ttest: 0.2808347\tbest: 0.2614673 (52)\ttotal: 1m 43s\tremaining: 53.2s\n",
      "660:\tlearn: 0.0636802\ttest: 0.2806750\tbest: 0.2614673 (52)\ttotal: 1m 43s\tremaining: 53s\n",
      "661:\tlearn: 0.0636787\ttest: 0.2806707\tbest: 0.2614673 (52)\ttotal: 1m 43s\tremaining: 52.9s\n",
      "662:\tlearn: 0.0636735\ttest: 0.2806490\tbest: 0.2614673 (52)\ttotal: 1m 43s\tremaining: 52.7s\n",
      "663:\tlearn: 0.0636660\ttest: 0.2806809\tbest: 0.2614673 (52)\ttotal: 1m 43s\tremaining: 52.6s\n",
      "664:\tlearn: 0.0636626\ttest: 0.2806404\tbest: 0.2614673 (52)\ttotal: 1m 44s\tremaining: 52.4s\n",
      "665:\tlearn: 0.0636608\ttest: 0.2809605\tbest: 0.2614673 (52)\ttotal: 1m 44s\tremaining: 52.3s\n",
      "666:\tlearn: 0.0636576\ttest: 0.2809371\tbest: 0.2614673 (52)\ttotal: 1m 44s\tremaining: 52.1s\n",
      "667:\tlearn: 0.0636481\ttest: 0.2808329\tbest: 0.2614673 (52)\ttotal: 1m 44s\tremaining: 51.9s\n",
      "668:\tlearn: 0.0636330\ttest: 0.2808878\tbest: 0.2614673 (52)\ttotal: 1m 44s\tremaining: 51.8s\n",
      "669:\tlearn: 0.0636290\ttest: 0.2808553\tbest: 0.2614673 (52)\ttotal: 1m 44s\tremaining: 51.6s\n",
      "670:\tlearn: 0.0636237\ttest: 0.2808412\tbest: 0.2614673 (52)\ttotal: 1m 44s\tremaining: 51.4s\n",
      "671:\tlearn: 0.0636191\ttest: 0.2809092\tbest: 0.2614673 (52)\ttotal: 1m 45s\tremaining: 51.3s\n",
      "672:\tlearn: 0.0636063\ttest: 0.2809255\tbest: 0.2614673 (52)\ttotal: 1m 45s\tremaining: 51.2s\n",
      "673:\tlearn: 0.0636029\ttest: 0.2809087\tbest: 0.2614673 (52)\ttotal: 1m 45s\tremaining: 51s\n",
      "674:\tlearn: 0.0635994\ttest: 0.2809316\tbest: 0.2614673 (52)\ttotal: 1m 45s\tremaining: 50.9s\n",
      "675:\tlearn: 0.0635966\ttest: 0.2810027\tbest: 0.2614673 (52)\ttotal: 1m 45s\tremaining: 50.7s\n",
      "676:\tlearn: 0.0635928\ttest: 0.2809853\tbest: 0.2614673 (52)\ttotal: 1m 45s\tremaining: 50.5s\n",
      "677:\tlearn: 0.0635900\ttest: 0.2810225\tbest: 0.2614673 (52)\ttotal: 1m 46s\tremaining: 50.3s\n",
      "678:\tlearn: 0.0635887\ttest: 0.2807686\tbest: 0.2614673 (52)\ttotal: 1m 46s\tremaining: 50.2s\n",
      "679:\tlearn: 0.0635742\ttest: 0.2805085\tbest: 0.2614673 (52)\ttotal: 1m 46s\tremaining: 50.1s\n",
      "680:\tlearn: 0.0635708\ttest: 0.2804624\tbest: 0.2614673 (52)\ttotal: 1m 46s\tremaining: 49.9s\n",
      "681:\tlearn: 0.0635690\ttest: 0.2805051\tbest: 0.2614673 (52)\ttotal: 1m 46s\tremaining: 49.7s\n",
      "682:\tlearn: 0.0635624\ttest: 0.2805618\tbest: 0.2614673 (52)\ttotal: 1m 46s\tremaining: 49.5s\n",
      "683:\tlearn: 0.0635591\ttest: 0.2805429\tbest: 0.2614673 (52)\ttotal: 1m 46s\tremaining: 49.4s\n",
      "684:\tlearn: 0.0635568\ttest: 0.2807239\tbest: 0.2614673 (52)\ttotal: 1m 47s\tremaining: 49.2s\n",
      "685:\tlearn: 0.0635541\ttest: 0.2806041\tbest: 0.2614673 (52)\ttotal: 1m 47s\tremaining: 49.1s\n",
      "686:\tlearn: 0.0635430\ttest: 0.2806497\tbest: 0.2614673 (52)\ttotal: 1m 47s\tremaining: 48.9s\n",
      "687:\tlearn: 0.0635322\ttest: 0.2806303\tbest: 0.2614673 (52)\ttotal: 1m 47s\tremaining: 48.7s\n",
      "688:\tlearn: 0.0635157\ttest: 0.2807200\tbest: 0.2614673 (52)\ttotal: 1m 47s\tremaining: 48.6s\n",
      "689:\tlearn: 0.0635134\ttest: 0.2811172\tbest: 0.2614673 (52)\ttotal: 1m 47s\tremaining: 48.4s\n",
      "690:\tlearn: 0.0635119\ttest: 0.2811408\tbest: 0.2614673 (52)\ttotal: 1m 48s\tremaining: 48.3s\n",
      "691:\tlearn: 0.0635096\ttest: 0.2809727\tbest: 0.2614673 (52)\ttotal: 1m 48s\tremaining: 48.1s\n",
      "692:\tlearn: 0.0635059\ttest: 0.2801695\tbest: 0.2614673 (52)\ttotal: 1m 48s\tremaining: 48s\n",
      "693:\tlearn: 0.0634937\ttest: 0.2802514\tbest: 0.2614673 (52)\ttotal: 1m 48s\tremaining: 47.8s\n",
      "694:\tlearn: 0.0634927\ttest: 0.2800455\tbest: 0.2614673 (52)\ttotal: 1m 48s\tremaining: 47.7s\n",
      "695:\tlearn: 0.0634920\ttest: 0.2800446\tbest: 0.2614673 (52)\ttotal: 1m 48s\tremaining: 47.5s\n",
      "696:\tlearn: 0.0634880\ttest: 0.2800133\tbest: 0.2614673 (52)\ttotal: 1m 48s\tremaining: 47.3s\n",
      "697:\tlearn: 0.0634861\ttest: 0.2800383\tbest: 0.2614673 (52)\ttotal: 1m 49s\tremaining: 47.2s\n",
      "698:\tlearn: 0.0634822\ttest: 0.2803734\tbest: 0.2614673 (52)\ttotal: 1m 49s\tremaining: 47s\n",
      "699:\tlearn: 0.0634734\ttest: 0.2804044\tbest: 0.2614673 (52)\ttotal: 1m 49s\tremaining: 46.9s\n",
      "700:\tlearn: 0.0634675\ttest: 0.2803789\tbest: 0.2614673 (52)\ttotal: 1m 49s\tremaining: 46.7s\n",
      "701:\tlearn: 0.0634638\ttest: 0.2804459\tbest: 0.2614673 (52)\ttotal: 1m 49s\tremaining: 46.6s\n",
      "702:\tlearn: 0.0634516\ttest: 0.2804120\tbest: 0.2614673 (52)\ttotal: 1m 49s\tremaining: 46.4s\n",
      "703:\tlearn: 0.0634482\ttest: 0.2803939\tbest: 0.2614673 (52)\ttotal: 1m 49s\tremaining: 46.2s\n",
      "704:\tlearn: 0.0634347\ttest: 0.2805033\tbest: 0.2614673 (52)\ttotal: 1m 50s\tremaining: 46.1s\n",
      "705:\tlearn: 0.0634303\ttest: 0.2804627\tbest: 0.2614673 (52)\ttotal: 1m 50s\tremaining: 46s\n",
      "706:\tlearn: 0.0634258\ttest: 0.2804317\tbest: 0.2614673 (52)\ttotal: 1m 50s\tremaining: 45.8s\n",
      "707:\tlearn: 0.0634227\ttest: 0.2804076\tbest: 0.2614673 (52)\ttotal: 1m 50s\tremaining: 45.7s\n",
      "708:\tlearn: 0.0634138\ttest: 0.2808000\tbest: 0.2614673 (52)\ttotal: 1m 50s\tremaining: 45.5s\n",
      "709:\tlearn: 0.0634089\ttest: 0.2808347\tbest: 0.2614673 (52)\ttotal: 1m 51s\tremaining: 45.4s\n",
      "710:\tlearn: 0.0634023\ttest: 0.2808232\tbest: 0.2614673 (52)\ttotal: 1m 51s\tremaining: 45.2s\n",
      "711:\tlearn: 0.0633983\ttest: 0.2807793\tbest: 0.2614673 (52)\ttotal: 1m 51s\tremaining: 45.1s\n",
      "712:\tlearn: 0.0633958\ttest: 0.2807630\tbest: 0.2614673 (52)\ttotal: 1m 51s\tremaining: 44.9s\n",
      "713:\tlearn: 0.0633925\ttest: 0.2807435\tbest: 0.2614673 (52)\ttotal: 1m 51s\tremaining: 44.7s\n",
      "714:\tlearn: 0.0633734\ttest: 0.2807630\tbest: 0.2614673 (52)\ttotal: 1m 51s\tremaining: 44.6s\n",
      "715:\tlearn: 0.0633676\ttest: 0.2807834\tbest: 0.2614673 (52)\ttotal: 1m 51s\tremaining: 44.4s\n",
      "716:\tlearn: 0.0633581\ttest: 0.2807335\tbest: 0.2614673 (52)\ttotal: 1m 52s\tremaining: 44.2s\n",
      "717:\tlearn: 0.0633536\ttest: 0.2807581\tbest: 0.2614673 (52)\ttotal: 1m 52s\tremaining: 44.1s\n",
      "718:\tlearn: 0.0633486\ttest: 0.2807725\tbest: 0.2614673 (52)\ttotal: 1m 52s\tremaining: 43.9s\n",
      "719:\tlearn: 0.0632584\ttest: 0.2806311\tbest: 0.2614673 (52)\ttotal: 1m 52s\tremaining: 43.8s\n",
      "720:\tlearn: 0.0632572\ttest: 0.2807735\tbest: 0.2614673 (52)\ttotal: 1m 52s\tremaining: 43.6s\n",
      "721:\tlearn: 0.0632484\ttest: 0.2807835\tbest: 0.2614673 (52)\ttotal: 1m 52s\tremaining: 43.5s\n",
      "722:\tlearn: 0.0632434\ttest: 0.2807041\tbest: 0.2614673 (52)\ttotal: 1m 53s\tremaining: 43.3s\n",
      "723:\tlearn: 0.0632408\ttest: 0.2807223\tbest: 0.2614673 (52)\ttotal: 1m 53s\tremaining: 43.2s\n",
      "724:\tlearn: 0.0632363\ttest: 0.2808718\tbest: 0.2614673 (52)\ttotal: 1m 53s\tremaining: 43s\n",
      "725:\tlearn: 0.0632239\ttest: 0.2808552\tbest: 0.2614673 (52)\ttotal: 1m 53s\tremaining: 42.8s\n",
      "726:\tlearn: 0.0632109\ttest: 0.2808184\tbest: 0.2614673 (52)\ttotal: 1m 53s\tremaining: 42.7s\n",
      "727:\tlearn: 0.0632065\ttest: 0.2807947\tbest: 0.2614673 (52)\ttotal: 1m 53s\tremaining: 42.5s\n",
      "728:\tlearn: 0.0632017\ttest: 0.2808049\tbest: 0.2614673 (52)\ttotal: 1m 53s\tremaining: 42.4s\n",
      "729:\tlearn: 0.0631984\ttest: 0.2805458\tbest: 0.2614673 (52)\ttotal: 1m 54s\tremaining: 42.2s\n",
      "730:\tlearn: 0.0631972\ttest: 0.2805358\tbest: 0.2614673 (52)\ttotal: 1m 54s\tremaining: 42s\n",
      "731:\tlearn: 0.0631959\ttest: 0.2807175\tbest: 0.2614673 (52)\ttotal: 1m 54s\tremaining: 41.9s\n",
      "732:\tlearn: 0.0631861\ttest: 0.2806517\tbest: 0.2614673 (52)\ttotal: 1m 54s\tremaining: 41.7s\n",
      "733:\tlearn: 0.0631849\ttest: 0.2807550\tbest: 0.2614673 (52)\ttotal: 1m 54s\tremaining: 41.6s\n",
      "734:\tlearn: 0.0631807\ttest: 0.2806789\tbest: 0.2614673 (52)\ttotal: 1m 54s\tremaining: 41.4s\n",
      "735:\tlearn: 0.0631787\ttest: 0.2807378\tbest: 0.2614673 (52)\ttotal: 1m 54s\tremaining: 41.2s\n",
      "736:\tlearn: 0.0631749\ttest: 0.2806524\tbest: 0.2614673 (52)\ttotal: 1m 55s\tremaining: 41.1s\n",
      "737:\tlearn: 0.0631650\ttest: 0.2806309\tbest: 0.2614673 (52)\ttotal: 1m 55s\tremaining: 40.9s\n",
      "738:\tlearn: 0.0631610\ttest: 0.2806033\tbest: 0.2614673 (52)\ttotal: 1m 55s\tremaining: 40.8s\n",
      "739:\tlearn: 0.0631583\ttest: 0.2805883\tbest: 0.2614673 (52)\ttotal: 1m 55s\tremaining: 40.6s\n",
      "740:\tlearn: 0.0631563\ttest: 0.2807673\tbest: 0.2614673 (52)\ttotal: 1m 55s\tremaining: 40.5s\n",
      "741:\tlearn: 0.0631549\ttest: 0.2813131\tbest: 0.2614673 (52)\ttotal: 1m 55s\tremaining: 40.3s\n",
      "742:\tlearn: 0.0631523\ttest: 0.2812910\tbest: 0.2614673 (52)\ttotal: 1m 56s\tremaining: 40.2s\n",
      "743:\tlearn: 0.0631477\ttest: 0.2811962\tbest: 0.2614673 (52)\ttotal: 1m 56s\tremaining: 40s\n",
      "744:\tlearn: 0.0631430\ttest: 0.2811764\tbest: 0.2614673 (52)\ttotal: 1m 56s\tremaining: 39.9s\n",
      "745:\tlearn: 0.0631415\ttest: 0.2813665\tbest: 0.2614673 (52)\ttotal: 1m 56s\tremaining: 39.7s\n",
      "746:\tlearn: 0.0631399\ttest: 0.2814209\tbest: 0.2614673 (52)\ttotal: 1m 56s\tremaining: 39.5s\n",
      "747:\tlearn: 0.0631376\ttest: 0.2813363\tbest: 0.2614673 (52)\ttotal: 1m 56s\tremaining: 39.4s\n",
      "748:\tlearn: 0.0631358\ttest: 0.2813080\tbest: 0.2614673 (52)\ttotal: 1m 57s\tremaining: 39.2s\n",
      "749:\tlearn: 0.0631338\ttest: 0.2840803\tbest: 0.2614673 (52)\ttotal: 1m 57s\tremaining: 39s\n",
      "750:\tlearn: 0.0631291\ttest: 0.2840562\tbest: 0.2614673 (52)\ttotal: 1m 57s\tremaining: 38.9s\n",
      "751:\tlearn: 0.0631260\ttest: 0.2841587\tbest: 0.2614673 (52)\ttotal: 1m 57s\tremaining: 38.7s\n",
      "752:\tlearn: 0.0631235\ttest: 0.2839601\tbest: 0.2614673 (52)\ttotal: 1m 57s\tremaining: 38.6s\n",
      "753:\tlearn: 0.0631208\ttest: 0.2839444\tbest: 0.2614673 (52)\ttotal: 1m 57s\tremaining: 38.4s\n",
      "754:\tlearn: 0.0631170\ttest: 0.2841146\tbest: 0.2614673 (52)\ttotal: 1m 57s\tremaining: 38.2s\n",
      "755:\tlearn: 0.0631005\ttest: 0.2842606\tbest: 0.2614673 (52)\ttotal: 1m 57s\tremaining: 38s\n",
      "756:\tlearn: 0.0630970\ttest: 0.2844006\tbest: 0.2614673 (52)\ttotal: 1m 58s\tremaining: 37.9s\n",
      "757:\tlearn: 0.0630926\ttest: 0.2843570\tbest: 0.2614673 (52)\ttotal: 1m 58s\tremaining: 37.7s\n",
      "758:\tlearn: 0.0630851\ttest: 0.2844114\tbest: 0.2614673 (52)\ttotal: 1m 58s\tremaining: 37.6s\n",
      "759:\tlearn: 0.0630841\ttest: 0.2849240\tbest: 0.2614673 (52)\ttotal: 1m 58s\tremaining: 37.4s\n",
      "760:\tlearn: 0.0630768\ttest: 0.2835974\tbest: 0.2614673 (52)\ttotal: 1m 58s\tremaining: 37.2s\n",
      "761:\tlearn: 0.0630755\ttest: 0.2835914\tbest: 0.2614673 (52)\ttotal: 1m 58s\tremaining: 37.1s\n",
      "762:\tlearn: 0.0630736\ttest: 0.2835875\tbest: 0.2614673 (52)\ttotal: 1m 58s\tremaining: 36.9s\n",
      "763:\tlearn: 0.0630717\ttest: 0.2835138\tbest: 0.2614673 (52)\ttotal: 1m 59s\tremaining: 36.8s\n",
      "764:\tlearn: 0.0630623\ttest: 0.2835434\tbest: 0.2614673 (52)\ttotal: 1m 59s\tremaining: 36.6s\n",
      "765:\tlearn: 0.0630577\ttest: 0.2834023\tbest: 0.2614673 (52)\ttotal: 1m 59s\tremaining: 36.4s\n",
      "766:\tlearn: 0.0630555\ttest: 0.2834162\tbest: 0.2614673 (52)\ttotal: 1m 59s\tremaining: 36.3s\n",
      "767:\tlearn: 0.0630497\ttest: 0.2834216\tbest: 0.2614673 (52)\ttotal: 1m 59s\tremaining: 36.1s\n",
      "768:\tlearn: 0.0630461\ttest: 0.2833903\tbest: 0.2614673 (52)\ttotal: 1m 59s\tremaining: 36s\n",
      "769:\tlearn: 0.0630435\ttest: 0.2835763\tbest: 0.2614673 (52)\ttotal: 1m 59s\tremaining: 35.8s\n",
      "770:\tlearn: 0.0630213\ttest: 0.2836325\tbest: 0.2614673 (52)\ttotal: 2m\tremaining: 35.7s\n",
      "771:\tlearn: 0.0630184\ttest: 0.2836566\tbest: 0.2614673 (52)\ttotal: 2m\tremaining: 35.5s\n",
      "772:\tlearn: 0.0630148\ttest: 0.2836654\tbest: 0.2614673 (52)\ttotal: 2m\tremaining: 35.4s\n",
      "773:\tlearn: 0.0630123\ttest: 0.2834479\tbest: 0.2614673 (52)\ttotal: 2m\tremaining: 35.2s\n",
      "774:\tlearn: 0.0630108\ttest: 0.2836003\tbest: 0.2614673 (52)\ttotal: 2m\tremaining: 35s\n",
      "775:\tlearn: 0.0630094\ttest: 0.2835609\tbest: 0.2614673 (52)\ttotal: 2m\tremaining: 34.9s\n",
      "776:\tlearn: 0.0630072\ttest: 0.2835541\tbest: 0.2614673 (52)\ttotal: 2m\tremaining: 34.7s\n",
      "777:\tlearn: 0.0630019\ttest: 0.2835393\tbest: 0.2614673 (52)\ttotal: 2m 1s\tremaining: 34.6s\n",
      "778:\tlearn: 0.0629955\ttest: 0.2834147\tbest: 0.2614673 (52)\ttotal: 2m 1s\tremaining: 34.4s\n",
      "779:\tlearn: 0.0629844\ttest: 0.2837467\tbest: 0.2614673 (52)\ttotal: 2m 1s\tremaining: 34.2s\n",
      "780:\tlearn: 0.0629785\ttest: 0.2836805\tbest: 0.2614673 (52)\ttotal: 2m 1s\tremaining: 34.1s\n",
      "781:\tlearn: 0.0629694\ttest: 0.2835850\tbest: 0.2614673 (52)\ttotal: 2m 1s\tremaining: 33.9s\n",
      "782:\tlearn: 0.0629553\ttest: 0.2835778\tbest: 0.2614673 (52)\ttotal: 2m 1s\tremaining: 33.8s\n",
      "783:\tlearn: 0.0629526\ttest: 0.2833597\tbest: 0.2614673 (52)\ttotal: 2m 2s\tremaining: 33.6s\n",
      "784:\tlearn: 0.0629430\ttest: 0.2833521\tbest: 0.2614673 (52)\ttotal: 2m 2s\tremaining: 33.5s\n",
      "785:\tlearn: 0.0629408\ttest: 0.2831614\tbest: 0.2614673 (52)\ttotal: 2m 2s\tremaining: 33.3s\n",
      "786:\tlearn: 0.0629397\ttest: 0.2831226\tbest: 0.2614673 (52)\ttotal: 2m 2s\tremaining: 33.1s\n",
      "787:\tlearn: 0.0629355\ttest: 0.2831722\tbest: 0.2614673 (52)\ttotal: 2m 2s\tremaining: 33s\n",
      "788:\tlearn: 0.0629322\ttest: 0.2831130\tbest: 0.2614673 (52)\ttotal: 2m 2s\tremaining: 32.8s\n",
      "789:\tlearn: 0.0629291\ttest: 0.2830942\tbest: 0.2614673 (52)\ttotal: 2m 2s\tremaining: 32.6s\n",
      "790:\tlearn: 0.0629245\ttest: 0.2830654\tbest: 0.2614673 (52)\ttotal: 2m 2s\tremaining: 32.5s\n",
      "791:\tlearn: 0.0629197\ttest: 0.2830403\tbest: 0.2614673 (52)\ttotal: 2m 3s\tremaining: 32.3s\n",
      "792:\tlearn: 0.0629179\ttest: 0.2830506\tbest: 0.2614673 (52)\ttotal: 2m 3s\tremaining: 32.2s\n",
      "793:\tlearn: 0.0629159\ttest: 0.2830576\tbest: 0.2614673 (52)\ttotal: 2m 3s\tremaining: 32s\n",
      "794:\tlearn: 0.0629116\ttest: 0.2830296\tbest: 0.2614673 (52)\ttotal: 2m 3s\tremaining: 31.9s\n",
      "795:\tlearn: 0.0629086\ttest: 0.2828581\tbest: 0.2614673 (52)\ttotal: 2m 3s\tremaining: 31.7s\n",
      "796:\tlearn: 0.0629051\ttest: 0.2827395\tbest: 0.2614673 (52)\ttotal: 2m 3s\tremaining: 31.5s\n",
      "797:\tlearn: 0.0629018\ttest: 0.2827162\tbest: 0.2614673 (52)\ttotal: 2m 3s\tremaining: 31.4s\n",
      "798:\tlearn: 0.0628328\ttest: 0.2826050\tbest: 0.2614673 (52)\ttotal: 2m 4s\tremaining: 31.2s\n",
      "799:\tlearn: 0.0628317\ttest: 0.2825801\tbest: 0.2614673 (52)\ttotal: 2m 4s\tremaining: 31.1s\n",
      "800:\tlearn: 0.0628308\ttest: 0.2838566\tbest: 0.2614673 (52)\ttotal: 2m 4s\tremaining: 30.9s\n",
      "801:\tlearn: 0.0628272\ttest: 0.2838272\tbest: 0.2614673 (52)\ttotal: 2m 4s\tremaining: 30.7s\n",
      "802:\tlearn: 0.0628219\ttest: 0.2838391\tbest: 0.2614673 (52)\ttotal: 2m 4s\tremaining: 30.6s\n",
      "803:\tlearn: 0.0628202\ttest: 0.2839645\tbest: 0.2614673 (52)\ttotal: 2m 4s\tremaining: 30.4s\n",
      "804:\tlearn: 0.0628152\ttest: 0.2838861\tbest: 0.2614673 (52)\ttotal: 2m 5s\tremaining: 30.3s\n",
      "805:\tlearn: 0.0628131\ttest: 0.2838475\tbest: 0.2614673 (52)\ttotal: 2m 5s\tremaining: 30.1s\n",
      "806:\tlearn: 0.0628117\ttest: 0.2835796\tbest: 0.2614673 (52)\ttotal: 2m 5s\tremaining: 29.9s\n",
      "807:\tlearn: 0.0628046\ttest: 0.2832330\tbest: 0.2614673 (52)\ttotal: 2m 5s\tremaining: 29.8s\n",
      "808:\tlearn: 0.0628016\ttest: 0.2832351\tbest: 0.2614673 (52)\ttotal: 2m 5s\tremaining: 29.6s\n",
      "809:\tlearn: 0.0627927\ttest: 0.2833433\tbest: 0.2614673 (52)\ttotal: 2m 5s\tremaining: 29.5s\n",
      "810:\tlearn: 0.0627896\ttest: 0.2833020\tbest: 0.2614673 (52)\ttotal: 2m 5s\tremaining: 29.3s\n",
      "811:\tlearn: 0.0627840\ttest: 0.2832451\tbest: 0.2614673 (52)\ttotal: 2m 5s\tremaining: 29.2s\n",
      "812:\tlearn: 0.0627825\ttest: 0.2832437\tbest: 0.2614673 (52)\ttotal: 2m 6s\tremaining: 29s\n",
      "813:\tlearn: 0.0627746\ttest: 0.2833507\tbest: 0.2614673 (52)\ttotal: 2m 6s\tremaining: 28.9s\n",
      "814:\tlearn: 0.0627686\ttest: 0.2835210\tbest: 0.2614673 (52)\ttotal: 2m 6s\tremaining: 28.7s\n",
      "815:\tlearn: 0.0627650\ttest: 0.2835224\tbest: 0.2614673 (52)\ttotal: 2m 6s\tremaining: 28.5s\n",
      "816:\tlearn: 0.0627614\ttest: 0.2834340\tbest: 0.2614673 (52)\ttotal: 2m 6s\tremaining: 28.4s\n",
      "817:\tlearn: 0.0627575\ttest: 0.2834090\tbest: 0.2614673 (52)\ttotal: 2m 6s\tremaining: 28.2s\n",
      "818:\tlearn: 0.0627560\ttest: 0.2833971\tbest: 0.2614673 (52)\ttotal: 2m 7s\tremaining: 28.1s\n",
      "819:\tlearn: 0.0627374\ttest: 0.2835052\tbest: 0.2614673 (52)\ttotal: 2m 7s\tremaining: 27.9s\n",
      "820:\tlearn: 0.0627163\ttest: 0.2835197\tbest: 0.2614673 (52)\ttotal: 2m 7s\tremaining: 27.8s\n",
      "821:\tlearn: 0.0627143\ttest: 0.2833250\tbest: 0.2614673 (52)\ttotal: 2m 7s\tremaining: 27.6s\n",
      "822:\tlearn: 0.0627119\ttest: 0.2833075\tbest: 0.2614673 (52)\ttotal: 2m 7s\tremaining: 27.4s\n",
      "823:\tlearn: 0.0627084\ttest: 0.2833422\tbest: 0.2614673 (52)\ttotal: 2m 7s\tremaining: 27.3s\n",
      "824:\tlearn: 0.0626925\ttest: 0.2835679\tbest: 0.2614673 (52)\ttotal: 2m 7s\tremaining: 27.1s\n",
      "825:\tlearn: 0.0626918\ttest: 0.2830626\tbest: 0.2614673 (52)\ttotal: 2m 7s\tremaining: 27s\n",
      "826:\tlearn: 0.0626844\ttest: 0.2831635\tbest: 0.2614673 (52)\ttotal: 2m 8s\tremaining: 26.8s\n",
      "827:\tlearn: 0.0626820\ttest: 0.2830680\tbest: 0.2614673 (52)\ttotal: 2m 8s\tremaining: 26.6s\n",
      "828:\tlearn: 0.0626651\ttest: 0.2832043\tbest: 0.2614673 (52)\ttotal: 2m 8s\tremaining: 26.5s\n",
      "829:\tlearn: 0.0626622\ttest: 0.2828793\tbest: 0.2614673 (52)\ttotal: 2m 8s\tremaining: 26.3s\n",
      "830:\tlearn: 0.0626601\ttest: 0.2829057\tbest: 0.2614673 (52)\ttotal: 2m 8s\tremaining: 26.2s\n",
      "831:\tlearn: 0.0626582\ttest: 0.2828362\tbest: 0.2614673 (52)\ttotal: 2m 8s\tremaining: 26s\n",
      "832:\tlearn: 0.0626538\ttest: 0.2832886\tbest: 0.2614673 (52)\ttotal: 2m 8s\tremaining: 25.9s\n",
      "833:\tlearn: 0.0626498\ttest: 0.2833203\tbest: 0.2614673 (52)\ttotal: 2m 9s\tremaining: 25.7s\n",
      "834:\tlearn: 0.0626310\ttest: 0.2832726\tbest: 0.2614673 (52)\ttotal: 2m 9s\tremaining: 25.6s\n",
      "835:\tlearn: 0.0626273\ttest: 0.2833048\tbest: 0.2614673 (52)\ttotal: 2m 9s\tremaining: 25.4s\n",
      "836:\tlearn: 0.0626249\ttest: 0.2831310\tbest: 0.2614673 (52)\ttotal: 2m 9s\tremaining: 25.3s\n",
      "837:\tlearn: 0.0626239\ttest: 0.2831303\tbest: 0.2614673 (52)\ttotal: 2m 9s\tremaining: 25.1s\n",
      "838:\tlearn: 0.0626227\ttest: 0.2830728\tbest: 0.2614673 (52)\ttotal: 2m 10s\tremaining: 24.9s\n",
      "839:\tlearn: 0.0626214\ttest: 0.2830848\tbest: 0.2614673 (52)\ttotal: 2m 10s\tremaining: 24.8s\n",
      "840:\tlearn: 0.0626203\ttest: 0.2830845\tbest: 0.2614673 (52)\ttotal: 2m 10s\tremaining: 24.6s\n",
      "841:\tlearn: 0.0626156\ttest: 0.2832438\tbest: 0.2614673 (52)\ttotal: 2m 10s\tremaining: 24.5s\n",
      "842:\tlearn: 0.0626131\ttest: 0.2831510\tbest: 0.2614673 (52)\ttotal: 2m 10s\tremaining: 24.3s\n",
      "843:\tlearn: 0.0626115\ttest: 0.2832517\tbest: 0.2614673 (52)\ttotal: 2m 10s\tremaining: 24.2s\n",
      "844:\tlearn: 0.0626101\ttest: 0.2833254\tbest: 0.2614673 (52)\ttotal: 2m 10s\tremaining: 24s\n",
      "845:\tlearn: 0.0626074\ttest: 0.2838236\tbest: 0.2614673 (52)\ttotal: 2m 10s\tremaining: 23.8s\n",
      "846:\tlearn: 0.0626032\ttest: 0.2840294\tbest: 0.2614673 (52)\ttotal: 2m 11s\tremaining: 23.7s\n",
      "847:\tlearn: 0.0625988\ttest: 0.2839896\tbest: 0.2614673 (52)\ttotal: 2m 11s\tremaining: 23.5s\n",
      "848:\tlearn: 0.0625979\ttest: 0.2839908\tbest: 0.2614673 (52)\ttotal: 2m 11s\tremaining: 23.4s\n",
      "849:\tlearn: 0.0625937\ttest: 0.2840040\tbest: 0.2614673 (52)\ttotal: 2m 11s\tremaining: 23.2s\n",
      "850:\tlearn: 0.0625915\ttest: 0.2839871\tbest: 0.2614673 (52)\ttotal: 2m 11s\tremaining: 23s\n",
      "851:\tlearn: 0.0625883\ttest: 0.2838384\tbest: 0.2614673 (52)\ttotal: 2m 11s\tremaining: 22.9s\n",
      "852:\tlearn: 0.0625873\ttest: 0.2838001\tbest: 0.2614673 (52)\ttotal: 2m 11s\tremaining: 22.7s\n",
      "853:\tlearn: 0.0625834\ttest: 0.2837861\tbest: 0.2614673 (52)\ttotal: 2m 11s\tremaining: 22.6s\n",
      "854:\tlearn: 0.0625815\ttest: 0.2857386\tbest: 0.2614673 (52)\ttotal: 2m 12s\tremaining: 22.4s\n",
      "855:\tlearn: 0.0625753\ttest: 0.2857187\tbest: 0.2614673 (52)\ttotal: 2m 12s\tremaining: 22.2s\n",
      "856:\tlearn: 0.0625743\ttest: 0.2856994\tbest: 0.2614673 (52)\ttotal: 2m 12s\tremaining: 22.1s\n",
      "857:\tlearn: 0.0625716\ttest: 0.2857481\tbest: 0.2614673 (52)\ttotal: 2m 12s\tremaining: 21.9s\n",
      "858:\tlearn: 0.0625687\ttest: 0.2857466\tbest: 0.2614673 (52)\ttotal: 2m 12s\tremaining: 21.8s\n",
      "859:\tlearn: 0.0625654\ttest: 0.2856964\tbest: 0.2614673 (52)\ttotal: 2m 12s\tremaining: 21.6s\n",
      "860:\tlearn: 0.0625618\ttest: 0.2856094\tbest: 0.2614673 (52)\ttotal: 2m 13s\tremaining: 21.5s\n",
      "861:\tlearn: 0.0625608\ttest: 0.2856151\tbest: 0.2614673 (52)\ttotal: 2m 13s\tremaining: 21.3s\n",
      "862:\tlearn: 0.0625494\ttest: 0.2855696\tbest: 0.2614673 (52)\ttotal: 2m 13s\tremaining: 21.2s\n",
      "863:\tlearn: 0.0625308\ttest: 0.2855797\tbest: 0.2614673 (52)\ttotal: 2m 13s\tremaining: 21s\n",
      "864:\tlearn: 0.0625299\ttest: 0.2856141\tbest: 0.2614673 (52)\ttotal: 2m 13s\tremaining: 20.9s\n",
      "865:\tlearn: 0.0625290\ttest: 0.2855625\tbest: 0.2614673 (52)\ttotal: 2m 13s\tremaining: 20.7s\n",
      "866:\tlearn: 0.0625263\ttest: 0.2855921\tbest: 0.2614673 (52)\ttotal: 2m 13s\tremaining: 20.5s\n",
      "867:\tlearn: 0.0625230\ttest: 0.2856101\tbest: 0.2614673 (52)\ttotal: 2m 14s\tremaining: 20.4s\n",
      "868:\tlearn: 0.0625196\ttest: 0.2855986\tbest: 0.2614673 (52)\ttotal: 2m 14s\tremaining: 20.2s\n",
      "869:\tlearn: 0.0625177\ttest: 0.2855808\tbest: 0.2614673 (52)\ttotal: 2m 14s\tremaining: 20.1s\n",
      "870:\tlearn: 0.0625061\ttest: 0.2855934\tbest: 0.2614673 (52)\ttotal: 2m 14s\tremaining: 19.9s\n",
      "871:\tlearn: 0.0625055\ttest: 0.2856210\tbest: 0.2614673 (52)\ttotal: 2m 14s\tremaining: 19.8s\n",
      "872:\tlearn: 0.0624984\ttest: 0.2857074\tbest: 0.2614673 (52)\ttotal: 2m 14s\tremaining: 19.6s\n",
      "873:\tlearn: 0.0624952\ttest: 0.2856444\tbest: 0.2614673 (52)\ttotal: 2m 14s\tremaining: 19.4s\n",
      "874:\tlearn: 0.0624852\ttest: 0.2858610\tbest: 0.2614673 (52)\ttotal: 2m 15s\tremaining: 19.3s\n",
      "875:\tlearn: 0.0624791\ttest: 0.2859321\tbest: 0.2614673 (52)\ttotal: 2m 15s\tremaining: 19.1s\n",
      "876:\tlearn: 0.0624782\ttest: 0.2859395\tbest: 0.2614673 (52)\ttotal: 2m 15s\tremaining: 19s\n",
      "877:\tlearn: 0.0624715\ttest: 0.2859135\tbest: 0.2614673 (52)\ttotal: 2m 15s\tremaining: 18.8s\n",
      "878:\tlearn: 0.0624700\ttest: 0.2859930\tbest: 0.2614673 (52)\ttotal: 2m 15s\tremaining: 18.7s\n",
      "879:\tlearn: 0.0624666\ttest: 0.2860585\tbest: 0.2614673 (52)\ttotal: 2m 15s\tremaining: 18.5s\n",
      "880:\tlearn: 0.0624657\ttest: 0.2861387\tbest: 0.2614673 (52)\ttotal: 2m 15s\tremaining: 18.4s\n",
      "881:\tlearn: 0.0624615\ttest: 0.2859977\tbest: 0.2614673 (52)\ttotal: 2m 15s\tremaining: 18.2s\n",
      "882:\tlearn: 0.0624552\ttest: 0.2859454\tbest: 0.2614673 (52)\ttotal: 2m 16s\tremaining: 18s\n",
      "883:\tlearn: 0.0624434\ttest: 0.2859462\tbest: 0.2614673 (52)\ttotal: 2m 16s\tremaining: 17.9s\n",
      "884:\tlearn: 0.0624394\ttest: 0.2859582\tbest: 0.2614673 (52)\ttotal: 2m 16s\tremaining: 17.7s\n",
      "885:\tlearn: 0.0624265\ttest: 0.2860945\tbest: 0.2614673 (52)\ttotal: 2m 16s\tremaining: 17.6s\n",
      "886:\tlearn: 0.0624250\ttest: 0.2860868\tbest: 0.2614673 (52)\ttotal: 2m 16s\tremaining: 17.4s\n",
      "887:\tlearn: 0.0624197\ttest: 0.2861785\tbest: 0.2614673 (52)\ttotal: 2m 16s\tremaining: 17.3s\n",
      "888:\tlearn: 0.0624087\ttest: 0.2862845\tbest: 0.2614673 (52)\ttotal: 2m 17s\tremaining: 17.1s\n",
      "889:\tlearn: 0.0624079\ttest: 0.2859222\tbest: 0.2614673 (52)\ttotal: 2m 17s\tremaining: 17s\n",
      "890:\tlearn: 0.0624049\ttest: 0.2858923\tbest: 0.2614673 (52)\ttotal: 2m 17s\tremaining: 16.8s\n",
      "891:\tlearn: 0.0624022\ttest: 0.2858671\tbest: 0.2614673 (52)\ttotal: 2m 17s\tremaining: 16.7s\n",
      "892:\tlearn: 0.0623916\ttest: 0.2858846\tbest: 0.2614673 (52)\ttotal: 2m 17s\tremaining: 16.5s\n",
      "893:\tlearn: 0.0623900\ttest: 0.2863609\tbest: 0.2614673 (52)\ttotal: 2m 17s\tremaining: 16.3s\n",
      "894:\tlearn: 0.0623885\ttest: 0.2854879\tbest: 0.2614673 (52)\ttotal: 2m 17s\tremaining: 16.2s\n",
      "895:\tlearn: 0.0623854\ttest: 0.2856028\tbest: 0.2614673 (52)\ttotal: 2m 18s\tremaining: 16s\n",
      "896:\tlearn: 0.0623836\ttest: 0.2853505\tbest: 0.2614673 (52)\ttotal: 2m 18s\tremaining: 15.9s\n",
      "897:\tlearn: 0.0623790\ttest: 0.2853738\tbest: 0.2614673 (52)\ttotal: 2m 18s\tremaining: 15.7s\n",
      "898:\tlearn: 0.0623759\ttest: 0.2853487\tbest: 0.2614673 (52)\ttotal: 2m 18s\tremaining: 15.6s\n",
      "899:\tlearn: 0.0623751\ttest: 0.2850407\tbest: 0.2614673 (52)\ttotal: 2m 18s\tremaining: 15.4s\n",
      "900:\tlearn: 0.0623729\ttest: 0.2850019\tbest: 0.2614673 (52)\ttotal: 2m 18s\tremaining: 15.3s\n",
      "901:\tlearn: 0.0623676\ttest: 0.2849399\tbest: 0.2614673 (52)\ttotal: 2m 18s\tremaining: 15.1s\n",
      "902:\tlearn: 0.0623654\ttest: 0.2852075\tbest: 0.2614673 (52)\ttotal: 2m 19s\tremaining: 14.9s\n",
      "903:\tlearn: 0.0623638\ttest: 0.2851599\tbest: 0.2614673 (52)\ttotal: 2m 19s\tremaining: 14.8s\n",
      "904:\tlearn: 0.0623545\ttest: 0.2853188\tbest: 0.2614673 (52)\ttotal: 2m 19s\tremaining: 14.6s\n",
      "905:\tlearn: 0.0623524\ttest: 0.2852609\tbest: 0.2614673 (52)\ttotal: 2m 19s\tremaining: 14.5s\n",
      "906:\tlearn: 0.0623499\ttest: 0.2851788\tbest: 0.2614673 (52)\ttotal: 2m 19s\tremaining: 14.3s\n",
      "907:\tlearn: 0.0623408\ttest: 0.2852699\tbest: 0.2614673 (52)\ttotal: 2m 19s\tremaining: 14.2s\n",
      "908:\tlearn: 0.0623398\ttest: 0.2852684\tbest: 0.2614673 (52)\ttotal: 2m 19s\tremaining: 14s\n",
      "909:\tlearn: 0.0623384\ttest: 0.2852485\tbest: 0.2614673 (52)\ttotal: 2m 20s\tremaining: 13.9s\n",
      "910:\tlearn: 0.0623375\ttest: 0.2852182\tbest: 0.2614673 (52)\ttotal: 2m 20s\tremaining: 13.7s\n",
      "911:\tlearn: 0.0623358\ttest: 0.2852673\tbest: 0.2614673 (52)\ttotal: 2m 20s\tremaining: 13.5s\n",
      "912:\tlearn: 0.0623321\ttest: 0.2852581\tbest: 0.2614673 (52)\ttotal: 2m 20s\tremaining: 13.4s\n",
      "913:\tlearn: 0.0623185\ttest: 0.2854277\tbest: 0.2614673 (52)\ttotal: 2m 20s\tremaining: 13.2s\n",
      "914:\tlearn: 0.0623169\ttest: 0.2854321\tbest: 0.2614673 (52)\ttotal: 2m 20s\tremaining: 13.1s\n",
      "915:\tlearn: 0.0623148\ttest: 0.2854278\tbest: 0.2614673 (52)\ttotal: 2m 21s\tremaining: 12.9s\n",
      "916:\tlearn: 0.0623132\ttest: 0.2854622\tbest: 0.2614673 (52)\ttotal: 2m 21s\tremaining: 12.8s\n",
      "917:\tlearn: 0.0623074\ttest: 0.2854791\tbest: 0.2614673 (52)\ttotal: 2m 21s\tremaining: 12.6s\n",
      "918:\tlearn: 0.0623023\ttest: 0.2854031\tbest: 0.2614673 (52)\ttotal: 2m 21s\tremaining: 12.5s\n",
      "919:\tlearn: 0.0623012\ttest: 0.2854059\tbest: 0.2614673 (52)\ttotal: 2m 21s\tremaining: 12.3s\n",
      "920:\tlearn: 0.0622928\ttest: 0.2854172\tbest: 0.2614673 (52)\ttotal: 2m 21s\tremaining: 12.1s\n",
      "921:\tlearn: 0.0622909\ttest: 0.2853101\tbest: 0.2614673 (52)\ttotal: 2m 21s\tremaining: 12s\n",
      "922:\tlearn: 0.0622884\ttest: 0.2852949\tbest: 0.2614673 (52)\ttotal: 2m 21s\tremaining: 11.8s\n",
      "923:\tlearn: 0.0622864\ttest: 0.2852897\tbest: 0.2614673 (52)\ttotal: 2m 22s\tremaining: 11.7s\n",
      "924:\tlearn: 0.0622834\ttest: 0.2854332\tbest: 0.2614673 (52)\ttotal: 2m 22s\tremaining: 11.5s\n",
      "925:\tlearn: 0.0622806\ttest: 0.2853484\tbest: 0.2614673 (52)\ttotal: 2m 22s\tremaining: 11.4s\n",
      "926:\tlearn: 0.0622784\ttest: 0.2855638\tbest: 0.2614673 (52)\ttotal: 2m 22s\tremaining: 11.2s\n",
      "927:\tlearn: 0.0622766\ttest: 0.2858663\tbest: 0.2614673 (52)\ttotal: 2m 22s\tremaining: 11.1s\n",
      "928:\tlearn: 0.0622760\ttest: 0.2858672\tbest: 0.2614673 (52)\ttotal: 2m 22s\tremaining: 10.9s\n",
      "929:\tlearn: 0.0622752\ttest: 0.2857758\tbest: 0.2614673 (52)\ttotal: 2m 23s\tremaining: 10.8s\n",
      "930:\tlearn: 0.0622693\ttest: 0.2858015\tbest: 0.2614673 (52)\ttotal: 2m 23s\tremaining: 10.6s\n",
      "931:\tlearn: 0.0622674\ttest: 0.2857654\tbest: 0.2614673 (52)\ttotal: 2m 23s\tremaining: 10.5s\n",
      "932:\tlearn: 0.0622643\ttest: 0.2858036\tbest: 0.2614673 (52)\ttotal: 2m 23s\tremaining: 10.3s\n",
      "933:\tlearn: 0.0622612\ttest: 0.2857865\tbest: 0.2614673 (52)\ttotal: 2m 23s\tremaining: 10.1s\n",
      "934:\tlearn: 0.0622595\ttest: 0.2858206\tbest: 0.2614673 (52)\ttotal: 2m 23s\tremaining: 9.99s\n",
      "935:\tlearn: 0.0622036\ttest: 0.2858593\tbest: 0.2614673 (52)\ttotal: 2m 23s\tremaining: 9.85s\n",
      "936:\tlearn: 0.0622003\ttest: 0.2858251\tbest: 0.2614673 (52)\ttotal: 2m 24s\tremaining: 9.69s\n",
      "937:\tlearn: 0.0621991\ttest: 0.2857316\tbest: 0.2614673 (52)\ttotal: 2m 24s\tremaining: 9.54s\n",
      "938:\tlearn: 0.0621969\ttest: 0.2857137\tbest: 0.2614673 (52)\ttotal: 2m 24s\tremaining: 9.39s\n",
      "939:\tlearn: 0.0621943\ttest: 0.2860722\tbest: 0.2614673 (52)\ttotal: 2m 24s\tremaining: 9.23s\n",
      "940:\tlearn: 0.0621934\ttest: 0.2862840\tbest: 0.2614673 (52)\ttotal: 2m 24s\tremaining: 9.08s\n",
      "941:\tlearn: 0.0621845\ttest: 0.2862439\tbest: 0.2614673 (52)\ttotal: 2m 24s\tremaining: 8.92s\n",
      "942:\tlearn: 0.0621818\ttest: 0.2862272\tbest: 0.2614673 (52)\ttotal: 2m 25s\tremaining: 8.77s\n",
      "943:\tlearn: 0.0621800\ttest: 0.2862675\tbest: 0.2614673 (52)\ttotal: 2m 25s\tremaining: 8.62s\n",
      "944:\tlearn: 0.0621767\ttest: 0.2861293\tbest: 0.2614673 (52)\ttotal: 2m 25s\tremaining: 8.46s\n",
      "945:\tlearn: 0.0621753\ttest: 0.2861405\tbest: 0.2614673 (52)\ttotal: 2m 25s\tremaining: 8.3s\n",
      "946:\tlearn: 0.0621622\ttest: 0.2861028\tbest: 0.2614673 (52)\ttotal: 2m 25s\tremaining: 8.15s\n",
      "947:\tlearn: 0.0621482\ttest: 0.2863310\tbest: 0.2614673 (52)\ttotal: 2m 25s\tremaining: 8s\n",
      "948:\tlearn: 0.0621453\ttest: 0.2863153\tbest: 0.2614673 (52)\ttotal: 2m 25s\tremaining: 7.84s\n",
      "949:\tlearn: 0.0621429\ttest: 0.2862792\tbest: 0.2614673 (52)\ttotal: 2m 26s\tremaining: 7.69s\n",
      "950:\tlearn: 0.0621409\ttest: 0.2863062\tbest: 0.2614673 (52)\ttotal: 2m 26s\tremaining: 7.53s\n",
      "951:\tlearn: 0.0621395\ttest: 0.2864241\tbest: 0.2614673 (52)\ttotal: 2m 26s\tremaining: 7.38s\n",
      "952:\tlearn: 0.0621389\ttest: 0.2863557\tbest: 0.2614673 (52)\ttotal: 2m 26s\tremaining: 7.22s\n",
      "953:\tlearn: 0.0621301\ttest: 0.2863661\tbest: 0.2614673 (52)\ttotal: 2m 26s\tremaining: 7.07s\n",
      "954:\tlearn: 0.0621294\ttest: 0.2862792\tbest: 0.2614673 (52)\ttotal: 2m 26s\tremaining: 6.91s\n",
      "955:\tlearn: 0.0621244\ttest: 0.2863389\tbest: 0.2614673 (52)\ttotal: 2m 26s\tremaining: 6.75s\n",
      "956:\tlearn: 0.0621196\ttest: 0.2863819\tbest: 0.2614673 (52)\ttotal: 2m 26s\tremaining: 6.6s\n",
      "957:\tlearn: 0.0621072\ttest: 0.2865772\tbest: 0.2614673 (52)\ttotal: 2m 27s\tremaining: 6.45s\n",
      "958:\tlearn: 0.0621056\ttest: 0.2865627\tbest: 0.2614673 (52)\ttotal: 2m 27s\tremaining: 6.29s\n",
      "959:\tlearn: 0.0621041\ttest: 0.2866021\tbest: 0.2614673 (52)\ttotal: 2m 27s\tremaining: 6.14s\n",
      "960:\tlearn: 0.0621022\ttest: 0.2866046\tbest: 0.2614673 (52)\ttotal: 2m 27s\tremaining: 5.98s\n",
      "961:\tlearn: 0.0621013\ttest: 0.2869316\tbest: 0.2614673 (52)\ttotal: 2m 27s\tremaining: 5.83s\n",
      "962:\tlearn: 0.0620877\ttest: 0.2869047\tbest: 0.2614673 (52)\ttotal: 2m 27s\tremaining: 5.68s\n",
      "963:\tlearn: 0.0620863\ttest: 0.2868741\tbest: 0.2614673 (52)\ttotal: 2m 27s\tremaining: 5.52s\n",
      "964:\tlearn: 0.0620846\ttest: 0.2868089\tbest: 0.2614673 (52)\ttotal: 2m 27s\tremaining: 5.37s\n",
      "965:\tlearn: 0.0620780\ttest: 0.2867268\tbest: 0.2614673 (52)\ttotal: 2m 28s\tremaining: 5.21s\n",
      "966:\tlearn: 0.0620760\ttest: 0.2866519\tbest: 0.2614673 (52)\ttotal: 2m 28s\tremaining: 5.06s\n",
      "967:\tlearn: 0.0620730\ttest: 0.2865853\tbest: 0.2614673 (52)\ttotal: 2m 28s\tremaining: 4.9s\n",
      "968:\tlearn: 0.0620705\ttest: 0.2868303\tbest: 0.2614673 (52)\ttotal: 2m 28s\tremaining: 4.75s\n",
      "969:\tlearn: 0.0620649\ttest: 0.2867752\tbest: 0.2614673 (52)\ttotal: 2m 28s\tremaining: 4.6s\n",
      "970:\tlearn: 0.0620549\ttest: 0.2868995\tbest: 0.2614673 (52)\ttotal: 2m 28s\tremaining: 4.44s\n",
      "971:\tlearn: 0.0620528\ttest: 0.2869426\tbest: 0.2614673 (52)\ttotal: 2m 28s\tremaining: 4.29s\n",
      "972:\tlearn: 0.0620519\ttest: 0.2867893\tbest: 0.2614673 (52)\ttotal: 2m 29s\tremaining: 4.13s\n",
      "973:\tlearn: 0.0620487\ttest: 0.2867570\tbest: 0.2614673 (52)\ttotal: 2m 29s\tremaining: 3.98s\n",
      "974:\tlearn: 0.0620465\ttest: 0.2867466\tbest: 0.2614673 (52)\ttotal: 2m 29s\tremaining: 3.83s\n",
      "975:\tlearn: 0.0620451\ttest: 0.2867384\tbest: 0.2614673 (52)\ttotal: 2m 29s\tremaining: 3.67s\n",
      "976:\tlearn: 0.0620426\ttest: 0.2869656\tbest: 0.2614673 (52)\ttotal: 2m 29s\tremaining: 3.52s\n",
      "977:\tlearn: 0.0620412\ttest: 0.2882628\tbest: 0.2614673 (52)\ttotal: 2m 29s\tremaining: 3.36s\n",
      "978:\tlearn: 0.0620396\ttest: 0.2882573\tbest: 0.2614673 (52)\ttotal: 2m 29s\tremaining: 3.21s\n",
      "979:\tlearn: 0.0620368\ttest: 0.2882513\tbest: 0.2614673 (52)\ttotal: 2m 29s\tremaining: 3.06s\n",
      "980:\tlearn: 0.0620336\ttest: 0.2882403\tbest: 0.2614673 (52)\ttotal: 2m 30s\tremaining: 2.91s\n",
      "981:\tlearn: 0.0620310\ttest: 0.2882182\tbest: 0.2614673 (52)\ttotal: 2m 30s\tremaining: 2.75s\n",
      "982:\tlearn: 0.0620301\ttest: 0.2883785\tbest: 0.2614673 (52)\ttotal: 2m 30s\tremaining: 2.6s\n",
      "983:\tlearn: 0.0620277\ttest: 0.2884006\tbest: 0.2614673 (52)\ttotal: 2m 30s\tremaining: 2.45s\n",
      "984:\tlearn: 0.0620261\ttest: 0.2883863\tbest: 0.2614673 (52)\ttotal: 2m 30s\tremaining: 2.29s\n",
      "985:\tlearn: 0.0620253\ttest: 0.2883854\tbest: 0.2614673 (52)\ttotal: 2m 30s\tremaining: 2.14s\n",
      "986:\tlearn: 0.0620244\ttest: 0.2883672\tbest: 0.2614673 (52)\ttotal: 2m 30s\tremaining: 1.99s\n",
      "987:\tlearn: 0.0620224\ttest: 0.2889300\tbest: 0.2614673 (52)\ttotal: 2m 31s\tremaining: 1.84s\n",
      "988:\tlearn: 0.0620215\ttest: 0.2882476\tbest: 0.2614673 (52)\ttotal: 2m 31s\tremaining: 1.68s\n",
      "989:\tlearn: 0.0620199\ttest: 0.2890192\tbest: 0.2614673 (52)\ttotal: 2m 31s\tremaining: 1.53s\n",
      "990:\tlearn: 0.0620183\ttest: 0.2889787\tbest: 0.2614673 (52)\ttotal: 2m 31s\tremaining: 1.38s\n",
      "991:\tlearn: 0.0620157\ttest: 0.2889744\tbest: 0.2614673 (52)\ttotal: 2m 31s\tremaining: 1.22s\n",
      "992:\tlearn: 0.0620142\ttest: 0.2891066\tbest: 0.2614673 (52)\ttotal: 2m 31s\tremaining: 1.07s\n",
      "993:\tlearn: 0.0620138\ttest: 0.2891020\tbest: 0.2614673 (52)\ttotal: 2m 32s\tremaining: 918ms\n",
      "994:\tlearn: 0.0620129\ttest: 0.2890991\tbest: 0.2614673 (52)\ttotal: 2m 32s\tremaining: 765ms\n",
      "995:\tlearn: 0.0620110\ttest: 0.2890856\tbest: 0.2614673 (52)\ttotal: 2m 32s\tremaining: 612ms\n",
      "996:\tlearn: 0.0620102\ttest: 0.2890838\tbest: 0.2614673 (52)\ttotal: 2m 32s\tremaining: 459ms\n",
      "997:\tlearn: 0.0620019\ttest: 0.2891248\tbest: 0.2614673 (52)\ttotal: 2m 32s\tremaining: 306ms\n",
      "998:\tlearn: 0.0619944\ttest: 0.2892815\tbest: 0.2614673 (52)\ttotal: 2m 32s\tremaining: 153ms\n",
      "999:\tlearn: 0.0619927\ttest: 0.2893656\tbest: 0.2614673 (52)\ttotal: 2m 33s\tremaining: 0us\n",
      "bestTest = 0.2614673379\n",
      "bestIteration = 52\n",
      "Shrink model to first 53 iterations.\n"
     ]
    }
   ],
   "source": [
    "model.fit(\n",
    "    X_train, y_train,\n",
    "    cat_features=indices_categoricos,\n",
    "    eval_set=(X_val, y_val),\n",
    "    logging_level='Verbose',  # you can uncomment this for text output\n",
    "    plot=True\n",
    ");"
   ]
  },
  {
   "cell_type": "code",
   "execution_count": 21,
   "metadata": {},
   "outputs": [
    {
     "name": "stdout",
     "output_type": "stream",
     "text": [
      "Ago Model\n",
      "Tree count: 53\n",
      "Accuracy: 0.91211\n",
      "True Positive Rate: 0.86751\n",
      "Precision: 0.95238\n",
      "Balanced Accuracy: 0.91209\n",
      "F1 Score: 0.90797\n"
     ]
    }
   ],
   "source": [
    "print('Ago Model')\n",
    "print('Tree count: {}'.format(model.tree_count_))\n",
    "print('Accuracy: {:.5}'.format(accuracy_score(y_val, model.predict(X_val))))\n",
    "print('True Positive Rate: {:.5}'.format(recall_score(y_val, model.predict(X_val))))\n",
    "print('Precision: {:.5}'.format(precision_score(y_val, model.predict(X_val))))\n",
    "print('Balanced Accuracy: {:.5}'.format(balanced_accuracy_score(y_val, model.predict(X_val))))\n",
    "print('F1 Score: {:.5}'.format(f1_score(y_val, model.predict(X_val))))"
   ]
  },
  {
   "cell_type": "code",
   "execution_count": 22,
   "metadata": {},
   "outputs": [
    {
     "data": {
      "image/png": "[encoded data removed]",
      "text/plain": [
       "<Figure size 864x648 with 2 Axes>"
      ]
     },
     "metadata": {
      "needs_background": "light"
     },
     "output_type": "display_data"
    }
   ],
   "source": [
    "y_pred = model.predict(X_val)\n",
    "# Dibujamos también la matriz de confusión para nuestro modelo\n",
    "mat = confusion_matrix(y_val, y_pred)\n",
    "plt.figure(figsize=(12, 9))\n",
    "sns.heatmap(mat, annot=True)\n",
    "plt.show()"
   ]
  },
  {
   "cell_type": "code",
   "execution_count": 23,
   "metadata": {},
   "outputs": [
    {
     "name": "stdout",
     "output_type": "stream",
     "text": [
      "Accuracy: 0.9121120032295685\n",
      "True Positive Rate 0.8675096206706981\n",
      "Precision 0.8784632168292783\n",
      "Balanced accuracy 0.9120895073237263\n",
      "f1 score 0.9079668152114562\n"
     ]
    }
   ],
   "source": [
    "y_pred = model.predict(X_val)\n",
    "prediction_probs = model.predict_proba(X_val)\n",
    "\n",
    "accuracy = accuracy_score(y_val,y_pred)\n",
    "recall = recall_score(y_val,y_pred,average='binary',pos_label=1)\n",
    "precision = precision_score(y_val,y_pred,average='binary',pos_label=0)\n",
    "balanced_accuracy = balanced_accuracy_score(y_val,y_pred)\n",
    "f1 = f1_score(y_val,y_pred,pos_label=1)\n",
    "print(f'Accuracy: {accuracy}')\n",
    "print(f'True Positive Rate {recall}')\n",
    "print(f'Precision {precision}')\n",
    "print(f'Balanced accuracy {balanced_accuracy}')\n",
    "print(f'f1 score {f1}')"
   ]
  },
  {
   "cell_type": "code",
   "execution_count": 24,
   "metadata": {},
   "outputs": [
    {
     "data": {
      "text/plain": [
       "(85355, 3866, 11809, 77322)"
      ]
     },
     "execution_count": 24,
     "metadata": {},
     "output_type": "execute_result"
    }
   ],
   "source": [
    "# Calculamos las entradas de la matriz de confusión\n",
    "tn, fp, fn, tp = confusion_matrix(y_val, y_pred).ravel()\n",
    "tn,fp,fn,tp"
   ]
  },
  {
   "cell_type": "code",
   "execution_count": 25,
   "metadata": {},
   "outputs": [
    {
     "data": {
      "image/png": "[encoded data removed]",
      "text/plain": [
       "<Figure size 432x288 with 1 Axes>"
      ]
     },
     "metadata": {
      "needs_background": "light"
     },
     "output_type": "display_data"
    }
   ],
   "source": [
    "# Dibujamos la curva de ROC para este modelo\n",
    "from sklearn.metrics import roc_curve\n",
    "y_pred_proba = model.predict_proba(X_val)[:,1]\n",
    "fpr, tpr, thresholds = roc_curve(y_val, y_pred_proba,pos_label=1)\n",
    "plt.plot([0,1],[0,1],'k-')\n",
    "plt.plot(fpr,tpr, label='Knn')\n",
    "plt.xlabel('fpr')\n",
    "plt.ylabel('tpr')\n",
    "plt.title('ROC curve')\n",
    "plt.show()"
   ]
  },
  {
   "cell_type": "code",
   "execution_count": 26,
   "metadata": {},
   "outputs": [
    {
     "data": {
      "image/png": "[encoded data removed]",
      "text/plain": [
       "<Figure size 936x720 with 1 Axes>"
      ]
     },
     "metadata": {
      "needs_background": "light"
     },
     "output_type": "display_data"
    }
   ],
   "source": [
    "# Graficar la importancia de las variables\n",
    "fi2 = pd.Series(model.feature_importances_, index=X_train.columns)\n",
    "fig, ax = plt.subplots(figsize = (13,10))\n",
    "sns.barplot(x=fi2.values, y=fi2.index, ax=ax)\n",
    "plt.show()"
   ]
  },
  {
   "cell_type": "code",
   "execution_count": 27,
   "metadata": {},
   "outputs": [],
   "source": [
    "copia_general = X_val.copy()\n",
    "copia_general['Y_Faltante'] = y_val\n",
    "copia_general['Predicción_Ago'] = model.predict(X_val)\n",
    "copia_general.to_csv('chedrauiab.csv',index=True)"
   ]
  },
  {
   "cell_type": "markdown",
   "metadata": {},
   "source": [
    "## Vamos a tratar de implementar un corrector"
   ]
  },
  {
   "cell_type": "code",
   "execution_count": 28,
   "metadata": {},
   "outputs": [],
   "source": [
    "nuevos_datos = chedraui_cd_val.copy()\n",
    "#nuevos_datos['Predicción_Ago'] = model.predict(nuevos_datos.drop('Y_Faltante',axis=1))"
   ]
  },
  {
   "cell_type": "code",
   "execution_count": 29,
   "metadata": {},
   "outputs": [],
   "source": [
    "nuevos_datos['Predicción_Ago'] = model.predict(nuevos_datos.drop('Y_Faltante',axis=1))"
   ]
  },
  {
   "cell_type": "code",
   "execution_count": 30,
   "metadata": {},
   "outputs": [],
   "source": [
    "nuevos_datos[['0','1']] = model.predict_proba(nuevos_datos.drop(['Y_Faltante','Predicción_Ago'],axis=1))"
   ]
  },
  {
   "cell_type": "code",
   "execution_count": 31,
   "metadata": {},
   "outputs": [
    {
     "data": {
      "text/html": [
       "<div>\n",
       "<style scoped>\n",
       "    .dataframe tbody tr th:only-of-type {\n",
       "        vertical-align: middle;\n",
       "    }\n",
       "\n",
       "    .dataframe tbody tr th {\n",
       "        vertical-align: top;\n",
       "    }\n",
       "\n",
       "    .dataframe thead th {\n",
       "        text-align: right;\n",
       "    }\n",
       "</style>\n",
       "<table border=\"1\" class=\"dataframe\">\n",
       "  <thead>\n",
       "    <tr style=\"text-align: right;\">\n",
       "      <th></th>\n",
       "      <th>SKU</th>\n",
       "      <th>Tienda</th>\n",
       "      <th>Categoria</th>\n",
       "      <th>CLASE</th>\n",
       "      <th>Sem</th>\n",
       "      <th>Existencia</th>\n",
       "      <th>fiDesplazamiento</th>\n",
       "      <th>VentaPromedio</th>\n",
       "      <th>Y_Faltante</th>\n",
       "      <th>Predicción_Ago</th>\n",
       "      <th>0</th>\n",
       "      <th>1</th>\n",
       "    </tr>\n",
       "  </thead>\n",
       "  <tbody>\n",
       "    <tr>\n",
       "      <th>0</th>\n",
       "      <td>3269530</td>\n",
       "      <td>CHEDRAUI MEXICO COAPA</td>\n",
       "      <td>JUGOS Y NÉCTARES</td>\n",
       "      <td>JUGOS Y NÉCTARES</td>\n",
       "      <td>25</td>\n",
       "      <td>43.0</td>\n",
       "      <td>29.0</td>\n",
       "      <td>290.00</td>\n",
       "      <td>0</td>\n",
       "      <td>0</td>\n",
       "      <td>0.945165</td>\n",
       "      <td>0.054835</td>\n",
       "    </tr>\n",
       "    <tr>\n",
       "      <th>2</th>\n",
       "      <td>3003153</td>\n",
       "      <td>CHEDRAUI MEXICO COAPA</td>\n",
       "      <td>PAÑALES</td>\n",
       "      <td>PAÑALES</td>\n",
       "      <td>25</td>\n",
       "      <td>0.0</td>\n",
       "      <td>13.0</td>\n",
       "      <td>1534.00</td>\n",
       "      <td>1</td>\n",
       "      <td>1</td>\n",
       "      <td>0.395407</td>\n",
       "      <td>0.604593</td>\n",
       "    </tr>\n",
       "    <tr>\n",
       "      <th>3</th>\n",
       "      <td>3406681</td>\n",
       "      <td>CHEDRAUI MEXICO COAPA</td>\n",
       "      <td>FOCOS</td>\n",
       "      <td>FOCOS</td>\n",
       "      <td>25</td>\n",
       "      <td>13.0</td>\n",
       "      <td>4.0</td>\n",
       "      <td>176.00</td>\n",
       "      <td>1</td>\n",
       "      <td>1</td>\n",
       "      <td>0.011014</td>\n",
       "      <td>0.988986</td>\n",
       "    </tr>\n",
       "    <tr>\n",
       "      <th>4</th>\n",
       "      <td>3657942</td>\n",
       "      <td>CHEDRAUI MEXICO COAPA</td>\n",
       "      <td>JABONES DE TOCADOR</td>\n",
       "      <td>JABONES DE TOCADOR</td>\n",
       "      <td>25</td>\n",
       "      <td>0.0</td>\n",
       "      <td>32.0</td>\n",
       "      <td>704.00</td>\n",
       "      <td>0</td>\n",
       "      <td>1</td>\n",
       "      <td>0.407130</td>\n",
       "      <td>0.592870</td>\n",
       "    </tr>\n",
       "    <tr>\n",
       "      <th>5</th>\n",
       "      <td>3269493</td>\n",
       "      <td>CHEDRAUI MEXICO COAPA</td>\n",
       "      <td>FOCOS</td>\n",
       "      <td>FOCOS</td>\n",
       "      <td>25</td>\n",
       "      <td>27.0</td>\n",
       "      <td>7.0</td>\n",
       "      <td>1146.46</td>\n",
       "      <td>1</td>\n",
       "      <td>1</td>\n",
       "      <td>0.004471</td>\n",
       "      <td>0.995529</td>\n",
       "    </tr>\n",
       "    <tr>\n",
       "      <th>...</th>\n",
       "      <td>...</td>\n",
       "      <td>...</td>\n",
       "      <td>...</td>\n",
       "      <td>...</td>\n",
       "      <td>...</td>\n",
       "      <td>...</td>\n",
       "      <td>...</td>\n",
       "      <td>...</td>\n",
       "      <td>...</td>\n",
       "      <td>...</td>\n",
       "      <td>...</td>\n",
       "      <td>...</td>\n",
       "    </tr>\n",
       "    <tr>\n",
       "      <th>794934</th>\n",
       "      <td>3104617</td>\n",
       "      <td>CHEDRAUI MERIDA CAUCEL</td>\n",
       "      <td>DESODORANTES CABALLERO</td>\n",
       "      <td>DESODORANTES CABALLERO</td>\n",
       "      <td>28</td>\n",
       "      <td>16.0</td>\n",
       "      <td>36.0</td>\n",
       "      <td>1768.68</td>\n",
       "      <td>1</td>\n",
       "      <td>0</td>\n",
       "      <td>0.861817</td>\n",
       "      <td>0.138183</td>\n",
       "    </tr>\n",
       "    <tr>\n",
       "      <th>794935</th>\n",
       "      <td>3610657</td>\n",
       "      <td>CHEDRAUI MERIDA CAUCEL</td>\n",
       "      <td>SHAMPOOS Y ACONDICIONADOR</td>\n",
       "      <td>SHAMPOOS Y ACONDICIONADOR</td>\n",
       "      <td>28</td>\n",
       "      <td>0.0</td>\n",
       "      <td>27.0</td>\n",
       "      <td>0.00</td>\n",
       "      <td>1</td>\n",
       "      <td>1</td>\n",
       "      <td>0.279228</td>\n",
       "      <td>0.720772</td>\n",
       "    </tr>\n",
       "    <tr>\n",
       "      <th>794936</th>\n",
       "      <td>3720524</td>\n",
       "      <td>CHEDRAUI MERIDA CAUCEL</td>\n",
       "      <td>QUESOS EMPACADOS</td>\n",
       "      <td>QUESOS EMPACADOS</td>\n",
       "      <td>28</td>\n",
       "      <td>0.0</td>\n",
       "      <td>1.0</td>\n",
       "      <td>0.00</td>\n",
       "      <td>1</td>\n",
       "      <td>1</td>\n",
       "      <td>0.136108</td>\n",
       "      <td>0.863892</td>\n",
       "    </tr>\n",
       "    <tr>\n",
       "      <th>794938</th>\n",
       "      <td>3189530</td>\n",
       "      <td>CHEDRAUI MERIDA CAUCEL</td>\n",
       "      <td>PAN</td>\n",
       "      <td>PAN</td>\n",
       "      <td>28</td>\n",
       "      <td>0.0</td>\n",
       "      <td>77.0</td>\n",
       "      <td>0.00</td>\n",
       "      <td>1</td>\n",
       "      <td>1</td>\n",
       "      <td>0.168168</td>\n",
       "      <td>0.831832</td>\n",
       "    </tr>\n",
       "    <tr>\n",
       "      <th>794939</th>\n",
       "      <td>3304126</td>\n",
       "      <td>CHEDRAUI MERIDA CAUCEL</td>\n",
       "      <td>INCONTINENCIA</td>\n",
       "      <td>INCONTINENCIA</td>\n",
       "      <td>28</td>\n",
       "      <td>4.0</td>\n",
       "      <td>8.0</td>\n",
       "      <td>1304.00</td>\n",
       "      <td>0</td>\n",
       "      <td>0</td>\n",
       "      <td>0.937470</td>\n",
       "      <td>0.062530</td>\n",
       "    </tr>\n",
       "  </tbody>\n",
       "</table>\n",
       "<p>178352 rows × 12 columns</p>\n",
       "</div>"
      ],
      "text/plain": [
       "            SKU                  Tienda                  Categoria  \\\n",
       "0       3269530   CHEDRAUI MEXICO COAPA           JUGOS Y NÉCTARES   \n",
       "2       3003153   CHEDRAUI MEXICO COAPA                    PAÑALES   \n",
       "3       3406681   CHEDRAUI MEXICO COAPA                      FOCOS   \n",
       "4       3657942   CHEDRAUI MEXICO COAPA         JABONES DE TOCADOR   \n",
       "5       3269493   CHEDRAUI MEXICO COAPA                      FOCOS   \n",
       "...         ...                     ...                        ...   \n",
       "794934  3104617  CHEDRAUI MERIDA CAUCEL     DESODORANTES CABALLERO   \n",
       "794935  3610657  CHEDRAUI MERIDA CAUCEL  SHAMPOOS Y ACONDICIONADOR   \n",
       "794936  3720524  CHEDRAUI MERIDA CAUCEL           QUESOS EMPACADOS   \n",
       "794938  3189530  CHEDRAUI MERIDA CAUCEL                        PAN   \n",
       "794939  3304126  CHEDRAUI MERIDA CAUCEL              INCONTINENCIA   \n",
       "\n",
       "                            CLASE Sem  Existencia  fiDesplazamiento  \\\n",
       "0                JUGOS Y NÉCTARES  25        43.0              29.0   \n",
       "2                         PAÑALES  25         0.0              13.0   \n",
       "3                           FOCOS  25        13.0               4.0   \n",
       "4              JABONES DE TOCADOR  25         0.0              32.0   \n",
       "5                           FOCOS  25        27.0               7.0   \n",
       "...                           ...  ..         ...               ...   \n",
       "794934     DESODORANTES CABALLERO  28        16.0              36.0   \n",
       "794935  SHAMPOOS Y ACONDICIONADOR  28         0.0              27.0   \n",
       "794936           QUESOS EMPACADOS  28         0.0               1.0   \n",
       "794938                        PAN  28         0.0              77.0   \n",
       "794939              INCONTINENCIA  28         4.0               8.0   \n",
       "\n",
       "        VentaPromedio  Y_Faltante  Predicción_Ago         0         1  \n",
       "0              290.00           0               0  0.945165  0.054835  \n",
       "2             1534.00           1               1  0.395407  0.604593  \n",
       "3              176.00           1               1  0.011014  0.988986  \n",
       "4              704.00           0               1  0.407130  0.592870  \n",
       "5             1146.46           1               1  0.004471  0.995529  \n",
       "...               ...         ...             ...       ...       ...  \n",
       "794934        1768.68           1               0  0.861817  0.138183  \n",
       "794935           0.00           1               1  0.279228  0.720772  \n",
       "794936           0.00           1               1  0.136108  0.863892  \n",
       "794938           0.00           1               1  0.168168  0.831832  \n",
       "794939        1304.00           0               0  0.937470  0.062530  \n",
       "\n",
       "[178352 rows x 12 columns]"
      ]
     },
     "execution_count": 31,
     "metadata": {},
     "output_type": "execute_result"
    }
   ],
   "source": [
    "nuevos_datos"
   ]
  },
  {
   "cell_type": "code",
   "execution_count": 32,
   "metadata": {},
   "outputs": [],
   "source": [
    "# 0 va a indicar acuerdo y 1 indica desacuerdo\n",
    "faltante_real = nuevos_datos['Y_Faltante']\n",
    "faltante_predicho = nuevos_datos['Predicción_Ago']\n",
    "verdaderos_positivos = (faltante_real + faltante_predicho) % 2\n",
    "nuevos_datos['Acuerdo'] = verdaderos_positivos "
   ]
  },
  {
   "cell_type": "code",
   "execution_count": 33,
   "metadata": {},
   "outputs": [
    {
     "data": {
      "text/plain": [
       "0    162677\n",
       "1     15675\n",
       "dtype: int64"
      ]
     },
     "execution_count": 33,
     "metadata": {},
     "output_type": "execute_result"
    }
   ],
   "source": [
    "# Aquí reportamos el numero de acuerdos y desacuerdos\n",
    "verdaderos_positivos.value_counts()"
   ]
  },
  {
   "cell_type": "code",
   "execution_count": 34,
   "metadata": {},
   "outputs": [
    {
     "name": "stdout",
     "output_type": "stream",
     "text": [
      "yes %: 8.788799677043151- no %: 91.21120032295686\n"
     ]
    },
    {
     "data": {
      "image/png": "[encoded data removed]",
      "text/plain": [
       "<Figure size 720x360 with 1 Axes>"
      ]
     },
     "metadata": {
      "needs_background": "light"
     },
     "output_type": "display_data"
    }
   ],
   "source": [
    "# Revisamos (de nuevo) la proporción de datos\n",
    "target = verdaderos_positivos\n",
    "yes = target[target == 1].count()\n",
    "no = target[target == 0].count()\n",
    "print('yes %: ' + str(yes/len(target)*100) + '- no %: ' \\\n",
    "        + str(no/len(target)*100))\n",
    "\n",
    "\n",
    "fig, ax = plt.subplots(figsize=(10,5))\n",
    "plt.bar(\"Desacuerdo :(\", yes)\n",
    "plt.bar(\"Acuerdo :)\", no)\n",
    "ax.set_yticks([yes,no])\n",
    "plt.xticks(fontsize=15)\n",
    "plt.yticks(fontsize=15)\n",
    "plt.show()"
   ]
  },
  {
   "cell_type": "code",
   "execution_count": 35,
   "metadata": {},
   "outputs": [],
   "source": [
    "buenas = nuevos_datos[nuevos_datos['Acuerdo']==0]\n",
    "malas = nuevos_datos[nuevos_datos['Acuerdo']==1]"
   ]
  },
  {
   "cell_type": "code",
   "execution_count": 36,
   "metadata": {},
   "outputs": [
    {
     "data": {
      "text/plain": [
       "162677"
      ]
     },
     "execution_count": 36,
     "metadata": {},
     "output_type": "execute_result"
    }
   ],
   "source": [
    "len(buenas)"
   ]
  },
  {
   "cell_type": "code",
   "execution_count": 37,
   "metadata": {},
   "outputs": [
    {
     "data": {
      "text/plain": [
       "15675"
      ]
     },
     "execution_count": 37,
     "metadata": {},
     "output_type": "execute_result"
    }
   ],
   "source": [
    "len(malas)"
   ]
  },
  {
   "cell_type": "code",
   "execution_count": 38,
   "metadata": {},
   "outputs": [
    {
     "data": {
      "text/plain": [
       "15675"
      ]
     },
     "execution_count": 38,
     "metadata": {},
     "output_type": "execute_result"
    }
   ],
   "source": [
    "pieza = buenas[0:len(malas)]\n",
    "len(pieza)"
   ]
  },
  {
   "cell_type": "code",
   "execution_count": 39,
   "metadata": {},
   "outputs": [],
   "source": [
    "# El argumento de extrae vá a ser \"y\" donde  x = 100% - y & \"y\" es el porcentaje (del total) que quieres extraer\n",
    "frame_final = pd.concat([malas,pieza],axis=0)"
   ]
  },
  {
   "cell_type": "code",
   "execution_count": 40,
   "metadata": {},
   "outputs": [
    {
     "data": {
      "text/html": [
       "<div>\n",
       "<style scoped>\n",
       "    .dataframe tbody tr th:only-of-type {\n",
       "        vertical-align: middle;\n",
       "    }\n",
       "\n",
       "    .dataframe tbody tr th {\n",
       "        vertical-align: top;\n",
       "    }\n",
       "\n",
       "    .dataframe thead th {\n",
       "        text-align: right;\n",
       "    }\n",
       "</style>\n",
       "<table border=\"1\" class=\"dataframe\">\n",
       "  <thead>\n",
       "    <tr style=\"text-align: right;\">\n",
       "      <th></th>\n",
       "      <th>SKU</th>\n",
       "      <th>Tienda</th>\n",
       "      <th>Categoria</th>\n",
       "      <th>CLASE</th>\n",
       "      <th>Sem</th>\n",
       "      <th>Existencia</th>\n",
       "      <th>fiDesplazamiento</th>\n",
       "      <th>VentaPromedio</th>\n",
       "      <th>Y_Faltante</th>\n",
       "      <th>Predicción_Ago</th>\n",
       "      <th>0</th>\n",
       "      <th>1</th>\n",
       "      <th>Acuerdo</th>\n",
       "    </tr>\n",
       "  </thead>\n",
       "  <tbody>\n",
       "    <tr>\n",
       "      <th>4</th>\n",
       "      <td>3657942</td>\n",
       "      <td>CHEDRAUI MEXICO COAPA</td>\n",
       "      <td>JABONES DE TOCADOR</td>\n",
       "      <td>JABONES DE TOCADOR</td>\n",
       "      <td>25</td>\n",
       "      <td>0.0</td>\n",
       "      <td>32.0</td>\n",
       "      <td>704.00</td>\n",
       "      <td>0</td>\n",
       "      <td>1</td>\n",
       "      <td>0.407130</td>\n",
       "      <td>0.592870</td>\n",
       "      <td>1</td>\n",
       "    </tr>\n",
       "    <tr>\n",
       "      <th>10</th>\n",
       "      <td>3596150</td>\n",
       "      <td>CHEDRAUI MEXICO COAPA</td>\n",
       "      <td>ASEO BUCAL</td>\n",
       "      <td>ASEO BUCAL</td>\n",
       "      <td>25</td>\n",
       "      <td>0.0</td>\n",
       "      <td>29.0</td>\n",
       "      <td>1099.68</td>\n",
       "      <td>0</td>\n",
       "      <td>1</td>\n",
       "      <td>0.406818</td>\n",
       "      <td>0.593182</td>\n",
       "      <td>1</td>\n",
       "    </tr>\n",
       "    <tr>\n",
       "      <th>11</th>\n",
       "      <td>3090410</td>\n",
       "      <td>CHEDRAUI MEXICO COAPA</td>\n",
       "      <td>CONDIMENTOS Y ESPECIES</td>\n",
       "      <td>CONDIMENTOS Y ESPECIES</td>\n",
       "      <td>25</td>\n",
       "      <td>0.0</td>\n",
       "      <td>35.0</td>\n",
       "      <td>805.00</td>\n",
       "      <td>0</td>\n",
       "      <td>1</td>\n",
       "      <td>0.419413</td>\n",
       "      <td>0.580587</td>\n",
       "      <td>1</td>\n",
       "    </tr>\n",
       "    <tr>\n",
       "      <th>32</th>\n",
       "      <td>3470720</td>\n",
       "      <td>CHEDRAUI MEXICO COAPA</td>\n",
       "      <td>DESMANCHADORES</td>\n",
       "      <td>DESMANCHADORES</td>\n",
       "      <td>25</td>\n",
       "      <td>0.0</td>\n",
       "      <td>41.0</td>\n",
       "      <td>810.16</td>\n",
       "      <td>0</td>\n",
       "      <td>1</td>\n",
       "      <td>0.155756</td>\n",
       "      <td>0.844244</td>\n",
       "      <td>1</td>\n",
       "    </tr>\n",
       "    <tr>\n",
       "      <th>36</th>\n",
       "      <td>3104581</td>\n",
       "      <td>CHEDRAUI MEXICO COAPA</td>\n",
       "      <td>VINOS TINTOS</td>\n",
       "      <td>VINOS TINTOS</td>\n",
       "      <td>25</td>\n",
       "      <td>12.0</td>\n",
       "      <td>13.0</td>\n",
       "      <td>965.25</td>\n",
       "      <td>1</td>\n",
       "      <td>0</td>\n",
       "      <td>0.923300</td>\n",
       "      <td>0.076700</td>\n",
       "      <td>1</td>\n",
       "    </tr>\n",
       "    <tr>\n",
       "      <th>...</th>\n",
       "      <td>...</td>\n",
       "      <td>...</td>\n",
       "      <td>...</td>\n",
       "      <td>...</td>\n",
       "      <td>...</td>\n",
       "      <td>...</td>\n",
       "      <td>...</td>\n",
       "      <td>...</td>\n",
       "      <td>...</td>\n",
       "      <td>...</td>\n",
       "      <td>...</td>\n",
       "      <td>...</td>\n",
       "      <td>...</td>\n",
       "    </tr>\n",
       "    <tr>\n",
       "      <th>45432</th>\n",
       "      <td>3356847</td>\n",
       "      <td>CHEDRAUI CUERNAVACA FLORES MAGON</td>\n",
       "      <td>CERVEZAS</td>\n",
       "      <td>CERVEZAS</td>\n",
       "      <td>27</td>\n",
       "      <td>25.0</td>\n",
       "      <td>67.0</td>\n",
       "      <td>18368.72</td>\n",
       "      <td>0</td>\n",
       "      <td>0</td>\n",
       "      <td>0.935846</td>\n",
       "      <td>0.064154</td>\n",
       "      <td>0</td>\n",
       "    </tr>\n",
       "    <tr>\n",
       "      <th>45433</th>\n",
       "      <td>3333191</td>\n",
       "      <td>CHEDRAUI CUERNAVACA FLORES MAGON</td>\n",
       "      <td>COMIDA CONGELADA</td>\n",
       "      <td>COMIDA CONGELADA</td>\n",
       "      <td>26</td>\n",
       "      <td>3.0</td>\n",
       "      <td>6.0</td>\n",
       "      <td>1458.00</td>\n",
       "      <td>1</td>\n",
       "      <td>1</td>\n",
       "      <td>0.004762</td>\n",
       "      <td>0.995238</td>\n",
       "      <td>0</td>\n",
       "    </tr>\n",
       "    <tr>\n",
       "      <th>45434</th>\n",
       "      <td>3646759</td>\n",
       "      <td>CHEDRAUI CUERNAVACA FLORES MAGON</td>\n",
       "      <td>TOALLAS FEMENINAS</td>\n",
       "      <td>TOALLAS FEMENINAS</td>\n",
       "      <td>26</td>\n",
       "      <td>0.0</td>\n",
       "      <td>8.0</td>\n",
       "      <td>0.00</td>\n",
       "      <td>1</td>\n",
       "      <td>1</td>\n",
       "      <td>0.071666</td>\n",
       "      <td>0.928334</td>\n",
       "      <td>0</td>\n",
       "    </tr>\n",
       "    <tr>\n",
       "      <th>45435</th>\n",
       "      <td>3256783</td>\n",
       "      <td>CHEDRAUI CUERNAVACA FLORES MAGON</td>\n",
       "      <td>COMIDA CONGELADA</td>\n",
       "      <td>COMIDA CONGELADA</td>\n",
       "      <td>27</td>\n",
       "      <td>23.0</td>\n",
       "      <td>106.0</td>\n",
       "      <td>11609.12</td>\n",
       "      <td>1</td>\n",
       "      <td>1</td>\n",
       "      <td>0.004797</td>\n",
       "      <td>0.995203</td>\n",
       "      <td>0</td>\n",
       "    </tr>\n",
       "    <tr>\n",
       "      <th>45437</th>\n",
       "      <td>3348201</td>\n",
       "      <td>CHEDRAUI CUERNAVACA FLORES MAGON</td>\n",
       "      <td>CERVEZAS</td>\n",
       "      <td>CERVEZAS</td>\n",
       "      <td>26</td>\n",
       "      <td>237.0</td>\n",
       "      <td>745.0</td>\n",
       "      <td>51382.65</td>\n",
       "      <td>0</td>\n",
       "      <td>0</td>\n",
       "      <td>0.935846</td>\n",
       "      <td>0.064154</td>\n",
       "      <td>0</td>\n",
       "    </tr>\n",
       "  </tbody>\n",
       "</table>\n",
       "<p>31350 rows × 13 columns</p>\n",
       "</div>"
      ],
      "text/plain": [
       "           SKU                            Tienda               Categoria  \\\n",
       "4      3657942             CHEDRAUI MEXICO COAPA      JABONES DE TOCADOR   \n",
       "10     3596150             CHEDRAUI MEXICO COAPA              ASEO BUCAL   \n",
       "11     3090410             CHEDRAUI MEXICO COAPA  CONDIMENTOS Y ESPECIES   \n",
       "32     3470720             CHEDRAUI MEXICO COAPA          DESMANCHADORES   \n",
       "36     3104581             CHEDRAUI MEXICO COAPA            VINOS TINTOS   \n",
       "...        ...                               ...                     ...   \n",
       "45432  3356847  CHEDRAUI CUERNAVACA FLORES MAGON                CERVEZAS   \n",
       "45433  3333191  CHEDRAUI CUERNAVACA FLORES MAGON        COMIDA CONGELADA   \n",
       "45434  3646759  CHEDRAUI CUERNAVACA FLORES MAGON       TOALLAS FEMENINAS   \n",
       "45435  3256783  CHEDRAUI CUERNAVACA FLORES MAGON        COMIDA CONGELADA   \n",
       "45437  3348201  CHEDRAUI CUERNAVACA FLORES MAGON                CERVEZAS   \n",
       "\n",
       "                        CLASE Sem  Existencia  fiDesplazamiento  \\\n",
       "4          JABONES DE TOCADOR  25         0.0              32.0   \n",
       "10                 ASEO BUCAL  25         0.0              29.0   \n",
       "11     CONDIMENTOS Y ESPECIES  25         0.0              35.0   \n",
       "32             DESMANCHADORES  25         0.0              41.0   \n",
       "36               VINOS TINTOS  25        12.0              13.0   \n",
       "...                       ...  ..         ...               ...   \n",
       "45432                CERVEZAS  27        25.0              67.0   \n",
       "45433        COMIDA CONGELADA  26         3.0               6.0   \n",
       "45434       TOALLAS FEMENINAS  26         0.0               8.0   \n",
       "45435        COMIDA CONGELADA  27        23.0             106.0   \n",
       "45437                CERVEZAS  26       237.0             745.0   \n",
       "\n",
       "       VentaPromedio  Y_Faltante  Predicción_Ago         0         1  Acuerdo  \n",
       "4             704.00           0               1  0.407130  0.592870        1  \n",
       "10           1099.68           0               1  0.406818  0.593182        1  \n",
       "11            805.00           0               1  0.419413  0.580587        1  \n",
       "32            810.16           0               1  0.155756  0.844244        1  \n",
       "36            965.25           1               0  0.923300  0.076700        1  \n",
       "...              ...         ...             ...       ...       ...      ...  \n",
       "45432       18368.72           0               0  0.935846  0.064154        0  \n",
       "45433        1458.00           1               1  0.004762  0.995238        0  \n",
       "45434           0.00           1               1  0.071666  0.928334        0  \n",
       "45435       11609.12           1               1  0.004797  0.995203        0  \n",
       "45437       51382.65           0               0  0.935846  0.064154        0  \n",
       "\n",
       "[31350 rows x 13 columns]"
      ]
     },
     "execution_count": 40,
     "metadata": {},
     "output_type": "execute_result"
    }
   ],
   "source": [
    "frame_final"
   ]
  },
  {
   "cell_type": "code",
   "execution_count": 41,
   "metadata": {},
   "outputs": [],
   "source": [
    "frame_final.to_csv('reporte_chedrauiab.csv',index=True)"
   ]
  },
  {
   "cell_type": "markdown",
   "metadata": {},
   "source": [
    "### Aquí la idea es construir una muestra que sea 50 vs 50 tanto en acuerdo\n",
    "### Posiblemente sea interesante también hacer una prueba con un modelo que tenga 50/50 tanto en acuerdo como en faltante contra no faltante "
   ]
  },
  {
   "cell_type": "code",
   "execution_count": 42,
   "metadata": {},
   "outputs": [
    {
     "name": "stdout",
     "output_type": "stream",
     "text": [
      "yes %: 50.0- no %: 50.0\n"
     ]
    },
    {
     "data": {
      "image/png": "[encoded data removed]",
      "text/plain": [
       "<Figure size 720x360 with 1 Axes>"
      ]
     },
     "metadata": {
      "needs_background": "light"
     },
     "output_type": "display_data"
    }
   ],
   "source": [
    "# Revisamos la proporción de datos\n",
    "target = frame_final['Acuerdo']\n",
    "yes = target[target == 1].count()\n",
    "no = target[target == 0].count()\n",
    "print('yes %: ' + str(yes/len(target)*100) + '- no %: ' \\\n",
    "        + str(no/len(target)*100))\n",
    "\n",
    "\n",
    "fig, ax = plt.subplots(figsize=(10,5))\n",
    "plt.bar(\"Desacuerdo :(\", yes)\n",
    "plt.bar(\"Acuerdo :D\", no)\n",
    "ax.set_yticks([yes,no])\n",
    "plt.xticks(fontsize=15)\n",
    "plt.yticks(fontsize=15)\n",
    "plt.show()"
   ]
  },
  {
   "cell_type": "code",
   "execution_count": 43,
   "metadata": {},
   "outputs": [],
   "source": [
    "frame_final_features = frame_final[['Predicción_Ago','0','1']]\n",
    "frame_final_target = frame_final.Y_Faltante"
   ]
  },
  {
   "cell_type": "markdown",
   "metadata": {},
   "source": [
    "## Encajes de árboles"
   ]
  },
  {
   "cell_type": "code",
   "execution_count": 44,
   "metadata": {},
   "outputs": [
    {
     "name": "stdout",
     "output_type": "stream",
     "text": [
      "Entrenamiento: 25080  Prueba: 6270\n"
     ]
    }
   ],
   "source": [
    "# Se construyen los conjuntos de entrenamiento y prueba sobre los que se aplicarán algoritmos de machine learning\n",
    "X1_train, X1_val, y1_train, y1_val = train_test_split(frame_final_features, frame_final_target, test_size=0.2, random_state=0)\n",
    "print('Entrenamiento:', X1_train.shape[0], ' Prueba:', X1_val.shape[0])"
   ]
  },
  {
   "cell_type": "code",
   "execution_count": 45,
   "metadata": {},
   "outputs": [],
   "source": [
    "from sklearn.ensemble import RandomTreesEmbedding\n",
    "random_tree_embedding = RandomTreesEmbedding(random_state=0)"
   ]
  },
  {
   "cell_type": "code",
   "execution_count": 46,
   "metadata": {},
   "outputs": [
    {
     "data": {
      "text/plain": [
       "Pipeline(steps=[('randomtreesembedding', RandomTreesEmbedding(random_state=0)),\n",
       "                ('logisticregression', LogisticRegression(max_iter=1000))])"
      ]
     },
     "execution_count": 46,
     "metadata": {},
     "output_type": "execute_result"
    }
   ],
   "source": [
    "from sklearn.linear_model import LogisticRegression\n",
    "from sklearn.pipeline import make_pipeline\n",
    "\n",
    "gb_model = make_pipeline(random_tree_embedding, LogisticRegression(max_iter=1000))\n",
    "gb_model.fit(X1_train, y1_train)"
   ]
  },
  {
   "cell_type": "code",
   "execution_count": 47,
   "metadata": {},
   "outputs": [
    {
     "data": {
      "image/png": "[encoded data removed]",
      "text/plain": [
       "<Figure size 864x648 with 2 Axes>"
      ]
     },
     "metadata": {
      "needs_background": "light"
     },
     "output_type": "display_data"
    }
   ],
   "source": [
    "from sklearn.metrics import confusion_matrix\n",
    "#y_test = label_test\n",
    "y_pred = gb_model.predict(X1_val)\n",
    "mat = confusion_matrix(y1_val, y_pred)\n",
    "plt.figure(figsize=(12, 9))\n",
    "sns.heatmap(mat, annot=True)\n",
    "plt.show()"
   ]
  },
  {
   "cell_type": "code",
   "execution_count": 48,
   "metadata": {},
   "outputs": [
    {
     "name": "stdout",
     "output_type": "stream",
     "text": [
      "Accuracy: 0.7628389154704944\n",
      "True Positive Rate 0.8324795081967213\n",
      "Precision 0.795983345579231\n",
      "Balanced accuracy 0.7402042511397808\n",
      "f1 score 0.8138224614999373\n"
     ]
    }
   ],
   "source": [
    "accuracy = accuracy_score(y1_val,y_pred)\n",
    "recall = recall_score(y1_val,y_pred)\n",
    "precision = precision_score(y1_val,y_pred)\n",
    "balanced_accuracy = balanced_accuracy_score(y1_val,y_pred)\n",
    "f1 = f1_score(y1_val,y_pred)\n",
    "print(f'Accuracy: {accuracy}')\n",
    "print(f'True Positive Rate {recall}')\n",
    "print(f'Precision {precision}')\n",
    "print(f'Balanced accuracy {balanced_accuracy}')\n",
    "print(f'f1 score {f1}')"
   ]
  },
  {
   "cell_type": "markdown",
   "metadata": {},
   "source": [
    "## Usamos un sistema de recomendaciones"
   ]
  },
  {
   "cell_type": "code",
   "execution_count": 49,
   "metadata": {},
   "outputs": [
    {
     "data": {
      "text/plain": [
       "GradientBoostingClassifier(random_state=0)"
      ]
     },
     "execution_count": 49,
     "metadata": {},
     "output_type": "execute_result"
    }
   ],
   "source": [
    "from sklearn.ensemble import RandomForestClassifier, GradientBoostingClassifier\n",
    "gb = GradientBoostingClassifier(random_state=0)\n",
    "\n",
    "gb.fit(X1_train, y1_train)"
   ]
  },
  {
   "cell_type": "code",
   "execution_count": 50,
   "metadata": {},
   "outputs": [
    {
     "name": "stderr",
     "output_type": "stream",
     "text": [
      "/home/rlopez/anaconda3/envs/Algoritmo/lib/python3.9/site-packages/sklearn/base.py:443: UserWarning: X has feature names, but DecisionTreeRegressor was fitted without feature names\n",
      "  warnings.warn(\n"
     ]
    },
    {
     "data": {
      "text/plain": [
       "Pipeline(steps=[('functiontransformer',\n",
       "                 FunctionTransformer(func=<function gbdt_apply at 0x7faa2067c5e0>,\n",
       "                                     kw_args={'model': GradientBoostingClassifier(random_state=0)})),\n",
       "                ('onehotencoder', OneHotEncoder(handle_unknown='ignore')),\n",
       "                ('logisticregression', LogisticRegression(max_iter=1000))])"
      ]
     },
     "execution_count": 50,
     "metadata": {},
     "output_type": "execute_result"
    }
   ],
   "source": [
    "from sklearn.preprocessing import FunctionTransformer\n",
    "from sklearn.preprocessing import OneHotEncoder\n",
    "\n",
    "def gbdt_apply(X, model):\n",
    "    return model.apply(X)[:, :, 0]\n",
    "\n",
    "\n",
    "gbdt_leaves_yielder = FunctionTransformer(\n",
    "    gbdt_apply, kw_args={\"model\": gb}\n",
    ")\n",
    "\n",
    "gbdt_model = make_pipeline(\n",
    "    gbdt_leaves_yielder,\n",
    "    OneHotEncoder(handle_unknown=\"ignore\"),\n",
    "    LogisticRegression(max_iter=1000),\n",
    ")\n",
    "gbdt_model.fit(X1_train, y1_train)"
   ]
  },
  {
   "cell_type": "code",
   "execution_count": 51,
   "metadata": {},
   "outputs": [
    {
     "name": "stderr",
     "output_type": "stream",
     "text": [
      "/home/rlopez/anaconda3/envs/Algoritmo/lib/python3.9/site-packages/sklearn/base.py:443: UserWarning: X has feature names, but DecisionTreeRegressor was fitted without feature names\n",
      "  warnings.warn(\n"
     ]
    },
    {
     "data": {
      "image/png": "[encoded data removed]",
      "text/plain": [
       "<Figure size 864x648 with 2 Axes>"
      ]
     },
     "metadata": {
      "needs_background": "light"
     },
     "output_type": "display_data"
    }
   ],
   "source": [
    "from sklearn.metrics import confusion_matrix\n",
    "#y_test = label_test\n",
    "y_pred = gbdt_model.predict(X1_val)\n",
    "mat = confusion_matrix(y1_val, y_pred)\n",
    "plt.figure(figsize=(12, 9))\n",
    "sns.heatmap(mat, annot=True)\n",
    "plt.show()"
   ]
  },
  {
   "cell_type": "code",
   "execution_count": 52,
   "metadata": {},
   "outputs": [
    {
     "name": "stdout",
     "output_type": "stream",
     "text": [
      "Accuracy: 0.769377990430622\n",
      "True Positive Rate 0.8506659836065574\n",
      "Precision 0.7937380497131931\n",
      "Balanced accuracy 0.7429576748125771\n",
      "f1 score 0.8212166172106825\n"
     ]
    }
   ],
   "source": [
    "accuracy = accuracy_score(y1_val,y_pred)\n",
    "recall = recall_score(y1_val,y_pred)\n",
    "precision = precision_score(y1_val,y_pred)\n",
    "balanced_accuracy = balanced_accuracy_score(y1_val,y_pred)\n",
    "f1 = f1_score(y1_val,y_pred)\n",
    "print(f'Accuracy: {accuracy}')\n",
    "print(f'True Positive Rate {recall}')\n",
    "print(f'Precision {precision}')\n",
    "print(f'Balanced accuracy {balanced_accuracy}')\n",
    "print(f'f1 score {f1}')"
   ]
  },
  {
   "cell_type": "markdown",
   "metadata": {},
   "source": [
    "## AdaBoost "
   ]
  },
  {
   "cell_type": "code",
   "execution_count": 53,
   "metadata": {},
   "outputs": [],
   "source": [
    "from sklearn.ensemble import AdaBoostClassifier"
   ]
  },
  {
   "cell_type": "code",
   "execution_count": 54,
   "metadata": {},
   "outputs": [
    {
     "name": "stdout",
     "output_type": "stream",
     "text": [
      "Precisión entrenamiento: 0.7621, Presición validación: 0.7614\n"
     ]
    }
   ],
   "source": [
    "from sklearn.ensemble import RandomForestClassifier\n",
    "ada = AdaBoostClassifier(random_state=0)\n",
    "ada.fit(X1_train, y1_train)\n",
    "ada.predict(X1_val)\n",
    "acc_train = ada.score(X1_train,y1_train)\n",
    "acc_test = ada.score(X1_val,y1_val)\n",
    "\n",
    "print(f'Precisión entrenamiento: {acc_train.round(4)}, Presición validación: {acc_test.round(4)}')"
   ]
  },
  {
   "cell_type": "code",
   "execution_count": 55,
   "metadata": {},
   "outputs": [
    {
     "data": {
      "image/png": "[encoded data removed]",
      "text/plain": [
       "<Figure size 864x648 with 2 Axes>"
      ]
     },
     "metadata": {
      "needs_background": "light"
     },
     "output_type": "display_data"
    }
   ],
   "source": [
    "from sklearn.metrics import confusion_matrix\n",
    "#y_test = label_test\n",
    "y_pred = ada.predict(X1_val)\n",
    "mat = confusion_matrix(y1_val, y_pred)\n",
    "plt.figure(figsize=(12, 9))\n",
    "sns.heatmap(mat, annot=True)\n",
    "plt.show()"
   ]
  },
  {
   "cell_type": "code",
   "execution_count": 56,
   "metadata": {},
   "outputs": [
    {
     "name": "stdout",
     "output_type": "stream",
     "text": [
      "Accuracy: 0.7614035087719299\n",
      "True Positive Rate 0.8496413934426229\n",
      "Precision 0.7849029815428301\n",
      "Balanced accuracy 0.7327243315480232\n",
      "f1 score 0.8159901599015991\n"
     ]
    }
   ],
   "source": [
    "accuracy = accuracy_score(y1_val,y_pred)\n",
    "recall = recall_score(y1_val,y_pred)\n",
    "precision = precision_score(y1_val,y_pred)\n",
    "balanced_accuracy = balanced_accuracy_score(y1_val,y_pred)\n",
    "f1 = f1_score(y1_val,y_pred)\n",
    "print(f'Accuracy: {accuracy}')\n",
    "print(f'True Positive Rate {recall}')\n",
    "print(f'Precision {precision}')\n",
    "print(f'Balanced accuracy {balanced_accuracy}')\n",
    "print(f'f1 score {f1}')"
   ]
  },
  {
   "cell_type": "markdown",
   "metadata": {},
   "source": [
    "## Random forest"
   ]
  },
  {
   "cell_type": "code",
   "execution_count": 57,
   "metadata": {},
   "outputs": [
    {
     "name": "stdout",
     "output_type": "stream",
     "text": [
      "Precisión entrenamiento: 0.9621, Presición validación: 0.7936\n"
     ]
    }
   ],
   "source": [
    "from sklearn.ensemble import RandomForestClassifier\n",
    "rfc = RandomForestClassifier(random_state=0)\n",
    "rfc.fit(X1_train, y1_train)\n",
    "rfc.predict(X1_val)\n",
    "acc_train = rfc.score(X1_train,y1_train)\n",
    "acc_test = rfc.score(X1_val,y1_val)\n",
    "\n",
    "print(f'Precisión entrenamiento: {acc_train.round(4)}, Presición validación: {acc_test.round(4)}')"
   ]
  },
  {
   "cell_type": "code",
   "execution_count": 58,
   "metadata": {},
   "outputs": [
    {
     "data": {
      "image/png": "[encoded data removed]",
      "text/plain": [
       "<Figure size 864x648 with 2 Axes>"
      ]
     },
     "metadata": {
      "needs_background": "light"
     },
     "output_type": "display_data"
    }
   ],
   "source": [
    "from sklearn.metrics import confusion_matrix\n",
    "#y_test = label_test\n",
    "y_pred = rfc.predict(X1_val)\n",
    "mat = confusion_matrix(y1_val, y_pred)\n",
    "plt.figure(figsize=(12, 9))\n",
    "sns.heatmap(mat, annot=True)\n",
    "plt.show()"
   ]
  },
  {
   "cell_type": "code",
   "execution_count": 59,
   "metadata": {},
   "outputs": [
    {
     "name": "stdout",
     "output_type": "stream",
     "text": [
      "Accuracy: 0.7936204146730462\n",
      "True Positive Rate 0.8314549180327869\n",
      "Precision 0.8361669242658424\n",
      "Balanced accuracy 0.7813234015354129\n",
      "f1 score 0.8338042640637041\n"
     ]
    }
   ],
   "source": [
    "accuracy = accuracy_score(y1_val,y_pred)\n",
    "recall = recall_score(y1_val,y_pred)\n",
    "precision = precision_score(y1_val,y_pred)\n",
    "balanced_accuracy = balanced_accuracy_score(y1_val,y_pred)\n",
    "f1 = f1_score(y1_val,y_pred)\n",
    "print(f'Accuracy: {accuracy}')\n",
    "print(f'True Positive Rate {recall}')\n",
    "print(f'Precision {precision}')\n",
    "print(f'Balanced accuracy {balanced_accuracy}')\n",
    "print(f'f1 score {f1}')"
   ]
  },
  {
   "cell_type": "markdown",
   "metadata": {},
   "source": [
    "## Vanilla LightGBM classifier"
   ]
  },
  {
   "cell_type": "code",
   "execution_count": 60,
   "metadata": {},
   "outputs": [
    {
     "name": "stdout",
     "output_type": "stream",
     "text": [
      "Precisión entrenamiento: 0.7688, Presición validación: 0.7627\n"
     ]
    }
   ],
   "source": [
    "#from sklearn.ensemble import GradientBoostClassifier\n",
    "from lightgbm import LGBMClassifier\n",
    "lgbm = LGBMClassifier(random_state=0)\n",
    "lgbm.fit(X1_train, y1_train)\n",
    "lgbm.predict(X1_val)\n",
    "acc_train = lgbm.score(X1_train,y1_train)\n",
    "acc_test = lgbm.score(X1_val,y1_val)\n",
    "\n",
    "print(f'Precisión entrenamiento: {acc_train.round(4)}, Presición validación: {acc_test.round(4)}')"
   ]
  },
  {
   "cell_type": "code",
   "execution_count": 61,
   "metadata": {},
   "outputs": [
    {
     "data": {
      "image/png": "[encoded data removed]",
      "text/plain": [
       "<Figure size 864x648 with 2 Axes>"
      ]
     },
     "metadata": {
      "needs_background": "light"
     },
     "output_type": "display_data"
    }
   ],
   "source": [
    "from sklearn.metrics import confusion_matrix\n",
    "#y_test = label_test\n",
    "y_pred = lgbm.predict(X1_val)\n",
    "mat = confusion_matrix(y1_val, y_pred)\n",
    "plt.figure(figsize=(12, 9))\n",
    "sns.heatmap(mat, annot=True)\n",
    "plt.show()"
   ]
  },
  {
   "cell_type": "code",
   "execution_count": 62,
   "metadata": {},
   "outputs": [
    {
     "data": {
      "text/plain": [
       "(1485, 881, 607, 3297)"
      ]
     },
     "execution_count": 62,
     "metadata": {},
     "output_type": "execute_result"
    }
   ],
   "source": [
    "tn, fp, fn, tp = confusion_matrix(y1_val, y_pred).ravel()\n",
    "tn,fp,fn,tp"
   ]
  },
  {
   "cell_type": "code",
   "execution_count": 63,
   "metadata": {},
   "outputs": [
    {
     "name": "stdout",
     "output_type": "stream",
     "text": [
      "Accuracy: 0.7626794258373206\n",
      "True Positive Rate 0.8445184426229508\n",
      "Precision 0.7891335567257061\n",
      "Balanced accuracy 0.7360800159015009\n",
      "f1 score 0.815887156644395\n"
     ]
    }
   ],
   "source": [
    "accuracy = accuracy_score(y1_val,y_pred)\n",
    "recall = recall_score(y1_val,y_pred)\n",
    "precision = precision_score(y1_val,y_pred)\n",
    "balanced_accuracy = balanced_accuracy_score(y1_val,y_pred)\n",
    "f1 = f1_score(y1_val,y_pred)\n",
    "print(f'Accuracy: {accuracy}')\n",
    "print(f'True Positive Rate {recall}')\n",
    "print(f'Precision {precision}')\n",
    "print(f'Balanced accuracy {balanced_accuracy}')\n",
    "print(f'f1 score {f1}')"
   ]
  },
  {
   "cell_type": "markdown",
   "metadata": {},
   "source": [
    "## Naive Bayes"
   ]
  },
  {
   "cell_type": "code",
   "execution_count": 64,
   "metadata": {},
   "outputs": [
    {
     "ename": "TypeError",
     "evalue": "fit() missing 1 required positional argument: 'y'",
     "output_type": "error",
     "traceback": [
      "\u001b[0;31m---------------------------------------------------------------------------\u001b[0m",
      "\u001b[0;31mTypeError\u001b[0m                                 Traceback (most recent call last)",
      "\u001b[1;32m/home/rlopez/Algoritmo_Chedraui/New_Dataset/Categoria_Formato/Rescate/chedrauiab.ipynb Cell 73\u001b[0m in \u001b[0;36m<cell line: 3>\u001b[0;34m()\u001b[0m\n\u001b[1;32m      <a href='vscode-notebook-cell://ssh-remote%2Bneo/home/rlopez/Algoritmo_Chedraui/New_Dataset/Categoria_Formato/Rescate/chedrauiab.ipynb#ch0000072vscode-remote?line=0'>1</a>\u001b[0m \u001b[39mfrom\u001b[39;00m \u001b[39msklearn\u001b[39;00m\u001b[39m.\u001b[39;00m\u001b[39mnaive_bayes\u001b[39;00m \u001b[39mimport\u001b[39;00m GaussianNB\n\u001b[1;32m      <a href='vscode-notebook-cell://ssh-remote%2Bneo/home/rlopez/Algoritmo_Chedraui/New_Dataset/Categoria_Formato/Rescate/chedrauiab.ipynb#ch0000072vscode-remote?line=1'>2</a>\u001b[0m ada \u001b[39m=\u001b[39m GaussianNB\n\u001b[0;32m----> <a href='vscode-notebook-cell://ssh-remote%2Bneo/home/rlopez/Algoritmo_Chedraui/New_Dataset/Categoria_Formato/Rescate/chedrauiab.ipynb#ch0000072vscode-remote?line=2'>3</a>\u001b[0m ada\u001b[39m.\u001b[39;49mfit(X1_train, y1_train)\n\u001b[1;32m      <a href='vscode-notebook-cell://ssh-remote%2Bneo/home/rlopez/Algoritmo_Chedraui/New_Dataset/Categoria_Formato/Rescate/chedrauiab.ipynb#ch0000072vscode-remote?line=3'>4</a>\u001b[0m ada\u001b[39m.\u001b[39mpredict(X1_val)\n\u001b[1;32m      <a href='vscode-notebook-cell://ssh-remote%2Bneo/home/rlopez/Algoritmo_Chedraui/New_Dataset/Categoria_Formato/Rescate/chedrauiab.ipynb#ch0000072vscode-remote?line=4'>5</a>\u001b[0m acc_train \u001b[39m=\u001b[39m ada\u001b[39m.\u001b[39mscore(X1_train,y1_train)\n",
      "\u001b[0;31mTypeError\u001b[0m: fit() missing 1 required positional argument: 'y'"
     ]
    },
    {
     "ename": "",
     "evalue": "",
     "output_type": "error",
     "traceback": [
      "\u001b[1;31mThe Kernel crashed while executing code in the the current cell or a previous cell. Please review the code in the cell(s) to identify a possible cause of the failure. Click <a href='https://aka.ms/vscodeJupyterKernelCrash'>here</a> for more info. View Jupyter <a href='command:jupyter.viewOutput'>log</a> for further details."
     ]
    }
   ],
   "source": [
    "from sklearn.naive_bayes import GaussianNB\n",
    "ada = GaussianNB()\n",
    "ada.fit(X1_train, y1_train)\n",
    "ada.predict(X1_val)\n",
    "acc_train = ada.score(X1_train,y1_train)\n",
    "acc_test = ada.score(X1_val,y1_val)\n",
    "\n",
    "print(f'Precisión entrenamiento: {acc_train.round(4)}, Presición validación: {acc_test.round(4)}')"
   ]
  },
  {
   "cell_type": "code",
   "execution_count": null,
   "metadata": {},
   "outputs": [],
   "source": [
    "from sklearn.metrics import confusion_matrix\n",
    "#y_test = label_test\n",
    "y_pred = lgbm.predict(X1_val)\n",
    "mat = confusion_matrix(y1_val, y_pred)\n",
    "plt.figure(figsize=(12, 9))\n",
    "sns.heatmap(mat, annot=True)\n",
    "plt.show()"
   ]
  },
  {
   "cell_type": "code",
   "execution_count": null,
   "metadata": {},
   "outputs": [],
   "source": [
    "tn, fp, fn, tp = confusion_matrix(y1_val, y_pred).ravel()\n",
    "tn,fp,fn,tp"
   ]
  },
  {
   "cell_type": "code",
   "execution_count": null,
   "metadata": {},
   "outputs": [],
   "source": [
    "accuracy = accuracy_score(y1_val,y_pred)\n",
    "recall = recall_score(y1_val,y_pred)\n",
    "precision = precision_score(y1_val,y_pred)\n",
    "balanced_accuracy = balanced_accuracy_score(y1_val,y_pred)\n",
    "f1 = f1_score(y1_val,y_pred)\n",
    "print(f'Accuracy: {accuracy}')\n",
    "print(f'True Positive Rate {recall}')\n",
    "print(f'Precision {precision}')\n",
    "print(f'Balanced accuracy {balanced_accuracy}')\n",
    "print(f'f1 score {f1}')"
   ]
  },
  {
   "cell_type": "markdown",
   "metadata": {},
   "source": [
    "## Local Cascade Ensemble"
   ]
  },
  {
   "cell_type": "code",
   "execution_count": null,
   "metadata": {},
   "outputs": [
    {
     "name": "stdout",
     "output_type": "stream",
     "text": [
      "Precisión entrenamiento: 0.9844, Presición validación: 0.9437\n"
     ]
    }
   ],
   "source": [
    "# Entrenamos un LCE con los parametros por defecto\n",
    "from lce import LCEClassifier\n",
    "lce = LCEClassifier(n_jobs=-1, random_state=123)\n",
    "lce.fit(X1_train, y1_train)\n",
    "lce.predict(X1_val)\n",
    "acc_train = lce.score(X1_train,y1_train)\n",
    "acc_test = lce.score(X1_val,y1_val)\n",
    "print(f'Precisión entrenamiento: {acc_train.round(4)}, Presición validación: {acc_test.round(4)}')"
   ]
  },
  {
   "cell_type": "code",
   "execution_count": null,
   "metadata": {},
   "outputs": [
    {
     "data": {
      "image/png": "[encoded data removed]",
      "text/plain": [
       "<Figure size 864x648 with 2 Axes>"
      ]
     },
     "metadata": {
      "needs_background": "light"
     },
     "output_type": "display_data"
    }
   ],
   "source": [
    "from sklearn.metrics import confusion_matrix\n",
    "#y_test = label_test\n",
    "y_pred = lce.predict(X1_val)\n",
    "mat = confusion_matrix(y1_val, y_pred)\n",
    "plt.figure(figsize=(12, 9))\n",
    "sns.heatmap(mat, annot=True)\n",
    "plt.show()"
   ]
  },
  {
   "cell_type": "code",
   "execution_count": null,
   "metadata": {},
   "outputs": [
    {
     "data": {
      "text/plain": [
       "(7320, 344, 328, 3937)"
      ]
     },
     "execution_count": 223,
     "metadata": {},
     "output_type": "execute_result"
    }
   ],
   "source": [
    "tn, fp, fn, tp = confusion_matrix(y1_val, y_pred).ravel()\n",
    "tn,fp,fn,tp"
   ]
  },
  {
   "cell_type": "code",
   "execution_count": null,
   "metadata": {},
   "outputs": [
    {
     "name": "stdout",
     "output_type": "stream",
     "text": [
      "Accuracy: 0.9436666946097745\n",
      "True Positive Rate 0.923094958968347\n",
      "Precision 0.9196449427703808\n",
      "Balanced accuracy 0.93910489075766\n",
      "f1 score 0.9213667212731101\n"
     ]
    }
   ],
   "source": [
    "accuracy = accuracy_score(y1_val,y_pred)\n",
    "recall = recall_score(y1_val,y_pred)\n",
    "precision = precision_score(y1_val,y_pred)\n",
    "balanced_accuracy = balanced_accuracy_score(y1_val,y_pred)\n",
    "f1 = f1_score(y1_val,y_pred)\n",
    "print(f'Accuracy: {accuracy}')\n",
    "print(f'True Positive Rate {recall}')\n",
    "print(f'Precision {precision}')\n",
    "print(f'Balanced accuracy {balanced_accuracy}')\n",
    "print(f'f1 score {f1}')"
   ]
  },
  {
   "cell_type": "code",
   "execution_count": null,
   "metadata": {},
   "outputs": [
    {
     "data": {
      "image/png": "[encoded data removed]",
      "text/plain": [
       "<Figure size 432x288 with 1 Axes>"
      ]
     },
     "metadata": {
      "needs_background": "light"
     },
     "output_type": "display_data"
    }
   ],
   "source": [
    "from sklearn.metrics import roc_curve\n",
    "y_pred_proba = lce.predict_proba(X1_val)[:,1]\n",
    "fpr, tpr, thresholds = roc_curve(y1_val, y_pred_proba)\n",
    "plt.plot([0,1],[0,1],'k-')\n",
    "plt.plot(fpr,tpr, label='Knn')\n",
    "plt.xlabel('fpr')\n",
    "plt.ylabel('tpr')\n",
    "plt.title('ROC curve')\n",
    "plt.show()"
   ]
  },
  {
   "cell_type": "markdown",
   "metadata": {},
   "source": [
    "## Usamos un XGBClassifier"
   ]
  },
  {
   "cell_type": "code",
   "execution_count": null,
   "metadata": {},
   "outputs": [],
   "source": [
    "from xgboost import XGBClassifier\n",
    "xgb = XGBClassifier()"
   ]
  },
  {
   "cell_type": "code",
   "execution_count": null,
   "metadata": {},
   "outputs": [
    {
     "name": "stdout",
     "output_type": "stream",
     "text": [
      "Precisión entrenamiento: 0.9982, Presición validación: 0.974\n"
     ]
    }
   ],
   "source": [
    "from sklearn.ensemble import RandomForestClassifier\n",
    "xgb = RandomForestClassifier(random_state=0)\n",
    "xgb.fit(X1_train, y1_train)\n",
    "xgb.predict(X1_val)\n",
    "acc_train = xgb.score(X1_train,y1_train)\n",
    "acc_test = xgb.score(X1_val,y1_val)\n",
    "\n",
    "print(f'Precisión entrenamiento: {acc_train.round(4)}, Presición validación: {acc_test.round(4)}')"
   ]
  },
  {
   "cell_type": "code",
   "execution_count": null,
   "metadata": {},
   "outputs": [
    {
     "data": {
      "image/png": "[encoded data removed]",
      "text/plain": [
       "<Figure size 864x648 with 2 Axes>"
      ]
     },
     "metadata": {
      "needs_background": "light"
     },
     "output_type": "display_data"
    }
   ],
   "source": [
    "from sklearn.metrics import confusion_matrix\n",
    "#y_test = label_test\n",
    "y_pred = xgb.predict(X1_val)\n",
    "mat = confusion_matrix(y1_val, y_pred)\n",
    "plt.figure(figsize=(12, 9))\n",
    "sns.heatmap(mat, annot=True)\n",
    "plt.show()"
   ]
  },
  {
   "cell_type": "code",
   "execution_count": null,
   "metadata": {},
   "outputs": [
    {
     "data": {
      "text/plain": [
       "(7466, 198, 112, 4153)"
      ]
     },
     "execution_count": 236,
     "metadata": {},
     "output_type": "execute_result"
    }
   ],
   "source": [
    "# Calculamos las entradas de la matriz de confusión\n",
    "tn, fp, fn, tp = confusion_matrix(y1_val, y_pred).ravel()\n",
    "tn,fp,fn,tp"
   ]
  },
  {
   "cell_type": "code",
   "execution_count": null,
   "metadata": {},
   "outputs": [
    {
     "name": "stdout",
     "output_type": "stream",
     "text": [
      "Accuracy: 0.9740129097158186\n",
      "True Positive Rate 0.9737397420867526\n",
      "Precision 0.9544932199494369\n",
      "Balanced accuracy 0.9739523345089296\n",
      "f1 score 0.964020427112349\n"
     ]
    }
   ],
   "source": [
    "accuracy = accuracy_score(y1_val,y_pred)\n",
    "recall = recall_score(y1_val,y_pred)\n",
    "precision = precision_score(y1_val,y_pred)\n",
    "balanced_accuracy = balanced_accuracy_score(y1_val,y_pred)\n",
    "f1 = f1_score(y1_val,y_pred)\n",
    "print(f'Accuracy: {accuracy}')\n",
    "print(f'True Positive Rate {recall}')\n",
    "print(f'Precision {precision}')\n",
    "print(f'Balanced accuracy {balanced_accuracy}')\n",
    "print(f'f1 score {f1}')"
   ]
  },
  {
   "cell_type": "code",
   "execution_count": null,
   "metadata": {},
   "outputs": [
    {
     "data": {
      "image/png": "[encoded data removed]",
      "text/plain": [
       "<Figure size 432x288 with 1 Axes>"
      ]
     },
     "metadata": {
      "needs_background": "light"
     },
     "output_type": "display_data"
    }
   ],
   "source": [
    "from sklearn.metrics import roc_curve\n",
    "y_pred_proba = xgb.predict_proba(X1_val)[:,1]\n",
    "fpr, tpr, thresholds = roc_curve(y1_val, y_pred_proba)\n",
    "plt.plot([0,1],[0,1],'k-')\n",
    "plt.plot(fpr,tpr, label='Knn')\n",
    "plt.xlabel('fpr')\n",
    "plt.ylabel('tpr')\n",
    "plt.title('ROC curve')\n",
    "plt.show()"
   ]
  },
  {
   "cell_type": "markdown",
   "metadata": {},
   "source": [
    "### Usamos una red neuronal como corrector"
   ]
  },
  {
   "cell_type": "code",
   "execution_count": null,
   "metadata": {},
   "outputs": [
    {
     "data": {
      "text/plain": [
       "<torch._C.Generator at 0x7f2cf4a02cb0>"
      ]
     },
     "execution_count": 178,
     "metadata": {},
     "output_type": "execute_result"
    }
   ],
   "source": [
    "import pandas as pd\n",
    "import numpy as np\n",
    "from sklearn.model_selection import train_test_split\n",
    "from sklearn.utils import shuffle\n",
    "from sklearn.metrics import accuracy_score\n",
    "import torch\n",
    "from torch import nn, optim\n",
    "import torch.nn.functional as F\n",
    "import matplotlib.pyplot as plt\n",
    "torch.manual_seed(0)"
   ]
  },
  {
   "cell_type": "code",
   "execution_count": null,
   "metadata": {},
   "outputs": [],
   "source": [
    "class Red_Ago(nn.Module):\n",
    "    def __init__(self, input_size):\n",
    "        super().__init__()\n",
    "        self.hidden_1 = nn.Linear(input_size, 500)\n",
    "        self.hidden_2 = nn.Linear(500, 500)\n",
    "        self.hidden_3 = nn.Linear(500, 100)\n",
    "        self.hidden_4 = nn.Linear(100, 10)\n",
    "        self.hidden_5 = nn.Linear(10, 10)\n",
    "        self.output = nn.Linear(10, 2)\n",
    "\n",
    "        self.batchnorm1 = nn.BatchNorm1d(500)\n",
    "        self.batchnorm2 = nn.BatchNorm1d(500)\n",
    "        self.batchnorm3 = nn.BatchNorm1d(100)\n",
    "        self.batchnorm4 = nn.BatchNorm1d(10)\n",
    "\n",
    "    def forward(self, x):\n",
    "        z = F.relu(self.hidden_1(x))\n",
    "        z = self.batchnorm1(z)\n",
    "        z = F.relu(self.hidden_2(z))\n",
    "        z = self.batchnorm2(z)\n",
    "        z = F.relu(self.hidden_3(z))\n",
    "        z = self.batchnorm3(z)\n",
    "        z = F.relu(self.hidden_4(z))\n",
    "        z = self.batchnorm4(z)\n",
    "        z = F.relu(self.hidden_5(z))\n",
    "\n",
    "        out = F.log_softmax(self.output(z), dim=1)\n",
    "\n",
    "        return out"
   ]
  },
  {
   "cell_type": "code",
   "execution_count": null,
   "metadata": {},
   "outputs": [],
   "source": [
    "# Una red mucho más profunda\n",
    "class Red_Ago3(nn.Module):\n",
    "    def __init__(self, input_size):\n",
    "        super().__init__()\n",
    "        self.hidden_1 = nn.Linear(input_size, 500)\n",
    "        self.hidden_2 = nn.Linear(500, 500)\n",
    "        self.hidden_3 = nn.Linear(500, 100)\n",
    "        self.hidden_4 = nn.Linear(100, 100)\n",
    "        self.hidden_5 = nn.Linear(100, 100)\n",
    "        self.hidden_6 = nn.Linear(100, 10)\n",
    "        self.hidden_7 = nn.Linear(10, 10)\n",
    "        self.hidden_8 = nn.Linear(10, 10)\n",
    "        self.hidden_9 = nn.Linear(10, 10)\n",
    "        self.hidden_10 = nn.Linear(10, 10)\n",
    "        self.hidden_11 = nn.Linear(10, 10)\n",
    "        self.hidden_12 = nn.Linear(10, 10)\n",
    "        self.output = nn.Linear(10, 2)\n",
    "\n",
    "        self.batchnorm1 = nn.BatchNorm1d(500)\n",
    "        self.batchnorm2 = nn.BatchNorm1d(500)\n",
    "        self.batchnorm3 = nn.BatchNorm1d(100)\n",
    "        self.batchnorm4 = nn.BatchNorm1d(100)\n",
    "        self.batchnorm5 = nn.BatchNorm1d(100)\n",
    "        self.batchnorm6 = nn.BatchNorm1d(10)\n",
    "        self.batchnorm7 = nn.BatchNorm1d(10)\n",
    "        self.batchnorm8 = nn.BatchNorm1d(10)\n",
    "        self.batchnorm9 = nn.BatchNorm1d(10)\n",
    "        self.batchnorm10 = nn.BatchNorm1d(10)\n",
    "        self.batchnorm11 = nn.BatchNorm1d(10)\n",
    "\n",
    "    def forward(self, x):\n",
    "        z = F.relu(self.hidden_1(x))\n",
    "        z = self.batchnorm1(z)\n",
    "        z = F.relu(self.hidden_2(z))\n",
    "        z = self.batchnorm2(z)\n",
    "        z = F.relu(self.hidden_3(z))\n",
    "        z = self.batchnorm3(z)\n",
    "        z = F.relu(self.hidden_4(z))\n",
    "        z = self.batchnorm4(z)\n",
    "        z = F.relu(self.hidden_5(z))\n",
    "        z = self.batchnorm5(z)\n",
    "        z = F.relu(self.hidden_6(z))\n",
    "        z = self.batchnorm6(z)\n",
    "        z = F.relu(self.hidden_7(z))\n",
    "        z = self.batchnorm7(z)\n",
    "        z = F.relu(self.hidden_8(z))\n",
    "        z = self.batchnorm8(z)\n",
    "        z= F.relu(self.hidden_9(z))\n",
    "        z = self.batchnorm9(z)\n",
    "        z = F.relu(self.hidden_10(z))\n",
    "        z = self.batchnorm10(z)\n",
    "        z = F.relu(self.hidden_11(z))\n",
    "        z = self.batchnorm11(z)\n",
    "        z = F.relu(self.hidden_12(z))\n",
    "\n",
    "        out = F.log_softmax(self.output(z), dim=1)\n",
    "\n",
    "        return out"
   ]
  },
  {
   "cell_type": "code",
   "execution_count": null,
   "metadata": {},
   "outputs": [],
   "source": [
    "frame_final_features = frame_final[['Predicción_Ago','0','1']]\n",
    "frame_final_target = frame_final.Y_Faltante"
   ]
  },
  {
   "cell_type": "code",
   "execution_count": null,
   "metadata": {},
   "outputs": [],
   "source": [
    "# Aislamos las variables numéricas y realizamos un min-max scaling sobre ellas\n",
    "#categorical = frame_final_train.drop(columns=['Existencia','fiDesplazamiento','VentaPromedio'])\n",
    "#numerical = frame_final_train[['Existencia','fiDesplazamiento','VentaPromedio','0','1']]\n",
    "#numerical_scaled = (numerical - numerical.min())/(numerical.max() - numerical.min())"
   ]
  },
  {
   "cell_type": "code",
   "execution_count": null,
   "metadata": {},
   "outputs": [],
   "source": [
    "#frame_final_train = pd.concat([categorical,numerical_scaled], axis=1)"
   ]
  },
  {
   "cell_type": "code",
   "execution_count": null,
   "metadata": {},
   "outputs": [
    {
     "name": "stdout",
     "output_type": "stream",
     "text": [
      "Entrenamiento: 47715  Prueba: 11929\n"
     ]
    }
   ],
   "source": [
    "# Se construyen los conjuntos de entrenamiento y prueba sobre los que se aplicarán algoritmos de machine learning\n",
    "X1_train, X1_val, y1_train, y1_val = train_test_split(frame_final_features, frame_final_target, test_size=0.2, random_state=0)\n",
    "print('Entrenamiento:', X1_train.shape[0], ' Prueba:', X1_val.shape[0])"
   ]
  },
  {
   "cell_type": "code",
   "execution_count": null,
   "metadata": {},
   "outputs": [],
   "source": [
    "X_test_torch = torch.tensor(X1_val.values).float()\n",
    "y_test_torch = torch.tensor(y1_val.values)"
   ]
  },
  {
   "cell_type": "code",
   "execution_count": null,
   "metadata": {},
   "outputs": [],
   "source": [
    "model1 = Red_Ago3(X1_train.shape[1])\n",
    "criterion = nn.NLLLoss()\n",
    "optimizer = optim.AdamW(model1.parameters(), lr=0.001)\n",
    "\n",
    "epochs = 100\n",
    "batch_size = 100\n",
    "\n",
    "\n",
    "train_losses, dev_losses, train_acc, dev_acc= [], [], [], []\n",
    "x_axis = []\n",
    "\n",
    "for e in range(1,epochs+1):\n",
    "    X_, y_ = shuffle(X1_train, y1_train)\n",
    "    running_loss = 0\n",
    "    running_acc = 0\n",
    "    iterations = 0\n",
    "\n",
    "    for i in range(0, len(X_), batch_size):\n",
    "        iterations += 1\n",
    "        b = i + batch_size\n",
    "        X_batch = torch.tensor(X_.iloc[i:b,:].values).float()\n",
    "        y_batch = torch.tensor(y_.iloc[i:b].values)\n",
    "\n",
    "        log_ps = model1(X_batch) \n",
    "        loss = criterion(log_ps, y_batch)\n",
    "        optimizer.zero_grad()\n",
    "        loss.backward()\n",
    "        optimizer.step()\n",
    "\n",
    "        running_loss += loss.item()\n",
    "        ps = torch.exp(log_ps)\n",
    "        top_p, top_class = ps.topk(1, dim=1)\n",
    "        running_acc += accuracy_score(y_batch.to('cpu'), top_class.to('cpu'))\n",
    "\n",
    "    dev_loss = 0\n",
    "    acc = 0\n",
    "\n",
    "    # Turn off gradients for validation, saves memory and computations\n",
    "    with torch.no_grad():\n",
    "        log_dev = model1(X_test_torch)\n",
    "        dev_loss = criterion(log_dev, y_test_torch)\n",
    "\n",
    "        ps_dev = torch.exp(log_dev)\n",
    "        top_p, top_class_dev = ps_dev.topk(1, dim=1)\n",
    "        acc = accuracy_score(y_test_torch.to('cpu'), top_class_dev.to('cpu'))\n",
    "\n",
    "    if e%20 == 0 or e == 1:\n",
    "        x_axis.append(e)\n",
    "\n",
    "        train_losses.append(running_loss/iterations)\n",
    "        dev_losses.append(dev_loss)\n",
    "        train_acc.append(running_acc/iterations)\n",
    "        dev_acc.append(acc)\n",
    "\n",
    "        print(\"Epoch: {}/{}.. \".format(e, epochs),\n",
    "              \"Training Loss: {:.6f}.. \".format(running_loss/iterations),\n",
    "              \"Validation Loss: {:.6f}.. \".format(dev_loss),\n",
    "              \"Training Accuracy: {:.6f}.. \".format(running_acc/iterations),\n",
    "              \"Validation Accuracy: {:.6f}\".format(acc))"
   ]
  },
  {
   "cell_type": "code",
   "execution_count": null,
   "metadata": {},
   "outputs": [],
   "source": [
    "# Efectuamos un análisis de errores para la red neuronal RedAgo1\n",
    "log_dev  = model1(X_test_torch)\n",
    "dev_loss = criterion(log_dev, y_test_torch)\n",
    "ps_dev = torch.exp(log_dev)\n",
    "top_p, top_class_dev = ps_dev.topk(1, dim=1)\n",
    "\n",
    "accuracy = accuracy_score(y_test_torch.to('cpu'),top_class_dev.to('cpu'))\n",
    "recall = recall_score(y_test_torch.to('cpu'),top_class_dev.to('cpu'))\n",
    "precision = precision_score(y_test_torch.to('cpu'),top_class_dev.to('cpu'))\n",
    "balanced_accuracy = balanced_accuracy_score(y_test_torch.to('cpu'),top_class_dev.to('cpu'))\n",
    "f1 = f1_score(y_test_torch.to('cpu'),top_class_dev.to('cpu'))\n",
    "print(f'Accuracy: {accuracy}')\n",
    "print(f'True Positive Rate {recall}')\n",
    "print(f'Precision {precision}')\n",
    "print(f'Balanced accuracy {balanced_accuracy}')\n",
    "print(f'f1 score {f1}')"
   ]
  },
  {
   "cell_type": "code",
   "execution_count": null,
   "metadata": {},
   "outputs": [],
   "source": [
    "import math\n",
    "import random \n",
    "# El imput 'frame' se refiere al dataframe al cual se le extraerá un subconjunto de elementos faltantes de anaquel en una proporción dada.\n",
    "# Porcentaje_faltante es el porcentaje deseado de elementos que son NO faltante (es decir, el procentaje mayor). \n",
    "\n",
    "# Guardamos el número de elementos no faltantes en una variable\n",
    "num_buenas = buenas.shape[0]\n",
    "\n",
    "def extrae(frame,procentaje_no_faltante):\n",
    "  faltantes = frame[frame['Y_Faltante']==1] # Extraemos los elementos que son faltante de anaquel\n",
    "  a = (num_buenas*100)/procentaje_no_faltante - num_buenas \n",
    "  num_deseado_faltantes = int(math.floor(a))\n",
    "  b = random.randint(0,faltantes.shape[0]-2)\n",
    "  df = faltantes[b:b+1] # Tomamos un elemento faltante al azar\n",
    "  while df['Y_Faltante'].shape[0] < num_deseado_faltantes:\n",
    "    c = random.randint(0,faltantes.shape[0]-3)\n",
    "    df2 = faltantes.iloc[c:c+1]\n",
    "    df3 = pd.concat([df,df2],ignore_index=True)\n",
    "    df = df3\n",
    "  return df"
   ]
  },
  {
   "cell_type": "code",
   "execution_count": null,
   "metadata": {},
   "outputs": [],
   "source": [
    "# Algunas funciones auxiliares \n",
    "import random \n",
    "import math\n",
    "\n",
    "# Esta función va a crear un dataframe con porcentaje dado de faltante original\n",
    "def crea_faltante(frame,porcentaje):\n",
    "  \n",
    "  num_deseado_faltantes = int(math.floor((frame.shape[0]*porcentaje)/100))\n",
    "  a = random.randint(0,frame.shape[0]-2) # Tomamos el índice de una fila al azar\n",
    "  df = frame[a:a+1] # Elegimos un renglón del dataset al azar para comenzar a construir un nuevo dataframe\n",
    "  while df['Y_Faltante'].value_counts()[1] < num_deseado_faltantes:\n",
    "    r = random.randint(0,frame.shape[0]-3)\n",
    "    if frame['Y_Faltante'].iloc[r] == 1:\n",
    "      df2 = frame.iloc[a:a+1]\n",
    "      df3 = pd.concat([df,df2],ignore_index=True)\n",
    "      df = df3\n",
    "  return df\n",
    "\n",
    "\n",
    "# Esta función va a crear un dataframe con porcentaje dado de faltante original\n",
    "def crea_no_faltante(frame,porcentaje):\n",
    "  num_deseado_faltantes = int(math.floor((frame.shape[0]*porcentaje)/100))\n",
    "  a = random.randint(0,frame.shape[0]-2) # Tomamos el índice de una fila al azar\n",
    "  df = frame[a:a+1] # Elegimos un renglón del dataset al azar para comenzar a construir un nuevo dataframe\n",
    "  while df['Y_Faltante'].value_counts()[1] < num_deseado_faltantes:\n",
    "    r = random.randint(0,frame.shape[0]-3)\n",
    "    if frame['Y_Faltante'].iloc[r] == 0:\n",
    "      df2 = frame.iloc[a:a+1]\n",
    "      df3 = pd.concat([df,df2],ignore_index=True)\n",
    "      df = df3"
   ]
  }
 ],
 "metadata": {
  "kernelspec": {
   "display_name": "Python 3.9.12 ('Algoritmo')",
   "language": "python",
   "name": "python3"
  },
  "language_info": {
   "codemirror_mode": {
    "name": "ipython",
    "version": 3
   },
   "file_extension": ".py",
   "mimetype": "text/x-python",
   "name": "python",
   "nbconvert_exporter": "python",
   "pygments_lexer": "ipython3",
   "version": "3.9.12"
  },
  "orig_nbformat": 4,
  "vscode": {
   "interpreter": {
    "hash": "5ba923eacfd56490e106eee1b92d03f3661deef939e2ecc7d4f0c6e697bcb78c"
   }
  }
 },
 "nbformat": 4,
 "nbformat_minor": 2
}
