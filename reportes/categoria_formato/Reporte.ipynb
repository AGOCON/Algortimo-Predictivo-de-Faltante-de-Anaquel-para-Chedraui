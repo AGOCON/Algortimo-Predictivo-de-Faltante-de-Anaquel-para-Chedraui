{
 "cells": [
  {
   "cell_type": "code",
   "execution_count": 100,
   "metadata": {},
   "outputs": [],
   "source": [
    "# Importar librerías básicas\n",
    "import numpy as np\n",
    "import pandas as pd\n",
    "import matplotlib.pyplot as plt\n",
    "import seaborn as sns"
   ]
  },
  {
   "cell_type": "code",
   "execution_count": 101,
   "metadata": {},
   "outputs": [],
   "source": [
    "# Especificar columnas\n",
    "relevant_columns = ['SKU','Tienda','Categoria','CLASE','Sem','Existencia','fiDesplazamiento','VentaPromedio','Y_Faltante','Predicción_Ago']\n",
    "num_columns = ['Existencia','fiDesplazamiento','VentaPromedio']\n",
    "cat_columns = ['SKU','Tienda','Categoria','CLASE','Sem','Predicción_Ago']\n",
    "target = ['Y_Faltante']"
   ]
  },
  {
   "cell_type": "code",
   "execution_count": 102,
   "metadata": {},
   "outputs": [],
   "source": [
    "dtype = {'SKU':'object','FORMATO':'object','REGION':'object','Tienda':'object','Categoria':'object','Proveedor':'object','CLASE':'object','SCLASE':'object','Mes':'object','DiaSem':'object','Sem':'object','Existencia':'float','fiDesplazamiento':'float',\n",
    "\\\n",
    "'VentaPromedio':'float','Y_Faltante':'int','Predicción_Ago':'int','Ago_Predicción':'int'}"
   ]
  },
  {
   "cell_type": "code",
   "execution_count": 103,
   "metadata": {},
   "outputs": [
    {
     "name": "stdout",
     "output_type": "stream",
     "text": [
      "rows: 1294195  columns: 10\n"
     ]
    }
   ],
   "source": [
    "# Abrir el archivo\n",
    "file = 'chedrauicd.csv'\n",
    "data = pd.read_csv(file, header=0,low_memory=False, usecols=relevant_columns,dtype=dtype)\n",
    "print('rows:', data.shape[0], ' columns:', data.shape[1])"
   ]
  },
  {
   "cell_type": "code",
   "execution_count": 104,
   "metadata": {},
   "outputs": [],
   "source": [
    "faltante_real = data['Y_Faltante']\n",
    "faltante_predicho = data['Predicción_Ago']\n",
    "verdaderos_positivos = (faltante_real + faltante_predicho) % 2 "
   ]
  },
  {
   "cell_type": "code",
   "execution_count": 105,
   "metadata": {},
   "outputs": [
    {
     "data": {
      "text/plain": [
       "0    1132678\n",
       "1     161517\n",
       "Name: Y_Faltante, dtype: int64"
      ]
     },
     "execution_count": 105,
     "metadata": {},
     "output_type": "execute_result"
    }
   ],
   "source": [
    "faltante_real.value_counts()"
   ]
  },
  {
   "cell_type": "code",
   "execution_count": 106,
   "metadata": {},
   "outputs": [
    {
     "data": {
      "text/plain": [
       "0    1139674\n",
       "1     154521\n",
       "Name: Predicción_Ago, dtype: int64"
      ]
     },
     "execution_count": 106,
     "metadata": {},
     "output_type": "execute_result"
    }
   ],
   "source": [
    "faltante_predicho.value_counts()"
   ]
  },
  {
   "cell_type": "code",
   "execution_count": 107,
   "metadata": {},
   "outputs": [
    {
     "data": {
      "text/plain": [
       "0    1264203\n",
       "1      29992\n",
       "dtype: int64"
      ]
     },
     "execution_count": 107,
     "metadata": {},
     "output_type": "execute_result"
    }
   ],
   "source": [
    "verdaderos_positivos.value_counts()"
   ]
  },
  {
   "cell_type": "code",
   "execution_count": 108,
   "metadata": {},
   "outputs": [
    {
     "name": "stdout",
     "output_type": "stream",
     "text": [
      "yes %: 2.3174251175441105- no %: 97.68257488245588\n"
     ]
    },
    {
     "data": {
      "image/png": "[encoded data removed]",
      "text/plain": [
       "<Figure size 720x360 with 1 Axes>"
      ]
     },
     "metadata": {
      "needs_background": "light"
     },
     "output_type": "display_data"
    }
   ],
   "source": [
    "# Revisamos (de nuevo) la proporción de datos\n",
    "target = verdaderos_positivos\n",
    "yes = target[target == 1].count()\n",
    "no = target[target == 0].count()\n",
    "print('yes %: ' + str(yes/len(target)*100) + '- no %: ' \\\n",
    "        + str(no/len(target)*100))\n",
    "\n",
    "\n",
    "fig, ax = plt.subplots(figsize=(10,5))\n",
    "plt.bar(\"Incorrecto\", yes)\n",
    "plt.bar(\"Correcto\", no)\n",
    "ax.set_yticks([yes,no])\n",
    "plt.xticks(fontsize=15)\n",
    "plt.yticks(fontsize=15)\n",
    "plt.show()"
   ]
  },
  {
   "cell_type": "code",
   "execution_count": null,
   "metadata": {},
   "outputs": [],
   "source": []
  }
 ],
 "metadata": {
  "kernelspec": {
   "display_name": "Python 3.9.12 ('Algoritmo')",
   "language": "python",
   "name": "python3"
  },
  "language_info": {
   "codemirror_mode": {
    "name": "ipython",
    "version": 3
   },
   "file_extension": ".py",
   "mimetype": "text/x-python",
   "name": "python",
   "nbconvert_exporter": "python",
   "pygments_lexer": "ipython3",
   "version": "3.9.12"
  },
  "orig_nbformat": 4,
  "vscode": {
   "interpreter": {
    "hash": "5ba923eacfd56490e106eee1b92d03f3661deef939e2ecc7d4f0c6e697bcb78c"
   }
  }
 },
 "nbformat": 4,
 "nbformat_minor": 2
}
