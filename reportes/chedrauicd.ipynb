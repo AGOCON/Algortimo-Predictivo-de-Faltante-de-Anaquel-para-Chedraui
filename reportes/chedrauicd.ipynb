{
 "cells": [
  {
   "cell_type": "markdown",
   "metadata": {},
   "source": [
    "# CHEDRAUI CD"
   ]
  },
  {
   "cell_type": "code",
   "execution_count": 1,
   "metadata": {},
   "outputs": [],
   "source": [
    "# Importar librerías básicas\n",
    "import numpy as np\n",
    "import pandas as pd\n",
    "import matplotlib.pyplot as plt\n",
    "import seaborn as sns"
   ]
  },
  {
   "cell_type": "code",
   "execution_count": 2,
   "metadata": {},
   "outputs": [],
   "source": [
    "from sklearn import preprocessing\n",
    "from sklearn import model_selection\n",
    "import matplotlib.pyplot as plt\n",
    "from sklearn.model_selection import train_test_split\n",
    "from sklearn import neighbors\n",
    "from catboost import CatBoostClassifier, Pool, metrics, cv\n",
    "from sklearn.preprocessing import MinMaxScaler\n",
    "from sklearn.model_selection import train_test_split\n",
    "from sklearn.ensemble import RandomForestClassifier\n",
    "from sklearn.metrics import confusion_matrix\n",
    "\n",
    "from sklearn.metrics import accuracy_score\n",
    "from sklearn.metrics import balanced_accuracy_score\n",
    "from sklearn.metrics import recall_score\n",
    "from sklearn.metrics import precision_score\n",
    "from sklearn.metrics import f1_score"
   ]
  },
  {
   "cell_type": "code",
   "execution_count": 3,
   "metadata": {},
   "outputs": [],
   "source": [
    "# Especificar columnas\n",
    "relevant_columns = ['SKU','Tienda','FORMATO','Categoria','CLASE','Sem','Existencia','fiDesplazamiento','VentaPromedio','Y_Faltante']\n",
    "num_columns = ['Existencia','fiDesplazamiento','VentaPromedio']\n",
    "cat_columns = ['SKU','Tienda','FORMATO','Categoria','CLASE','Sem']\n",
    "target = ['Y_Faltante']"
   ]
  },
  {
   "cell_type": "code",
   "execution_count": 4,
   "metadata": {},
   "outputs": [],
   "source": [
    "dtype = {'SKU':'object','FORMATO':'object','REGION':'object','Tienda':'object','Categoria':'object','Proveedor':'object','CLASE':'object','SCLASE':'object','Mes':'object','DiaSem':'object','Sem':'object','Existencia':'float','fiDesplazamiento':'float',\n",
    "\\\n",
    "'VentaPromedio':'float','Y_Faltante':'int'}"
   ]
  },
  {
   "cell_type": "code",
   "execution_count": 5,
   "metadata": {},
   "outputs": [
    {
     "name": "stdout",
     "output_type": "stream",
     "text": [
      "rows: 3304660  columns: 10\n"
     ]
    }
   ],
   "source": [
    "# Abrir el archivo\n",
    "file = '8semanas.csv'\n",
    "data = pd.read_csv(file, header=0,low_memory=False, usecols=relevant_columns,dtype=dtype)\n",
    "print('rows:', data.shape[0], ' columns:', data.shape[1])"
   ]
  },
  {
   "cell_type": "code",
   "execution_count": 6,
   "metadata": {},
   "outputs": [
    {
     "name": "stdout",
     "output_type": "stream",
     "text": [
      "rows: 5094322  columns: 10\n"
     ]
    }
   ],
   "source": [
    "# Abrir el archivo\n",
    "file = 'datos_entrenamiento.csv'\n",
    "data_2 = pd.read_csv(file, header=0,low_memory=False, encoding='latin-1',usecols=relevant_columns,dtype=dtype)\n",
    "print('rows:', data_2.shape[0], ' columns:', data_2.shape[1])"
   ]
  },
  {
   "cell_type": "code",
   "execution_count": 7,
   "metadata": {},
   "outputs": [
    {
     "name": "stdout",
     "output_type": "stream",
     "text": [
      "rows: 8398982  columns: 10\n"
     ]
    }
   ],
   "source": [
    "data = pd.concat([data,data_2],join='inner')\n",
    "print('rows:', data.shape[0], ' columns:', data.shape[1])"
   ]
  },
  {
   "cell_type": "code",
   "execution_count": 8,
   "metadata": {},
   "outputs": [
    {
     "name": "stdout",
     "output_type": "stream",
     "text": [
      "rows: 2608114  columns: 10\n"
     ]
    }
   ],
   "source": [
    "# Abrir el archivo que contiene el conjunto de validación \n",
    "file_val = '1semana.csv'\n",
    "data_val = pd.read_csv(file_val, header=0,low_memory=False, usecols=relevant_columns,encoding='latin-1',dtype=dtype)\n",
    "print('rows:', data_val.shape[0], ' columns:', data_val.shape[1])"
   ]
  },
  {
   "cell_type": "code",
   "execution_count": 9,
   "metadata": {},
   "outputs": [],
   "source": [
    "data = data.dropna()\n",
    "data_val = data_val.dropna()"
   ]
  },
  {
   "cell_type": "code",
   "execution_count": 10,
   "metadata": {},
   "outputs": [],
   "source": [
    "def segmentador_formato(frame,cadena):\n",
    "    arreglo = frame[frame['FORMATO']==cadena]\n",
    "    return arreglo "
   ]
  },
  {
   "cell_type": "code",
   "execution_count": 11,
   "metadata": {},
   "outputs": [],
   "source": [
    "chedraui_cd = segmentador_formato(data,'CHEDRAUI CD')\n",
    "chedraui_cd_val = segmentador_formato(data_val,'CHEDRAUI CD')"
   ]
  },
  {
   "cell_type": "code",
   "execution_count": 12,
   "metadata": {},
   "outputs": [
    {
     "name": "stdout",
     "output_type": "stream",
     "text": [
      "yes %: 50.33705612681122- no %: 49.66294387318877\n"
     ]
    },
    {
     "data": {
      "image/png": "[encoded data removed]",
      "text/plain": [
       "<Figure size 720x360 with 1 Axes>"
      ]
     },
     "metadata": {
      "needs_background": "light"
     },
     "output_type": "display_data"
    }
   ],
   "source": [
    "# Revisamos la proporción de datos\n",
    "target = chedraui_cd['Y_Faltante']\n",
    "yes = target[target == 1].count()\n",
    "no = target[target == 0].count()\n",
    "print('yes %: ' + str(yes/len(target)*100) + '- no %: ' \\\n",
    "        + str(no/len(target)*100))\n",
    "\n",
    "\n",
    "fig, ax = plt.subplots(figsize=(10,5))\n",
    "plt.bar(\"Faltante\", yes)\n",
    "plt.bar(\"No Faltante\", no)\n",
    "ax.set_yticks([yes,no])\n",
    "plt.xticks(fontsize=15)\n",
    "plt.yticks(fontsize=15)\n",
    "plt.show()"
   ]
  },
  {
   "cell_type": "code",
   "execution_count": 13,
   "metadata": {},
   "outputs": [],
   "source": [
    "#Balanceamos a 50% - 50% nuestro conjunto de datos.\n",
    "data_yes = chedraui_cd[chedraui_cd[\"Y_Faltante\"] == 1]\n",
    "data_no = chedraui_cd[chedraui_cd[\"Y_Faltante\"] == 0]\n",
    "over_sampling = data_yes.sample(no, replace=True, \\\n",
    "random_state = 0)\n",
    "balanced_data = pd.concat([data_no, over_sampling], \\\n",
    "axis=0)\n",
    "chedraui_cd = balanced_data.reset_index(drop=True)"
   ]
  },
  {
   "cell_type": "code",
   "execution_count": 14,
   "metadata": {},
   "outputs": [
    {
     "name": "stdout",
     "output_type": "stream",
     "text": [
      "yes %: 50.0- no %: 50.0\n"
     ]
    },
    {
     "data": {
      "image/png": "[encoded data removed]",
      "text/plain": [
       "<Figure size 720x360 with 1 Axes>"
      ]
     },
     "metadata": {
      "needs_background": "light"
     },
     "output_type": "display_data"
    }
   ],
   "source": [
    "# Verificamos que el conjunto de datos está perfectamente balanceado\n",
    "# Revisamos la proporción de datos\n",
    "target = chedraui_cd['Y_Faltante']\n",
    "yes = target[target == 1].count()\n",
    "no = target[target == 0].count()\n",
    "print('yes %: ' + str(yes/len(target)*100) + '- no %: ' \\\n",
    "        + str(no/len(target)*100))\n",
    "\n",
    "\n",
    "fig, ax = plt.subplots(figsize=(10,5))\n",
    "plt.bar(\"Faltante\", yes)\n",
    "plt.bar(\"No Faltante\", no)\n",
    "ax.set_yticks([yes,no])\n",
    "plt.xticks(fontsize=15)\n",
    "plt.yticks(fontsize=15)\n",
    "plt.show()"
   ]
  },
  {
   "cell_type": "code",
   "execution_count": 15,
   "metadata": {},
   "outputs": [],
   "source": [
    "chedraui_cd = chedraui_cd.drop('FORMATO',axis=1)\n",
    "chedraui_cd_val = chedraui_cd_val.drop('FORMATO',axis=1)"
   ]
  },
  {
   "cell_type": "code",
   "execution_count": 16,
   "metadata": {},
   "outputs": [],
   "source": [
    "X_train = chedraui_cd.drop('Y_Faltante',axis=1)\n",
    "y_train = chedraui_cd.Y_Faltante\n",
    "X_val = chedraui_cd_val.drop('Y_Faltante',axis=1)\n",
    "y_val = chedraui_cd_val.Y_Faltante"
   ]
  },
  {
   "cell_type": "code",
   "execution_count": 17,
   "metadata": {},
   "outputs": [
    {
     "data": {
      "text/plain": [
       "array([0, 1, 2, 3, 4])"
      ]
     },
     "execution_count": 17,
     "metadata": {},
     "output_type": "execute_result"
    }
   ],
   "source": [
    "indices_categoricos = np.where(X_train.dtypes != float)[0]\n",
    "indices_categoricos"
   ]
  },
  {
   "cell_type": "code",
   "execution_count": 18,
   "metadata": {},
   "outputs": [
    {
     "data": {
      "text/plain": [
       "array([5, 6, 7])"
      ]
     },
     "execution_count": 18,
     "metadata": {},
     "output_type": "execute_result"
    }
   ],
   "source": [
    "num_ind = np.where(X_train.dtypes != object)[0]\n",
    "num_ind"
   ]
  },
  {
   "cell_type": "code",
   "execution_count": 19,
   "metadata": {},
   "outputs": [],
   "source": [
    "model = CatBoostClassifier(\n",
    "    l2_leaf_reg=int(1.0),\n",
    "    custom_loss=[metrics.Accuracy()],\n",
    "    random_seed=0,\n",
    "    logging_level='Verbose', # Write 'Silent' instead of 'verbose'\n",
    "    task_type='GPU',\n",
    "    #iterations=190\n",
    ")"
   ]
  },
  {
   "cell_type": "code",
   "execution_count": 20,
   "metadata": {},
   "outputs": [
    {
     "data": {
      "application/vnd.jupyter.widget-view+json": {
       "model_id": "b45521b906fc41cdac019f78d40d9e2a",
       "version_major": 2,
       "version_minor": 0
      },
      "text/plain": [
       "MetricVisualizer(layout=Layout(align_self='stretch', height='500px'))"
      ]
     },
     "metadata": {},
     "output_type": "display_data"
    },
    {
     "name": "stdout",
     "output_type": "stream",
     "text": [
      "0:\tlearn: 0.6465016\ttest: 0.6628444\tbest: 0.6628444 (0)\ttotal: 354ms\tremaining: 5m 54s\n",
      "1:\tlearn: 0.6021024\ttest: 0.6301308\tbest: 0.6301308 (1)\ttotal: 694ms\tremaining: 5m 46s\n",
      "2:\tlearn: 0.5642725\ttest: 0.6020192\tbest: 0.6020192 (2)\ttotal: 1.07s\tremaining: 5m 55s\n",
      "3:\tlearn: 0.5312606\ttest: 0.5784023\tbest: 0.5784023 (3)\ttotal: 1.36s\tremaining: 5m 39s\n",
      "4:\tlearn: 0.5001241\ttest: 0.5540754\tbest: 0.5540754 (4)\ttotal: 1.79s\tremaining: 5m 55s\n",
      "5:\tlearn: 0.4727680\ttest: 0.5316493\tbest: 0.5316493 (5)\ttotal: 2.17s\tremaining: 5m 59s\n",
      "6:\tlearn: 0.4484185\ttest: 0.5093984\tbest: 0.5093984 (6)\ttotal: 2.46s\tremaining: 5m 49s\n",
      "7:\tlearn: 0.4265504\ttest: 0.4906291\tbest: 0.4906291 (7)\ttotal: 2.91s\tremaining: 6m\n",
      "8:\tlearn: 0.4069113\ttest: 0.4715593\tbest: 0.4715593 (8)\ttotal: 3.25s\tremaining: 5m 57s\n",
      "9:\tlearn: 0.3900907\ttest: 0.4542811\tbest: 0.4542811 (9)\ttotal: 3.62s\tremaining: 5m 58s\n",
      "10:\tlearn: 0.3748998\ttest: 0.4394313\tbest: 0.4394313 (10)\ttotal: 4.04s\tremaining: 6m 3s\n",
      "11:\tlearn: 0.3611233\ttest: 0.4248706\tbest: 0.4248706 (11)\ttotal: 4.38s\tremaining: 6m 1s\n",
      "12:\tlearn: 0.3493436\ttest: 0.4107541\tbest: 0.4107541 (12)\ttotal: 4.75s\tremaining: 6m\n",
      "13:\tlearn: 0.3385094\ttest: 0.4012018\tbest: 0.4012018 (13)\ttotal: 5.09s\tremaining: 5m 58s\n",
      "14:\tlearn: 0.3284854\ttest: 0.3889468\tbest: 0.3889468 (14)\ttotal: 5.41s\tremaining: 5m 55s\n",
      "15:\tlearn: 0.3202149\ttest: 0.3780965\tbest: 0.3780965 (15)\ttotal: 5.73s\tremaining: 5m 52s\n",
      "16:\tlearn: 0.3119745\ttest: 0.3699929\tbest: 0.3699929 (16)\ttotal: 6.14s\tremaining: 5m 54s\n",
      "17:\tlearn: 0.3043355\ttest: 0.3601702\tbest: 0.3601702 (17)\ttotal: 6.49s\tremaining: 5m 54s\n",
      "18:\tlearn: 0.2975904\ttest: 0.3509297\tbest: 0.3509297 (18)\ttotal: 6.88s\tremaining: 5m 55s\n",
      "19:\tlearn: 0.2845039\ttest: 0.3401299\tbest: 0.3401299 (19)\ttotal: 7.21s\tremaining: 5m 53s\n",
      "20:\tlearn: 0.2726579\ttest: 0.3253731\tbest: 0.3253731 (20)\ttotal: 7.53s\tremaining: 5m 51s\n",
      "21:\tlearn: 0.2620105\ttest: 0.3125470\tbest: 0.3125470 (21)\ttotal: 7.89s\tremaining: 5m 50s\n",
      "22:\tlearn: 0.2525602\ttest: 0.3005738\tbest: 0.3005738 (22)\ttotal: 8.21s\tremaining: 5m 48s\n",
      "23:\tlearn: 0.2435366\ttest: 0.2890801\tbest: 0.2890801 (23)\ttotal: 8.54s\tremaining: 5m 47s\n",
      "24:\tlearn: 0.2353466\ttest: 0.2784908\tbest: 0.2784908 (24)\ttotal: 8.91s\tremaining: 5m 47s\n",
      "25:\tlearn: 0.2278345\ttest: 0.2692568\tbest: 0.2692568 (25)\ttotal: 9.26s\tremaining: 5m 46s\n",
      "26:\tlearn: 0.2210385\ttest: 0.2631123\tbest: 0.2631123 (26)\ttotal: 9.59s\tremaining: 5m 45s\n",
      "27:\tlearn: 0.2148609\ttest: 0.2578893\tbest: 0.2578893 (27)\ttotal: 9.94s\tremaining: 5m 45s\n",
      "28:\tlearn: 0.2091991\ttest: 0.2502372\tbest: 0.2502372 (28)\ttotal: 10.3s\tremaining: 5m 43s\n",
      "29:\tlearn: 0.2041865\ttest: 0.2435880\tbest: 0.2435880 (29)\ttotal: 10.6s\tremaining: 5m 42s\n",
      "30:\tlearn: 0.1994282\ttest: 0.2370096\tbest: 0.2370096 (30)\ttotal: 11s\tremaining: 5m 42s\n",
      "31:\tlearn: 0.1950413\ttest: 0.2314633\tbest: 0.2314633 (31)\ttotal: 11.3s\tremaining: 5m 41s\n",
      "32:\tlearn: 0.1910517\ttest: 0.2259431\tbest: 0.2259431 (32)\ttotal: 11.7s\tremaining: 5m 43s\n",
      "33:\tlearn: 0.1874281\ttest: 0.2208657\tbest: 0.2208657 (33)\ttotal: 12.1s\tremaining: 5m 43s\n",
      "34:\tlearn: 0.1758478\ttest: 0.2125339\tbest: 0.2125339 (34)\ttotal: 12.4s\tremaining: 5m 42s\n",
      "35:\tlearn: 0.1665880\ttest: 0.2059490\tbest: 0.2059490 (35)\ttotal: 12.8s\tremaining: 5m 42s\n",
      "36:\tlearn: 0.1642246\ttest: 0.2019341\tbest: 0.2019341 (36)\ttotal: 13.1s\tremaining: 5m 41s\n",
      "37:\tlearn: 0.1626525\ttest: 0.2001079\tbest: 0.2001079 (37)\ttotal: 13.6s\tremaining: 5m 45s\n",
      "38:\tlearn: 0.1611688\ttest: 0.1983467\tbest: 0.1983467 (38)\ttotal: 14.2s\tremaining: 5m 49s\n",
      "39:\tlearn: 0.1597196\ttest: 0.1964721\tbest: 0.1964721 (39)\ttotal: 14.5s\tremaining: 5m 49s\n",
      "40:\tlearn: 0.1578285\ttest: 0.1932181\tbest: 0.1932181 (40)\ttotal: 15s\tremaining: 5m 50s\n",
      "41:\tlearn: 0.1566697\ttest: 0.1910778\tbest: 0.1910778 (41)\ttotal: 15.4s\tremaining: 5m 51s\n",
      "42:\tlearn: 0.1545235\ttest: 0.1886694\tbest: 0.1886694 (42)\ttotal: 15.9s\tremaining: 5m 53s\n",
      "43:\tlearn: 0.1525819\ttest: 0.1849032\tbest: 0.1849032 (43)\ttotal: 16.2s\tremaining: 5m 52s\n",
      "44:\tlearn: 0.1507647\ttest: 0.1820805\tbest: 0.1820805 (44)\ttotal: 16.5s\tremaining: 5m 50s\n",
      "45:\tlearn: 0.1488970\ttest: 0.1792403\tbest: 0.1792403 (45)\ttotal: 17.1s\tremaining: 5m 54s\n",
      "46:\tlearn: 0.1471768\ttest: 0.1764805\tbest: 0.1764805 (46)\ttotal: 17.5s\tremaining: 5m 55s\n",
      "47:\tlearn: 0.1456705\ttest: 0.1739748\tbest: 0.1739748 (47)\ttotal: 17.8s\tremaining: 5m 53s\n",
      "48:\tlearn: 0.1442388\ttest: 0.1715702\tbest: 0.1715702 (48)\ttotal: 18.1s\tremaining: 5m 52s\n",
      "49:\tlearn: 0.1431947\ttest: 0.1697227\tbest: 0.1697227 (49)\ttotal: 18.5s\tremaining: 5m 51s\n",
      "50:\tlearn: 0.1419749\ttest: 0.1679045\tbest: 0.1679045 (50)\ttotal: 18.8s\tremaining: 5m 49s\n",
      "51:\tlearn: 0.1406445\ttest: 0.1651736\tbest: 0.1651736 (51)\ttotal: 19.3s\tremaining: 5m 51s\n",
      "52:\tlearn: 0.1394085\ttest: 0.1633458\tbest: 0.1633458 (52)\ttotal: 19.8s\tremaining: 5m 53s\n",
      "53:\tlearn: 0.1382680\ttest: 0.1616101\tbest: 0.1616101 (53)\ttotal: 20.3s\tremaining: 5m 56s\n",
      "54:\tlearn: 0.1374513\ttest: 0.1603057\tbest: 0.1603057 (54)\ttotal: 20.8s\tremaining: 5m 57s\n",
      "55:\tlearn: 0.1364349\ttest: 0.1586814\tbest: 0.1586814 (55)\ttotal: 21.4s\tremaining: 6m\n",
      "56:\tlearn: 0.1354934\ttest: 0.1569810\tbest: 0.1569810 (56)\ttotal: 21.7s\tremaining: 5m 59s\n",
      "57:\tlearn: 0.1347912\ttest: 0.1560456\tbest: 0.1560456 (57)\ttotal: 22.2s\tremaining: 5m 59s\n",
      "58:\tlearn: 0.1341121\ttest: 0.1549861\tbest: 0.1549861 (58)\ttotal: 22.7s\tremaining: 6m 2s\n",
      "59:\tlearn: 0.1331736\ttest: 0.1533759\tbest: 0.1533759 (59)\ttotal: 23s\tremaining: 6m\n",
      "60:\tlearn: 0.1323027\ttest: 0.1517904\tbest: 0.1517904 (60)\ttotal: 23.3s\tremaining: 5m 58s\n",
      "61:\tlearn: 0.1315239\ttest: 0.1502755\tbest: 0.1502755 (61)\ttotal: 23.7s\tremaining: 5m 57s\n",
      "62:\tlearn: 0.1307238\ttest: 0.1489419\tbest: 0.1489419 (62)\ttotal: 23.9s\tremaining: 5m 55s\n",
      "63:\tlearn: 0.1299524\ttest: 0.1478005\tbest: 0.1478005 (63)\ttotal: 24.3s\tremaining: 5m 55s\n",
      "64:\tlearn: 0.1292724\ttest: 0.1466013\tbest: 0.1466013 (64)\ttotal: 24.6s\tremaining: 5m 54s\n",
      "65:\tlearn: 0.1285976\ttest: 0.1456173\tbest: 0.1456173 (65)\ttotal: 24.9s\tremaining: 5m 52s\n",
      "66:\tlearn: 0.1278203\ttest: 0.1440713\tbest: 0.1440713 (66)\ttotal: 25.2s\tremaining: 5m 51s\n",
      "67:\tlearn: 0.1272216\ttest: 0.1431929\tbest: 0.1431929 (67)\ttotal: 25.5s\tremaining: 5m 50s\n",
      "68:\tlearn: 0.1266553\ttest: 0.1422521\tbest: 0.1422521 (68)\ttotal: 25.9s\tremaining: 5m 49s\n",
      "69:\tlearn: 0.1261259\ttest: 0.1416293\tbest: 0.1416293 (69)\ttotal: 26.3s\tremaining: 5m 49s\n",
      "70:\tlearn: 0.1245519\ttest: 0.1386596\tbest: 0.1386596 (70)\ttotal: 26.6s\tremaining: 5m 48s\n",
      "71:\tlearn: 0.1239974\ttest: 0.1380789\tbest: 0.1380789 (71)\ttotal: 27.1s\tremaining: 5m 49s\n",
      "72:\tlearn: 0.1234877\ttest: 0.1370570\tbest: 0.1370570 (72)\ttotal: 27.5s\tremaining: 5m 48s\n",
      "73:\tlearn: 0.1230221\ttest: 0.1365237\tbest: 0.1365237 (73)\ttotal: 27.9s\tremaining: 5m 48s\n",
      "74:\tlearn: 0.1224209\ttest: 0.1353402\tbest: 0.1353402 (74)\ttotal: 28.2s\tremaining: 5m 47s\n",
      "75:\tlearn: 0.1211370\ttest: 0.1332416\tbest: 0.1332416 (75)\ttotal: 28.5s\tremaining: 5m 47s\n",
      "76:\tlearn: 0.1197256\ttest: 0.1305634\tbest: 0.1305634 (76)\ttotal: 28.8s\tremaining: 5m 45s\n",
      "77:\tlearn: 0.1185059\ttest: 0.1293040\tbest: 0.1293040 (77)\ttotal: 29.1s\tremaining: 5m 43s\n",
      "78:\tlearn: 0.1174404\ttest: 0.1275761\tbest: 0.1275761 (78)\ttotal: 29.4s\tremaining: 5m 42s\n",
      "79:\tlearn: 0.1162488\ttest: 0.1256631\tbest: 0.1256631 (79)\ttotal: 29.6s\tremaining: 5m 40s\n",
      "80:\tlearn: 0.1148203\ttest: 0.1234351\tbest: 0.1234351 (80)\ttotal: 29.9s\tremaining: 5m 39s\n",
      "81:\tlearn: 0.1126252\ttest: 0.1219753\tbest: 0.1219753 (81)\ttotal: 30.2s\tremaining: 5m 37s\n",
      "82:\tlearn: 0.1113917\ttest: 0.1200429\tbest: 0.1200429 (82)\ttotal: 30.4s\tremaining: 5m 36s\n",
      "83:\tlearn: 0.1102461\ttest: 0.1182760\tbest: 0.1182760 (83)\ttotal: 30.7s\tremaining: 5m 34s\n",
      "84:\tlearn: 0.1087994\ttest: 0.1179733\tbest: 0.1179733 (84)\ttotal: 31s\tremaining: 5m 33s\n",
      "85:\tlearn: 0.1075020\ttest: 0.1174671\tbest: 0.1174671 (85)\ttotal: 31.2s\tremaining: 5m 31s\n",
      "86:\tlearn: 0.1065135\ttest: 0.1159252\tbest: 0.1159252 (86)\ttotal: 31.5s\tremaining: 5m 30s\n",
      "87:\tlearn: 0.1038565\ttest: 0.1122082\tbest: 0.1122082 (87)\ttotal: 31.9s\tremaining: 5m 30s\n",
      "88:\tlearn: 0.1027433\ttest: 0.1118599\tbest: 0.1118599 (88)\ttotal: 32.2s\tremaining: 5m 29s\n",
      "89:\tlearn: 0.1022075\ttest: 0.1108167\tbest: 0.1108167 (89)\ttotal: 32.4s\tremaining: 5m 27s\n",
      "90:\tlearn: 0.1013409\ttest: 0.1097167\tbest: 0.1097167 (90)\ttotal: 32.7s\tremaining: 5m 26s\n",
      "91:\tlearn: 0.1005523\ttest: 0.1087713\tbest: 0.1087713 (91)\ttotal: 33s\tremaining: 5m 25s\n",
      "92:\tlearn: 0.0995504\ttest: 0.1087063\tbest: 0.1087063 (92)\ttotal: 33.2s\tremaining: 5m 24s\n",
      "93:\tlearn: 0.0974409\ttest: 0.1058608\tbest: 0.1058608 (93)\ttotal: 33.7s\tremaining: 5m 24s\n",
      "94:\tlearn: 0.0967611\ttest: 0.1055266\tbest: 0.1055266 (94)\ttotal: 34s\tremaining: 5m 24s\n",
      "95:\tlearn: 0.0959338\ttest: 0.1053139\tbest: 0.1053139 (95)\ttotal: 34.3s\tremaining: 5m 23s\n",
      "96:\tlearn: 0.0951472\ttest: 0.1052910\tbest: 0.1052910 (96)\ttotal: 34.6s\tremaining: 5m 21s\n",
      "97:\tlearn: 0.0942855\ttest: 0.1043291\tbest: 0.1043291 (97)\ttotal: 34.9s\tremaining: 5m 20s\n",
      "98:\tlearn: 0.0942481\ttest: 0.1042533\tbest: 0.1042533 (98)\ttotal: 35.2s\tremaining: 5m 20s\n",
      "99:\tlearn: 0.0936643\ttest: 0.1034052\tbest: 0.1034052 (99)\ttotal: 35.5s\tremaining: 5m 19s\n",
      "100:\tlearn: 0.0929568\ttest: 0.1033458\tbest: 0.1033458 (100)\ttotal: 35.8s\tremaining: 5m 18s\n",
      "101:\tlearn: 0.0924805\ttest: 0.1027433\tbest: 0.1027433 (101)\ttotal: 36.1s\tremaining: 5m 17s\n",
      "102:\tlearn: 0.0912995\ttest: 0.1000866\tbest: 0.1000866 (102)\ttotal: 36.4s\tremaining: 5m 17s\n",
      "103:\tlearn: 0.0907785\ttest: 0.0995756\tbest: 0.0995756 (103)\ttotal: 36.7s\tremaining: 5m 16s\n",
      "104:\tlearn: 0.0897538\ttest: 0.0984391\tbest: 0.0984391 (104)\ttotal: 37.1s\tremaining: 5m 16s\n",
      "105:\tlearn: 0.0882709\ttest: 0.0988974\tbest: 0.0984391 (104)\ttotal: 37.6s\tremaining: 5m 17s\n",
      "106:\tlearn: 0.0882149\ttest: 0.0988022\tbest: 0.0984391 (104)\ttotal: 38s\tremaining: 5m 17s\n",
      "107:\tlearn: 0.0873846\ttest: 0.0972909\tbest: 0.0972909 (107)\ttotal: 38.5s\tremaining: 5m 17s\n",
      "108:\tlearn: 0.0866788\ttest: 0.0969772\tbest: 0.0969772 (108)\ttotal: 38.8s\tremaining: 5m 17s\n",
      "109:\tlearn: 0.0861886\ttest: 0.0962635\tbest: 0.0962635 (109)\ttotal: 39.2s\tremaining: 5m 17s\n",
      "110:\tlearn: 0.0846614\ttest: 0.0935396\tbest: 0.0935396 (110)\ttotal: 39.6s\tremaining: 5m 17s\n",
      "111:\tlearn: 0.0845286\ttest: 0.0933342\tbest: 0.0933342 (111)\ttotal: 40.1s\tremaining: 5m 17s\n",
      "112:\tlearn: 0.0844947\ttest: 0.0932532\tbest: 0.0932532 (112)\ttotal: 40.5s\tremaining: 5m 17s\n",
      "113:\tlearn: 0.0839055\ttest: 0.0927854\tbest: 0.0927854 (113)\ttotal: 40.8s\tremaining: 5m 16s\n",
      "114:\tlearn: 0.0835765\ttest: 0.0924150\tbest: 0.0924150 (114)\ttotal: 41s\tremaining: 5m 15s\n",
      "115:\tlearn: 0.0831986\ttest: 0.0913278\tbest: 0.0913278 (115)\ttotal: 41.5s\tremaining: 5m 16s\n",
      "116:\tlearn: 0.0826944\ttest: 0.0909056\tbest: 0.0909056 (116)\ttotal: 41.8s\tremaining: 5m 15s\n",
      "117:\tlearn: 0.0824027\ttest: 0.0906191\tbest: 0.0906191 (117)\ttotal: 42.1s\tremaining: 5m 14s\n",
      "118:\tlearn: 0.0819238\ttest: 0.0904424\tbest: 0.0904424 (118)\ttotal: 42.5s\tremaining: 5m 14s\n",
      "119:\tlearn: 0.0818981\ttest: 0.0903734\tbest: 0.0903734 (119)\ttotal: 42.8s\tremaining: 5m 14s\n",
      "120:\tlearn: 0.0816008\ttest: 0.0900336\tbest: 0.0900336 (120)\ttotal: 43.2s\tremaining: 5m 13s\n",
      "121:\tlearn: 0.0812114\ttest: 0.0899007\tbest: 0.0899007 (121)\ttotal: 43.5s\tremaining: 5m 12s\n",
      "122:\tlearn: 0.0809651\ttest: 0.0896239\tbest: 0.0896239 (122)\ttotal: 43.7s\tremaining: 5m 11s\n",
      "123:\tlearn: 0.0806020\ttest: 0.0895770\tbest: 0.0895770 (123)\ttotal: 44s\tremaining: 5m 10s\n",
      "124:\tlearn: 0.0804951\ttest: 0.0894210\tbest: 0.0894210 (124)\ttotal: 44.4s\tremaining: 5m 10s\n",
      "125:\tlearn: 0.0802643\ttest: 0.0891392\tbest: 0.0891392 (125)\ttotal: 44.8s\tremaining: 5m 10s\n",
      "126:\tlearn: 0.0798830\ttest: 0.0882676\tbest: 0.0882676 (126)\ttotal: 45.2s\tremaining: 5m 10s\n",
      "127:\tlearn: 0.0795126\ttest: 0.0880002\tbest: 0.0880002 (127)\ttotal: 45.5s\tremaining: 5m 9s\n",
      "128:\tlearn: 0.0792823\ttest: 0.0878677\tbest: 0.0878677 (128)\ttotal: 45.8s\tremaining: 5m 9s\n",
      "129:\tlearn: 0.0789601\ttest: 0.0877864\tbest: 0.0877864 (129)\ttotal: 46.1s\tremaining: 5m 8s\n",
      "130:\tlearn: 0.0780236\ttest: 0.0853833\tbest: 0.0853833 (130)\ttotal: 46.5s\tremaining: 5m 8s\n",
      "131:\tlearn: 0.0777378\ttest: 0.0853109\tbest: 0.0853109 (131)\ttotal: 46.8s\tremaining: 5m 8s\n",
      "132:\tlearn: 0.0774670\ttest: 0.0852440\tbest: 0.0852440 (132)\ttotal: 47.2s\tremaining: 5m 7s\n",
      "133:\tlearn: 0.0772672\ttest: 0.0851724\tbest: 0.0851724 (133)\ttotal: 47.5s\tremaining: 5m 7s\n",
      "134:\tlearn: 0.0770304\ttest: 0.0850216\tbest: 0.0850216 (134)\ttotal: 47.8s\tremaining: 5m 6s\n",
      "135:\tlearn: 0.0767761\ttest: 0.0849519\tbest: 0.0849519 (135)\ttotal: 48.1s\tremaining: 5m 5s\n",
      "136:\tlearn: 0.0765697\ttest: 0.0848566\tbest: 0.0848566 (136)\ttotal: 48.4s\tremaining: 5m 5s\n",
      "137:\tlearn: 0.0763317\ttest: 0.0847925\tbest: 0.0847925 (137)\ttotal: 48.8s\tremaining: 5m 4s\n",
      "138:\tlearn: 0.0761067\ttest: 0.0847345\tbest: 0.0847345 (138)\ttotal: 49.1s\tremaining: 5m 3s\n",
      "139:\tlearn: 0.0755000\ttest: 0.0839710\tbest: 0.0839710 (139)\ttotal: 49.5s\tremaining: 5m 3s\n",
      "140:\tlearn: 0.0753671\ttest: 0.0838483\tbest: 0.0838483 (140)\ttotal: 49.8s\tremaining: 5m 3s\n",
      "141:\tlearn: 0.0751727\ttest: 0.0838182\tbest: 0.0838182 (141)\ttotal: 50.1s\tremaining: 5m 2s\n",
      "142:\tlearn: 0.0751241\ttest: 0.0838031\tbest: 0.0838031 (142)\ttotal: 50.4s\tremaining: 5m 1s\n",
      "143:\tlearn: 0.0750571\ttest: 0.0837535\tbest: 0.0837535 (143)\ttotal: 50.7s\tremaining: 5m 1s\n",
      "144:\tlearn: 0.0749347\ttest: 0.0836420\tbest: 0.0836420 (144)\ttotal: 51.1s\tremaining: 5m 1s\n",
      "145:\tlearn: 0.0748603\ttest: 0.0836009\tbest: 0.0836009 (145)\ttotal: 51.5s\tremaining: 5m 1s\n",
      "146:\tlearn: 0.0748127\ttest: 0.0835518\tbest: 0.0835518 (146)\ttotal: 51.8s\tremaining: 5m\n",
      "147:\tlearn: 0.0746374\ttest: 0.0834868\tbest: 0.0834868 (147)\ttotal: 52.2s\tremaining: 5m\n",
      "148:\tlearn: 0.0744411\ttest: 0.0834405\tbest: 0.0834405 (148)\ttotal: 52.5s\tremaining: 4m 59s\n",
      "149:\tlearn: 0.0742782\ttest: 0.0833328\tbest: 0.0833328 (149)\ttotal: 52.8s\tremaining: 4m 58s\n",
      "150:\tlearn: 0.0742014\ttest: 0.0834371\tbest: 0.0833328 (149)\ttotal: 53.1s\tremaining: 4m 58s\n",
      "151:\tlearn: 0.0735839\ttest: 0.0832509\tbest: 0.0832509 (151)\ttotal: 53.4s\tremaining: 4m 58s\n",
      "152:\tlearn: 0.0735449\ttest: 0.0832201\tbest: 0.0832201 (152)\ttotal: 53.7s\tremaining: 4m 57s\n",
      "153:\tlearn: 0.0733642\ttest: 0.0831715\tbest: 0.0831715 (153)\ttotal: 54.1s\tremaining: 4m 57s\n",
      "154:\tlearn: 0.0727706\ttest: 0.0812030\tbest: 0.0812030 (154)\ttotal: 54.5s\tremaining: 4m 57s\n",
      "155:\tlearn: 0.0725941\ttest: 0.0810794\tbest: 0.0810794 (155)\ttotal: 54.8s\tremaining: 4m 56s\n",
      "156:\tlearn: 0.0724704\ttest: 0.0810767\tbest: 0.0810767 (156)\ttotal: 55s\tremaining: 4m 55s\n",
      "157:\tlearn: 0.0724107\ttest: 0.0810391\tbest: 0.0810391 (157)\ttotal: 55.4s\tremaining: 4m 55s\n",
      "158:\tlearn: 0.0722791\ttest: 0.0809794\tbest: 0.0809794 (158)\ttotal: 55.8s\tremaining: 4m 55s\n",
      "159:\tlearn: 0.0721238\ttest: 0.0809691\tbest: 0.0809691 (159)\ttotal: 56.1s\tremaining: 4m 54s\n",
      "160:\tlearn: 0.0719350\ttest: 0.0808663\tbest: 0.0808663 (160)\ttotal: 56.5s\tremaining: 4m 54s\n",
      "161:\tlearn: 0.0717915\ttest: 0.0808300\tbest: 0.0808300 (161)\ttotal: 56.7s\tremaining: 4m 53s\n",
      "162:\tlearn: 0.0716091\ttest: 0.0807195\tbest: 0.0807195 (162)\ttotal: 57.1s\tremaining: 4m 53s\n",
      "163:\tlearn: 0.0714631\ttest: 0.0807210\tbest: 0.0807195 (162)\ttotal: 57.4s\tremaining: 4m 52s\n",
      "164:\tlearn: 0.0713137\ttest: 0.0807460\tbest: 0.0807195 (162)\ttotal: 57.7s\tremaining: 4m 52s\n",
      "165:\tlearn: 0.0709308\ttest: 0.0802043\tbest: 0.0802043 (165)\ttotal: 58.1s\tremaining: 4m 52s\n",
      "166:\tlearn: 0.0709119\ttest: 0.0801981\tbest: 0.0801981 (166)\ttotal: 58.3s\tremaining: 4m 50s\n",
      "167:\tlearn: 0.0708180\ttest: 0.0800585\tbest: 0.0800585 (167)\ttotal: 58.6s\tremaining: 4m 50s\n",
      "168:\tlearn: 0.0707706\ttest: 0.0800393\tbest: 0.0800393 (168)\ttotal: 59s\tremaining: 4m 49s\n",
      "169:\tlearn: 0.0707545\ttest: 0.0800409\tbest: 0.0800393 (168)\ttotal: 59.2s\tremaining: 4m 48s\n",
      "170:\tlearn: 0.0706514\ttest: 0.0799652\tbest: 0.0799652 (170)\ttotal: 59.5s\tremaining: 4m 48s\n",
      "171:\tlearn: 0.0705288\ttest: 0.0799290\tbest: 0.0799290 (171)\ttotal: 59.8s\tremaining: 4m 47s\n",
      "172:\tlearn: 0.0704002\ttest: 0.0799334\tbest: 0.0799290 (171)\ttotal: 1m\tremaining: 4m 47s\n",
      "173:\tlearn: 0.0703569\ttest: 0.0800586\tbest: 0.0799290 (171)\ttotal: 1m\tremaining: 4m 47s\n",
      "174:\tlearn: 0.0702426\ttest: 0.0800696\tbest: 0.0799290 (171)\ttotal: 1m\tremaining: 4m 46s\n",
      "175:\tlearn: 0.0702259\ttest: 0.0800654\tbest: 0.0799290 (171)\ttotal: 1m\tremaining: 4m 45s\n",
      "176:\tlearn: 0.0702082\ttest: 0.0800529\tbest: 0.0799290 (171)\ttotal: 1m 1s\tremaining: 4m 44s\n",
      "177:\tlearn: 0.0701637\ttest: 0.0800453\tbest: 0.0799290 (171)\ttotal: 1m 1s\tremaining: 4m 44s\n",
      "178:\tlearn: 0.0701471\ttest: 0.0800484\tbest: 0.0799290 (171)\ttotal: 1m 1s\tremaining: 4m 43s\n",
      "179:\tlearn: 0.0701224\ttest: 0.0800222\tbest: 0.0799290 (171)\ttotal: 1m 2s\tremaining: 4m 43s\n",
      "180:\tlearn: 0.0701054\ttest: 0.0800156\tbest: 0.0799290 (171)\ttotal: 1m 2s\tremaining: 4m 42s\n",
      "181:\tlearn: 0.0700233\ttest: 0.0799988\tbest: 0.0799290 (171)\ttotal: 1m 2s\tremaining: 4m 41s\n",
      "182:\tlearn: 0.0700034\ttest: 0.0799800\tbest: 0.0799290 (171)\ttotal: 1m 3s\tremaining: 4m 41s\n",
      "183:\tlearn: 0.0699697\ttest: 0.0801621\tbest: 0.0799290 (171)\ttotal: 1m 3s\tremaining: 4m 41s\n",
      "184:\tlearn: 0.0699151\ttest: 0.0801259\tbest: 0.0799290 (171)\ttotal: 1m 3s\tremaining: 4m 40s\n",
      "185:\tlearn: 0.0698307\ttest: 0.0800898\tbest: 0.0799290 (171)\ttotal: 1m 4s\tremaining: 4m 40s\n",
      "186:\tlearn: 0.0697904\ttest: 0.0800845\tbest: 0.0799290 (171)\ttotal: 1m 4s\tremaining: 4m 40s\n",
      "187:\tlearn: 0.0697203\ttest: 0.0800114\tbest: 0.0799290 (171)\ttotal: 1m 4s\tremaining: 4m 39s\n",
      "188:\tlearn: 0.0697039\ttest: 0.0799890\tbest: 0.0799290 (171)\ttotal: 1m 5s\tremaining: 4m 39s\n",
      "189:\tlearn: 0.0696771\ttest: 0.0800285\tbest: 0.0799290 (171)\ttotal: 1m 5s\tremaining: 4m 39s\n",
      "190:\tlearn: 0.0696481\ttest: 0.0800018\tbest: 0.0799290 (171)\ttotal: 1m 5s\tremaining: 4m 38s\n",
      "191:\tlearn: 0.0693294\ttest: 0.0795184\tbest: 0.0795184 (191)\ttotal: 1m 6s\tremaining: 4m 38s\n",
      "192:\tlearn: 0.0693107\ttest: 0.0794952\tbest: 0.0794952 (192)\ttotal: 1m 6s\tremaining: 4m 38s\n",
      "193:\tlearn: 0.0692083\ttest: 0.0795088\tbest: 0.0794952 (192)\ttotal: 1m 6s\tremaining: 4m 37s\n",
      "194:\tlearn: 0.0691910\ttest: 0.0795062\tbest: 0.0794952 (192)\ttotal: 1m 7s\tremaining: 4m 36s\n",
      "195:\tlearn: 0.0691257\ttest: 0.0793514\tbest: 0.0793514 (195)\ttotal: 1m 7s\tremaining: 4m 35s\n",
      "196:\tlearn: 0.0690969\ttest: 0.0793352\tbest: 0.0793352 (196)\ttotal: 1m 7s\tremaining: 4m 35s\n",
      "197:\tlearn: 0.0687204\ttest: 0.0786577\tbest: 0.0786577 (197)\ttotal: 1m 8s\tremaining: 4m 35s\n",
      "198:\tlearn: 0.0686267\ttest: 0.0786252\tbest: 0.0786252 (198)\ttotal: 1m 8s\tremaining: 4m 35s\n",
      "199:\tlearn: 0.0686112\ttest: 0.0785914\tbest: 0.0785914 (199)\ttotal: 1m 8s\tremaining: 4m 34s\n",
      "200:\tlearn: 0.0685926\ttest: 0.0785926\tbest: 0.0785914 (199)\ttotal: 1m 9s\tremaining: 4m 34s\n",
      "201:\tlearn: 0.0685789\ttest: 0.0785896\tbest: 0.0785896 (201)\ttotal: 1m 9s\tremaining: 4m 33s\n",
      "202:\tlearn: 0.0685499\ttest: 0.0785550\tbest: 0.0785550 (202)\ttotal: 1m 9s\tremaining: 4m 33s\n",
      "203:\tlearn: 0.0685149\ttest: 0.0786312\tbest: 0.0785550 (202)\ttotal: 1m 10s\tremaining: 4m 33s\n",
      "204:\tlearn: 0.0682103\ttest: 0.0780724\tbest: 0.0780724 (204)\ttotal: 1m 10s\tremaining: 4m 33s\n",
      "205:\tlearn: 0.0681522\ttest: 0.0779947\tbest: 0.0779947 (205)\ttotal: 1m 10s\tremaining: 4m 32s\n",
      "206:\tlearn: 0.0681256\ttest: 0.0780113\tbest: 0.0779947 (205)\ttotal: 1m 11s\tremaining: 4m 32s\n",
      "207:\tlearn: 0.0680677\ttest: 0.0780130\tbest: 0.0779947 (205)\ttotal: 1m 11s\tremaining: 4m 31s\n",
      "208:\tlearn: 0.0680358\ttest: 0.0779741\tbest: 0.0779741 (208)\ttotal: 1m 11s\tremaining: 4m 31s\n",
      "209:\tlearn: 0.0680054\ttest: 0.0779477\tbest: 0.0779477 (209)\ttotal: 1m 12s\tremaining: 4m 31s\n",
      "210:\tlearn: 0.0679777\ttest: 0.0779405\tbest: 0.0779405 (210)\ttotal: 1m 12s\tremaining: 4m 31s\n",
      "211:\tlearn: 0.0679602\ttest: 0.0779317\tbest: 0.0779317 (211)\ttotal: 1m 12s\tremaining: 4m 30s\n",
      "212:\tlearn: 0.0679370\ttest: 0.0779251\tbest: 0.0779251 (212)\ttotal: 1m 13s\tremaining: 4m 30s\n",
      "213:\tlearn: 0.0678290\ttest: 0.0778666\tbest: 0.0778666 (213)\ttotal: 1m 13s\tremaining: 4m 30s\n",
      "214:\tlearn: 0.0678125\ttest: 0.0778686\tbest: 0.0778666 (213)\ttotal: 1m 13s\tremaining: 4m 29s\n",
      "215:\tlearn: 0.0677809\ttest: 0.0778677\tbest: 0.0778666 (213)\ttotal: 1m 14s\tremaining: 4m 29s\n",
      "216:\tlearn: 0.0677133\ttest: 0.0778130\tbest: 0.0778130 (216)\ttotal: 1m 14s\tremaining: 4m 29s\n",
      "217:\tlearn: 0.0676333\ttest: 0.0777074\tbest: 0.0777074 (217)\ttotal: 1m 15s\tremaining: 4m 29s\n",
      "218:\tlearn: 0.0675548\ttest: 0.0777122\tbest: 0.0777074 (217)\ttotal: 1m 15s\tremaining: 4m 28s\n",
      "219:\tlearn: 0.0675397\ttest: 0.0777005\tbest: 0.0777005 (219)\ttotal: 1m 15s\tremaining: 4m 28s\n",
      "220:\tlearn: 0.0675279\ttest: 0.0777202\tbest: 0.0777005 (219)\ttotal: 1m 16s\tremaining: 4m 28s\n",
      "221:\tlearn: 0.0674983\ttest: 0.0777391\tbest: 0.0777005 (219)\ttotal: 1m 16s\tremaining: 4m 27s\n",
      "222:\tlearn: 0.0674216\ttest: 0.0777119\tbest: 0.0777005 (219)\ttotal: 1m 16s\tremaining: 4m 27s\n",
      "223:\tlearn: 0.0671763\ttest: 0.0773566\tbest: 0.0773566 (223)\ttotal: 1m 17s\tremaining: 4m 27s\n",
      "224:\tlearn: 0.0670840\ttest: 0.0773284\tbest: 0.0773284 (224)\ttotal: 1m 17s\tremaining: 4m 26s\n",
      "225:\tlearn: 0.0670085\ttest: 0.0773278\tbest: 0.0773278 (225)\ttotal: 1m 17s\tremaining: 4m 26s\n",
      "226:\tlearn: 0.0669489\ttest: 0.0772992\tbest: 0.0772992 (226)\ttotal: 1m 18s\tremaining: 4m 25s\n",
      "227:\tlearn: 0.0669133\ttest: 0.0772371\tbest: 0.0772371 (227)\ttotal: 1m 18s\tremaining: 4m 25s\n",
      "228:\tlearn: 0.0668841\ttest: 0.0768977\tbest: 0.0768977 (228)\ttotal: 1m 18s\tremaining: 4m 25s\n",
      "229:\tlearn: 0.0668060\ttest: 0.0769124\tbest: 0.0768977 (228)\ttotal: 1m 19s\tremaining: 4m 24s\n",
      "230:\tlearn: 0.0667959\ttest: 0.0769027\tbest: 0.0768977 (228)\ttotal: 1m 19s\tremaining: 4m 24s\n",
      "231:\tlearn: 0.0667736\ttest: 0.0770113\tbest: 0.0768977 (228)\ttotal: 1m 19s\tremaining: 4m 23s\n",
      "232:\tlearn: 0.0667381\ttest: 0.0769697\tbest: 0.0768977 (228)\ttotal: 1m 20s\tremaining: 4m 23s\n",
      "233:\tlearn: 0.0666734\ttest: 0.0769960\tbest: 0.0768977 (228)\ttotal: 1m 20s\tremaining: 4m 23s\n",
      "234:\tlearn: 0.0666665\ttest: 0.0770062\tbest: 0.0768977 (228)\ttotal: 1m 21s\tremaining: 4m 23s\n",
      "235:\tlearn: 0.0666416\ttest: 0.0770279\tbest: 0.0768977 (228)\ttotal: 1m 21s\tremaining: 4m 23s\n",
      "236:\tlearn: 0.0666158\ttest: 0.0770909\tbest: 0.0768977 (228)\ttotal: 1m 21s\tremaining: 4m 23s\n",
      "237:\tlearn: 0.0665918\ttest: 0.0768390\tbest: 0.0768390 (237)\ttotal: 1m 22s\tremaining: 4m 23s\n",
      "238:\tlearn: 0.0665730\ttest: 0.0768092\tbest: 0.0768092 (238)\ttotal: 1m 22s\tremaining: 4m 22s\n",
      "239:\tlearn: 0.0664762\ttest: 0.0767517\tbest: 0.0767517 (239)\ttotal: 1m 22s\tremaining: 4m 22s\n",
      "240:\tlearn: 0.0664529\ttest: 0.0767375\tbest: 0.0767375 (240)\ttotal: 1m 23s\tremaining: 4m 22s\n",
      "241:\tlearn: 0.0664281\ttest: 0.0767784\tbest: 0.0767375 (240)\ttotal: 1m 23s\tremaining: 4m 22s\n",
      "242:\tlearn: 0.0663707\ttest: 0.0766860\tbest: 0.0766860 (242)\ttotal: 1m 24s\tremaining: 4m 21s\n",
      "243:\tlearn: 0.0663540\ttest: 0.0766347\tbest: 0.0766347 (243)\ttotal: 1m 24s\tremaining: 4m 21s\n",
      "244:\tlearn: 0.0663416\ttest: 0.0766246\tbest: 0.0766246 (244)\ttotal: 1m 24s\tremaining: 4m 21s\n",
      "245:\tlearn: 0.0662844\ttest: 0.0766284\tbest: 0.0766246 (244)\ttotal: 1m 25s\tremaining: 4m 21s\n",
      "246:\tlearn: 0.0662689\ttest: 0.0766515\tbest: 0.0766246 (244)\ttotal: 1m 25s\tremaining: 4m 20s\n",
      "247:\tlearn: 0.0662488\ttest: 0.0766519\tbest: 0.0766246 (244)\ttotal: 1m 25s\tremaining: 4m 19s\n",
      "248:\tlearn: 0.0662360\ttest: 0.0766419\tbest: 0.0766246 (244)\ttotal: 1m 26s\tremaining: 4m 19s\n",
      "249:\tlearn: 0.0661556\ttest: 0.0765987\tbest: 0.0765987 (249)\ttotal: 1m 26s\tremaining: 4m 19s\n",
      "250:\tlearn: 0.0660743\ttest: 0.0765783\tbest: 0.0765783 (250)\ttotal: 1m 26s\tremaining: 4m 18s\n",
      "251:\tlearn: 0.0659975\ttest: 0.0765808\tbest: 0.0765783 (250)\ttotal: 1m 27s\tremaining: 4m 18s\n",
      "252:\tlearn: 0.0659857\ttest: 0.0765718\tbest: 0.0765718 (252)\ttotal: 1m 27s\tremaining: 4m 18s\n",
      "253:\tlearn: 0.0659681\ttest: 0.0765436\tbest: 0.0765436 (253)\ttotal: 1m 27s\tremaining: 4m 18s\n",
      "254:\tlearn: 0.0659466\ttest: 0.0765624\tbest: 0.0765436 (253)\ttotal: 1m 28s\tremaining: 4m 17s\n",
      "255:\tlearn: 0.0659182\ttest: 0.0767026\tbest: 0.0765436 (253)\ttotal: 1m 28s\tremaining: 4m 17s\n",
      "256:\tlearn: 0.0658527\ttest: 0.0767135\tbest: 0.0765436 (253)\ttotal: 1m 28s\tremaining: 4m 16s\n",
      "257:\tlearn: 0.0658212\ttest: 0.0766604\tbest: 0.0765436 (253)\ttotal: 1m 29s\tremaining: 4m 16s\n",
      "258:\tlearn: 0.0657979\ttest: 0.0767044\tbest: 0.0765436 (253)\ttotal: 1m 29s\tremaining: 4m 16s\n",
      "259:\tlearn: 0.0657206\ttest: 0.0766639\tbest: 0.0765436 (253)\ttotal: 1m 29s\tremaining: 4m 15s\n",
      "260:\tlearn: 0.0656952\ttest: 0.0765968\tbest: 0.0765436 (253)\ttotal: 1m 30s\tremaining: 4m 15s\n",
      "261:\tlearn: 0.0656625\ttest: 0.0766435\tbest: 0.0765436 (253)\ttotal: 1m 30s\tremaining: 4m 14s\n",
      "262:\tlearn: 0.0656412\ttest: 0.0766492\tbest: 0.0765436 (253)\ttotal: 1m 30s\tremaining: 4m 14s\n",
      "263:\tlearn: 0.0656317\ttest: 0.0766564\tbest: 0.0765436 (253)\ttotal: 1m 31s\tremaining: 4m 13s\n",
      "264:\tlearn: 0.0656247\ttest: 0.0766677\tbest: 0.0765436 (253)\ttotal: 1m 31s\tremaining: 4m 13s\n",
      "265:\tlearn: 0.0656044\ttest: 0.0767773\tbest: 0.0765436 (253)\ttotal: 1m 31s\tremaining: 4m 12s\n",
      "266:\tlearn: 0.0655944\ttest: 0.0767654\tbest: 0.0765436 (253)\ttotal: 1m 31s\tremaining: 4m 12s\n",
      "267:\tlearn: 0.0654100\ttest: 0.0765052\tbest: 0.0765052 (267)\ttotal: 1m 32s\tremaining: 4m 12s\n",
      "268:\tlearn: 0.0653906\ttest: 0.0764862\tbest: 0.0764862 (268)\ttotal: 1m 32s\tremaining: 4m 12s\n",
      "269:\tlearn: 0.0653218\ttest: 0.0764549\tbest: 0.0764549 (269)\ttotal: 1m 33s\tremaining: 4m 11s\n",
      "270:\tlearn: 0.0652639\ttest: 0.0764741\tbest: 0.0764549 (269)\ttotal: 1m 33s\tremaining: 4m 11s\n",
      "271:\tlearn: 0.0652525\ttest: 0.0764555\tbest: 0.0764549 (269)\ttotal: 1m 34s\tremaining: 4m 11s\n",
      "272:\tlearn: 0.0652328\ttest: 0.0764482\tbest: 0.0764482 (272)\ttotal: 1m 34s\tremaining: 4m 11s\n",
      "273:\tlearn: 0.0652180\ttest: 0.0764301\tbest: 0.0764301 (273)\ttotal: 1m 34s\tremaining: 4m 11s\n",
      "274:\tlearn: 0.0650225\ttest: 0.0759818\tbest: 0.0759818 (274)\ttotal: 1m 35s\tremaining: 4m 10s\n",
      "275:\tlearn: 0.0650106\ttest: 0.0759590\tbest: 0.0759590 (275)\ttotal: 1m 35s\tremaining: 4m 10s\n",
      "276:\tlearn: 0.0649655\ttest: 0.0759266\tbest: 0.0759266 (276)\ttotal: 1m 35s\tremaining: 4m 9s\n",
      "277:\tlearn: 0.0649513\ttest: 0.0759135\tbest: 0.0759135 (277)\ttotal: 1m 36s\tremaining: 4m 9s\n",
      "278:\tlearn: 0.0649264\ttest: 0.0758919\tbest: 0.0758919 (278)\ttotal: 1m 36s\tremaining: 4m 9s\n",
      "279:\tlearn: 0.0649214\ttest: 0.0758951\tbest: 0.0758919 (278)\ttotal: 1m 36s\tremaining: 4m 8s\n",
      "280:\tlearn: 0.0648542\ttest: 0.0758954\tbest: 0.0758919 (278)\ttotal: 1m 37s\tremaining: 4m 8s\n",
      "281:\tlearn: 0.0648355\ttest: 0.0760539\tbest: 0.0758919 (278)\ttotal: 1m 37s\tremaining: 4m 8s\n",
      "282:\tlearn: 0.0648276\ttest: 0.0760065\tbest: 0.0758919 (278)\ttotal: 1m 37s\tremaining: 4m 7s\n",
      "283:\tlearn: 0.0648099\ttest: 0.0759988\tbest: 0.0758919 (278)\ttotal: 1m 38s\tremaining: 4m 7s\n",
      "284:\tlearn: 0.0648038\ttest: 0.0759967\tbest: 0.0758919 (278)\ttotal: 1m 38s\tremaining: 4m 7s\n",
      "285:\tlearn: 0.0646511\ttest: 0.0758151\tbest: 0.0758151 (285)\ttotal: 1m 38s\tremaining: 4m 7s\n",
      "286:\tlearn: 0.0646431\ttest: 0.0758303\tbest: 0.0758151 (285)\ttotal: 1m 39s\tremaining: 4m 6s\n",
      "287:\tlearn: 0.0646366\ttest: 0.0758242\tbest: 0.0758151 (285)\ttotal: 1m 39s\tremaining: 4m 6s\n",
      "288:\tlearn: 0.0646094\ttest: 0.0757765\tbest: 0.0757765 (288)\ttotal: 1m 39s\tremaining: 4m 5s\n",
      "289:\tlearn: 0.0645771\ttest: 0.0757360\tbest: 0.0757360 (289)\ttotal: 1m 40s\tremaining: 4m 5s\n",
      "290:\tlearn: 0.0645629\ttest: 0.0757114\tbest: 0.0757114 (290)\ttotal: 1m 40s\tremaining: 4m 5s\n",
      "291:\tlearn: 0.0645448\ttest: 0.0757032\tbest: 0.0757032 (291)\ttotal: 1m 41s\tremaining: 4m 5s\n",
      "292:\tlearn: 0.0644864\ttest: 0.0756807\tbest: 0.0756807 (292)\ttotal: 1m 41s\tremaining: 4m 4s\n",
      "293:\tlearn: 0.0644722\ttest: 0.0757099\tbest: 0.0756807 (292)\ttotal: 1m 41s\tremaining: 4m 4s\n",
      "294:\tlearn: 0.0644238\ttest: 0.0756543\tbest: 0.0756543 (294)\ttotal: 1m 42s\tremaining: 4m 3s\n",
      "295:\tlearn: 0.0644000\ttest: 0.0757177\tbest: 0.0756543 (294)\ttotal: 1m 42s\tremaining: 4m 3s\n",
      "296:\tlearn: 0.0643804\ttest: 0.0757438\tbest: 0.0756543 (294)\ttotal: 1m 42s\tremaining: 4m 2s\n",
      "297:\tlearn: 0.0643680\ttest: 0.0757286\tbest: 0.0756543 (294)\ttotal: 1m 43s\tremaining: 4m 2s\n",
      "298:\tlearn: 0.0643542\ttest: 0.0757492\tbest: 0.0756543 (294)\ttotal: 1m 43s\tremaining: 4m 2s\n",
      "299:\tlearn: 0.0643069\ttest: 0.0757489\tbest: 0.0756543 (294)\ttotal: 1m 43s\tremaining: 4m 2s\n",
      "300:\tlearn: 0.0642662\ttest: 0.0757515\tbest: 0.0756543 (294)\ttotal: 1m 44s\tremaining: 4m 1s\n",
      "301:\tlearn: 0.0642402\ttest: 0.0757034\tbest: 0.0756543 (294)\ttotal: 1m 44s\tremaining: 4m 1s\n",
      "302:\tlearn: 0.0642232\ttest: 0.0757152\tbest: 0.0756543 (294)\ttotal: 1m 44s\tremaining: 4m 1s\n",
      "303:\tlearn: 0.0642128\ttest: 0.0756958\tbest: 0.0756543 (294)\ttotal: 1m 45s\tremaining: 4m 1s\n",
      "304:\tlearn: 0.0641956\ttest: 0.0756934\tbest: 0.0756543 (294)\ttotal: 1m 45s\tremaining: 4m\n",
      "305:\tlearn: 0.0641830\ttest: 0.0757120\tbest: 0.0756543 (294)\ttotal: 1m 46s\tremaining: 4m\n",
      "306:\tlearn: 0.0641491\ttest: 0.0756748\tbest: 0.0756543 (294)\ttotal: 1m 46s\tremaining: 4m\n",
      "307:\tlearn: 0.0641396\ttest: 0.0756748\tbest: 0.0756543 (294)\ttotal: 1m 46s\tremaining: 3m 59s\n",
      "308:\tlearn: 0.0639852\ttest: 0.0752884\tbest: 0.0752884 (308)\ttotal: 1m 47s\tremaining: 3m 59s\n",
      "309:\tlearn: 0.0639672\ttest: 0.0752557\tbest: 0.0752557 (309)\ttotal: 1m 47s\tremaining: 3m 59s\n",
      "310:\tlearn: 0.0639573\ttest: 0.0752538\tbest: 0.0752538 (310)\ttotal: 1m 47s\tremaining: 3m 58s\n",
      "311:\tlearn: 0.0639402\ttest: 0.0752544\tbest: 0.0752538 (310)\ttotal: 1m 48s\tremaining: 3m 58s\n",
      "312:\tlearn: 0.0638894\ttest: 0.0752298\tbest: 0.0752298 (312)\ttotal: 1m 48s\tremaining: 3m 57s\n",
      "313:\tlearn: 0.0638779\ttest: 0.0752015\tbest: 0.0752015 (313)\ttotal: 1m 48s\tremaining: 3m 57s\n",
      "314:\tlearn: 0.0638653\ttest: 0.0751833\tbest: 0.0751833 (314)\ttotal: 1m 49s\tremaining: 3m 57s\n",
      "315:\tlearn: 0.0638246\ttest: 0.0751906\tbest: 0.0751833 (314)\ttotal: 1m 49s\tremaining: 3m 57s\n",
      "316:\tlearn: 0.0638078\ttest: 0.0751875\tbest: 0.0751833 (314)\ttotal: 1m 49s\tremaining: 3m 56s\n",
      "317:\tlearn: 0.0637920\ttest: 0.0752539\tbest: 0.0751833 (314)\ttotal: 1m 50s\tremaining: 3m 56s\n",
      "318:\tlearn: 0.0637884\ttest: 0.0752540\tbest: 0.0751833 (314)\ttotal: 1m 50s\tremaining: 3m 55s\n",
      "319:\tlearn: 0.0637590\ttest: 0.0751862\tbest: 0.0751833 (314)\ttotal: 1m 50s\tremaining: 3m 55s\n",
      "320:\tlearn: 0.0637344\ttest: 0.0751579\tbest: 0.0751579 (320)\ttotal: 1m 51s\tremaining: 3m 55s\n",
      "321:\tlearn: 0.0637191\ttest: 0.0751289\tbest: 0.0751289 (321)\ttotal: 1m 51s\tremaining: 3m 55s\n",
      "322:\tlearn: 0.0636710\ttest: 0.0751379\tbest: 0.0751289 (321)\ttotal: 1m 52s\tremaining: 3m 54s\n",
      "323:\tlearn: 0.0636594\ttest: 0.0751159\tbest: 0.0751159 (323)\ttotal: 1m 52s\tremaining: 3m 54s\n",
      "324:\tlearn: 0.0636504\ttest: 0.0751266\tbest: 0.0751159 (323)\ttotal: 1m 52s\tremaining: 3m 53s\n",
      "325:\tlearn: 0.0636432\ttest: 0.0751259\tbest: 0.0751159 (323)\ttotal: 1m 52s\tremaining: 3m 53s\n",
      "326:\tlearn: 0.0635178\ttest: 0.0750169\tbest: 0.0750169 (326)\ttotal: 1m 53s\tremaining: 3m 53s\n",
      "327:\tlearn: 0.0635123\ttest: 0.0750181\tbest: 0.0750169 (326)\ttotal: 1m 53s\tremaining: 3m 52s\n",
      "328:\tlearn: 0.0634460\ttest: 0.0750097\tbest: 0.0750097 (328)\ttotal: 1m 53s\tremaining: 3m 52s\n",
      "329:\tlearn: 0.0634378\ttest: 0.0750060\tbest: 0.0750060 (329)\ttotal: 1m 54s\tremaining: 3m 52s\n",
      "330:\tlearn: 0.0634203\ttest: 0.0749580\tbest: 0.0749580 (330)\ttotal: 1m 54s\tremaining: 3m 51s\n",
      "331:\tlearn: 0.0634164\ttest: 0.0748911\tbest: 0.0748911 (331)\ttotal: 1m 54s\tremaining: 3m 51s\n",
      "332:\tlearn: 0.0633819\ttest: 0.0748417\tbest: 0.0748417 (332)\ttotal: 1m 55s\tremaining: 3m 50s\n",
      "333:\tlearn: 0.0633780\ttest: 0.0748450\tbest: 0.0748417 (332)\ttotal: 1m 55s\tremaining: 3m 50s\n",
      "334:\tlearn: 0.0633664\ttest: 0.0749133\tbest: 0.0748417 (332)\ttotal: 1m 55s\tremaining: 3m 50s\n",
      "335:\tlearn: 0.0633603\ttest: 0.0749235\tbest: 0.0748417 (332)\ttotal: 1m 56s\tremaining: 3m 49s\n",
      "336:\tlearn: 0.0633276\ttest: 0.0749154\tbest: 0.0748417 (332)\ttotal: 1m 56s\tremaining: 3m 49s\n",
      "337:\tlearn: 0.0633201\ttest: 0.0749119\tbest: 0.0748417 (332)\ttotal: 1m 57s\tremaining: 3m 49s\n",
      "338:\tlearn: 0.0633117\ttest: 0.0749029\tbest: 0.0748417 (332)\ttotal: 1m 57s\tremaining: 3m 49s\n",
      "339:\tlearn: 0.0633084\ttest: 0.0749069\tbest: 0.0748417 (332)\ttotal: 1m 57s\tremaining: 3m 48s\n",
      "340:\tlearn: 0.0633004\ttest: 0.0749008\tbest: 0.0748417 (332)\ttotal: 1m 58s\tremaining: 3m 48s\n",
      "341:\tlearn: 0.0632801\ttest: 0.0749415\tbest: 0.0748417 (332)\ttotal: 1m 58s\tremaining: 3m 48s\n",
      "342:\tlearn: 0.0632709\ttest: 0.0749383\tbest: 0.0748417 (332)\ttotal: 1m 58s\tremaining: 3m 47s\n",
      "343:\tlearn: 0.0632468\ttest: 0.0749073\tbest: 0.0748417 (332)\ttotal: 1m 59s\tremaining: 3m 47s\n",
      "344:\tlearn: 0.0632124\ttest: 0.0749353\tbest: 0.0748417 (332)\ttotal: 1m 59s\tremaining: 3m 46s\n",
      "345:\tlearn: 0.0631943\ttest: 0.0749219\tbest: 0.0748417 (332)\ttotal: 1m 59s\tremaining: 3m 46s\n",
      "346:\tlearn: 0.0631743\ttest: 0.0748936\tbest: 0.0748417 (332)\ttotal: 2m\tremaining: 3m 45s\n",
      "347:\tlearn: 0.0631578\ttest: 0.0748170\tbest: 0.0748170 (347)\ttotal: 2m\tremaining: 3m 45s\n",
      "348:\tlearn: 0.0631477\ttest: 0.0748286\tbest: 0.0748170 (347)\ttotal: 2m\tremaining: 3m 44s\n",
      "349:\tlearn: 0.0631406\ttest: 0.0748240\tbest: 0.0748170 (347)\ttotal: 2m\tremaining: 3m 44s\n",
      "350:\tlearn: 0.0631306\ttest: 0.0748060\tbest: 0.0748060 (350)\ttotal: 2m 1s\tremaining: 3m 44s\n",
      "351:\tlearn: 0.0631174\ttest: 0.0748031\tbest: 0.0748031 (351)\ttotal: 2m 1s\tremaining: 3m 44s\n",
      "352:\tlearn: 0.0631099\ttest: 0.0748225\tbest: 0.0748031 (351)\ttotal: 2m 2s\tremaining: 3m 43s\n",
      "353:\tlearn: 0.0630702\ttest: 0.0748018\tbest: 0.0748018 (353)\ttotal: 2m 2s\tremaining: 3m 43s\n",
      "354:\tlearn: 0.0630570\ttest: 0.0747758\tbest: 0.0747758 (354)\ttotal: 2m 2s\tremaining: 3m 43s\n",
      "355:\tlearn: 0.0630238\ttest: 0.0747408\tbest: 0.0747408 (355)\ttotal: 2m 3s\tremaining: 3m 43s\n",
      "356:\tlearn: 0.0630126\ttest: 0.0747452\tbest: 0.0747408 (355)\ttotal: 2m 3s\tremaining: 3m 42s\n",
      "357:\tlearn: 0.0630079\ttest: 0.0747624\tbest: 0.0747408 (355)\ttotal: 2m 3s\tremaining: 3m 42s\n",
      "358:\tlearn: 0.0630000\ttest: 0.0747599\tbest: 0.0747408 (355)\ttotal: 2m 4s\tremaining: 3m 41s\n",
      "359:\tlearn: 0.0629001\ttest: 0.0746421\tbest: 0.0746421 (359)\ttotal: 2m 4s\tremaining: 3m 41s\n",
      "360:\tlearn: 0.0628909\ttest: 0.0746598\tbest: 0.0746421 (359)\ttotal: 2m 5s\tremaining: 3m 41s\n",
      "361:\tlearn: 0.0628888\ttest: 0.0746609\tbest: 0.0746421 (359)\ttotal: 2m 5s\tremaining: 3m 40s\n",
      "362:\tlearn: 0.0628812\ttest: 0.0746625\tbest: 0.0746421 (359)\ttotal: 2m 5s\tremaining: 3m 40s\n",
      "363:\tlearn: 0.0628760\ttest: 0.0746576\tbest: 0.0746421 (359)\ttotal: 2m 5s\tremaining: 3m 39s\n",
      "364:\tlearn: 0.0628703\ttest: 0.0747267\tbest: 0.0746421 (359)\ttotal: 2m 6s\tremaining: 3m 39s\n",
      "365:\tlearn: 0.0628637\ttest: 0.0747505\tbest: 0.0746421 (359)\ttotal: 2m 6s\tremaining: 3m 38s\n",
      "366:\tlearn: 0.0628512\ttest: 0.0746821\tbest: 0.0746421 (359)\ttotal: 2m 6s\tremaining: 3m 38s\n",
      "367:\tlearn: 0.0628402\ttest: 0.0746839\tbest: 0.0746421 (359)\ttotal: 2m 7s\tremaining: 3m 38s\n",
      "368:\tlearn: 0.0628318\ttest: 0.0746791\tbest: 0.0746421 (359)\ttotal: 2m 7s\tremaining: 3m 37s\n",
      "369:\tlearn: 0.0628155\ttest: 0.0746397\tbest: 0.0746397 (369)\ttotal: 2m 7s\tremaining: 3m 37s\n",
      "370:\tlearn: 0.0628095\ttest: 0.0746345\tbest: 0.0746345 (370)\ttotal: 2m 7s\tremaining: 3m 36s\n",
      "371:\tlearn: 0.0627806\ttest: 0.0746247\tbest: 0.0746247 (371)\ttotal: 2m 8s\tremaining: 3m 36s\n",
      "372:\tlearn: 0.0627695\ttest: 0.0746592\tbest: 0.0746247 (371)\ttotal: 2m 8s\tremaining: 3m 36s\n",
      "373:\tlearn: 0.0627537\ttest: 0.0746577\tbest: 0.0746247 (371)\ttotal: 2m 9s\tremaining: 3m 35s\n",
      "374:\tlearn: 0.0627514\ttest: 0.0746583\tbest: 0.0746247 (371)\ttotal: 2m 9s\tremaining: 3m 35s\n",
      "375:\tlearn: 0.0627461\ttest: 0.0746301\tbest: 0.0746247 (371)\ttotal: 2m 9s\tremaining: 3m 35s\n",
      "376:\tlearn: 0.0627394\ttest: 0.0746267\tbest: 0.0746247 (371)\ttotal: 2m 10s\tremaining: 3m 34s\n",
      "377:\tlearn: 0.0627101\ttest: 0.0745862\tbest: 0.0745862 (377)\ttotal: 2m 10s\tremaining: 3m 34s\n",
      "378:\tlearn: 0.0626963\ttest: 0.0745570\tbest: 0.0745570 (378)\ttotal: 2m 10s\tremaining: 3m 33s\n",
      "379:\tlearn: 0.0626895\ttest: 0.0745802\tbest: 0.0745570 (378)\ttotal: 2m 10s\tremaining: 3m 33s\n",
      "380:\tlearn: 0.0626810\ttest: 0.0746389\tbest: 0.0745570 (378)\ttotal: 2m 11s\tremaining: 3m 33s\n",
      "381:\tlearn: 0.0626718\ttest: 0.0746552\tbest: 0.0745570 (378)\ttotal: 2m 11s\tremaining: 3m 32s\n",
      "382:\tlearn: 0.0626542\ttest: 0.0746369\tbest: 0.0745570 (378)\ttotal: 2m 11s\tremaining: 3m 32s\n",
      "383:\tlearn: 0.0626527\ttest: 0.0746397\tbest: 0.0745570 (378)\ttotal: 2m 12s\tremaining: 3m 32s\n",
      "384:\tlearn: 0.0626297\ttest: 0.0746092\tbest: 0.0745570 (378)\ttotal: 2m 12s\tremaining: 3m 31s\n",
      "385:\tlearn: 0.0626167\ttest: 0.0746257\tbest: 0.0745570 (378)\ttotal: 2m 12s\tremaining: 3m 31s\n",
      "386:\tlearn: 0.0625836\ttest: 0.0746374\tbest: 0.0745570 (378)\ttotal: 2m 13s\tremaining: 3m 31s\n",
      "387:\tlearn: 0.0625696\ttest: 0.0746106\tbest: 0.0745570 (378)\ttotal: 2m 13s\tremaining: 3m 30s\n",
      "388:\tlearn: 0.0625346\ttest: 0.0745919\tbest: 0.0745570 (378)\ttotal: 2m 13s\tremaining: 3m 30s\n",
      "389:\tlearn: 0.0625297\ttest: 0.0745953\tbest: 0.0745570 (378)\ttotal: 2m 14s\tremaining: 3m 30s\n",
      "390:\tlearn: 0.0625255\ttest: 0.0745828\tbest: 0.0745570 (378)\ttotal: 2m 14s\tremaining: 3m 30s\n",
      "391:\tlearn: 0.0625153\ttest: 0.0746125\tbest: 0.0745570 (378)\ttotal: 2m 15s\tremaining: 3m 29s\n",
      "392:\tlearn: 0.0625003\ttest: 0.0746159\tbest: 0.0745570 (378)\ttotal: 2m 15s\tremaining: 3m 29s\n",
      "393:\tlearn: 0.0624881\ttest: 0.0746134\tbest: 0.0745570 (378)\ttotal: 2m 15s\tremaining: 3m 28s\n",
      "394:\tlearn: 0.0624788\ttest: 0.0746882\tbest: 0.0745570 (378)\ttotal: 2m 16s\tremaining: 3m 28s\n",
      "395:\tlearn: 0.0624757\ttest: 0.0746879\tbest: 0.0745570 (378)\ttotal: 2m 16s\tremaining: 3m 28s\n",
      "396:\tlearn: 0.0624720\ttest: 0.0746921\tbest: 0.0745570 (378)\ttotal: 2m 16s\tremaining: 3m 27s\n",
      "397:\tlearn: 0.0624527\ttest: 0.0746604\tbest: 0.0745570 (378)\ttotal: 2m 17s\tremaining: 3m 27s\n",
      "398:\tlearn: 0.0624458\ttest: 0.0746523\tbest: 0.0745570 (378)\ttotal: 2m 17s\tremaining: 3m 27s\n",
      "399:\tlearn: 0.0624422\ttest: 0.0746313\tbest: 0.0745570 (378)\ttotal: 2m 17s\tremaining: 3m 26s\n",
      "400:\tlearn: 0.0624158\ttest: 0.0745966\tbest: 0.0745570 (378)\ttotal: 2m 18s\tremaining: 3m 26s\n",
      "401:\tlearn: 0.0623937\ttest: 0.0745828\tbest: 0.0745570 (378)\ttotal: 2m 18s\tremaining: 3m 26s\n",
      "402:\tlearn: 0.0623696\ttest: 0.0745739\tbest: 0.0745570 (378)\ttotal: 2m 19s\tremaining: 3m 25s\n",
      "403:\tlearn: 0.0623594\ttest: 0.0745561\tbest: 0.0745561 (403)\ttotal: 2m 19s\tremaining: 3m 25s\n",
      "404:\tlearn: 0.0623428\ttest: 0.0745395\tbest: 0.0745395 (404)\ttotal: 2m 19s\tremaining: 3m 25s\n",
      "405:\tlearn: 0.0623376\ttest: 0.0745284\tbest: 0.0745284 (405)\ttotal: 2m 20s\tremaining: 3m 24s\n",
      "406:\tlearn: 0.0623343\ttest: 0.0745270\tbest: 0.0745270 (406)\ttotal: 2m 20s\tremaining: 3m 24s\n",
      "407:\tlearn: 0.0623237\ttest: 0.0745179\tbest: 0.0745179 (407)\ttotal: 2m 21s\tremaining: 3m 24s\n",
      "408:\tlearn: 0.0623158\ttest: 0.0745319\tbest: 0.0745179 (407)\ttotal: 2m 21s\tremaining: 3m 24s\n",
      "409:\tlearn: 0.0623044\ttest: 0.0746332\tbest: 0.0745179 (407)\ttotal: 2m 22s\tremaining: 3m 24s\n",
      "410:\tlearn: 0.0622961\ttest: 0.0746409\tbest: 0.0745179 (407)\ttotal: 2m 22s\tremaining: 3m 23s\n",
      "411:\tlearn: 0.0622889\ttest: 0.0746628\tbest: 0.0745179 (407)\ttotal: 2m 22s\tremaining: 3m 23s\n",
      "412:\tlearn: 0.0622533\ttest: 0.0746724\tbest: 0.0745179 (407)\ttotal: 2m 22s\tremaining: 3m 22s\n",
      "413:\tlearn: 0.0622497\ttest: 0.0746645\tbest: 0.0745179 (407)\ttotal: 2m 22s\tremaining: 3m 22s\n",
      "414:\tlearn: 0.0622428\ttest: 0.0746801\tbest: 0.0745179 (407)\ttotal: 2m 23s\tremaining: 3m 21s\n",
      "415:\tlearn: 0.0622343\ttest: 0.0747971\tbest: 0.0745179 (407)\ttotal: 2m 23s\tremaining: 3m 21s\n",
      "416:\tlearn: 0.0622157\ttest: 0.0747753\tbest: 0.0745179 (407)\ttotal: 2m 23s\tremaining: 3m 21s\n",
      "417:\tlearn: 0.0622048\ttest: 0.0747860\tbest: 0.0745179 (407)\ttotal: 2m 24s\tremaining: 3m 20s\n",
      "418:\tlearn: 0.0621844\ttest: 0.0747622\tbest: 0.0745179 (407)\ttotal: 2m 24s\tremaining: 3m 20s\n",
      "419:\tlearn: 0.0621809\ttest: 0.0747433\tbest: 0.0745179 (407)\ttotal: 2m 24s\tremaining: 3m 20s\n",
      "420:\tlearn: 0.0621771\ttest: 0.0747438\tbest: 0.0745179 (407)\ttotal: 2m 25s\tremaining: 3m 19s\n",
      "421:\tlearn: 0.0621691\ttest: 0.0747453\tbest: 0.0745179 (407)\ttotal: 2m 25s\tremaining: 3m 19s\n",
      "422:\tlearn: 0.0621577\ttest: 0.0748399\tbest: 0.0745179 (407)\ttotal: 2m 25s\tremaining: 3m 18s\n",
      "423:\tlearn: 0.0621457\ttest: 0.0748114\tbest: 0.0745179 (407)\ttotal: 2m 26s\tremaining: 3m 18s\n",
      "424:\tlearn: 0.0621412\ttest: 0.0748116\tbest: 0.0745179 (407)\ttotal: 2m 26s\tremaining: 3m 18s\n",
      "425:\tlearn: 0.0621317\ttest: 0.0748872\tbest: 0.0745179 (407)\ttotal: 2m 26s\tremaining: 3m 17s\n",
      "426:\tlearn: 0.0621255\ttest: 0.0748976\tbest: 0.0745179 (407)\ttotal: 2m 27s\tremaining: 3m 17s\n",
      "427:\tlearn: 0.0621195\ttest: 0.0748887\tbest: 0.0745179 (407)\ttotal: 2m 27s\tremaining: 3m 16s\n",
      "428:\tlearn: 0.0621145\ttest: 0.0748782\tbest: 0.0745179 (407)\ttotal: 2m 27s\tremaining: 3m 16s\n",
      "429:\tlearn: 0.0621045\ttest: 0.0747517\tbest: 0.0745179 (407)\ttotal: 2m 28s\tremaining: 3m 16s\n",
      "430:\tlearn: 0.0620935\ttest: 0.0748794\tbest: 0.0745179 (407)\ttotal: 2m 28s\tremaining: 3m 15s\n",
      "431:\tlearn: 0.0620921\ttest: 0.0748674\tbest: 0.0745179 (407)\ttotal: 2m 28s\tremaining: 3m 15s\n",
      "432:\tlearn: 0.0620892\ttest: 0.0748687\tbest: 0.0745179 (407)\ttotal: 2m 29s\tremaining: 3m 15s\n",
      "433:\tlearn: 0.0620862\ttest: 0.0748665\tbest: 0.0745179 (407)\ttotal: 2m 29s\tremaining: 3m 14s\n",
      "434:\tlearn: 0.0620770\ttest: 0.0749526\tbest: 0.0745179 (407)\ttotal: 2m 29s\tremaining: 3m 14s\n",
      "435:\tlearn: 0.0620613\ttest: 0.0749810\tbest: 0.0745179 (407)\ttotal: 2m 29s\tremaining: 3m 13s\n",
      "436:\tlearn: 0.0620426\ttest: 0.0750389\tbest: 0.0745179 (407)\ttotal: 2m 30s\tremaining: 3m 13s\n",
      "437:\tlearn: 0.0620368\ttest: 0.0751173\tbest: 0.0745179 (407)\ttotal: 2m 30s\tremaining: 3m 13s\n",
      "438:\tlearn: 0.0620306\ttest: 0.0750814\tbest: 0.0745179 (407)\ttotal: 2m 30s\tremaining: 3m 12s\n",
      "439:\tlearn: 0.0620217\ttest: 0.0752934\tbest: 0.0745179 (407)\ttotal: 2m 31s\tremaining: 3m 12s\n",
      "440:\tlearn: 0.0619882\ttest: 0.0752792\tbest: 0.0745179 (407)\ttotal: 2m 31s\tremaining: 3m 12s\n",
      "441:\tlearn: 0.0619787\ttest: 0.0752689\tbest: 0.0745179 (407)\ttotal: 2m 31s\tremaining: 3m 11s\n",
      "442:\tlearn: 0.0619575\ttest: 0.0752352\tbest: 0.0745179 (407)\ttotal: 2m 32s\tremaining: 3m 11s\n",
      "443:\tlearn: 0.0619464\ttest: 0.0752320\tbest: 0.0745179 (407)\ttotal: 2m 32s\tremaining: 3m 10s\n",
      "444:\tlearn: 0.0619381\ttest: 0.0752560\tbest: 0.0745179 (407)\ttotal: 2m 32s\tremaining: 3m 10s\n",
      "445:\tlearn: 0.0619337\ttest: 0.0752487\tbest: 0.0745179 (407)\ttotal: 2m 33s\tremaining: 3m 10s\n",
      "446:\tlearn: 0.0619199\ttest: 0.0752343\tbest: 0.0745179 (407)\ttotal: 2m 33s\tremaining: 3m 9s\n",
      "447:\tlearn: 0.0619131\ttest: 0.0752194\tbest: 0.0745179 (407)\ttotal: 2m 33s\tremaining: 3m 9s\n",
      "448:\tlearn: 0.0619076\ttest: 0.0752177\tbest: 0.0745179 (407)\ttotal: 2m 34s\tremaining: 3m 9s\n",
      "449:\tlearn: 0.0618854\ttest: 0.0751819\tbest: 0.0745179 (407)\ttotal: 2m 34s\tremaining: 3m 8s\n",
      "450:\tlearn: 0.0618656\ttest: 0.0751286\tbest: 0.0745179 (407)\ttotal: 2m 34s\tremaining: 3m 8s\n",
      "451:\tlearn: 0.0618545\ttest: 0.0751356\tbest: 0.0745179 (407)\ttotal: 2m 34s\tremaining: 3m 7s\n",
      "452:\tlearn: 0.0618460\ttest: 0.0751132\tbest: 0.0745179 (407)\ttotal: 2m 35s\tremaining: 3m 7s\n",
      "453:\tlearn: 0.0618430\ttest: 0.0749611\tbest: 0.0745179 (407)\ttotal: 2m 35s\tremaining: 3m 7s\n",
      "454:\tlearn: 0.0618355\ttest: 0.0749515\tbest: 0.0745179 (407)\ttotal: 2m 36s\tremaining: 3m 6s\n",
      "455:\tlearn: 0.0618269\ttest: 0.0750088\tbest: 0.0745179 (407)\ttotal: 2m 36s\tremaining: 3m 6s\n",
      "456:\tlearn: 0.0618207\ttest: 0.0751037\tbest: 0.0745179 (407)\ttotal: 2m 36s\tremaining: 3m 6s\n",
      "457:\tlearn: 0.0617941\ttest: 0.0751087\tbest: 0.0745179 (407)\ttotal: 2m 37s\tremaining: 3m 5s\n",
      "458:\tlearn: 0.0617773\ttest: 0.0750812\tbest: 0.0745179 (407)\ttotal: 2m 37s\tremaining: 3m 5s\n",
      "459:\tlearn: 0.0617745\ttest: 0.0750532\tbest: 0.0745179 (407)\ttotal: 2m 37s\tremaining: 3m 5s\n",
      "460:\tlearn: 0.0617676\ttest: 0.0750723\tbest: 0.0745179 (407)\ttotal: 2m 38s\tremaining: 3m 5s\n",
      "461:\tlearn: 0.0617645\ttest: 0.0750482\tbest: 0.0745179 (407)\ttotal: 2m 38s\tremaining: 3m 4s\n",
      "462:\tlearn: 0.0617607\ttest: 0.0750400\tbest: 0.0745179 (407)\ttotal: 2m 38s\tremaining: 3m 4s\n",
      "463:\tlearn: 0.0617368\ttest: 0.0750492\tbest: 0.0745179 (407)\ttotal: 2m 39s\tremaining: 3m 3s\n",
      "464:\tlearn: 0.0617071\ttest: 0.0750375\tbest: 0.0745179 (407)\ttotal: 2m 39s\tremaining: 3m 3s\n",
      "465:\tlearn: 0.0616651\ttest: 0.0750356\tbest: 0.0745179 (407)\ttotal: 2m 39s\tremaining: 3m 3s\n",
      "466:\tlearn: 0.0616434\ttest: 0.0750225\tbest: 0.0745179 (407)\ttotal: 2m 40s\tremaining: 3m 3s\n",
      "467:\tlearn: 0.0616379\ttest: 0.0750469\tbest: 0.0745179 (407)\ttotal: 2m 40s\tremaining: 3m 2s\n",
      "468:\tlearn: 0.0616221\ttest: 0.0750117\tbest: 0.0745179 (407)\ttotal: 2m 41s\tremaining: 3m 2s\n",
      "469:\tlearn: 0.0616129\ttest: 0.0750197\tbest: 0.0745179 (407)\ttotal: 2m 41s\tremaining: 3m 2s\n",
      "470:\tlearn: 0.0616019\ttest: 0.0750977\tbest: 0.0745179 (407)\ttotal: 2m 41s\tremaining: 3m 1s\n",
      "471:\tlearn: 0.0615812\ttest: 0.0750619\tbest: 0.0745179 (407)\ttotal: 2m 42s\tremaining: 3m 1s\n",
      "472:\tlearn: 0.0615515\ttest: 0.0750741\tbest: 0.0745179 (407)\ttotal: 2m 42s\tremaining: 3m\n",
      "473:\tlearn: 0.0615446\ttest: 0.0750707\tbest: 0.0745179 (407)\ttotal: 2m 42s\tremaining: 3m\n",
      "474:\tlearn: 0.0615429\ttest: 0.0750687\tbest: 0.0745179 (407)\ttotal: 2m 43s\tremaining: 3m\n",
      "475:\tlearn: 0.0615405\ttest: 0.0750646\tbest: 0.0745179 (407)\ttotal: 2m 43s\tremaining: 3m\n",
      "476:\tlearn: 0.0615307\ttest: 0.0750781\tbest: 0.0745179 (407)\ttotal: 2m 44s\tremaining: 2m 59s\n",
      "477:\tlearn: 0.0615184\ttest: 0.0750733\tbest: 0.0745179 (407)\ttotal: 2m 44s\tremaining: 2m 59s\n",
      "478:\tlearn: 0.0615099\ttest: 0.0751086\tbest: 0.0745179 (407)\ttotal: 2m 44s\tremaining: 2m 59s\n",
      "479:\tlearn: 0.0615032\ttest: 0.0751126\tbest: 0.0745179 (407)\ttotal: 2m 45s\tremaining: 2m 58s\n",
      "480:\tlearn: 0.0614677\ttest: 0.0750995\tbest: 0.0745179 (407)\ttotal: 2m 45s\tremaining: 2m 58s\n",
      "481:\tlearn: 0.0614668\ttest: 0.0750821\tbest: 0.0745179 (407)\ttotal: 2m 45s\tremaining: 2m 58s\n",
      "482:\tlearn: 0.0614566\ttest: 0.0751310\tbest: 0.0745179 (407)\ttotal: 2m 46s\tremaining: 2m 57s\n",
      "483:\tlearn: 0.0614501\ttest: 0.0752073\tbest: 0.0745179 (407)\ttotal: 2m 46s\tremaining: 2m 57s\n",
      "484:\tlearn: 0.0614483\ttest: 0.0752049\tbest: 0.0745179 (407)\ttotal: 2m 46s\tremaining: 2m 57s\n",
      "485:\tlearn: 0.0614392\ttest: 0.0752130\tbest: 0.0745179 (407)\ttotal: 2m 47s\tremaining: 2m 56s\n",
      "486:\tlearn: 0.0614379\ttest: 0.0752126\tbest: 0.0745179 (407)\ttotal: 2m 47s\tremaining: 2m 56s\n",
      "487:\tlearn: 0.0614329\ttest: 0.0751398\tbest: 0.0745179 (407)\ttotal: 2m 47s\tremaining: 2m 55s\n",
      "488:\tlearn: 0.0614281\ttest: 0.0751343\tbest: 0.0745179 (407)\ttotal: 2m 47s\tremaining: 2m 55s\n",
      "489:\tlearn: 0.0614206\ttest: 0.0751315\tbest: 0.0745179 (407)\ttotal: 2m 48s\tremaining: 2m 55s\n",
      "490:\tlearn: 0.0614110\ttest: 0.0752940\tbest: 0.0745179 (407)\ttotal: 2m 48s\tremaining: 2m 54s\n",
      "491:\tlearn: 0.0614050\ttest: 0.0753077\tbest: 0.0745179 (407)\ttotal: 2m 49s\tremaining: 2m 54s\n",
      "492:\tlearn: 0.0614040\ttest: 0.0753114\tbest: 0.0745179 (407)\ttotal: 2m 49s\tremaining: 2m 54s\n",
      "493:\tlearn: 0.0613932\ttest: 0.0753124\tbest: 0.0745179 (407)\ttotal: 2m 49s\tremaining: 2m 53s\n",
      "494:\tlearn: 0.0613866\ttest: 0.0753372\tbest: 0.0745179 (407)\ttotal: 2m 50s\tremaining: 2m 53s\n",
      "495:\tlearn: 0.0613831\ttest: 0.0753345\tbest: 0.0745179 (407)\ttotal: 2m 50s\tremaining: 2m 53s\n",
      "496:\tlearn: 0.0613739\ttest: 0.0753995\tbest: 0.0745179 (407)\ttotal: 2m 50s\tremaining: 2m 52s\n",
      "497:\tlearn: 0.0613673\ttest: 0.0753882\tbest: 0.0745179 (407)\ttotal: 2m 50s\tremaining: 2m 52s\n",
      "498:\tlearn: 0.0613594\ttest: 0.0753949\tbest: 0.0745179 (407)\ttotal: 2m 51s\tremaining: 2m 51s\n",
      "499:\tlearn: 0.0613532\ttest: 0.0753846\tbest: 0.0745179 (407)\ttotal: 2m 51s\tremaining: 2m 51s\n",
      "500:\tlearn: 0.0613514\ttest: 0.0753906\tbest: 0.0745179 (407)\ttotal: 2m 51s\tremaining: 2m 51s\n",
      "501:\tlearn: 0.0613430\ttest: 0.0753884\tbest: 0.0745179 (407)\ttotal: 2m 52s\tremaining: 2m 50s\n",
      "502:\tlearn: 0.0613361\ttest: 0.0754117\tbest: 0.0745179 (407)\ttotal: 2m 52s\tremaining: 2m 50s\n",
      "503:\tlearn: 0.0613311\ttest: 0.0754165\tbest: 0.0745179 (407)\ttotal: 2m 52s\tremaining: 2m 50s\n",
      "504:\tlearn: 0.0613263\ttest: 0.0754163\tbest: 0.0745179 (407)\ttotal: 2m 53s\tremaining: 2m 49s\n",
      "505:\tlearn: 0.0613216\ttest: 0.0754392\tbest: 0.0745179 (407)\ttotal: 2m 53s\tremaining: 2m 49s\n",
      "506:\tlearn: 0.0613146\ttest: 0.0755558\tbest: 0.0745179 (407)\ttotal: 2m 53s\tremaining: 2m 48s\n",
      "507:\tlearn: 0.0613086\ttest: 0.0755538\tbest: 0.0745179 (407)\ttotal: 2m 54s\tremaining: 2m 48s\n",
      "508:\tlearn: 0.0613061\ttest: 0.0755221\tbest: 0.0745179 (407)\ttotal: 2m 54s\tremaining: 2m 48s\n",
      "509:\tlearn: 0.0613027\ttest: 0.0755171\tbest: 0.0745179 (407)\ttotal: 2m 54s\tremaining: 2m 47s\n",
      "510:\tlearn: 0.0612958\ttest: 0.0755795\tbest: 0.0745179 (407)\ttotal: 2m 55s\tremaining: 2m 47s\n",
      "511:\tlearn: 0.0612941\ttest: 0.0755905\tbest: 0.0745179 (407)\ttotal: 2m 55s\tremaining: 2m 47s\n",
      "512:\tlearn: 0.0612713\ttest: 0.0755871\tbest: 0.0745179 (407)\ttotal: 2m 55s\tremaining: 2m 46s\n",
      "513:\tlearn: 0.0612661\ttest: 0.0755827\tbest: 0.0745179 (407)\ttotal: 2m 56s\tremaining: 2m 46s\n",
      "514:\tlearn: 0.0612555\ttest: 0.0755925\tbest: 0.0745179 (407)\ttotal: 2m 56s\tremaining: 2m 46s\n",
      "515:\tlearn: 0.0612309\ttest: 0.0755625\tbest: 0.0745179 (407)\ttotal: 2m 57s\tremaining: 2m 46s\n",
      "516:\tlearn: 0.0612219\ttest: 0.0755366\tbest: 0.0745179 (407)\ttotal: 2m 57s\tremaining: 2m 45s\n",
      "517:\tlearn: 0.0612193\ttest: 0.0755482\tbest: 0.0745179 (407)\ttotal: 2m 57s\tremaining: 2m 45s\n",
      "518:\tlearn: 0.0612132\ttest: 0.0755460\tbest: 0.0745179 (407)\ttotal: 2m 58s\tremaining: 2m 45s\n",
      "519:\tlearn: 0.0612031\ttest: 0.0755362\tbest: 0.0745179 (407)\ttotal: 2m 58s\tremaining: 2m 44s\n",
      "520:\tlearn: 0.0611758\ttest: 0.0755210\tbest: 0.0745179 (407)\ttotal: 2m 58s\tremaining: 2m 44s\n",
      "521:\tlearn: 0.0611361\ttest: 0.0755175\tbest: 0.0745179 (407)\ttotal: 2m 59s\tremaining: 2m 43s\n",
      "522:\tlearn: 0.0611315\ttest: 0.0756002\tbest: 0.0745179 (407)\ttotal: 2m 59s\tremaining: 2m 43s\n",
      "523:\tlearn: 0.0611241\ttest: 0.0757118\tbest: 0.0745179 (407)\ttotal: 2m 59s\tremaining: 2m 43s\n",
      "524:\tlearn: 0.0611119\ttest: 0.0755716\tbest: 0.0745179 (407)\ttotal: 3m\tremaining: 2m 43s\n",
      "525:\tlearn: 0.0610950\ttest: 0.0755587\tbest: 0.0745179 (407)\ttotal: 3m\tremaining: 2m 42s\n",
      "526:\tlearn: 0.0610874\ttest: 0.0755752\tbest: 0.0745179 (407)\ttotal: 3m\tremaining: 2m 42s\n",
      "527:\tlearn: 0.0610798\ttest: 0.0755880\tbest: 0.0745179 (407)\ttotal: 3m 1s\tremaining: 2m 41s\n",
      "528:\tlearn: 0.0610756\ttest: 0.0755799\tbest: 0.0745179 (407)\ttotal: 3m 1s\tremaining: 2m 41s\n",
      "529:\tlearn: 0.0610701\ttest: 0.0755878\tbest: 0.0745179 (407)\ttotal: 3m 1s\tremaining: 2m 41s\n",
      "530:\tlearn: 0.0610225\ttest: 0.0755729\tbest: 0.0745179 (407)\ttotal: 3m 2s\tremaining: 2m 40s\n",
      "531:\tlearn: 0.0610187\ttest: 0.0755614\tbest: 0.0745179 (407)\ttotal: 3m 2s\tremaining: 2m 40s\n",
      "532:\tlearn: 0.0610122\ttest: 0.0755780\tbest: 0.0745179 (407)\ttotal: 3m 2s\tremaining: 2m 40s\n",
      "533:\tlearn: 0.0609305\ttest: 0.0754303\tbest: 0.0745179 (407)\ttotal: 3m 3s\tremaining: 2m 39s\n",
      "534:\tlearn: 0.0609217\ttest: 0.0754283\tbest: 0.0745179 (407)\ttotal: 3m 3s\tremaining: 2m 39s\n",
      "535:\tlearn: 0.0609121\ttest: 0.0753885\tbest: 0.0745179 (407)\ttotal: 3m 3s\tremaining: 2m 39s\n",
      "536:\tlearn: 0.0609067\ttest: 0.0753837\tbest: 0.0745179 (407)\ttotal: 3m 4s\tremaining: 2m 38s\n",
      "537:\tlearn: 0.0608915\ttest: 0.0753518\tbest: 0.0745179 (407)\ttotal: 3m 4s\tremaining: 2m 38s\n",
      "538:\tlearn: 0.0608887\ttest: 0.0753554\tbest: 0.0745179 (407)\ttotal: 3m 4s\tremaining: 2m 38s\n",
      "539:\tlearn: 0.0608833\ttest: 0.0753501\tbest: 0.0745179 (407)\ttotal: 3m 5s\tremaining: 2m 37s\n",
      "540:\tlearn: 0.0608679\ttest: 0.0753441\tbest: 0.0745179 (407)\ttotal: 3m 5s\tremaining: 2m 37s\n",
      "541:\tlearn: 0.0608619\ttest: 0.0753503\tbest: 0.0745179 (407)\ttotal: 3m 5s\tremaining: 2m 37s\n",
      "542:\tlearn: 0.0608594\ttest: 0.0753493\tbest: 0.0745179 (407)\ttotal: 3m 6s\tremaining: 2m 36s\n",
      "543:\tlearn: 0.0608455\ttest: 0.0753217\tbest: 0.0745179 (407)\ttotal: 3m 6s\tremaining: 2m 36s\n",
      "544:\tlearn: 0.0608381\ttest: 0.0753128\tbest: 0.0745179 (407)\ttotal: 3m 6s\tremaining: 2m 35s\n",
      "545:\tlearn: 0.0608304\ttest: 0.0753560\tbest: 0.0745179 (407)\ttotal: 3m 7s\tremaining: 2m 35s\n",
      "546:\tlearn: 0.0608256\ttest: 0.0753529\tbest: 0.0745179 (407)\ttotal: 3m 7s\tremaining: 2m 35s\n",
      "547:\tlearn: 0.0608191\ttest: 0.0753543\tbest: 0.0745179 (407)\ttotal: 3m 7s\tremaining: 2m 34s\n",
      "548:\tlearn: 0.0608144\ttest: 0.0753512\tbest: 0.0745179 (407)\ttotal: 3m 7s\tremaining: 2m 34s\n",
      "549:\tlearn: 0.0608093\ttest: 0.0753479\tbest: 0.0745179 (407)\ttotal: 3m 8s\tremaining: 2m 33s\n",
      "550:\tlearn: 0.0608037\ttest: 0.0753632\tbest: 0.0745179 (407)\ttotal: 3m 8s\tremaining: 2m 33s\n",
      "551:\tlearn: 0.0607993\ttest: 0.0753628\tbest: 0.0745179 (407)\ttotal: 3m 8s\tremaining: 2m 33s\n",
      "552:\tlearn: 0.0607495\ttest: 0.0753567\tbest: 0.0745179 (407)\ttotal: 3m 9s\tremaining: 2m 32s\n",
      "553:\tlearn: 0.0607458\ttest: 0.0753478\tbest: 0.0745179 (407)\ttotal: 3m 9s\tremaining: 2m 32s\n",
      "554:\tlearn: 0.0607435\ttest: 0.0753256\tbest: 0.0745179 (407)\ttotal: 3m 9s\tremaining: 2m 32s\n",
      "555:\tlearn: 0.0607384\ttest: 0.0753415\tbest: 0.0745179 (407)\ttotal: 3m 10s\tremaining: 2m 31s\n",
      "556:\tlearn: 0.0607343\ttest: 0.0753887\tbest: 0.0745179 (407)\ttotal: 3m 10s\tremaining: 2m 31s\n",
      "557:\tlearn: 0.0607301\ttest: 0.0753903\tbest: 0.0745179 (407)\ttotal: 3m 10s\tremaining: 2m 31s\n",
      "558:\tlearn: 0.0607267\ttest: 0.0753888\tbest: 0.0745179 (407)\ttotal: 3m 11s\tremaining: 2m 30s\n",
      "559:\tlearn: 0.0607221\ttest: 0.0754706\tbest: 0.0745179 (407)\ttotal: 3m 11s\tremaining: 2m 30s\n",
      "560:\tlearn: 0.0607170\ttest: 0.0754491\tbest: 0.0745179 (407)\ttotal: 3m 12s\tremaining: 2m 30s\n",
      "561:\tlearn: 0.0607107\ttest: 0.0754891\tbest: 0.0745179 (407)\ttotal: 3m 12s\tremaining: 2m 29s\n",
      "562:\tlearn: 0.0607058\ttest: 0.0754916\tbest: 0.0745179 (407)\ttotal: 3m 12s\tremaining: 2m 29s\n",
      "563:\tlearn: 0.0607041\ttest: 0.0754954\tbest: 0.0745179 (407)\ttotal: 3m 12s\tremaining: 2m 29s\n",
      "564:\tlearn: 0.0607022\ttest: 0.0755013\tbest: 0.0745179 (407)\ttotal: 3m 13s\tremaining: 2m 28s\n",
      "565:\tlearn: 0.0606883\ttest: 0.0754829\tbest: 0.0745179 (407)\ttotal: 3m 13s\tremaining: 2m 28s\n",
      "566:\tlearn: 0.0606838\ttest: 0.0754785\tbest: 0.0745179 (407)\ttotal: 3m 13s\tremaining: 2m 27s\n",
      "567:\tlearn: 0.0606758\ttest: 0.0754839\tbest: 0.0745179 (407)\ttotal: 3m 14s\tremaining: 2m 27s\n",
      "568:\tlearn: 0.0606712\ttest: 0.0754811\tbest: 0.0745179 (407)\ttotal: 3m 14s\tremaining: 2m 27s\n",
      "569:\tlearn: 0.0606664\ttest: 0.0755927\tbest: 0.0745179 (407)\ttotal: 3m 14s\tremaining: 2m 26s\n",
      "570:\tlearn: 0.0606528\ttest: 0.0755607\tbest: 0.0745179 (407)\ttotal: 3m 15s\tremaining: 2m 26s\n",
      "571:\tlearn: 0.0606504\ttest: 0.0755514\tbest: 0.0745179 (407)\ttotal: 3m 15s\tremaining: 2m 26s\n",
      "572:\tlearn: 0.0606265\ttest: 0.0755419\tbest: 0.0745179 (407)\ttotal: 3m 15s\tremaining: 2m 25s\n",
      "573:\tlearn: 0.0606212\ttest: 0.0755356\tbest: 0.0745179 (407)\ttotal: 3m 16s\tremaining: 2m 25s\n",
      "574:\tlearn: 0.0606190\ttest: 0.0755372\tbest: 0.0745179 (407)\ttotal: 3m 16s\tremaining: 2m 25s\n",
      "575:\tlearn: 0.0606174\ttest: 0.0755288\tbest: 0.0745179 (407)\ttotal: 3m 16s\tremaining: 2m 24s\n",
      "576:\tlearn: 0.0606144\ttest: 0.0755286\tbest: 0.0745179 (407)\ttotal: 3m 17s\tremaining: 2m 24s\n",
      "577:\tlearn: 0.0605556\ttest: 0.0754376\tbest: 0.0745179 (407)\ttotal: 3m 17s\tremaining: 2m 24s\n",
      "578:\tlearn: 0.0605505\ttest: 0.0754200\tbest: 0.0745179 (407)\ttotal: 3m 17s\tremaining: 2m 23s\n",
      "579:\tlearn: 0.0605433\ttest: 0.0754068\tbest: 0.0745179 (407)\ttotal: 3m 18s\tremaining: 2m 23s\n",
      "580:\tlearn: 0.0605326\ttest: 0.0753894\tbest: 0.0745179 (407)\ttotal: 3m 18s\tremaining: 2m 23s\n",
      "581:\tlearn: 0.0605210\ttest: 0.0753926\tbest: 0.0745179 (407)\ttotal: 3m 18s\tremaining: 2m 22s\n",
      "582:\tlearn: 0.0605170\ttest: 0.0753899\tbest: 0.0745179 (407)\ttotal: 3m 19s\tremaining: 2m 22s\n",
      "583:\tlearn: 0.0605100\ttest: 0.0754179\tbest: 0.0745179 (407)\ttotal: 3m 19s\tremaining: 2m 22s\n",
      "584:\tlearn: 0.0605082\ttest: 0.0754176\tbest: 0.0745179 (407)\ttotal: 3m 20s\tremaining: 2m 21s\n",
      "585:\tlearn: 0.0604970\ttest: 0.0753859\tbest: 0.0745179 (407)\ttotal: 3m 20s\tremaining: 2m 21s\n",
      "586:\tlearn: 0.0604921\ttest: 0.0755290\tbest: 0.0745179 (407)\ttotal: 3m 20s\tremaining: 2m 21s\n",
      "587:\tlearn: 0.0604881\ttest: 0.0755289\tbest: 0.0745179 (407)\ttotal: 3m 20s\tremaining: 2m 20s\n",
      "588:\tlearn: 0.0604827\ttest: 0.0755365\tbest: 0.0745179 (407)\ttotal: 3m 21s\tremaining: 2m 20s\n",
      "589:\tlearn: 0.0604770\ttest: 0.0755368\tbest: 0.0745179 (407)\ttotal: 3m 21s\tremaining: 2m 19s\n",
      "590:\tlearn: 0.0604756\ttest: 0.0755363\tbest: 0.0745179 (407)\ttotal: 3m 21s\tremaining: 2m 19s\n",
      "591:\tlearn: 0.0604667\ttest: 0.0754418\tbest: 0.0745179 (407)\ttotal: 3m 22s\tremaining: 2m 19s\n",
      "592:\tlearn: 0.0604622\ttest: 0.0754443\tbest: 0.0745179 (407)\ttotal: 3m 22s\tremaining: 2m 18s\n",
      "593:\tlearn: 0.0604569\ttest: 0.0755856\tbest: 0.0745179 (407)\ttotal: 3m 22s\tremaining: 2m 18s\n",
      "594:\tlearn: 0.0604525\ttest: 0.0756034\tbest: 0.0745179 (407)\ttotal: 3m 23s\tremaining: 2m 18s\n",
      "595:\tlearn: 0.0604380\ttest: 0.0756046\tbest: 0.0745179 (407)\ttotal: 3m 23s\tremaining: 2m 18s\n",
      "596:\tlearn: 0.0604328\ttest: 0.0756050\tbest: 0.0745179 (407)\ttotal: 3m 23s\tremaining: 2m 17s\n",
      "597:\tlearn: 0.0604279\ttest: 0.0756119\tbest: 0.0745179 (407)\ttotal: 3m 24s\tremaining: 2m 17s\n",
      "598:\tlearn: 0.0604205\ttest: 0.0756605\tbest: 0.0745179 (407)\ttotal: 3m 24s\tremaining: 2m 17s\n",
      "599:\tlearn: 0.0604145\ttest: 0.0756514\tbest: 0.0745179 (407)\ttotal: 3m 25s\tremaining: 2m 16s\n",
      "600:\tlearn: 0.0604093\ttest: 0.0756477\tbest: 0.0745179 (407)\ttotal: 3m 25s\tremaining: 2m 16s\n",
      "601:\tlearn: 0.0604011\ttest: 0.0756582\tbest: 0.0745179 (407)\ttotal: 3m 25s\tremaining: 2m 16s\n",
      "602:\tlearn: 0.0603962\ttest: 0.0756528\tbest: 0.0745179 (407)\ttotal: 3m 26s\tremaining: 2m 15s\n",
      "603:\tlearn: 0.0603845\ttest: 0.0756336\tbest: 0.0745179 (407)\ttotal: 3m 26s\tremaining: 2m 15s\n",
      "604:\tlearn: 0.0603788\ttest: 0.0756410\tbest: 0.0745179 (407)\ttotal: 3m 26s\tremaining: 2m 15s\n",
      "605:\tlearn: 0.0603721\ttest: 0.0756716\tbest: 0.0745179 (407)\ttotal: 3m 27s\tremaining: 2m 14s\n",
      "606:\tlearn: 0.0603572\ttest: 0.0756372\tbest: 0.0745179 (407)\ttotal: 3m 27s\tremaining: 2m 14s\n",
      "607:\tlearn: 0.0603540\ttest: 0.0756497\tbest: 0.0745179 (407)\ttotal: 3m 27s\tremaining: 2m 13s\n",
      "608:\tlearn: 0.0603479\ttest: 0.0756396\tbest: 0.0745179 (407)\ttotal: 3m 28s\tremaining: 2m 13s\n",
      "609:\tlearn: 0.0603407\ttest: 0.0756194\tbest: 0.0745179 (407)\ttotal: 3m 28s\tremaining: 2m 13s\n",
      "610:\tlearn: 0.0603347\ttest: 0.0756294\tbest: 0.0745179 (407)\ttotal: 3m 29s\tremaining: 2m 13s\n",
      "611:\tlearn: 0.0603314\ttest: 0.0756155\tbest: 0.0745179 (407)\ttotal: 3m 29s\tremaining: 2m 12s\n",
      "612:\tlearn: 0.0603268\ttest: 0.0756068\tbest: 0.0745179 (407)\ttotal: 3m 29s\tremaining: 2m 12s\n",
      "613:\tlearn: 0.0603205\ttest: 0.0756085\tbest: 0.0745179 (407)\ttotal: 3m 29s\tremaining: 2m 11s\n",
      "614:\tlearn: 0.0603118\ttest: 0.0756691\tbest: 0.0745179 (407)\ttotal: 3m 30s\tremaining: 2m 11s\n",
      "615:\tlearn: 0.0603060\ttest: 0.0756344\tbest: 0.0745179 (407)\ttotal: 3m 30s\tremaining: 2m 11s\n",
      "616:\tlearn: 0.0603033\ttest: 0.0756281\tbest: 0.0745179 (407)\ttotal: 3m 30s\tremaining: 2m 10s\n",
      "617:\tlearn: 0.0602990\ttest: 0.0756321\tbest: 0.0745179 (407)\ttotal: 3m 31s\tremaining: 2m 10s\n",
      "618:\tlearn: 0.0602976\ttest: 0.0756349\tbest: 0.0745179 (407)\ttotal: 3m 31s\tremaining: 2m 10s\n",
      "619:\tlearn: 0.0602906\ttest: 0.0757331\tbest: 0.0745179 (407)\ttotal: 3m 31s\tremaining: 2m 9s\n",
      "620:\tlearn: 0.0602881\ttest: 0.0758160\tbest: 0.0745179 (407)\ttotal: 3m 32s\tremaining: 2m 9s\n",
      "621:\tlearn: 0.0602855\ttest: 0.0758144\tbest: 0.0745179 (407)\ttotal: 3m 32s\tremaining: 2m 9s\n",
      "622:\tlearn: 0.0602827\ttest: 0.0758178\tbest: 0.0745179 (407)\ttotal: 3m 32s\tremaining: 2m 8s\n",
      "623:\tlearn: 0.0602812\ttest: 0.0758070\tbest: 0.0745179 (407)\ttotal: 3m 32s\tremaining: 2m 8s\n",
      "624:\tlearn: 0.0602706\ttest: 0.0757711\tbest: 0.0745179 (407)\ttotal: 3m 33s\tremaining: 2m 7s\n",
      "625:\tlearn: 0.0602669\ttest: 0.0758811\tbest: 0.0745179 (407)\ttotal: 3m 33s\tremaining: 2m 7s\n",
      "626:\tlearn: 0.0602652\ttest: 0.0758861\tbest: 0.0745179 (407)\ttotal: 3m 33s\tremaining: 2m 7s\n",
      "627:\tlearn: 0.0602613\ttest: 0.0759109\tbest: 0.0745179 (407)\ttotal: 3m 34s\tremaining: 2m 6s\n",
      "628:\tlearn: 0.0602575\ttest: 0.0759048\tbest: 0.0745179 (407)\ttotal: 3m 34s\tremaining: 2m 6s\n",
      "629:\tlearn: 0.0602424\ttest: 0.0758676\tbest: 0.0745179 (407)\ttotal: 3m 34s\tremaining: 2m 6s\n",
      "630:\tlearn: 0.0602360\ttest: 0.0759905\tbest: 0.0745179 (407)\ttotal: 3m 35s\tremaining: 2m 5s\n",
      "631:\tlearn: 0.0602337\ttest: 0.0759608\tbest: 0.0745179 (407)\ttotal: 3m 35s\tremaining: 2m 5s\n",
      "632:\tlearn: 0.0602311\ttest: 0.0759761\tbest: 0.0745179 (407)\ttotal: 3m 35s\tremaining: 2m 5s\n",
      "633:\tlearn: 0.0602281\ttest: 0.0759774\tbest: 0.0745179 (407)\ttotal: 3m 35s\tremaining: 2m 4s\n",
      "634:\tlearn: 0.0602193\ttest: 0.0759279\tbest: 0.0745179 (407)\ttotal: 3m 36s\tremaining: 2m 4s\n",
      "635:\tlearn: 0.0602157\ttest: 0.0759299\tbest: 0.0745179 (407)\ttotal: 3m 36s\tremaining: 2m 3s\n",
      "636:\tlearn: 0.0602038\ttest: 0.0759067\tbest: 0.0745179 (407)\ttotal: 3m 37s\tremaining: 2m 3s\n",
      "637:\tlearn: 0.0602019\ttest: 0.0759105\tbest: 0.0745179 (407)\ttotal: 3m 37s\tremaining: 2m 3s\n",
      "638:\tlearn: 0.0601898\ttest: 0.0758829\tbest: 0.0745179 (407)\ttotal: 3m 37s\tremaining: 2m 2s\n",
      "639:\tlearn: 0.0601834\ttest: 0.0758705\tbest: 0.0745179 (407)\ttotal: 3m 37s\tremaining: 2m 2s\n",
      "640:\tlearn: 0.0601797\ttest: 0.0758678\tbest: 0.0745179 (407)\ttotal: 3m 38s\tremaining: 2m 2s\n",
      "641:\tlearn: 0.0601685\ttest: 0.0758397\tbest: 0.0745179 (407)\ttotal: 3m 38s\tremaining: 2m 1s\n",
      "642:\tlearn: 0.0601370\ttest: 0.0758233\tbest: 0.0745179 (407)\ttotal: 3m 38s\tremaining: 2m 1s\n",
      "643:\tlearn: 0.0601341\ttest: 0.0758302\tbest: 0.0745179 (407)\ttotal: 3m 39s\tremaining: 2m 1s\n",
      "644:\tlearn: 0.0601296\ttest: 0.0758552\tbest: 0.0745179 (407)\ttotal: 3m 39s\tremaining: 2m\n",
      "645:\tlearn: 0.0601137\ttest: 0.0758220\tbest: 0.0745179 (407)\ttotal: 3m 39s\tremaining: 2m\n",
      "646:\tlearn: 0.0601057\ttest: 0.0758677\tbest: 0.0745179 (407)\ttotal: 3m 39s\tremaining: 1m 59s\n",
      "647:\tlearn: 0.0601014\ttest: 0.0758652\tbest: 0.0745179 (407)\ttotal: 3m 40s\tremaining: 1m 59s\n",
      "648:\tlearn: 0.0600970\ttest: 0.0758652\tbest: 0.0745179 (407)\ttotal: 3m 40s\tremaining: 1m 59s\n",
      "649:\tlearn: 0.0600930\ttest: 0.0758565\tbest: 0.0745179 (407)\ttotal: 3m 40s\tremaining: 1m 58s\n",
      "650:\tlearn: 0.0600904\ttest: 0.0758530\tbest: 0.0745179 (407)\ttotal: 3m 41s\tremaining: 1m 58s\n",
      "651:\tlearn: 0.0600834\ttest: 0.0759734\tbest: 0.0745179 (407)\ttotal: 3m 41s\tremaining: 1m 58s\n",
      "652:\tlearn: 0.0600792\ttest: 0.0759804\tbest: 0.0745179 (407)\ttotal: 3m 41s\tremaining: 1m 57s\n",
      "653:\tlearn: 0.0600760\ttest: 0.0759791\tbest: 0.0745179 (407)\ttotal: 3m 42s\tremaining: 1m 57s\n",
      "654:\tlearn: 0.0600720\ttest: 0.0759812\tbest: 0.0745179 (407)\ttotal: 3m 42s\tremaining: 1m 57s\n",
      "655:\tlearn: 0.0600702\ttest: 0.0760096\tbest: 0.0745179 (407)\ttotal: 3m 42s\tremaining: 1m 56s\n",
      "656:\tlearn: 0.0600673\ttest: 0.0760115\tbest: 0.0745179 (407)\ttotal: 3m 43s\tremaining: 1m 56s\n",
      "657:\tlearn: 0.0600646\ttest: 0.0759625\tbest: 0.0745179 (407)\ttotal: 3m 43s\tremaining: 1m 56s\n",
      "658:\tlearn: 0.0599735\ttest: 0.0756982\tbest: 0.0745179 (407)\ttotal: 3m 43s\tremaining: 1m 55s\n",
      "659:\tlearn: 0.0599731\ttest: 0.0756985\tbest: 0.0745179 (407)\ttotal: 3m 44s\tremaining: 1m 55s\n",
      "660:\tlearn: 0.0599671\ttest: 0.0756869\tbest: 0.0745179 (407)\ttotal: 3m 44s\tremaining: 1m 55s\n",
      "661:\tlearn: 0.0599643\ttest: 0.0756838\tbest: 0.0745179 (407)\ttotal: 3m 44s\tremaining: 1m 54s\n",
      "662:\tlearn: 0.0599517\ttest: 0.0756468\tbest: 0.0745179 (407)\ttotal: 3m 45s\tremaining: 1m 54s\n",
      "663:\tlearn: 0.0599423\ttest: 0.0756609\tbest: 0.0745179 (407)\ttotal: 3m 45s\tremaining: 1m 54s\n",
      "664:\tlearn: 0.0599092\ttest: 0.0756278\tbest: 0.0745179 (407)\ttotal: 3m 45s\tremaining: 1m 53s\n",
      "665:\tlearn: 0.0599026\ttest: 0.0756329\tbest: 0.0745179 (407)\ttotal: 3m 46s\tremaining: 1m 53s\n",
      "666:\tlearn: 0.0598996\ttest: 0.0756279\tbest: 0.0745179 (407)\ttotal: 3m 46s\tremaining: 1m 52s\n",
      "667:\tlearn: 0.0598935\ttest: 0.0755986\tbest: 0.0745179 (407)\ttotal: 3m 46s\tremaining: 1m 52s\n",
      "668:\tlearn: 0.0598916\ttest: 0.0756446\tbest: 0.0745179 (407)\ttotal: 3m 46s\tremaining: 1m 52s\n",
      "669:\tlearn: 0.0598901\ttest: 0.0756392\tbest: 0.0745179 (407)\ttotal: 3m 47s\tremaining: 1m 51s\n",
      "670:\tlearn: 0.0598895\ttest: 0.0756385\tbest: 0.0745179 (407)\ttotal: 3m 47s\tremaining: 1m 51s\n",
      "671:\tlearn: 0.0598864\ttest: 0.0756279\tbest: 0.0745179 (407)\ttotal: 3m 47s\tremaining: 1m 51s\n",
      "672:\tlearn: 0.0598812\ttest: 0.0756369\tbest: 0.0745179 (407)\ttotal: 3m 47s\tremaining: 1m 50s\n",
      "673:\tlearn: 0.0598757\ttest: 0.0757131\tbest: 0.0745179 (407)\ttotal: 3m 48s\tremaining: 1m 50s\n",
      "674:\tlearn: 0.0598708\ttest: 0.0757231\tbest: 0.0745179 (407)\ttotal: 3m 48s\tremaining: 1m 50s\n",
      "675:\tlearn: 0.0598675\ttest: 0.0757927\tbest: 0.0745179 (407)\ttotal: 3m 48s\tremaining: 1m 49s\n",
      "676:\tlearn: 0.0598639\ttest: 0.0758250\tbest: 0.0745179 (407)\ttotal: 3m 49s\tremaining: 1m 49s\n",
      "677:\tlearn: 0.0598624\ttest: 0.0758142\tbest: 0.0745179 (407)\ttotal: 3m 49s\tremaining: 1m 49s\n",
      "678:\tlearn: 0.0598591\ttest: 0.0758559\tbest: 0.0745179 (407)\ttotal: 3m 49s\tremaining: 1m 48s\n",
      "679:\tlearn: 0.0598536\ttest: 0.0758374\tbest: 0.0745179 (407)\ttotal: 3m 50s\tremaining: 1m 48s\n",
      "680:\tlearn: 0.0598444\ttest: 0.0758178\tbest: 0.0745179 (407)\ttotal: 3m 50s\tremaining: 1m 47s\n",
      "681:\tlearn: 0.0598432\ttest: 0.0758032\tbest: 0.0745179 (407)\ttotal: 3m 50s\tremaining: 1m 47s\n",
      "682:\tlearn: 0.0598397\ttest: 0.0758059\tbest: 0.0745179 (407)\ttotal: 3m 51s\tremaining: 1m 47s\n",
      "683:\tlearn: 0.0598378\ttest: 0.0759153\tbest: 0.0745179 (407)\ttotal: 3m 51s\tremaining: 1m 47s\n",
      "684:\tlearn: 0.0598317\ttest: 0.0759202\tbest: 0.0745179 (407)\ttotal: 3m 52s\tremaining: 1m 46s\n",
      "685:\tlearn: 0.0598247\ttest: 0.0758971\tbest: 0.0745179 (407)\ttotal: 3m 52s\tremaining: 1m 46s\n",
      "686:\tlearn: 0.0598164\ttest: 0.0759050\tbest: 0.0745179 (407)\ttotal: 3m 52s\tremaining: 1m 46s\n",
      "687:\tlearn: 0.0598120\ttest: 0.0760869\tbest: 0.0745179 (407)\ttotal: 3m 53s\tremaining: 1m 45s\n",
      "688:\tlearn: 0.0598020\ttest: 0.0760494\tbest: 0.0745179 (407)\ttotal: 3m 53s\tremaining: 1m 45s\n",
      "689:\tlearn: 0.0598011\ttest: 0.0760442\tbest: 0.0745179 (407)\ttotal: 3m 54s\tremaining: 1m 45s\n",
      "690:\tlearn: 0.0597965\ttest: 0.0761114\tbest: 0.0745179 (407)\ttotal: 3m 54s\tremaining: 1m 44s\n",
      "691:\tlearn: 0.0597947\ttest: 0.0761076\tbest: 0.0745179 (407)\ttotal: 3m 54s\tremaining: 1m 44s\n",
      "692:\tlearn: 0.0597912\ttest: 0.0761057\tbest: 0.0745179 (407)\ttotal: 3m 55s\tremaining: 1m 44s\n",
      "693:\tlearn: 0.0597876\ttest: 0.0761047\tbest: 0.0745179 (407)\ttotal: 3m 55s\tremaining: 1m 43s\n",
      "694:\tlearn: 0.0597824\ttest: 0.0760915\tbest: 0.0745179 (407)\ttotal: 3m 56s\tremaining: 1m 43s\n",
      "695:\tlearn: 0.0597810\ttest: 0.0760980\tbest: 0.0745179 (407)\ttotal: 3m 56s\tremaining: 1m 43s\n",
      "696:\tlearn: 0.0597774\ttest: 0.0761485\tbest: 0.0745179 (407)\ttotal: 3m 56s\tremaining: 1m 42s\n",
      "697:\tlearn: 0.0597731\ttest: 0.0760815\tbest: 0.0745179 (407)\ttotal: 3m 56s\tremaining: 1m 42s\n",
      "698:\tlearn: 0.0597709\ttest: 0.0760786\tbest: 0.0745179 (407)\ttotal: 3m 57s\tremaining: 1m 42s\n",
      "699:\tlearn: 0.0597630\ttest: 0.0760956\tbest: 0.0745179 (407)\ttotal: 3m 57s\tremaining: 1m 41s\n",
      "700:\tlearn: 0.0597570\ttest: 0.0761496\tbest: 0.0745179 (407)\ttotal: 3m 57s\tremaining: 1m 41s\n",
      "701:\tlearn: 0.0597438\ttest: 0.0761328\tbest: 0.0745179 (407)\ttotal: 3m 58s\tremaining: 1m 41s\n",
      "702:\tlearn: 0.0597424\ttest: 0.0761411\tbest: 0.0745179 (407)\ttotal: 3m 58s\tremaining: 1m 40s\n",
      "703:\tlearn: 0.0597415\ttest: 0.0761420\tbest: 0.0745179 (407)\ttotal: 3m 58s\tremaining: 1m 40s\n",
      "704:\tlearn: 0.0597388\ttest: 0.0761446\tbest: 0.0745179 (407)\ttotal: 3m 59s\tremaining: 1m 40s\n",
      "705:\tlearn: 0.0597356\ttest: 0.0761391\tbest: 0.0745179 (407)\ttotal: 3m 59s\tremaining: 1m 39s\n",
      "706:\tlearn: 0.0597334\ttest: 0.0761431\tbest: 0.0745179 (407)\ttotal: 4m\tremaining: 1m 39s\n",
      "707:\tlearn: 0.0597273\ttest: 0.0762069\tbest: 0.0745179 (407)\ttotal: 4m\tremaining: 1m 39s\n",
      "708:\tlearn: 0.0597239\ttest: 0.0762169\tbest: 0.0745179 (407)\ttotal: 4m\tremaining: 1m 38s\n",
      "709:\tlearn: 0.0597135\ttest: 0.0761980\tbest: 0.0745179 (407)\ttotal: 4m\tremaining: 1m 38s\n",
      "710:\tlearn: 0.0597102\ttest: 0.0761940\tbest: 0.0745179 (407)\ttotal: 4m 1s\tremaining: 1m 38s\n",
      "711:\tlearn: 0.0597078\ttest: 0.0762729\tbest: 0.0745179 (407)\ttotal: 4m 1s\tremaining: 1m 37s\n",
      "712:\tlearn: 0.0597062\ttest: 0.0762679\tbest: 0.0745179 (407)\ttotal: 4m 1s\tremaining: 1m 37s\n",
      "713:\tlearn: 0.0597003\ttest: 0.0763407\tbest: 0.0745179 (407)\ttotal: 4m 2s\tremaining: 1m 36s\n",
      "714:\tlearn: 0.0596910\ttest: 0.0763898\tbest: 0.0745179 (407)\ttotal: 4m 2s\tremaining: 1m 36s\n",
      "715:\tlearn: 0.0596893\ttest: 0.0763887\tbest: 0.0745179 (407)\ttotal: 4m 2s\tremaining: 1m 36s\n",
      "716:\tlearn: 0.0596834\ttest: 0.0763685\tbest: 0.0745179 (407)\ttotal: 4m 2s\tremaining: 1m 35s\n",
      "717:\tlearn: 0.0596791\ttest: 0.0766539\tbest: 0.0745179 (407)\ttotal: 4m 3s\tremaining: 1m 35s\n",
      "718:\tlearn: 0.0596770\ttest: 0.0766441\tbest: 0.0745179 (407)\ttotal: 4m 3s\tremaining: 1m 35s\n",
      "719:\tlearn: 0.0596737\ttest: 0.0766474\tbest: 0.0745179 (407)\ttotal: 4m 4s\tremaining: 1m 34s\n",
      "720:\tlearn: 0.0596717\ttest: 0.0766577\tbest: 0.0745179 (407)\ttotal: 4m 4s\tremaining: 1m 34s\n",
      "721:\tlearn: 0.0596606\ttest: 0.0766401\tbest: 0.0745179 (407)\ttotal: 4m 4s\tremaining: 1m 34s\n",
      "722:\tlearn: 0.0596567\ttest: 0.0767710\tbest: 0.0745179 (407)\ttotal: 4m 5s\tremaining: 1m 33s\n",
      "723:\tlearn: 0.0596533\ttest: 0.0767655\tbest: 0.0745179 (407)\ttotal: 4m 5s\tremaining: 1m 33s\n",
      "724:\tlearn: 0.0596507\ttest: 0.0767616\tbest: 0.0745179 (407)\ttotal: 4m 6s\tremaining: 1m 33s\n",
      "725:\tlearn: 0.0596461\ttest: 0.0767539\tbest: 0.0745179 (407)\ttotal: 4m 6s\tremaining: 1m 32s\n",
      "726:\tlearn: 0.0596429\ttest: 0.0767463\tbest: 0.0745179 (407)\ttotal: 4m 6s\tremaining: 1m 32s\n",
      "727:\tlearn: 0.0596337\ttest: 0.0767142\tbest: 0.0745179 (407)\ttotal: 4m 6s\tremaining: 1m 32s\n",
      "728:\tlearn: 0.0596266\ttest: 0.0766892\tbest: 0.0745179 (407)\ttotal: 4m 7s\tremaining: 1m 31s\n",
      "729:\tlearn: 0.0596227\ttest: 0.0766839\tbest: 0.0745179 (407)\ttotal: 4m 7s\tremaining: 1m 31s\n",
      "730:\tlearn: 0.0596077\ttest: 0.0766587\tbest: 0.0745179 (407)\ttotal: 4m 7s\tremaining: 1m 31s\n",
      "731:\tlearn: 0.0596038\ttest: 0.0766798\tbest: 0.0745179 (407)\ttotal: 4m 8s\tremaining: 1m 30s\n",
      "732:\tlearn: 0.0595980\ttest: 0.0766733\tbest: 0.0745179 (407)\ttotal: 4m 8s\tremaining: 1m 30s\n",
      "733:\tlearn: 0.0595953\ttest: 0.0766742\tbest: 0.0745179 (407)\ttotal: 4m 8s\tremaining: 1m 30s\n",
      "734:\tlearn: 0.0595890\ttest: 0.0766630\tbest: 0.0745179 (407)\ttotal: 4m 9s\tremaining: 1m 29s\n",
      "735:\tlearn: 0.0595563\ttest: 0.0766464\tbest: 0.0745179 (407)\ttotal: 4m 9s\tremaining: 1m 29s\n",
      "736:\tlearn: 0.0595554\ttest: 0.0766439\tbest: 0.0745179 (407)\ttotal: 4m 9s\tremaining: 1m 29s\n",
      "737:\tlearn: 0.0595530\ttest: 0.0766361\tbest: 0.0745179 (407)\ttotal: 4m 10s\tremaining: 1m 28s\n",
      "738:\tlearn: 0.0595470\ttest: 0.0766652\tbest: 0.0745179 (407)\ttotal: 4m 10s\tremaining: 1m 28s\n",
      "739:\tlearn: 0.0595227\ttest: 0.0766652\tbest: 0.0745179 (407)\ttotal: 4m 10s\tremaining: 1m 28s\n",
      "740:\tlearn: 0.0595202\ttest: 0.0766616\tbest: 0.0745179 (407)\ttotal: 4m 11s\tremaining: 1m 27s\n",
      "741:\tlearn: 0.0595177\ttest: 0.0766696\tbest: 0.0745179 (407)\ttotal: 4m 11s\tremaining: 1m 27s\n",
      "742:\tlearn: 0.0595034\ttest: 0.0766725\tbest: 0.0745179 (407)\ttotal: 4m 11s\tremaining: 1m 27s\n",
      "743:\tlearn: 0.0594849\ttest: 0.0766622\tbest: 0.0745179 (407)\ttotal: 4m 12s\tremaining: 1m 26s\n",
      "744:\tlearn: 0.0594822\ttest: 0.0768216\tbest: 0.0745179 (407)\ttotal: 4m 12s\tremaining: 1m 26s\n",
      "745:\tlearn: 0.0594757\ttest: 0.0768704\tbest: 0.0745179 (407)\ttotal: 4m 12s\tremaining: 1m 26s\n",
      "746:\tlearn: 0.0594708\ttest: 0.0769550\tbest: 0.0745179 (407)\ttotal: 4m 13s\tremaining: 1m 25s\n",
      "747:\tlearn: 0.0594687\ttest: 0.0769506\tbest: 0.0745179 (407)\ttotal: 4m 13s\tremaining: 1m 25s\n",
      "748:\tlearn: 0.0593993\ttest: 0.0767640\tbest: 0.0745179 (407)\ttotal: 4m 13s\tremaining: 1m 25s\n",
      "749:\tlearn: 0.0593969\ttest: 0.0767654\tbest: 0.0745179 (407)\ttotal: 4m 13s\tremaining: 1m 24s\n",
      "750:\tlearn: 0.0593944\ttest: 0.0767896\tbest: 0.0745179 (407)\ttotal: 4m 14s\tremaining: 1m 24s\n",
      "751:\tlearn: 0.0593934\ttest: 0.0767911\tbest: 0.0745179 (407)\ttotal: 4m 14s\tremaining: 1m 23s\n",
      "752:\tlearn: 0.0593915\ttest: 0.0767837\tbest: 0.0745179 (407)\ttotal: 4m 14s\tremaining: 1m 23s\n",
      "753:\tlearn: 0.0593811\ttest: 0.0767510\tbest: 0.0745179 (407)\ttotal: 4m 14s\tremaining: 1m 23s\n",
      "754:\tlearn: 0.0593775\ttest: 0.0767587\tbest: 0.0745179 (407)\ttotal: 4m 15s\tremaining: 1m 22s\n",
      "755:\tlearn: 0.0593761\ttest: 0.0767659\tbest: 0.0745179 (407)\ttotal: 4m 15s\tremaining: 1m 22s\n",
      "756:\tlearn: 0.0593736\ttest: 0.0767575\tbest: 0.0745179 (407)\ttotal: 4m 15s\tremaining: 1m 22s\n",
      "757:\tlearn: 0.0593728\ttest: 0.0767743\tbest: 0.0745179 (407)\ttotal: 4m 15s\tremaining: 1m 21s\n",
      "758:\tlearn: 0.0593697\ttest: 0.0767750\tbest: 0.0745179 (407)\ttotal: 4m 16s\tremaining: 1m 21s\n",
      "759:\tlearn: 0.0593685\ttest: 0.0767664\tbest: 0.0745179 (407)\ttotal: 4m 16s\tremaining: 1m 21s\n",
      "760:\tlearn: 0.0593649\ttest: 0.0767602\tbest: 0.0745179 (407)\ttotal: 4m 16s\tremaining: 1m 20s\n",
      "761:\tlearn: 0.0593546\ttest: 0.0767506\tbest: 0.0745179 (407)\ttotal: 4m 17s\tremaining: 1m 20s\n",
      "762:\tlearn: 0.0593485\ttest: 0.0767531\tbest: 0.0745179 (407)\ttotal: 4m 17s\tremaining: 1m 19s\n",
      "763:\tlearn: 0.0593427\ttest: 0.0767538\tbest: 0.0745179 (407)\ttotal: 4m 17s\tremaining: 1m 19s\n",
      "764:\tlearn: 0.0593399\ttest: 0.0767612\tbest: 0.0745179 (407)\ttotal: 4m 18s\tremaining: 1m 19s\n",
      "765:\tlearn: 0.0593385\ttest: 0.0767634\tbest: 0.0745179 (407)\ttotal: 4m 18s\tremaining: 1m 19s\n",
      "766:\tlearn: 0.0593383\ttest: 0.0767617\tbest: 0.0745179 (407)\ttotal: 4m 18s\tremaining: 1m 18s\n",
      "767:\tlearn: 0.0593359\ttest: 0.0767660\tbest: 0.0745179 (407)\ttotal: 4m 19s\tremaining: 1m 18s\n",
      "768:\tlearn: 0.0593336\ttest: 0.0767646\tbest: 0.0745179 (407)\ttotal: 4m 19s\tremaining: 1m 17s\n",
      "769:\tlearn: 0.0593324\ttest: 0.0767743\tbest: 0.0745179 (407)\ttotal: 4m 19s\tremaining: 1m 17s\n",
      "770:\tlearn: 0.0593291\ttest: 0.0769126\tbest: 0.0745179 (407)\ttotal: 4m 20s\tremaining: 1m 17s\n",
      "771:\tlearn: 0.0593251\ttest: 0.0768600\tbest: 0.0745179 (407)\ttotal: 4m 20s\tremaining: 1m 16s\n",
      "772:\tlearn: 0.0593044\ttest: 0.0768470\tbest: 0.0745179 (407)\ttotal: 4m 20s\tremaining: 1m 16s\n",
      "773:\tlearn: 0.0593011\ttest: 0.0768542\tbest: 0.0745179 (407)\ttotal: 4m 20s\tremaining: 1m 16s\n",
      "774:\tlearn: 0.0592970\ttest: 0.0768678\tbest: 0.0745179 (407)\ttotal: 4m 21s\tremaining: 1m 15s\n",
      "775:\tlearn: 0.0592936\ttest: 0.0768626\tbest: 0.0745179 (407)\ttotal: 4m 21s\tremaining: 1m 15s\n",
      "776:\tlearn: 0.0592825\ttest: 0.0768618\tbest: 0.0745179 (407)\ttotal: 4m 21s\tremaining: 1m 15s\n",
      "777:\tlearn: 0.0592796\ttest: 0.0769121\tbest: 0.0745179 (407)\ttotal: 4m 22s\tremaining: 1m 14s\n",
      "778:\tlearn: 0.0592775\ttest: 0.0769044\tbest: 0.0745179 (407)\ttotal: 4m 22s\tremaining: 1m 14s\n",
      "779:\tlearn: 0.0592748\ttest: 0.0769036\tbest: 0.0745179 (407)\ttotal: 4m 23s\tremaining: 1m 14s\n",
      "780:\tlearn: 0.0592722\ttest: 0.0769062\tbest: 0.0745179 (407)\ttotal: 4m 23s\tremaining: 1m 13s\n",
      "781:\tlearn: 0.0592711\ttest: 0.0769045\tbest: 0.0745179 (407)\ttotal: 4m 23s\tremaining: 1m 13s\n",
      "782:\tlearn: 0.0592684\ttest: 0.0768999\tbest: 0.0745179 (407)\ttotal: 4m 24s\tremaining: 1m 13s\n",
      "783:\tlearn: 0.0592657\ttest: 0.0769176\tbest: 0.0745179 (407)\ttotal: 4m 24s\tremaining: 1m 12s\n",
      "784:\tlearn: 0.0592626\ttest: 0.0769156\tbest: 0.0745179 (407)\ttotal: 4m 24s\tremaining: 1m 12s\n",
      "785:\tlearn: 0.0592610\ttest: 0.0769257\tbest: 0.0745179 (407)\ttotal: 4m 24s\tremaining: 1m 12s\n",
      "786:\tlearn: 0.0591997\ttest: 0.0767379\tbest: 0.0745179 (407)\ttotal: 4m 25s\tremaining: 1m 11s\n",
      "787:\tlearn: 0.0591961\ttest: 0.0767841\tbest: 0.0745179 (407)\ttotal: 4m 25s\tremaining: 1m 11s\n",
      "788:\tlearn: 0.0591702\ttest: 0.0767712\tbest: 0.0745179 (407)\ttotal: 4m 25s\tremaining: 1m 11s\n",
      "789:\tlearn: 0.0591692\ttest: 0.0767845\tbest: 0.0745179 (407)\ttotal: 4m 26s\tremaining: 1m 10s\n",
      "790:\tlearn: 0.0591623\ttest: 0.0767558\tbest: 0.0745179 (407)\ttotal: 4m 26s\tremaining: 1m 10s\n",
      "791:\tlearn: 0.0591610\ttest: 0.0767491\tbest: 0.0745179 (407)\ttotal: 4m 26s\tremaining: 1m 10s\n",
      "792:\tlearn: 0.0591583\ttest: 0.0768714\tbest: 0.0745179 (407)\ttotal: 4m 27s\tremaining: 1m 9s\n",
      "793:\tlearn: 0.0591555\ttest: 0.0768734\tbest: 0.0745179 (407)\ttotal: 4m 27s\tremaining: 1m 9s\n",
      "794:\tlearn: 0.0591509\ttest: 0.0768823\tbest: 0.0745179 (407)\ttotal: 4m 28s\tremaining: 1m 9s\n",
      "795:\tlearn: 0.0591432\ttest: 0.0767852\tbest: 0.0745179 (407)\ttotal: 4m 28s\tremaining: 1m 8s\n",
      "796:\tlearn: 0.0590905\ttest: 0.0767323\tbest: 0.0745179 (407)\ttotal: 4m 28s\tremaining: 1m 8s\n",
      "797:\tlearn: 0.0590860\ttest: 0.0767343\tbest: 0.0745179 (407)\ttotal: 4m 29s\tremaining: 1m 8s\n",
      "798:\tlearn: 0.0590822\ttest: 0.0767299\tbest: 0.0745179 (407)\ttotal: 4m 29s\tremaining: 1m 7s\n",
      "799:\tlearn: 0.0590789\ttest: 0.0767266\tbest: 0.0745179 (407)\ttotal: 4m 30s\tremaining: 1m 7s\n",
      "800:\tlearn: 0.0590757\ttest: 0.0767267\tbest: 0.0745179 (407)\ttotal: 4m 30s\tremaining: 1m 7s\n",
      "801:\tlearn: 0.0590655\ttest: 0.0767405\tbest: 0.0745179 (407)\ttotal: 4m 30s\tremaining: 1m 6s\n",
      "802:\tlearn: 0.0590619\ttest: 0.0767181\tbest: 0.0745179 (407)\ttotal: 4m 31s\tremaining: 1m 6s\n",
      "803:\tlearn: 0.0590555\ttest: 0.0766985\tbest: 0.0745179 (407)\ttotal: 4m 31s\tremaining: 1m 6s\n",
      "804:\tlearn: 0.0590539\ttest: 0.0767091\tbest: 0.0745179 (407)\ttotal: 4m 31s\tremaining: 1m 5s\n",
      "805:\tlearn: 0.0590484\ttest: 0.0766959\tbest: 0.0745179 (407)\ttotal: 4m 31s\tremaining: 1m 5s\n",
      "806:\tlearn: 0.0590475\ttest: 0.0767031\tbest: 0.0745179 (407)\ttotal: 4m 32s\tremaining: 1m 5s\n",
      "807:\tlearn: 0.0590452\ttest: 0.0766832\tbest: 0.0745179 (407)\ttotal: 4m 32s\tremaining: 1m 4s\n",
      "808:\tlearn: 0.0590432\ttest: 0.0766917\tbest: 0.0745179 (407)\ttotal: 4m 32s\tremaining: 1m 4s\n",
      "809:\tlearn: 0.0590420\ttest: 0.0766936\tbest: 0.0745179 (407)\ttotal: 4m 33s\tremaining: 1m 4s\n",
      "810:\tlearn: 0.0590299\ttest: 0.0766701\tbest: 0.0745179 (407)\ttotal: 4m 33s\tremaining: 1m 3s\n",
      "811:\tlearn: 0.0590289\ttest: 0.0766586\tbest: 0.0745179 (407)\ttotal: 4m 33s\tremaining: 1m 3s\n",
      "812:\tlearn: 0.0590259\ttest: 0.0765768\tbest: 0.0745179 (407)\ttotal: 4m 34s\tremaining: 1m 3s\n",
      "813:\tlearn: 0.0590238\ttest: 0.0765799\tbest: 0.0745179 (407)\ttotal: 4m 34s\tremaining: 1m 2s\n",
      "814:\tlearn: 0.0590210\ttest: 0.0765751\tbest: 0.0745179 (407)\ttotal: 4m 34s\tremaining: 1m 2s\n",
      "815:\tlearn: 0.0590155\ttest: 0.0765239\tbest: 0.0745179 (407)\ttotal: 4m 35s\tremaining: 1m 2s\n",
      "816:\tlearn: 0.0590086\ttest: 0.0765426\tbest: 0.0745179 (407)\ttotal: 4m 35s\tremaining: 1m 1s\n",
      "817:\tlearn: 0.0590079\ttest: 0.0765466\tbest: 0.0745179 (407)\ttotal: 4m 35s\tremaining: 1m 1s\n",
      "818:\tlearn: 0.0590047\ttest: 0.0765243\tbest: 0.0745179 (407)\ttotal: 4m 36s\tremaining: 1m 1s\n",
      "819:\tlearn: 0.0589955\ttest: 0.0765079\tbest: 0.0745179 (407)\ttotal: 4m 36s\tremaining: 1m\n",
      "820:\tlearn: 0.0589862\ttest: 0.0765121\tbest: 0.0745179 (407)\ttotal: 4m 36s\tremaining: 1m\n",
      "821:\tlearn: 0.0589818\ttest: 0.0764841\tbest: 0.0745179 (407)\ttotal: 4m 37s\tremaining: 1m\n",
      "822:\tlearn: 0.0589794\ttest: 0.0764879\tbest: 0.0745179 (407)\ttotal: 4m 37s\tremaining: 59.7s\n",
      "823:\tlearn: 0.0589757\ttest: 0.0766376\tbest: 0.0745179 (407)\ttotal: 4m 37s\tremaining: 59.3s\n",
      "824:\tlearn: 0.0589746\ttest: 0.0766343\tbest: 0.0745179 (407)\ttotal: 4m 37s\tremaining: 59s\n",
      "825:\tlearn: 0.0589654\ttest: 0.0766173\tbest: 0.0745179 (407)\ttotal: 4m 38s\tremaining: 58.6s\n",
      "826:\tlearn: 0.0589637\ttest: 0.0766167\tbest: 0.0745179 (407)\ttotal: 4m 38s\tremaining: 58.3s\n",
      "827:\tlearn: 0.0589553\ttest: 0.0765989\tbest: 0.0745179 (407)\ttotal: 4m 38s\tremaining: 57.9s\n",
      "828:\tlearn: 0.0589548\ttest: 0.0765969\tbest: 0.0745179 (407)\ttotal: 4m 39s\tremaining: 57.6s\n",
      "829:\tlearn: 0.0589532\ttest: 0.0766116\tbest: 0.0745179 (407)\ttotal: 4m 39s\tremaining: 57.3s\n",
      "830:\tlearn: 0.0589520\ttest: 0.0766065\tbest: 0.0745179 (407)\ttotal: 4m 39s\tremaining: 56.9s\n",
      "831:\tlearn: 0.0589485\ttest: 0.0766024\tbest: 0.0745179 (407)\ttotal: 4m 40s\tremaining: 56.6s\n",
      "832:\tlearn: 0.0589422\ttest: 0.0765659\tbest: 0.0745179 (407)\ttotal: 4m 40s\tremaining: 56.2s\n",
      "833:\tlearn: 0.0589384\ttest: 0.0765717\tbest: 0.0745179 (407)\ttotal: 4m 40s\tremaining: 55.9s\n",
      "834:\tlearn: 0.0589349\ttest: 0.0765812\tbest: 0.0745179 (407)\ttotal: 4m 41s\tremaining: 55.6s\n",
      "835:\tlearn: 0.0589293\ttest: 0.0765552\tbest: 0.0745179 (407)\ttotal: 4m 41s\tremaining: 55.2s\n",
      "836:\tlearn: 0.0589263\ttest: 0.0765599\tbest: 0.0745179 (407)\ttotal: 4m 41s\tremaining: 54.9s\n",
      "837:\tlearn: 0.0589237\ttest: 0.0765533\tbest: 0.0745179 (407)\ttotal: 4m 42s\tremaining: 54.6s\n",
      "838:\tlearn: 0.0589196\ttest: 0.0766230\tbest: 0.0745179 (407)\ttotal: 4m 42s\tremaining: 54.2s\n",
      "839:\tlearn: 0.0589173\ttest: 0.0766876\tbest: 0.0745179 (407)\ttotal: 4m 42s\tremaining: 53.9s\n",
      "840:\tlearn: 0.0589138\ttest: 0.0766836\tbest: 0.0745179 (407)\ttotal: 4m 43s\tremaining: 53.5s\n",
      "841:\tlearn: 0.0589063\ttest: 0.0766959\tbest: 0.0745179 (407)\ttotal: 4m 43s\tremaining: 53.2s\n",
      "842:\tlearn: 0.0589020\ttest: 0.0766847\tbest: 0.0745179 (407)\ttotal: 4m 43s\tremaining: 52.8s\n",
      "843:\tlearn: 0.0588978\ttest: 0.0766691\tbest: 0.0745179 (407)\ttotal: 4m 44s\tremaining: 52.5s\n",
      "844:\tlearn: 0.0588938\ttest: 0.0767290\tbest: 0.0745179 (407)\ttotal: 4m 44s\tremaining: 52.2s\n",
      "845:\tlearn: 0.0588876\ttest: 0.0766995\tbest: 0.0745179 (407)\ttotal: 4m 44s\tremaining: 51.8s\n",
      "846:\tlearn: 0.0588790\ttest: 0.0767031\tbest: 0.0745179 (407)\ttotal: 4m 44s\tremaining: 51.5s\n",
      "847:\tlearn: 0.0588775\ttest: 0.0767040\tbest: 0.0745179 (407)\ttotal: 4m 45s\tremaining: 51.1s\n",
      "848:\tlearn: 0.0588768\ttest: 0.0767017\tbest: 0.0745179 (407)\ttotal: 4m 45s\tremaining: 50.8s\n",
      "849:\tlearn: 0.0588749\ttest: 0.0766880\tbest: 0.0745179 (407)\ttotal: 4m 45s\tremaining: 50.4s\n",
      "850:\tlearn: 0.0588708\ttest: 0.0766790\tbest: 0.0745179 (407)\ttotal: 4m 45s\tremaining: 50.1s\n",
      "851:\tlearn: 0.0588667\ttest: 0.0767088\tbest: 0.0745179 (407)\ttotal: 4m 46s\tremaining: 49.7s\n",
      "852:\tlearn: 0.0588641\ttest: 0.0768121\tbest: 0.0745179 (407)\ttotal: 4m 46s\tremaining: 49.4s\n",
      "853:\tlearn: 0.0588635\ttest: 0.0768107\tbest: 0.0745179 (407)\ttotal: 4m 46s\tremaining: 49s\n",
      "854:\tlearn: 0.0588615\ttest: 0.0768094\tbest: 0.0745179 (407)\ttotal: 4m 47s\tremaining: 48.7s\n",
      "855:\tlearn: 0.0588572\ttest: 0.0768203\tbest: 0.0745179 (407)\ttotal: 4m 47s\tremaining: 48.3s\n",
      "856:\tlearn: 0.0588569\ttest: 0.0768228\tbest: 0.0745179 (407)\ttotal: 4m 47s\tremaining: 48s\n",
      "857:\tlearn: 0.0588555\ttest: 0.0768203\tbest: 0.0745179 (407)\ttotal: 4m 47s\tremaining: 47.6s\n",
      "858:\tlearn: 0.0588541\ttest: 0.0768460\tbest: 0.0745179 (407)\ttotal: 4m 48s\tremaining: 47.3s\n",
      "859:\tlearn: 0.0588514\ttest: 0.0768529\tbest: 0.0745179 (407)\ttotal: 4m 48s\tremaining: 47s\n",
      "860:\tlearn: 0.0588488\ttest: 0.0768460\tbest: 0.0745179 (407)\ttotal: 4m 48s\tremaining: 46.6s\n",
      "861:\tlearn: 0.0588463\ttest: 0.0768429\tbest: 0.0745179 (407)\ttotal: 4m 49s\tremaining: 46.3s\n",
      "862:\tlearn: 0.0588459\ttest: 0.0768319\tbest: 0.0745179 (407)\ttotal: 4m 49s\tremaining: 46s\n",
      "863:\tlearn: 0.0588448\ttest: 0.0768339\tbest: 0.0745179 (407)\ttotal: 4m 49s\tremaining: 45.6s\n",
      "864:\tlearn: 0.0588428\ttest: 0.0768935\tbest: 0.0745179 (407)\ttotal: 4m 50s\tremaining: 45.3s\n",
      "865:\tlearn: 0.0588380\ttest: 0.0768905\tbest: 0.0745179 (407)\ttotal: 4m 50s\tremaining: 45s\n",
      "866:\tlearn: 0.0588336\ttest: 0.0768884\tbest: 0.0745179 (407)\ttotal: 4m 51s\tremaining: 44.7s\n",
      "867:\tlearn: 0.0588256\ttest: 0.0768794\tbest: 0.0745179 (407)\ttotal: 4m 51s\tremaining: 44.3s\n",
      "868:\tlearn: 0.0588153\ttest: 0.0768454\tbest: 0.0745179 (407)\ttotal: 4m 51s\tremaining: 44s\n",
      "869:\tlearn: 0.0588144\ttest: 0.0768466\tbest: 0.0745179 (407)\ttotal: 4m 52s\tremaining: 43.7s\n",
      "870:\tlearn: 0.0588130\ttest: 0.0768329\tbest: 0.0745179 (407)\ttotal: 4m 52s\tremaining: 43.3s\n",
      "871:\tlearn: 0.0588083\ttest: 0.0768000\tbest: 0.0745179 (407)\ttotal: 4m 52s\tremaining: 42.9s\n",
      "872:\tlearn: 0.0588057\ttest: 0.0767844\tbest: 0.0745179 (407)\ttotal: 4m 53s\tremaining: 42.6s\n",
      "873:\tlearn: 0.0587970\ttest: 0.0767713\tbest: 0.0745179 (407)\ttotal: 4m 53s\tremaining: 42.3s\n",
      "874:\tlearn: 0.0587963\ttest: 0.0767704\tbest: 0.0745179 (407)\ttotal: 4m 53s\tremaining: 42s\n",
      "875:\tlearn: 0.0587947\ttest: 0.0767818\tbest: 0.0745179 (407)\ttotal: 4m 53s\tremaining: 41.6s\n",
      "876:\tlearn: 0.0587885\ttest: 0.0768360\tbest: 0.0745179 (407)\ttotal: 4m 54s\tremaining: 41.3s\n",
      "877:\tlearn: 0.0587849\ttest: 0.0768354\tbest: 0.0745179 (407)\ttotal: 4m 54s\tremaining: 40.9s\n",
      "878:\tlearn: 0.0587832\ttest: 0.0768274\tbest: 0.0745179 (407)\ttotal: 4m 54s\tremaining: 40.6s\n",
      "879:\tlearn: 0.0587824\ttest: 0.0768246\tbest: 0.0745179 (407)\ttotal: 4m 55s\tremaining: 40.2s\n",
      "880:\tlearn: 0.0587801\ttest: 0.0768394\tbest: 0.0745179 (407)\ttotal: 4m 55s\tremaining: 39.9s\n",
      "881:\tlearn: 0.0587781\ttest: 0.0768517\tbest: 0.0745179 (407)\ttotal: 4m 55s\tremaining: 39.5s\n",
      "882:\tlearn: 0.0587765\ttest: 0.0768391\tbest: 0.0745179 (407)\ttotal: 4m 56s\tremaining: 39.2s\n",
      "883:\tlearn: 0.0587751\ttest: 0.0768581\tbest: 0.0745179 (407)\ttotal: 4m 56s\tremaining: 38.9s\n",
      "884:\tlearn: 0.0587729\ttest: 0.0768544\tbest: 0.0745179 (407)\ttotal: 4m 56s\tremaining: 38.6s\n",
      "885:\tlearn: 0.0587703\ttest: 0.0768753\tbest: 0.0745179 (407)\ttotal: 4m 57s\tremaining: 38.2s\n",
      "886:\tlearn: 0.0587610\ttest: 0.0768577\tbest: 0.0745179 (407)\ttotal: 4m 57s\tremaining: 37.9s\n",
      "887:\tlearn: 0.0587591\ttest: 0.0768341\tbest: 0.0745179 (407)\ttotal: 4m 57s\tremaining: 37.6s\n",
      "888:\tlearn: 0.0587580\ttest: 0.0768211\tbest: 0.0745179 (407)\ttotal: 4m 58s\tremaining: 37.2s\n",
      "889:\tlearn: 0.0587543\ttest: 0.0768072\tbest: 0.0745179 (407)\ttotal: 4m 58s\tremaining: 36.9s\n",
      "890:\tlearn: 0.0587523\ttest: 0.0768054\tbest: 0.0745179 (407)\ttotal: 4m 58s\tremaining: 36.6s\n",
      "891:\tlearn: 0.0587510\ttest: 0.0768064\tbest: 0.0745179 (407)\ttotal: 4m 59s\tremaining: 36.2s\n",
      "892:\tlearn: 0.0587459\ttest: 0.0768612\tbest: 0.0745179 (407)\ttotal: 4m 59s\tremaining: 35.9s\n",
      "893:\tlearn: 0.0587432\ttest: 0.0768693\tbest: 0.0745179 (407)\ttotal: 4m 59s\tremaining: 35.6s\n",
      "894:\tlearn: 0.0587404\ttest: 0.0768827\tbest: 0.0745179 (407)\ttotal: 5m\tremaining: 35.2s\n",
      "895:\tlearn: 0.0587391\ttest: 0.0768838\tbest: 0.0745179 (407)\ttotal: 5m\tremaining: 34.9s\n",
      "896:\tlearn: 0.0587367\ttest: 0.0768823\tbest: 0.0745179 (407)\ttotal: 5m\tremaining: 34.5s\n",
      "897:\tlearn: 0.0587360\ttest: 0.0768563\tbest: 0.0745179 (407)\ttotal: 5m 1s\tremaining: 34.2s\n",
      "898:\tlearn: 0.0587345\ttest: 0.0768586\tbest: 0.0745179 (407)\ttotal: 5m 1s\tremaining: 33.9s\n",
      "899:\tlearn: 0.0587223\ttest: 0.0768226\tbest: 0.0745179 (407)\ttotal: 5m 1s\tremaining: 33.5s\n",
      "900:\tlearn: 0.0587215\ttest: 0.0768203\tbest: 0.0745179 (407)\ttotal: 5m 2s\tremaining: 33.2s\n",
      "901:\tlearn: 0.0587140\ttest: 0.0768123\tbest: 0.0745179 (407)\ttotal: 5m 2s\tremaining: 32.9s\n",
      "902:\tlearn: 0.0587126\ttest: 0.0768113\tbest: 0.0745179 (407)\ttotal: 5m 2s\tremaining: 32.5s\n",
      "903:\tlearn: 0.0587099\ttest: 0.0768755\tbest: 0.0745179 (407)\ttotal: 5m 3s\tremaining: 32.2s\n",
      "904:\tlearn: 0.0586958\ttest: 0.0768366\tbest: 0.0745179 (407)\ttotal: 5m 3s\tremaining: 31.9s\n",
      "905:\tlearn: 0.0586946\ttest: 0.0768375\tbest: 0.0745179 (407)\ttotal: 5m 3s\tremaining: 31.5s\n",
      "906:\tlearn: 0.0586922\ttest: 0.0768298\tbest: 0.0745179 (407)\ttotal: 5m 4s\tremaining: 31.2s\n",
      "907:\tlearn: 0.0586901\ttest: 0.0768263\tbest: 0.0745179 (407)\ttotal: 5m 4s\tremaining: 30.9s\n",
      "908:\tlearn: 0.0586876\ttest: 0.0768225\tbest: 0.0745179 (407)\ttotal: 5m 5s\tremaining: 30.5s\n",
      "909:\tlearn: 0.0586857\ttest: 0.0768059\tbest: 0.0745179 (407)\ttotal: 5m 5s\tremaining: 30.2s\n",
      "910:\tlearn: 0.0586818\ttest: 0.0768369\tbest: 0.0745179 (407)\ttotal: 5m 5s\tremaining: 29.8s\n",
      "911:\tlearn: 0.0586789\ttest: 0.0768476\tbest: 0.0745179 (407)\ttotal: 5m 5s\tremaining: 29.5s\n",
      "912:\tlearn: 0.0586747\ttest: 0.0768475\tbest: 0.0745179 (407)\ttotal: 5m 6s\tremaining: 29.2s\n",
      "913:\tlearn: 0.0586681\ttest: 0.0768191\tbest: 0.0745179 (407)\ttotal: 5m 6s\tremaining: 28.8s\n",
      "914:\tlearn: 0.0586665\ttest: 0.0768122\tbest: 0.0745179 (407)\ttotal: 5m 6s\tremaining: 28.5s\n",
      "915:\tlearn: 0.0586656\ttest: 0.0768225\tbest: 0.0745179 (407)\ttotal: 5m 6s\tremaining: 28.1s\n",
      "916:\tlearn: 0.0586638\ttest: 0.0768203\tbest: 0.0745179 (407)\ttotal: 5m 7s\tremaining: 27.8s\n",
      "917:\tlearn: 0.0586634\ttest: 0.0768212\tbest: 0.0745179 (407)\ttotal: 5m 7s\tremaining: 27.5s\n",
      "918:\tlearn: 0.0586044\ttest: 0.0759777\tbest: 0.0745179 (407)\ttotal: 5m 8s\tremaining: 27.2s\n",
      "919:\tlearn: 0.0586031\ttest: 0.0759893\tbest: 0.0745179 (407)\ttotal: 5m 8s\tremaining: 26.8s\n",
      "920:\tlearn: 0.0586028\ttest: 0.0759936\tbest: 0.0745179 (407)\ttotal: 5m 8s\tremaining: 26.5s\n",
      "921:\tlearn: 0.0586011\ttest: 0.0759912\tbest: 0.0745179 (407)\ttotal: 5m 9s\tremaining: 26.1s\n",
      "922:\tlearn: 0.0586004\ttest: 0.0760037\tbest: 0.0745179 (407)\ttotal: 5m 9s\tremaining: 25.8s\n",
      "923:\tlearn: 0.0585985\ttest: 0.0759880\tbest: 0.0745179 (407)\ttotal: 5m 9s\tremaining: 25.5s\n",
      "924:\tlearn: 0.0585856\ttest: 0.0759865\tbest: 0.0745179 (407)\ttotal: 5m 10s\tremaining: 25.1s\n",
      "925:\tlearn: 0.0585844\ttest: 0.0759792\tbest: 0.0745179 (407)\ttotal: 5m 10s\tremaining: 24.8s\n",
      "926:\tlearn: 0.0585823\ttest: 0.0759848\tbest: 0.0745179 (407)\ttotal: 5m 10s\tremaining: 24.5s\n",
      "927:\tlearn: 0.0585795\ttest: 0.0759835\tbest: 0.0745179 (407)\ttotal: 5m 11s\tremaining: 24.1s\n",
      "928:\tlearn: 0.0585744\ttest: 0.0759556\tbest: 0.0745179 (407)\ttotal: 5m 11s\tremaining: 23.8s\n",
      "929:\tlearn: 0.0585722\ttest: 0.0759459\tbest: 0.0745179 (407)\ttotal: 5m 11s\tremaining: 23.5s\n",
      "930:\tlearn: 0.0585690\ttest: 0.0760590\tbest: 0.0745179 (407)\ttotal: 5m 11s\tremaining: 23.1s\n",
      "931:\tlearn: 0.0585676\ttest: 0.0760717\tbest: 0.0745179 (407)\ttotal: 5m 12s\tremaining: 22.8s\n",
      "932:\tlearn: 0.0585663\ttest: 0.0760742\tbest: 0.0745179 (407)\ttotal: 5m 12s\tremaining: 22.4s\n",
      "933:\tlearn: 0.0585645\ttest: 0.0760755\tbest: 0.0745179 (407)\ttotal: 5m 13s\tremaining: 22.1s\n",
      "934:\tlearn: 0.0585623\ttest: 0.0760736\tbest: 0.0745179 (407)\ttotal: 5m 13s\tremaining: 21.8s\n",
      "935:\tlearn: 0.0585586\ttest: 0.0760666\tbest: 0.0745179 (407)\ttotal: 5m 13s\tremaining: 21.4s\n",
      "936:\tlearn: 0.0585551\ttest: 0.0760467\tbest: 0.0745179 (407)\ttotal: 5m 13s\tremaining: 21.1s\n",
      "937:\tlearn: 0.0585533\ttest: 0.0760468\tbest: 0.0745179 (407)\ttotal: 5m 13s\tremaining: 20.8s\n",
      "938:\tlearn: 0.0585518\ttest: 0.0760484\tbest: 0.0745179 (407)\ttotal: 5m 14s\tremaining: 20.4s\n",
      "939:\tlearn: 0.0585515\ttest: 0.0760522\tbest: 0.0745179 (407)\ttotal: 5m 14s\tremaining: 20.1s\n",
      "940:\tlearn: 0.0585483\ttest: 0.0764530\tbest: 0.0745179 (407)\ttotal: 5m 15s\tremaining: 19.8s\n",
      "941:\tlearn: 0.0585457\ttest: 0.0764949\tbest: 0.0745179 (407)\ttotal: 5m 15s\tremaining: 19.4s\n",
      "942:\tlearn: 0.0585448\ttest: 0.0764969\tbest: 0.0745179 (407)\ttotal: 5m 15s\tremaining: 19.1s\n",
      "943:\tlearn: 0.0585444\ttest: 0.0764686\tbest: 0.0745179 (407)\ttotal: 5m 15s\tremaining: 18.7s\n",
      "944:\tlearn: 0.0585437\ttest: 0.0764665\tbest: 0.0745179 (407)\ttotal: 5m 16s\tremaining: 18.4s\n",
      "945:\tlearn: 0.0585425\ttest: 0.0764498\tbest: 0.0745179 (407)\ttotal: 5m 16s\tremaining: 18.1s\n",
      "946:\tlearn: 0.0585372\ttest: 0.0764295\tbest: 0.0745179 (407)\ttotal: 5m 16s\tremaining: 17.7s\n",
      "947:\tlearn: 0.0585208\ttest: 0.0764236\tbest: 0.0745179 (407)\ttotal: 5m 17s\tremaining: 17.4s\n",
      "948:\tlearn: 0.0585191\ttest: 0.0764203\tbest: 0.0745179 (407)\ttotal: 5m 17s\tremaining: 17s\n",
      "949:\tlearn: 0.0585179\ttest: 0.0764188\tbest: 0.0745179 (407)\ttotal: 5m 17s\tremaining: 16.7s\n",
      "950:\tlearn: 0.0585161\ttest: 0.0764323\tbest: 0.0745179 (407)\ttotal: 5m 17s\tremaining: 16.4s\n",
      "951:\tlearn: 0.0585151\ttest: 0.0764337\tbest: 0.0745179 (407)\ttotal: 5m 18s\tremaining: 16s\n",
      "952:\tlearn: 0.0585142\ttest: 0.0764378\tbest: 0.0745179 (407)\ttotal: 5m 18s\tremaining: 15.7s\n",
      "953:\tlearn: 0.0585129\ttest: 0.0764363\tbest: 0.0745179 (407)\ttotal: 5m 18s\tremaining: 15.4s\n",
      "954:\tlearn: 0.0585107\ttest: 0.0764423\tbest: 0.0745179 (407)\ttotal: 5m 18s\tremaining: 15s\n",
      "955:\tlearn: 0.0585099\ttest: 0.0764405\tbest: 0.0745179 (407)\ttotal: 5m 19s\tremaining: 14.7s\n",
      "956:\tlearn: 0.0585075\ttest: 0.0764333\tbest: 0.0745179 (407)\ttotal: 5m 19s\tremaining: 14.4s\n",
      "957:\tlearn: 0.0585062\ttest: 0.0764319\tbest: 0.0745179 (407)\ttotal: 5m 19s\tremaining: 14s\n",
      "958:\tlearn: 0.0585027\ttest: 0.0764517\tbest: 0.0745179 (407)\ttotal: 5m 19s\tremaining: 13.7s\n",
      "959:\tlearn: 0.0584997\ttest: 0.0764531\tbest: 0.0745179 (407)\ttotal: 5m 20s\tremaining: 13.3s\n",
      "960:\tlearn: 0.0584986\ttest: 0.0764526\tbest: 0.0745179 (407)\ttotal: 5m 20s\tremaining: 13s\n",
      "961:\tlearn: 0.0584974\ttest: 0.0764481\tbest: 0.0745179 (407)\ttotal: 5m 20s\tremaining: 12.7s\n",
      "962:\tlearn: 0.0584966\ttest: 0.0764530\tbest: 0.0745179 (407)\ttotal: 5m 21s\tremaining: 12.3s\n",
      "963:\tlearn: 0.0584950\ttest: 0.0764554\tbest: 0.0745179 (407)\ttotal: 5m 21s\tremaining: 12s\n",
      "964:\tlearn: 0.0584928\ttest: 0.0764899\tbest: 0.0745179 (407)\ttotal: 5m 21s\tremaining: 11.7s\n",
      "965:\tlearn: 0.0584923\ttest: 0.0764856\tbest: 0.0745179 (407)\ttotal: 5m 21s\tremaining: 11.3s\n",
      "966:\tlearn: 0.0584852\ttest: 0.0764677\tbest: 0.0745179 (407)\ttotal: 5m 22s\tremaining: 11s\n",
      "967:\tlearn: 0.0584848\ttest: 0.0764559\tbest: 0.0745179 (407)\ttotal: 5m 22s\tremaining: 10.7s\n",
      "968:\tlearn: 0.0584815\ttest: 0.0764729\tbest: 0.0745179 (407)\ttotal: 5m 22s\tremaining: 10.3s\n",
      "969:\tlearn: 0.0584766\ttest: 0.0764666\tbest: 0.0745179 (407)\ttotal: 5m 22s\tremaining: 9.98s\n",
      "970:\tlearn: 0.0584740\ttest: 0.0764617\tbest: 0.0745179 (407)\ttotal: 5m 23s\tremaining: 9.65s\n",
      "971:\tlearn: 0.0584712\ttest: 0.0764548\tbest: 0.0745179 (407)\ttotal: 5m 23s\tremaining: 9.32s\n",
      "972:\tlearn: 0.0584706\ttest: 0.0764145\tbest: 0.0745179 (407)\ttotal: 5m 23s\tremaining: 8.98s\n",
      "973:\tlearn: 0.0584571\ttest: 0.0764453\tbest: 0.0745179 (407)\ttotal: 5m 24s\tremaining: 8.65s\n",
      "974:\tlearn: 0.0584545\ttest: 0.0766887\tbest: 0.0745179 (407)\ttotal: 5m 24s\tremaining: 8.32s\n",
      "975:\tlearn: 0.0584527\ttest: 0.0766847\tbest: 0.0745179 (407)\ttotal: 5m 24s\tremaining: 7.99s\n",
      "976:\tlearn: 0.0584513\ttest: 0.0766787\tbest: 0.0745179 (407)\ttotal: 5m 25s\tremaining: 7.65s\n",
      "977:\tlearn: 0.0584495\ttest: 0.0766852\tbest: 0.0745179 (407)\ttotal: 5m 25s\tremaining: 7.32s\n",
      "978:\tlearn: 0.0584459\ttest: 0.0766755\tbest: 0.0745179 (407)\ttotal: 5m 25s\tremaining: 6.99s\n",
      "979:\tlearn: 0.0584451\ttest: 0.0766740\tbest: 0.0745179 (407)\ttotal: 5m 25s\tremaining: 6.65s\n",
      "980:\tlearn: 0.0584430\ttest: 0.0766756\tbest: 0.0745179 (407)\ttotal: 5m 26s\tremaining: 6.32s\n",
      "981:\tlearn: 0.0584373\ttest: 0.0766678\tbest: 0.0745179 (407)\ttotal: 5m 26s\tremaining: 5.98s\n",
      "982:\tlearn: 0.0584363\ttest: 0.0766755\tbest: 0.0745179 (407)\ttotal: 5m 26s\tremaining: 5.65s\n",
      "983:\tlearn: 0.0584338\ttest: 0.0767180\tbest: 0.0745179 (407)\ttotal: 5m 27s\tremaining: 5.32s\n",
      "984:\tlearn: 0.0584311\ttest: 0.0767257\tbest: 0.0745179 (407)\ttotal: 5m 27s\tremaining: 4.99s\n",
      "985:\tlearn: 0.0584292\ttest: 0.0767409\tbest: 0.0745179 (407)\ttotal: 5m 27s\tremaining: 4.65s\n",
      "986:\tlearn: 0.0584283\ttest: 0.0767397\tbest: 0.0745179 (407)\ttotal: 5m 28s\tremaining: 4.32s\n",
      "987:\tlearn: 0.0584265\ttest: 0.0767328\tbest: 0.0745179 (407)\ttotal: 5m 28s\tremaining: 3.99s\n",
      "988:\tlearn: 0.0584210\ttest: 0.0767005\tbest: 0.0745179 (407)\ttotal: 5m 28s\tremaining: 3.66s\n",
      "989:\tlearn: 0.0584193\ttest: 0.0767149\tbest: 0.0745179 (407)\ttotal: 5m 29s\tremaining: 3.33s\n",
      "990:\tlearn: 0.0584183\ttest: 0.0767044\tbest: 0.0745179 (407)\ttotal: 5m 29s\tremaining: 2.99s\n",
      "991:\tlearn: 0.0584176\ttest: 0.0767212\tbest: 0.0745179 (407)\ttotal: 5m 29s\tremaining: 2.66s\n",
      "992:\tlearn: 0.0584170\ttest: 0.0769055\tbest: 0.0745179 (407)\ttotal: 5m 30s\tremaining: 2.33s\n",
      "993:\tlearn: 0.0584109\ttest: 0.0769737\tbest: 0.0745179 (407)\ttotal: 5m 30s\tremaining: 1.99s\n",
      "994:\tlearn: 0.0584084\ttest: 0.0769809\tbest: 0.0745179 (407)\ttotal: 5m 31s\tremaining: 1.66s\n",
      "995:\tlearn: 0.0584078\ttest: 0.0769762\tbest: 0.0745179 (407)\ttotal: 5m 31s\tremaining: 1.33s\n",
      "996:\tlearn: 0.0583926\ttest: 0.0769598\tbest: 0.0745179 (407)\ttotal: 5m 31s\tremaining: 998ms\n",
      "997:\tlearn: 0.0583846\ttest: 0.0769152\tbest: 0.0745179 (407)\ttotal: 5m 31s\tremaining: 665ms\n",
      "998:\tlearn: 0.0583842\ttest: 0.0769098\tbest: 0.0745179 (407)\ttotal: 5m 32s\tremaining: 333ms\n",
      "999:\tlearn: 0.0583828\ttest: 0.0769094\tbest: 0.0745179 (407)\ttotal: 5m 32s\tremaining: 0us\n",
      "bestTest = 0.07451793151\n",
      "bestIteration = 407\n",
      "Shrink model to first 408 iterations.\n"
     ]
    }
   ],
   "source": [
    "model.fit(\n",
    "    X_train, y_train,\n",
    "    cat_features=indices_categoricos,\n",
    "    eval_set=(X_val, y_val),\n",
    "    logging_level='Verbose',  # you can uncomment this for text output\n",
    "    plot=True\n",
    ");"
   ]
  },
  {
   "cell_type": "code",
   "execution_count": 21,
   "metadata": {},
   "outputs": [
    {
     "name": "stdout",
     "output_type": "stream",
     "text": [
      "Ago Model\n",
      "Tree count: 408\n",
      "Accuracy: 0.97705\n",
      "True Positive Rate: 0.88545\n",
      "Precision: 0.92735\n",
      "Balanced Accuracy: 0.93778\n",
      "F1 Score: 0.90592\n"
     ]
    }
   ],
   "source": [
    "print('Ago Model')\n",
    "print('Tree count: {}'.format(model.tree_count_))\n",
    "print('Accuracy: {:.5}'.format(accuracy_score(y_val, model.predict(X_val))))\n",
    "print('True Positive Rate: {:.5}'.format(recall_score(y_val, model.predict(X_val))))\n",
    "print('Precision: {:.5}'.format(precision_score(y_val, model.predict(X_val))))\n",
    "print('Balanced Accuracy: {:.5}'.format(balanced_accuracy_score(y_val, model.predict(X_val))))\n",
    "print('F1 Score: {:.5}'.format(f1_score(y_val, model.predict(X_val))))"
   ]
  },
  {
   "cell_type": "code",
   "execution_count": 22,
   "metadata": {},
   "outputs": [
    {
     "data": {
      "image/png": "[encoded data removed]",
      "text/plain": [
       "<Figure size 864x648 with 2 Axes>"
      ]
     },
     "metadata": {
      "needs_background": "light"
     },
     "output_type": "display_data"
    }
   ],
   "source": [
    "y_pred = model.predict(X_val)\n",
    "# Dibujamos también la matriz de confusión para nuestro modelo\n",
    "mat = confusion_matrix(y_val, y_pred)\n",
    "plt.figure(figsize=(12, 9))\n",
    "sns.heatmap(mat, annot=True)\n",
    "plt.show()"
   ]
  },
  {
   "cell_type": "code",
   "execution_count": 23,
   "metadata": {},
   "outputs": [
    {
     "name": "stdout",
     "output_type": "stream",
     "text": [
      "Accuracy: 0.9770467356155758\n",
      "True Positive Rate 0.8854485905508398\n",
      "Precision 0.983769833750886\n",
      "Balanced accuracy 0.9377784942622458\n",
      "f1 score 0.9059150682848962\n"
     ]
    }
   ],
   "source": [
    "y_pred = model.predict(X_val)\n",
    "prediction_probs = model.predict_proba(X_val)\n",
    "\n",
    "accuracy = accuracy_score(y_val,y_pred)\n",
    "recall = recall_score(y_val,y_pred,average='binary',pos_label=1)\n",
    "precision = precision_score(y_val,y_pred,average='binary',pos_label=0)\n",
    "balanced_accuracy = balanced_accuracy_score(y_val,y_pred)\n",
    "f1 = f1_score(y_val,y_pred,pos_label=1)\n",
    "print(f'Accuracy: {accuracy}')\n",
    "print(f'True Positive Rate {recall}')\n",
    "print(f'Precision {precision}')\n",
    "print(f'Balanced accuracy {balanced_accuracy}')\n",
    "print(f'f1 score {f1}')"
   ]
  },
  {
   "cell_type": "code",
   "execution_count": 24,
   "metadata": {},
   "outputs": [
    {
     "data": {
      "text/plain": [
       "(1121474, 11204, 18502, 143015)"
      ]
     },
     "execution_count": 24,
     "metadata": {},
     "output_type": "execute_result"
    }
   ],
   "source": [
    "# Calculamos las entradas de la matriz de confusión\n",
    "tn, fp, fn, tp = confusion_matrix(y_val, y_pred).ravel()\n",
    "tn,fp,fn,tp"
   ]
  },
  {
   "cell_type": "code",
   "execution_count": 25,
   "metadata": {},
   "outputs": [
    {
     "data": {
      "image/png": "[encoded data removed]",
      "text/plain": [
       "<Figure size 936x720 with 1 Axes>"
      ]
     },
     "metadata": {
      "needs_background": "light"
     },
     "output_type": "display_data"
    }
   ],
   "source": [
    "# Graficar la importancia de las variables\n",
    "fi2 = pd.Series(model.feature_importances_, index=X_train.columns)\n",
    "fig, ax = plt.subplots(figsize = (13,10))\n",
    "sns.barplot(x=fi2.values, y=fi2.index, ax=ax)\n",
    "plt.show()"
   ]
  },
  {
   "cell_type": "code",
   "execution_count": 27,
   "metadata": {},
   "outputs": [
    {
     "ename": "",
     "evalue": "",
     "output_type": "error",
     "traceback": [
      "\u001b[1;31mThe Kernel crashed while executing code in the the current cell or a previous cell. Please review the code in the cell(s) to identify a possible cause of the failure. Click <a href='https://aka.ms/vscodeJupyterKernelCrash'>here</a> for more info. View Jupyter <a href='command:jupyter.viewOutput'>log</a> for further details."
     ]
    }
   ],
   "source": [
    "copia_general = X_val.copy()\n",
    "copia_general['Y_Faltante'] = y_val\n",
    "copia_general['Predicción_Ago'] = model.predict(X_val)\n",
    "copia_general.to_csv('Chedrauicd_vs_1semana.csv',index=True)"
   ]
  },
  {
   "cell_type": "markdown",
   "metadata": {},
   "source": [
    "## Vamos a tratar de implementar un corrector"
   ]
  },
  {
   "cell_type": "code",
   "execution_count": 165,
   "metadata": {},
   "outputs": [],
   "source": [
    "nuevos_datos = chedraui_cd_val.copy()\n",
    "#nuevos_datos['Predicción_Ago'] = model.predict(nuevos_datos.drop('Y_Faltante',axis=1))"
   ]
  },
  {
   "cell_type": "code",
   "execution_count": 166,
   "metadata": {},
   "outputs": [],
   "source": [
    "nuevos_datos['Predicción_Ago'] = model.predict(nuevos_datos.drop('Y_Faltante',axis=1))"
   ]
  },
  {
   "cell_type": "code",
   "execution_count": 167,
   "metadata": {},
   "outputs": [],
   "source": [
    "nuevos_datos[['0','1']] = model.predict_proba(nuevos_datos.drop(['Y_Faltante','Predicción_Ago'],axis=1))"
   ]
  },
  {
   "cell_type": "code",
   "execution_count": 168,
   "metadata": {},
   "outputs": [
    {
     "data": {
      "text/html": [
       "<div>\n",
       "<style scoped>\n",
       "    .dataframe tbody tr th:only-of-type {\n",
       "        vertical-align: middle;\n",
       "    }\n",
       "\n",
       "    .dataframe tbody tr th {\n",
       "        vertical-align: top;\n",
       "    }\n",
       "\n",
       "    .dataframe thead th {\n",
       "        text-align: right;\n",
       "    }\n",
       "</style>\n",
       "<table border=\"1\" class=\"dataframe\">\n",
       "  <thead>\n",
       "    <tr style=\"text-align: right;\">\n",
       "      <th></th>\n",
       "      <th>SKU</th>\n",
       "      <th>Tienda</th>\n",
       "      <th>Categoria</th>\n",
       "      <th>CLASE</th>\n",
       "      <th>Sem</th>\n",
       "      <th>Existencia</th>\n",
       "      <th>fiDesplazamiento</th>\n",
       "      <th>VentaPromedio</th>\n",
       "      <th>Y_Faltante</th>\n",
       "      <th>Predicción_Ago</th>\n",
       "      <th>0</th>\n",
       "      <th>1</th>\n",
       "    </tr>\n",
       "  </thead>\n",
       "  <tbody>\n",
       "    <tr>\n",
       "      <th>49190</th>\n",
       "      <td>3009255</td>\n",
       "      <td>CHEDRAUI AGUASCALIENTES ASUNCION</td>\n",
       "      <td>DULCES Y CHOCOLATES</td>\n",
       "      <td>DULCES Y CHOCOLATES</td>\n",
       "      <td>22</td>\n",
       "      <td>70.0</td>\n",
       "      <td>94.0</td>\n",
       "      <td>1739.94</td>\n",
       "      <td>0</td>\n",
       "      <td>0</td>\n",
       "      <td>0.999335</td>\n",
       "      <td>0.000665</td>\n",
       "    </tr>\n",
       "    <tr>\n",
       "      <th>49191</th>\n",
       "      <td>3596913</td>\n",
       "      <td>CHEDRAUI AGUASCALIENTES ASUNCION</td>\n",
       "      <td>SALSAS</td>\n",
       "      <td>SALSAS</td>\n",
       "      <td>21</td>\n",
       "      <td>44.0</td>\n",
       "      <td>59.0</td>\n",
       "      <td>944.00</td>\n",
       "      <td>0</td>\n",
       "      <td>0</td>\n",
       "      <td>0.972057</td>\n",
       "      <td>0.027943</td>\n",
       "    </tr>\n",
       "    <tr>\n",
       "      <th>49192</th>\n",
       "      <td>3605902</td>\n",
       "      <td>CHEDRAUI AGUASCALIENTES ASUNCION</td>\n",
       "      <td>LOZA</td>\n",
       "      <td>LOZA</td>\n",
       "      <td>22</td>\n",
       "      <td>34.0</td>\n",
       "      <td>9.0</td>\n",
       "      <td>503.46</td>\n",
       "      <td>1</td>\n",
       "      <td>1</td>\n",
       "      <td>0.000012</td>\n",
       "      <td>0.999988</td>\n",
       "    </tr>\n",
       "    <tr>\n",
       "      <th>49193</th>\n",
       "      <td>3349522</td>\n",
       "      <td>CHEDRAUI AGUASCALIENTES ASUNCION</td>\n",
       "      <td>FÃRMULAS INFANTILES</td>\n",
       "      <td>FÃRMULAS INFANTILES</td>\n",
       "      <td>22</td>\n",
       "      <td>6.0</td>\n",
       "      <td>0.0</td>\n",
       "      <td>0.00</td>\n",
       "      <td>0</td>\n",
       "      <td>0</td>\n",
       "      <td>0.928290</td>\n",
       "      <td>0.071710</td>\n",
       "    </tr>\n",
       "    <tr>\n",
       "      <th>49194</th>\n",
       "      <td>3019707</td>\n",
       "      <td>CHEDRAUI AGUASCALIENTES ASUNCION</td>\n",
       "      <td>LECHE POLVO</td>\n",
       "      <td>LECHE POLVO</td>\n",
       "      <td>22</td>\n",
       "      <td>15.0</td>\n",
       "      <td>9.0</td>\n",
       "      <td>1368.00</td>\n",
       "      <td>0</td>\n",
       "      <td>0</td>\n",
       "      <td>0.770763</td>\n",
       "      <td>0.229237</td>\n",
       "    </tr>\n",
       "    <tr>\n",
       "      <th>...</th>\n",
       "      <td>...</td>\n",
       "      <td>...</td>\n",
       "      <td>...</td>\n",
       "      <td>...</td>\n",
       "      <td>...</td>\n",
       "      <td>...</td>\n",
       "      <td>...</td>\n",
       "      <td>...</td>\n",
       "      <td>...</td>\n",
       "      <td>...</td>\n",
       "      <td>...</td>\n",
       "      <td>...</td>\n",
       "    </tr>\n",
       "    <tr>\n",
       "      <th>2573515</th>\n",
       "      <td>3229535</td>\n",
       "      <td>CHEDRAUI POZA RICA PETROMEX</td>\n",
       "      <td>TINTES DAMA</td>\n",
       "      <td>TINTES DAMA</td>\n",
       "      <td>23</td>\n",
       "      <td>14.0</td>\n",
       "      <td>14.0</td>\n",
       "      <td>420.98</td>\n",
       "      <td>0</td>\n",
       "      <td>0</td>\n",
       "      <td>0.852211</td>\n",
       "      <td>0.147789</td>\n",
       "    </tr>\n",
       "    <tr>\n",
       "      <th>2573516</th>\n",
       "      <td>3457054</td>\n",
       "      <td>CHEDRAUI POZA RICA PETROMEX</td>\n",
       "      <td>DESODORANTES DAMA</td>\n",
       "      <td>DESODORANTES DAMA</td>\n",
       "      <td>23</td>\n",
       "      <td>3.0</td>\n",
       "      <td>9.0</td>\n",
       "      <td>450.00</td>\n",
       "      <td>0</td>\n",
       "      <td>0</td>\n",
       "      <td>0.753643</td>\n",
       "      <td>0.246357</td>\n",
       "    </tr>\n",
       "    <tr>\n",
       "      <th>2573517</th>\n",
       "      <td>3739192</td>\n",
       "      <td>CHEDRAUI POZA RICA PETROMEX</td>\n",
       "      <td>DULCES Y CHOCOLATES</td>\n",
       "      <td>DULCES Y CHOCOLATES</td>\n",
       "      <td>23</td>\n",
       "      <td>0.0</td>\n",
       "      <td>0.0</td>\n",
       "      <td>0.00</td>\n",
       "      <td>1</td>\n",
       "      <td>1</td>\n",
       "      <td>0.000171</td>\n",
       "      <td>0.999829</td>\n",
       "    </tr>\n",
       "    <tr>\n",
       "      <th>2573518</th>\n",
       "      <td>3042544</td>\n",
       "      <td>CHEDRAUI POZA RICA PETROMEX</td>\n",
       "      <td>MAYONESAS</td>\n",
       "      <td>MAYONESAS</td>\n",
       "      <td>23</td>\n",
       "      <td>54.0</td>\n",
       "      <td>36.0</td>\n",
       "      <td>5760.00</td>\n",
       "      <td>0</td>\n",
       "      <td>0</td>\n",
       "      <td>0.949453</td>\n",
       "      <td>0.050547</td>\n",
       "    </tr>\n",
       "    <tr>\n",
       "      <th>2573519</th>\n",
       "      <td>3358104</td>\n",
       "      <td>CHEDRAUI POZA RICA PETROMEX</td>\n",
       "      <td>TOSTADAS</td>\n",
       "      <td>TOSTADAS</td>\n",
       "      <td>23</td>\n",
       "      <td>74.0</td>\n",
       "      <td>190.0</td>\n",
       "      <td>4541.00</td>\n",
       "      <td>0</td>\n",
       "      <td>0</td>\n",
       "      <td>0.983085</td>\n",
       "      <td>0.016915</td>\n",
       "    </tr>\n",
       "  </tbody>\n",
       "</table>\n",
       "<p>1294195 rows × 12 columns</p>\n",
       "</div>"
      ],
      "text/plain": [
       "             SKU                            Tienda             Categoria  \\\n",
       "49190    3009255  CHEDRAUI AGUASCALIENTES ASUNCION   DULCES Y CHOCOLATES   \n",
       "49191    3596913  CHEDRAUI AGUASCALIENTES ASUNCION                SALSAS   \n",
       "49192    3605902  CHEDRAUI AGUASCALIENTES ASUNCION                  LOZA   \n",
       "49193    3349522  CHEDRAUI AGUASCALIENTES ASUNCION  FÃRMULAS INFANTILES   \n",
       "49194    3019707  CHEDRAUI AGUASCALIENTES ASUNCION           LECHE POLVO   \n",
       "...          ...                               ...                   ...   \n",
       "2573515  3229535       CHEDRAUI POZA RICA PETROMEX           TINTES DAMA   \n",
       "2573516  3457054       CHEDRAUI POZA RICA PETROMEX     DESODORANTES DAMA   \n",
       "2573517  3739192       CHEDRAUI POZA RICA PETROMEX   DULCES Y CHOCOLATES   \n",
       "2573518  3042544       CHEDRAUI POZA RICA PETROMEX             MAYONESAS   \n",
       "2573519  3358104       CHEDRAUI POZA RICA PETROMEX              TOSTADAS   \n",
       "\n",
       "                        CLASE Sem  Existencia  fiDesplazamiento  \\\n",
       "49190     DULCES Y CHOCOLATES  22        70.0              94.0   \n",
       "49191                  SALSAS  21        44.0              59.0   \n",
       "49192                    LOZA  22        34.0               9.0   \n",
       "49193    FÃRMULAS INFANTILES  22         6.0               0.0   \n",
       "49194             LECHE POLVO  22        15.0               9.0   \n",
       "...                       ...  ..         ...               ...   \n",
       "2573515           TINTES DAMA  23        14.0              14.0   \n",
       "2573516     DESODORANTES DAMA  23         3.0               9.0   \n",
       "2573517   DULCES Y CHOCOLATES  23         0.0               0.0   \n",
       "2573518             MAYONESAS  23        54.0              36.0   \n",
       "2573519              TOSTADAS  23        74.0             190.0   \n",
       "\n",
       "         VentaPromedio  Y_Faltante  Predicción_Ago         0         1  \n",
       "49190          1739.94           0               0  0.999335  0.000665  \n",
       "49191           944.00           0               0  0.972057  0.027943  \n",
       "49192           503.46           1               1  0.000012  0.999988  \n",
       "49193             0.00           0               0  0.928290  0.071710  \n",
       "49194          1368.00           0               0  0.770763  0.229237  \n",
       "...                ...         ...             ...       ...       ...  \n",
       "2573515         420.98           0               0  0.852211  0.147789  \n",
       "2573516         450.00           0               0  0.753643  0.246357  \n",
       "2573517           0.00           1               1  0.000171  0.999829  \n",
       "2573518        5760.00           0               0  0.949453  0.050547  \n",
       "2573519        4541.00           0               0  0.983085  0.016915  \n",
       "\n",
       "[1294195 rows x 12 columns]"
      ]
     },
     "execution_count": 168,
     "metadata": {},
     "output_type": "execute_result"
    }
   ],
   "source": [
    "nuevos_datos"
   ]
  },
  {
   "cell_type": "code",
   "execution_count": 169,
   "metadata": {},
   "outputs": [],
   "source": [
    "# 0 va a indicar acuerdo y 1 indica desacuerdo\n",
    "faltante_real = nuevos_datos['Y_Faltante']\n",
    "faltante_predicho = nuevos_datos['Predicción_Ago']\n",
    "verdaderos_positivos = (faltante_real + faltante_predicho) % 2\n",
    "nuevos_datos['Acuerdo'] = verdaderos_positivos "
   ]
  },
  {
   "cell_type": "code",
   "execution_count": 170,
   "metadata": {},
   "outputs": [
    {
     "data": {
      "text/plain": [
       "0    1264373\n",
       "1      29822\n",
       "dtype: int64"
      ]
     },
     "execution_count": 170,
     "metadata": {},
     "output_type": "execute_result"
    }
   ],
   "source": [
    "# Aquí reportamos el numero de acuerdos y desacuerdos\n",
    "verdaderos_positivos.value_counts()"
   ]
  },
  {
   "cell_type": "code",
   "execution_count": 171,
   "metadata": {},
   "outputs": [
    {
     "name": "stdout",
     "output_type": "stream",
     "text": [
      "yes %: 2.3042895390570974- no %: 97.69571046094289\n"
     ]
    },
    {
     "data": {
      "image/png": "[encoded data removed]",
      "text/plain": [
       "<Figure size 720x360 with 1 Axes>"
      ]
     },
     "metadata": {
      "needs_background": "light"
     },
     "output_type": "display_data"
    }
   ],
   "source": [
    "# Revisamos (de nuevo) la proporción de datos\n",
    "target = verdaderos_positivos\n",
    "yes = target[target == 1].count()\n",
    "no = target[target == 0].count()\n",
    "print('yes %: ' + str(yes/len(target)*100) + '- no %: ' \\\n",
    "        + str(no/len(target)*100))\n",
    "\n",
    "\n",
    "fig, ax = plt.subplots(figsize=(10,5))\n",
    "plt.bar(\"Desacuerdo :(\", yes)\n",
    "plt.bar(\"Acuerdo :)\", no)\n",
    "ax.set_yticks([yes,no])\n",
    "plt.xticks(fontsize=15)\n",
    "plt.yticks(fontsize=15)\n",
    "plt.show()"
   ]
  },
  {
   "cell_type": "code",
   "execution_count": 172,
   "metadata": {},
   "outputs": [],
   "source": [
    "buenas = nuevos_datos[nuevos_datos['Acuerdo']==0]\n",
    "malas = nuevos_datos[nuevos_datos['Acuerdo']==1]"
   ]
  },
  {
   "cell_type": "code",
   "execution_count": 173,
   "metadata": {},
   "outputs": [
    {
     "data": {
      "text/plain": [
       "1264373"
      ]
     },
     "execution_count": 173,
     "metadata": {},
     "output_type": "execute_result"
    }
   ],
   "source": [
    "len(buenas)"
   ]
  },
  {
   "cell_type": "code",
   "execution_count": 174,
   "metadata": {},
   "outputs": [
    {
     "data": {
      "text/plain": [
       "29822"
      ]
     },
     "execution_count": 174,
     "metadata": {},
     "output_type": "execute_result"
    }
   ],
   "source": [
    "len(malas)"
   ]
  },
  {
   "cell_type": "code",
   "execution_count": 175,
   "metadata": {},
   "outputs": [
    {
     "data": {
      "text/plain": [
       "29822"
      ]
     },
     "execution_count": 175,
     "metadata": {},
     "output_type": "execute_result"
    }
   ],
   "source": [
    "pieza = buenas[0:len(malas)]\n",
    "len(pieza)"
   ]
  },
  {
   "cell_type": "code",
   "execution_count": 176,
   "metadata": {},
   "outputs": [],
   "source": [
    "# El argumento de extrae vá a ser \"y\" donde  x = 100% - y & \"y\" es el porcentaje (del total) que quieres extraer\n",
    "frame_final = pd.concat([malas,pieza],axis=0)"
   ]
  },
  {
   "cell_type": "markdown",
   "metadata": {},
   "source": [
    "### Aquí la idea es construir una muestra que sea 50 vs 50 tanto en acuerdo\n",
    "### Posiblemente sea interesante también hacer una prueba con un modelo que tenga 50/50 tanto en acuerdo como en faltante contra no faltante "
   ]
  },
  {
   "cell_type": "code",
   "execution_count": 177,
   "metadata": {},
   "outputs": [
    {
     "name": "stdout",
     "output_type": "stream",
     "text": [
      "yes %: 50.0- no %: 50.0\n"
     ]
    },
    {
     "data": {
      "image/png": "[encoded data removed]",
      "text/plain": [
       "<Figure size 720x360 with 1 Axes>"
      ]
     },
     "metadata": {
      "needs_background": "light"
     },
     "output_type": "display_data"
    }
   ],
   "source": [
    "# Revisamos la proporción de datos\n",
    "target = frame_final['Acuerdo']\n",
    "yes = target[target == 1].count()\n",
    "no = target[target == 0].count()\n",
    "print('yes %: ' + str(yes/len(target)*100) + '- no %: ' \\\n",
    "        + str(no/len(target)*100))\n",
    "\n",
    "\n",
    "fig, ax = plt.subplots(figsize=(10,5))\n",
    "plt.bar(\"Desacuerdo :(\", yes)\n",
    "plt.bar(\"Acuerdo :D\", no)\n",
    "ax.set_yticks([yes,no])\n",
    "plt.xticks(fontsize=15)\n",
    "plt.yticks(fontsize=15)\n",
    "plt.show()"
   ]
  },
  {
   "cell_type": "code",
   "execution_count": 194,
   "metadata": {},
   "outputs": [],
   "source": [
    "frame_final_features = frame_final[['Predicción_Ago','0','1']]\n",
    "frame_final_target = frame_final.Y_Faltante"
   ]
  },
  {
   "cell_type": "markdown",
   "metadata": {},
   "source": [
    "## Usamos un encaje de árboles altas dimensiones como corrector "
   ]
  },
  {
   "cell_type": "code",
   "execution_count": 195,
   "metadata": {},
   "outputs": [
    {
     "name": "stdout",
     "output_type": "stream",
     "text": [
      "Entrenamiento: 47715  Prueba: 11929\n"
     ]
    }
   ],
   "source": [
    "# Se construyen los conjuntos de entrenamiento y prueba sobre los que se aplicarán algoritmos de machine learning\n",
    "X1_train, X1_val, y1_train, y1_val = train_test_split(frame_final_features, frame_final_target, test_size=0.2, random_state=0)\n",
    "print('Entrenamiento:', X1_train.shape[0], ' Prueba:', X1_val.shape[0])"
   ]
  },
  {
   "cell_type": "code",
   "execution_count": 196,
   "metadata": {},
   "outputs": [],
   "source": [
    "from sklearn.ensemble import RandomTreesEmbedding\n",
    "random_tree_embedding = RandomTreesEmbedding(random_state=0)"
   ]
  },
  {
   "cell_type": "code",
   "execution_count": 198,
   "metadata": {},
   "outputs": [
    {
     "data": {
      "text/plain": [
       "Pipeline(steps=[('randomtreesembedding', RandomTreesEmbedding(random_state=0)),\n",
       "                ('logisticregression', LogisticRegression(max_iter=1000))])"
      ]
     },
     "execution_count": 198,
     "metadata": {},
     "output_type": "execute_result"
    }
   ],
   "source": [
    "from sklearn.linear_model import LogisticRegression\n",
    "from sklearn.pipeline import make_pipeline\n",
    "\n",
    "gb_model = make_pipeline(random_tree_embedding, LogisticRegression(max_iter=1000))\n",
    "gb_model.fit(X1_train, y1_train)"
   ]
  },
  {
   "cell_type": "code",
   "execution_count": 200,
   "metadata": {},
   "outputs": [
    {
     "data": {
      "image/png": "[encoded data removed]",
      "text/plain": [
       "<Figure size 864x648 with 2 Axes>"
      ]
     },
     "metadata": {
      "needs_background": "light"
     },
     "output_type": "display_data"
    }
   ],
   "source": [
    "from sklearn.metrics import confusion_matrix\n",
    "#y_test = label_test\n",
    "y_pred = gb_model.predict(X1_val)\n",
    "mat = confusion_matrix(y1_val, y_pred)\n",
    "plt.figure(figsize=(12, 9))\n",
    "sns.heatmap(mat, annot=True)\n",
    "plt.show()"
   ]
  },
  {
   "cell_type": "code",
   "execution_count": 201,
   "metadata": {},
   "outputs": [
    {
     "name": "stdout",
     "output_type": "stream",
     "text": [
      "Accuracy: 0.840891944002012\n",
      "True Positive Rate 0.6846424384525205\n",
      "Precision 0.8407716671465592\n",
      "Balanced accuracy 0.8062434530467195\n",
      "f1 score 0.7547169811320753\n"
     ]
    }
   ],
   "source": [
    "accuracy = accuracy_score(y1_val,y_pred)\n",
    "recall = recall_score(y1_val,y_pred)\n",
    "precision = precision_score(y1_val,y_pred)\n",
    "balanced_accuracy = balanced_accuracy_score(y1_val,y_pred)\n",
    "f1 = f1_score(y1_val,y_pred)\n",
    "print(f'Accuracy: {accuracy}')\n",
    "print(f'True Positive Rate {recall}')\n",
    "print(f'Precision {precision}')\n",
    "print(f'Balanced accuracy {balanced_accuracy}')\n",
    "print(f'f1 score {f1}')"
   ]
  },
  {
   "cell_type": "markdown",
   "metadata": {},
   "source": [
    "## Usamos un sistema de recomendaciones"
   ]
  },
  {
   "cell_type": "code",
   "execution_count": 205,
   "metadata": {},
   "outputs": [
    {
     "data": {
      "text/plain": [
       "GradientBoostingClassifier(random_state=0)"
      ]
     },
     "execution_count": 205,
     "metadata": {},
     "output_type": "execute_result"
    }
   ],
   "source": [
    "from sklearn.ensemble import RandomForestClassifier, GradientBoostingClassifier\n",
    "gb = GradientBoostingClassifier(random_state=0)\n",
    "\n",
    "gb.fit(X1_train, y1_train)"
   ]
  },
  {
   "cell_type": "code",
   "execution_count": 206,
   "metadata": {},
   "outputs": [
    {
     "name": "stderr",
     "output_type": "stream",
     "text": [
      "/home/rlopez/anaconda3/envs/Algoritmo/lib/python3.9/site-packages/sklearn/base.py:443: UserWarning: X has feature names, but DecisionTreeRegressor was fitted without feature names\n",
      "  warnings.warn(\n"
     ]
    },
    {
     "data": {
      "text/plain": [
       "Pipeline(steps=[('functiontransformer',\n",
       "                 FunctionTransformer(func=<function gbdt_apply at 0x7f2a1d924160>,\n",
       "                                     kw_args={'model': GradientBoostingClassifier(random_state=0)})),\n",
       "                ('onehotencoder', OneHotEncoder(handle_unknown='ignore')),\n",
       "                ('logisticregression', LogisticRegression(max_iter=1000))])"
      ]
     },
     "execution_count": 206,
     "metadata": {},
     "output_type": "execute_result"
    }
   ],
   "source": [
    "from sklearn.preprocessing import FunctionTransformer\n",
    "from sklearn.preprocessing import OneHotEncoder\n",
    "\n",
    "def gbdt_apply(X, model):\n",
    "    return model.apply(X)[:, :, 0]\n",
    "\n",
    "\n",
    "gbdt_leaves_yielder = FunctionTransformer(\n",
    "    gbdt_apply, kw_args={\"model\": gb}\n",
    ")\n",
    "\n",
    "gbdt_model = make_pipeline(\n",
    "    gbdt_leaves_yielder,\n",
    "    OneHotEncoder(handle_unknown=\"ignore\"),\n",
    "    LogisticRegression(max_iter=1000),\n",
    ")\n",
    "gbdt_model.fit(X1_train, y1_train)"
   ]
  },
  {
   "cell_type": "code",
   "execution_count": 207,
   "metadata": {},
   "outputs": [
    {
     "name": "stderr",
     "output_type": "stream",
     "text": [
      "/home/rlopez/anaconda3/envs/Algoritmo/lib/python3.9/site-packages/sklearn/base.py:443: UserWarning: X has feature names, but DecisionTreeRegressor was fitted without feature names\n",
      "  warnings.warn(\n"
     ]
    },
    {
     "data": {
      "image/png": "[encoded data removed]",
      "text/plain": [
       "<Figure size 864x648 with 2 Axes>"
      ]
     },
     "metadata": {
      "needs_background": "light"
     },
     "output_type": "display_data"
    }
   ],
   "source": [
    "from sklearn.metrics import confusion_matrix\n",
    "#y_test = label_test\n",
    "y_pred = gbdt_model.predict(X1_val)\n",
    "mat = confusion_matrix(y1_val, y_pred)\n",
    "plt.figure(figsize=(12, 9))\n",
    "sns.heatmap(mat, annot=True)\n",
    "plt.show()"
   ]
  },
  {
   "cell_type": "code",
   "execution_count": 208,
   "metadata": {},
   "outputs": [
    {
     "name": "stdout",
     "output_type": "stream",
     "text": [
      "Accuracy: 0.842317042501467\n",
      "True Positive Rate 0.6858147713950762\n",
      "Precision 0.8439122908251587\n",
      "Balanced accuracy 0.807612500520085\n",
      "f1 score 0.7566938300349243\n"
     ]
    }
   ],
   "source": [
    "accuracy = accuracy_score(y1_val,y_pred)\n",
    "recall = recall_score(y1_val,y_pred)\n",
    "precision = precision_score(y1_val,y_pred)\n",
    "balanced_accuracy = balanced_accuracy_score(y1_val,y_pred)\n",
    "f1 = f1_score(y1_val,y_pred)\n",
    "print(f'Accuracy: {accuracy}')\n",
    "print(f'True Positive Rate {recall}')\n",
    "print(f'Precision {precision}')\n",
    "print(f'Balanced accuracy {balanced_accuracy}')\n",
    "print(f'f1 score {f1}')"
   ]
  },
  {
   "cell_type": "markdown",
   "metadata": {},
   "source": [
    "## Usamos el clasificador AdaBoost "
   ]
  },
  {
   "cell_type": "code",
   "execution_count": 238,
   "metadata": {},
   "outputs": [],
   "source": [
    "from sklearn.ensemble import AdaBoostClassifier"
   ]
  },
  {
   "cell_type": "code",
   "execution_count": 239,
   "metadata": {},
   "outputs": [
    {
     "name": "stdout",
     "output_type": "stream",
     "text": [
      "Precisión entrenamiento: 0.8358, Presición validación: 0.8352\n"
     ]
    }
   ],
   "source": [
    "from sklearn.ensemble import RandomForestClassifier\n",
    "ada = AdaBoostClassifier(random_state=0)\n",
    "ada.fit(X1_train, y1_train)\n",
    "ada.predict(X1_val)\n",
    "acc_train = ada.score(X1_train,y1_train)\n",
    "acc_test = ada.score(X1_val,y1_val)\n",
    "\n",
    "print(f'Precisión entrenamiento: {acc_train.round(4)}, Presición validación: {acc_test.round(4)}')"
   ]
  },
  {
   "cell_type": "code",
   "execution_count": 240,
   "metadata": {},
   "outputs": [
    {
     "data": {
      "image/png": "[encoded data removed]",
      "text/plain": [
       "<Figure size 864x648 with 2 Axes>"
      ]
     },
     "metadata": {
      "needs_background": "light"
     },
     "output_type": "display_data"
    }
   ],
   "source": [
    "from sklearn.metrics import confusion_matrix\n",
    "#y_test = label_test\n",
    "y_pred = ada.predict(X1_val)\n",
    "mat = confusion_matrix(y1_val, y_pred)\n",
    "plt.figure(figsize=(12, 9))\n",
    "sns.heatmap(mat, annot=True)\n",
    "plt.show()"
   ]
  },
  {
   "cell_type": "code",
   "execution_count": 241,
   "metadata": {},
   "outputs": [
    {
     "name": "stdout",
     "output_type": "stream",
     "text": [
      "Accuracy: 0.8351915500041914\n",
      "True Positive Rate 0.7146541617819461\n",
      "Precision 0.8027390044772189\n",
      "Balanced accuracy 0.8084622583440002\n",
      "f1 score 0.756139915653684\n"
     ]
    },
    {
     "ename": "",
     "evalue": "",
     "output_type": "error",
     "traceback": [
      "\u001b[1;31mThe Kernel crashed while executing code in the the current cell or a previous cell. Please review the code in the cell(s) to identify a possible cause of the failure. Click <a href='https://aka.ms/vscodeJupyterKernelCrash'>here</a> for more info. View Jupyter <a href='command:jupyter.viewOutput'>log</a> for further details."
     ]
    }
   ],
   "source": [
    "accuracy = accuracy_score(y1_val,y_pred)\n",
    "recall = recall_score(y1_val,y_pred)\n",
    "precision = precision_score(y1_val,y_pred)\n",
    "balanced_accuracy = balanced_accuracy_score(y1_val,y_pred)\n",
    "f1 = f1_score(y1_val,y_pred)\n",
    "print(f'Accuracy: {accuracy}')\n",
    "print(f'True Positive Rate {recall}')\n",
    "print(f'Precision {precision}')\n",
    "print(f'Balanced accuracy {balanced_accuracy}')\n",
    "print(f'f1 score {f1}')"
   ]
  },
  {
   "cell_type": "markdown",
   "metadata": {},
   "source": [
    "## Vamos a tratar con un random forest"
   ]
  },
  {
   "cell_type": "code",
   "execution_count": 209,
   "metadata": {},
   "outputs": [
    {
     "name": "stdout",
     "output_type": "stream",
     "text": [
      "Precisión entrenamiento: 0.9982, Presición validación: 0.974\n"
     ]
    }
   ],
   "source": [
    "from sklearn.ensemble import RandomForestClassifier\n",
    "rfc = RandomForestClassifier(random_state=0)\n",
    "rfc.fit(X1_train, y1_train)\n",
    "rfc.predict(X1_val)\n",
    "acc_train = rfc.score(X1_train,y1_train)\n",
    "acc_test = rfc.score(X1_val,y1_val)\n",
    "\n",
    "print(f'Precisión entrenamiento: {acc_train.round(4)}, Presición validación: {acc_test.round(4)}')"
   ]
  },
  {
   "cell_type": "code",
   "execution_count": 210,
   "metadata": {},
   "outputs": [
    {
     "data": {
      "image/png": "[encoded data removed]",
      "text/plain": [
       "<Figure size 864x648 with 2 Axes>"
      ]
     },
     "metadata": {
      "needs_background": "light"
     },
     "output_type": "display_data"
    }
   ],
   "source": [
    "from sklearn.metrics import confusion_matrix\n",
    "#y_test = label_test\n",
    "y_pred = rfc.predict(X1_val)\n",
    "mat = confusion_matrix(y1_val, y_pred)\n",
    "plt.figure(figsize=(12, 9))\n",
    "sns.heatmap(mat, annot=True)\n",
    "plt.show()"
   ]
  },
  {
   "cell_type": "code",
   "execution_count": 211,
   "metadata": {},
   "outputs": [
    {
     "name": "stdout",
     "output_type": "stream",
     "text": [
      "Accuracy: 0.9740129097158186\n",
      "True Positive Rate 0.9737397420867526\n",
      "Precision 0.9544932199494369\n",
      "Balanced accuracy 0.9739523345089296\n",
      "f1 score 0.964020427112349\n"
     ]
    }
   ],
   "source": [
    "accuracy = accuracy_score(y1_val,y_pred)\n",
    "recall = recall_score(y1_val,y_pred)\n",
    "precision = precision_score(y1_val,y_pred)\n",
    "balanced_accuracy = balanced_accuracy_score(y1_val,y_pred)\n",
    "f1 = f1_score(y1_val,y_pred)\n",
    "print(f'Accuracy: {accuracy}')\n",
    "print(f'True Positive Rate {recall}')\n",
    "print(f'Precision {precision}')\n",
    "print(f'Balanced accuracy {balanced_accuracy}')\n",
    "print(f'f1 score {f1}')"
   ]
  },
  {
   "cell_type": "markdown",
   "metadata": {},
   "source": [
    "## Vanilla LightGBM classifier"
   ]
  },
  {
   "cell_type": "code",
   "execution_count": 214,
   "metadata": {},
   "outputs": [
    {
     "name": "stdout",
     "output_type": "stream",
     "text": [
      "Precisión entrenamiento: 0.8405, Presición validación: 0.8377\n"
     ]
    }
   ],
   "source": [
    "#from sklearn.ensemble import GradientBoostClassifier\n",
    "from lightgbm import LGBMClassifier\n",
    "lgbm = LGBMClassifier(random_state=0)\n",
    "lgbm.fit(X1_train, y1_train)\n",
    "lgbm.predict(X1_val)\n",
    "acc_train = lgbm.score(X1_train,y1_train)\n",
    "acc_test = lgbm.score(X1_val,y1_val)\n",
    "\n",
    "print(f'Precisión entrenamiento: {acc_train.round(4)}, Presición validación: {acc_test.round(4)}')"
   ]
  },
  {
   "cell_type": "code",
   "execution_count": 215,
   "metadata": {},
   "outputs": [
    {
     "data": {
      "image/png": "[encoded data removed]",
      "text/plain": [
       "<Figure size 864x648 with 2 Axes>"
      ]
     },
     "metadata": {
      "needs_background": "light"
     },
     "output_type": "display_data"
    }
   ],
   "source": [
    "from sklearn.metrics import confusion_matrix\n",
    "#y_test = label_test\n",
    "y_pred = lgbm.predict(X1_val)\n",
    "mat = confusion_matrix(y1_val, y_pred)\n",
    "plt.figure(figsize=(12, 9))\n",
    "sns.heatmap(mat, annot=True)\n",
    "plt.show()"
   ]
  },
  {
   "cell_type": "code",
   "execution_count": 216,
   "metadata": {},
   "outputs": [
    {
     "data": {
      "text/plain": [
       "(7165, 499, 1437, 2828)"
      ]
     },
     "execution_count": 216,
     "metadata": {},
     "output_type": "execute_result"
    }
   ],
   "source": [
    "tn, fp, fn, tp = confusion_matrix(y1_val, y_pred).ravel()\n",
    "tn,fp,fn,tp"
   ]
  },
  {
   "cell_type": "code",
   "execution_count": 217,
   "metadata": {},
   "outputs": [
    {
     "name": "stdout",
     "output_type": "stream",
     "text": [
      "Accuracy: 0.8377064297091122\n",
      "True Positive Rate 0.6630715123094959\n",
      "Precision 0.850015028554253\n",
      "Balanced accuracy 0.7989809544846018\n",
      "f1 score 0.7449947312961012\n"
     ]
    }
   ],
   "source": [
    "accuracy = accuracy_score(y1_val,y_pred)\n",
    "recall = recall_score(y1_val,y_pred)\n",
    "precision = precision_score(y1_val,y_pred)\n",
    "balanced_accuracy = balanced_accuracy_score(y1_val,y_pred)\n",
    "f1 = f1_score(y1_val,y_pred)\n",
    "print(f'Accuracy: {accuracy}')\n",
    "print(f'True Positive Rate {recall}')\n",
    "print(f'Precision {precision}')\n",
    "print(f'Balanced accuracy {balanced_accuracy}')\n",
    "print(f'f1 score {f1}')"
   ]
  },
  {
   "cell_type": "markdown",
   "metadata": {},
   "source": [
    "## Local Cascade Ensemble"
   ]
  },
  {
   "cell_type": "code",
   "execution_count": 221,
   "metadata": {},
   "outputs": [
    {
     "name": "stdout",
     "output_type": "stream",
     "text": [
      "Precisión entrenamiento: 0.9844, Presición validación: 0.9437\n"
     ]
    }
   ],
   "source": [
    "# Entrenamos un LCE con los parametros por defecto\n",
    "from lce import LCEClassifier\n",
    "lce = LCEClassifier(n_jobs=-1, random_state=123)\n",
    "lce.fit(X1_train, y1_train)\n",
    "lce.predict(X1_val)\n",
    "acc_train = lce.score(X1_train,y1_train)\n",
    "acc_test = lce.score(X1_val,y1_val)\n",
    "print(f'Precisión entrenamiento: {acc_train.round(4)}, Presición validación: {acc_test.round(4)}')"
   ]
  },
  {
   "cell_type": "code",
   "execution_count": 222,
   "metadata": {},
   "outputs": [
    {
     "data": {
      "image/png": "[encoded data removed]",
      "text/plain": [
       "<Figure size 864x648 with 2 Axes>"
      ]
     },
     "metadata": {
      "needs_background": "light"
     },
     "output_type": "display_data"
    }
   ],
   "source": [
    "from sklearn.metrics import confusion_matrix\n",
    "#y_test = label_test\n",
    "y_pred = lce.predict(X1_val)\n",
    "mat = confusion_matrix(y1_val, y_pred)\n",
    "plt.figure(figsize=(12, 9))\n",
    "sns.heatmap(mat, annot=True)\n",
    "plt.show()"
   ]
  },
  {
   "cell_type": "code",
   "execution_count": 223,
   "metadata": {},
   "outputs": [
    {
     "data": {
      "text/plain": [
       "(7320, 344, 328, 3937)"
      ]
     },
     "execution_count": 223,
     "metadata": {},
     "output_type": "execute_result"
    }
   ],
   "source": [
    "tn, fp, fn, tp = confusion_matrix(y1_val, y_pred).ravel()\n",
    "tn,fp,fn,tp"
   ]
  },
  {
   "cell_type": "code",
   "execution_count": 224,
   "metadata": {},
   "outputs": [
    {
     "name": "stdout",
     "output_type": "stream",
     "text": [
      "Accuracy: 0.9436666946097745\n",
      "True Positive Rate 0.923094958968347\n",
      "Precision 0.9196449427703808\n",
      "Balanced accuracy 0.93910489075766\n",
      "f1 score 0.9213667212731101\n"
     ]
    }
   ],
   "source": [
    "accuracy = accuracy_score(y1_val,y_pred)\n",
    "recall = recall_score(y1_val,y_pred)\n",
    "precision = precision_score(y1_val,y_pred)\n",
    "balanced_accuracy = balanced_accuracy_score(y1_val,y_pred)\n",
    "f1 = f1_score(y1_val,y_pred)\n",
    "print(f'Accuracy: {accuracy}')\n",
    "print(f'True Positive Rate {recall}')\n",
    "print(f'Precision {precision}')\n",
    "print(f'Balanced accuracy {balanced_accuracy}')\n",
    "print(f'f1 score {f1}')"
   ]
  },
  {
   "cell_type": "code",
   "execution_count": 225,
   "metadata": {},
   "outputs": [
    {
     "data": {
      "image/png": "[encoded data removed]",
      "text/plain": [
       "<Figure size 432x288 with 1 Axes>"
      ]
     },
     "metadata": {
      "needs_background": "light"
     },
     "output_type": "display_data"
    }
   ],
   "source": [
    "from sklearn.metrics import roc_curve\n",
    "y_pred_proba = lce.predict_proba(X1_val)[:,1]\n",
    "fpr, tpr, thresholds = roc_curve(y1_val, y_pred_proba)\n",
    "plt.plot([0,1],[0,1],'k-')\n",
    "plt.plot(fpr,tpr, label='Knn')\n",
    "plt.xlabel('fpr')\n",
    "plt.ylabel('tpr')\n",
    "plt.title('ROC curve')\n",
    "plt.show()"
   ]
  },
  {
   "cell_type": "markdown",
   "metadata": {},
   "source": [
    "## Usamos un XGBClassifier"
   ]
  },
  {
   "cell_type": "code",
   "execution_count": 233,
   "metadata": {},
   "outputs": [],
   "source": [
    "from xgboost import XGBClassifier\n",
    "xgb = XGBClassifier()"
   ]
  },
  {
   "cell_type": "code",
   "execution_count": 234,
   "metadata": {},
   "outputs": [
    {
     "name": "stdout",
     "output_type": "stream",
     "text": [
      "Precisión entrenamiento: 0.9982, Presición validación: 0.974\n"
     ]
    }
   ],
   "source": [
    "from sklearn.ensemble import RandomForestClassifier\n",
    "xgb = RandomForestClassifier(random_state=0)\n",
    "xgb.fit(X1_train, y1_train)\n",
    "xgb.predict(X1_val)\n",
    "acc_train = xgb.score(X1_train,y1_train)\n",
    "acc_test = xgb.score(X1_val,y1_val)\n",
    "\n",
    "print(f'Precisión entrenamiento: {acc_train.round(4)}, Presición validación: {acc_test.round(4)}')"
   ]
  },
  {
   "cell_type": "code",
   "execution_count": 235,
   "metadata": {},
   "outputs": [
    {
     "data": {
      "image/png": "[encoded data removed]",
      "text/plain": [
       "<Figure size 864x648 with 2 Axes>"
      ]
     },
     "metadata": {
      "needs_background": "light"
     },
     "output_type": "display_data"
    }
   ],
   "source": [
    "from sklearn.metrics import confusion_matrix\n",
    "#y_test = label_test\n",
    "y_pred = xgb.predict(X1_val)\n",
    "mat = confusion_matrix(y1_val, y_pred)\n",
    "plt.figure(figsize=(12, 9))\n",
    "sns.heatmap(mat, annot=True)\n",
    "plt.show()"
   ]
  },
  {
   "cell_type": "code",
   "execution_count": 236,
   "metadata": {},
   "outputs": [
    {
     "data": {
      "text/plain": [
       "(7466, 198, 112, 4153)"
      ]
     },
     "execution_count": 236,
     "metadata": {},
     "output_type": "execute_result"
    }
   ],
   "source": [
    "# Calculamos las entradas de la matriz de confusión\n",
    "tn, fp, fn, tp = confusion_matrix(y1_val, y_pred).ravel()\n",
    "tn,fp,fn,tp"
   ]
  },
  {
   "cell_type": "code",
   "execution_count": 237,
   "metadata": {},
   "outputs": [
    {
     "name": "stdout",
     "output_type": "stream",
     "text": [
      "Accuracy: 0.9740129097158186\n",
      "True Positive Rate 0.9737397420867526\n",
      "Precision 0.9544932199494369\n",
      "Balanced accuracy 0.9739523345089296\n",
      "f1 score 0.964020427112349\n"
     ]
    }
   ],
   "source": [
    "accuracy = accuracy_score(y1_val,y_pred)\n",
    "recall = recall_score(y1_val,y_pred)\n",
    "precision = precision_score(y1_val,y_pred)\n",
    "balanced_accuracy = balanced_accuracy_score(y1_val,y_pred)\n",
    "f1 = f1_score(y1_val,y_pred)\n",
    "print(f'Accuracy: {accuracy}')\n",
    "print(f'True Positive Rate {recall}')\n",
    "print(f'Precision {precision}')\n",
    "print(f'Balanced accuracy {balanced_accuracy}')\n",
    "print(f'f1 score {f1}')"
   ]
  },
  {
   "cell_type": "code",
   "execution_count": 232,
   "metadata": {},
   "outputs": [
    {
     "data": {
      "image/png": "[encoded data removed]",
      "text/plain": [
       "<Figure size 432x288 with 1 Axes>"
      ]
     },
     "metadata": {
      "needs_background": "light"
     },
     "output_type": "display_data"
    }
   ],
   "source": [
    "from sklearn.metrics import roc_curve\n",
    "y_pred_proba = xgb.predict_proba(X1_val)[:,1]\n",
    "fpr, tpr, thresholds = roc_curve(y1_val, y_pred_proba)\n",
    "plt.plot([0,1],[0,1],'k-')\n",
    "plt.plot(fpr,tpr, label='Knn')\n",
    "plt.xlabel('fpr')\n",
    "plt.ylabel('tpr')\n",
    "plt.title('ROC curve')\n",
    "plt.show()"
   ]
  },
  {
   "cell_type": "markdown",
   "metadata": {},
   "source": [
    "### Usamos una red neuronal como corrector"
   ]
  },
  {
   "cell_type": "code",
   "execution_count": 178,
   "metadata": {},
   "outputs": [
    {
     "data": {
      "text/plain": [
       "<torch._C.Generator at 0x7f2cf4a02cb0>"
      ]
     },
     "execution_count": 178,
     "metadata": {},
     "output_type": "execute_result"
    }
   ],
   "source": [
    "import pandas as pd\n",
    "import numpy as np\n",
    "from sklearn.model_selection import train_test_split\n",
    "from sklearn.utils import shuffle\n",
    "from sklearn.metrics import accuracy_score\n",
    "import torch\n",
    "from torch import nn, optim\n",
    "import torch.nn.functional as F\n",
    "import matplotlib.pyplot as plt\n",
    "torch.manual_seed(0)"
   ]
  },
  {
   "cell_type": "code",
   "execution_count": 179,
   "metadata": {},
   "outputs": [],
   "source": [
    "class Red_Ago(nn.Module):\n",
    "    def __init__(self, input_size):\n",
    "        super().__init__()\n",
    "        self.hidden_1 = nn.Linear(input_size, 500)\n",
    "        self.hidden_2 = nn.Linear(500, 500)\n",
    "        self.hidden_3 = nn.Linear(500, 100)\n",
    "        self.hidden_4 = nn.Linear(100, 10)\n",
    "        self.hidden_5 = nn.Linear(10, 10)\n",
    "        self.output = nn.Linear(10, 2)\n",
    "\n",
    "        self.batchnorm1 = nn.BatchNorm1d(500)\n",
    "        self.batchnorm2 = nn.BatchNorm1d(500)\n",
    "        self.batchnorm3 = nn.BatchNorm1d(100)\n",
    "        self.batchnorm4 = nn.BatchNorm1d(10)\n",
    "\n",
    "    def forward(self, x):\n",
    "        z = F.relu(self.hidden_1(x))\n",
    "        z = self.batchnorm1(z)\n",
    "        z = F.relu(self.hidden_2(z))\n",
    "        z = self.batchnorm2(z)\n",
    "        z = F.relu(self.hidden_3(z))\n",
    "        z = self.batchnorm3(z)\n",
    "        z = F.relu(self.hidden_4(z))\n",
    "        z = self.batchnorm4(z)\n",
    "        z = F.relu(self.hidden_5(z))\n",
    "\n",
    "        out = F.log_softmax(self.output(z), dim=1)\n",
    "\n",
    "        return out"
   ]
  },
  {
   "cell_type": "code",
   "execution_count": 187,
   "metadata": {},
   "outputs": [],
   "source": [
    "frame_final_features = frame_final[['Predicción_Ago','0','1']]\n",
    "frame_final_target = frame_final.Y_Faltante"
   ]
  },
  {
   "cell_type": "code",
   "execution_count": 188,
   "metadata": {},
   "outputs": [],
   "source": [
    "# Aislamos las variables numéricas y realizamos un min-max scaling sobre ellas\n",
    "#categorical = frame_final_train.drop(columns=['Existencia','fiDesplazamiento','VentaPromedio'])\n",
    "#numerical = frame_final_train[['Existencia','fiDesplazamiento','VentaPromedio','0','1']]\n",
    "#numerical_scaled = (numerical - numerical.min())/(numerical.max() - numerical.min())"
   ]
  },
  {
   "cell_type": "code",
   "execution_count": 189,
   "metadata": {},
   "outputs": [],
   "source": [
    "#frame_final_train = pd.concat([categorical,numerical_scaled], axis=1)"
   ]
  },
  {
   "cell_type": "code",
   "execution_count": 190,
   "metadata": {},
   "outputs": [
    {
     "name": "stdout",
     "output_type": "stream",
     "text": [
      "Entrenamiento: 47715  Prueba: 11929\n"
     ]
    }
   ],
   "source": [
    "# Se construyen los conjuntos de entrenamiento y prueba sobre los que se aplicarán algoritmos de machine learning\n",
    "X1_train, X1_val, y1_train, y1_val = train_test_split(frame_final_features, frame_final_target, test_size=0.2, random_state=0)\n",
    "print('Entrenamiento:', X1_train.shape[0], ' Prueba:', X1_val.shape[0])"
   ]
  },
  {
   "cell_type": "code",
   "execution_count": 191,
   "metadata": {},
   "outputs": [],
   "source": [
    "X_test_torch = torch.tensor(X1_val.values).float()\n",
    "y_test_torch = torch.tensor(y1_val.values)"
   ]
  },
  {
   "cell_type": "code",
   "execution_count": 192,
   "metadata": {},
   "outputs": [
    {
     "name": "stdout",
     "output_type": "stream",
     "text": [
      "Epoch: 1/200..  Training Loss: 0.472691..  Validation Loss: 0.404525..  Training Accuracy: 0.830457..  Validation Accuracy: 0.835192\n",
      "Epoch: 20/200..  Training Loss: 0.389688..  Validation Loss: 0.389090..  Training Accuracy: 0.837429..  Validation Accuracy: 0.835946\n",
      "Epoch: 40/200..  Training Loss: 0.389653..  Validation Loss: 0.388776..  Training Accuracy: 0.836811..  Validation Accuracy: 0.834689\n",
      "Epoch: 60/200..  Training Loss: 0.388848..  Validation Loss: 0.388734..  Training Accuracy: 0.837179..  Validation Accuracy: 0.835443\n",
      "Epoch: 80/200..  Training Loss: 0.389394..  Validation Loss: 0.388819..  Training Accuracy: 0.836271..  Validation Accuracy: 0.835946\n",
      "Epoch: 100/200..  Training Loss: 0.388343..  Validation Loss: 0.387747..  Training Accuracy: 0.837005..  Validation Accuracy: 0.835024\n",
      "Epoch: 120/200..  Training Loss: 0.388349..  Validation Loss: 0.387773..  Training Accuracy: 0.836992..  Validation Accuracy: 0.835527\n",
      "Epoch: 140/200..  Training Loss: 0.388422..  Validation Loss: 0.387671..  Training Accuracy: 0.838437..  Validation Accuracy: 0.836617\n",
      "Epoch: 160/200..  Training Loss: 0.387973..  Validation Loss: 0.387266..  Training Accuracy: 0.837263..  Validation Accuracy: 0.835359\n",
      "Epoch: 180/200..  Training Loss: 0.387770..  Validation Loss: 0.387425..  Training Accuracy: 0.837714..  Validation Accuracy: 0.836198\n",
      "Epoch: 200/200..  Training Loss: 0.387443..  Validation Loss: 0.387499..  Training Accuracy: 0.837651..  Validation Accuracy: 0.834772\n"
     ]
    }
   ],
   "source": [
    "model1 = Red_Ago(X1_train.shape[1])\n",
    "criterion = nn.NLLLoss()\n",
    "optimizer = optim.AdamW(model1.parameters(), lr=0.001)\n",
    "\n",
    "epochs = 200\n",
    "batch_size = 1000\n",
    "\n",
    "\n",
    "train_losses, dev_losses, train_acc, dev_acc= [], [], [], []\n",
    "x_axis = []\n",
    "\n",
    "for e in range(1,epochs+1):\n",
    "    X_, y_ = shuffle(X1_train, y1_train)\n",
    "    running_loss = 0\n",
    "    running_acc = 0\n",
    "    iterations = 0\n",
    "\n",
    "    for i in range(0, len(X_), batch_size):\n",
    "        iterations += 1\n",
    "        b = i + batch_size\n",
    "        X_batch = torch.tensor(X_.iloc[i:b,:].values).float()\n",
    "        y_batch = torch.tensor(y_.iloc[i:b].values)\n",
    "\n",
    "        log_ps = model1(X_batch)\n",
    "        loss = criterion(log_ps, y_batch)\n",
    "        optimizer.zero_grad()\n",
    "        loss.backward()\n",
    "        optimizer.step()\n",
    "\n",
    "        running_loss += loss.item()\n",
    "        ps = torch.exp(log_ps)\n",
    "        top_p, top_class = ps.topk(1, dim=1)\n",
    "        running_acc += accuracy_score(y_batch.to('cpu'), top_class.to('cpu'))\n",
    "\n",
    "    dev_loss = 0\n",
    "    acc = 0\n",
    "\n",
    "    # Turn off gradients for validation, saves memory and computations\n",
    "    with torch.no_grad():\n",
    "        log_dev = model1(X_test_torch)\n",
    "        dev_loss = criterion(log_dev, y_test_torch)\n",
    "\n",
    "        ps_dev = torch.exp(log_dev)\n",
    "        top_p, top_class_dev = ps_dev.topk(1, dim=1)\n",
    "        acc = accuracy_score(y_test_torch.to('cpu'), top_class_dev.to('cpu'))\n",
    "\n",
    "    if e%20 == 0 or e == 1:\n",
    "        x_axis.append(e)\n",
    "\n",
    "        train_losses.append(running_loss/iterations)\n",
    "        dev_losses.append(dev_loss)\n",
    "        train_acc.append(running_acc/iterations)\n",
    "        dev_acc.append(acc)\n",
    "\n",
    "        print(\"Epoch: {}/{}.. \".format(e, epochs),\n",
    "              \"Training Loss: {:.6f}.. \".format(running_loss/iterations),\n",
    "              \"Validation Loss: {:.6f}.. \".format(dev_loss),\n",
    "              \"Training Accuracy: {:.6f}.. \".format(running_acc/iterations),\n",
    "              \"Validation Accuracy: {:.6f}\".format(acc))"
   ]
  },
  {
   "cell_type": "code",
   "execution_count": 193,
   "metadata": {},
   "outputs": [
    {
     "name": "stdout",
     "output_type": "stream",
     "text": [
      "Accuracy: 0.8347724033867047\n",
      "True Positive Rate 0.6656506447831184\n",
      "Precision 0.8389479905437353\n",
      "Balanced accuracy 0.797269476880077\n",
      "f1 score 0.7423192574192705\n"
     ]
    }
   ],
   "source": [
    "# Efectuamos un análisis de errores para la red neuronal RedAgo1\n",
    "# Alojamos los tensores de validación en la gpu de Google\n",
    "log_dev  = model1(X_test_torch)\n",
    "dev_loss = criterion(log_dev, y_test_torch)\n",
    "ps_dev = torch.exp(log_dev)\n",
    "top_p, top_class_dev = ps_dev.topk(1, dim=1)\n",
    "\n",
    "accuracy = accuracy_score(y_test_torch.to('cpu'),top_class_dev.to('cpu'))\n",
    "recall = recall_score(y_test_torch.to('cpu'),top_class_dev.to('cpu'))\n",
    "precision = precision_score(y_test_torch.to('cpu'),top_class_dev.to('cpu'))\n",
    "balanced_accuracy = balanced_accuracy_score(y_test_torch.to('cpu'),top_class_dev.to('cpu'))\n",
    "f1 = f1_score(y_test_torch.to('cpu'),top_class_dev.to('cpu'))\n",
    "print(f'Accuracy: {accuracy}')\n",
    "print(f'True Positive Rate {recall}')\n",
    "print(f'Precision {precision}')\n",
    "print(f'Balanced accuracy {balanced_accuracy}')\n",
    "print(f'f1 score {f1}')"
   ]
  }
 ],
 "metadata": {
  "kernelspec": {
   "display_name": "Python 3.9.12 ('Algoritmo')",
   "language": "python",
   "name": "python3"
  },
  "language_info": {
   "codemirror_mode": {
    "name": "ipython",
    "version": 3
   },
   "file_extension": ".py",
   "mimetype": "text/x-python",
   "name": "python",
   "nbconvert_exporter": "python",
   "pygments_lexer": "ipython3",
   "version": "3.9.12"
  },
  "orig_nbformat": 4,
  "vscode": {
   "interpreter": {
    "hash": "5ba923eacfd56490e106eee1b92d03f3661deef939e2ecc7d4f0c6e697bcb78c"
   }
  }
 },
 "nbformat": 4,
 "nbformat_minor": 2
}
