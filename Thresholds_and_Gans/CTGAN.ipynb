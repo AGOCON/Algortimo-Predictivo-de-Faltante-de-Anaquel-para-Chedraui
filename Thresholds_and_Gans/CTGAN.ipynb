{
 "cells": [
  {
   "cell_type": "markdown",
   "metadata": {},
   "source": [
    "# Este es un experimento para generar datos sintéticos."
   ]
  },
  {
   "cell_type": "code",
   "execution_count": null,
   "metadata": {},
   "outputs": [],
   "source": [
    "!pip install scikit-learn\n",
    "!pip install ipywidgets\n",
    "!jupyter nbextension enable --py widgetsnbextension\n",
    "!pip install seaborn\n",
    "!pip install binclass-tools\n",
    "!pip install catboost\n",
    "!pip install ctgan"
   ]
  },
  {
   "cell_type": "code",
   "execution_count": 2,
   "metadata": {},
   "outputs": [],
   "source": [
    "# Importar librerías básicas\n",
    "import numpy as np\n",
    "import pandas as pd\n",
    "import matplotlib.pyplot as plt\n",
    "import seaborn as sns\n",
    "import bctools as bc\n",
    "from sklearn import preprocessing\n",
    "from sklearn import model_selection\n",
    "import matplotlib.pyplot as plt\n",
    "from sklearn.model_selection import train_test_split\n",
    "from sklearn import neighbors\n",
    "from catboost import CatBoostClassifier, Pool, metrics, cv\n",
    "from sklearn.preprocessing import MinMaxScaler\n",
    "from sklearn.model_selection import train_test_split\n",
    "from sklearn.ensemble import RandomForestClassifier\n",
    "from sklearn.metrics import confusion_matrix\n",
    "from sklearn.metrics import accuracy_score\n",
    "from sklearn.metrics import balanced_accuracy_score\n",
    "from sklearn.metrics import recall_score\n",
    "from sklearn.metrics import precision_score\n",
    "from sklearn.metrics import f1_score\n",
    "from sklearn.metrics import matthews_corrcoef, confusion_matrix"
   ]
  },
  {
   "cell_type": "code",
   "execution_count": 3,
   "metadata": {},
   "outputs": [],
   "source": [
    "# Especificar columnas\n",
    "relevant_columns = ['SKU','Tienda','FORMATO','Categoria','CLASE','SCLASE','DiaSem','Sem','Existencia','fiDesplazamiento','VentaPromedio','Y_Faltante']\n",
    "num_columns = ['Existencia','fiDesplazamiento','VentaPromedio']\n",
    "cat_columns = ['SKU','Tienda','FORMATO','Categoria','CLASE','SCLASE','DiaSem','Sem']\n",
    "target = ['Y_Faltante']"
   ]
  },
  {
   "cell_type": "code",
   "execution_count": 4,
   "metadata": {},
   "outputs": [],
   "source": [
    "dtype = {'SKU':'object','FORMATO':'object','REGION':'object','Tienda':'object','Categoria':'object','Proveedor':'object','CLASE':'object','SCLASE':'object','Mes':'object','DiaSem':'object','Sem':'object','Existencia':'float','fiDesplazamiento':'float',\n",
    "\\\n",
    "'VentaPromedio':'float','Y_Faltante':'int'}"
   ]
  },
  {
   "cell_type": "code",
   "execution_count": 5,
   "metadata": {},
   "outputs": [
    {
     "name": "stdout",
     "output_type": "stream",
     "text": [
      "rows: 3304660  columns: 12\n"
     ]
    }
   ],
   "source": [
    "# Abrir el archivo\n",
    "file = '8semana.csv'\n",
    "data = pd.read_csv(file, header=0,low_memory=False, usecols=relevant_columns,dtype=dtype)\n",
    "print('rows:', data.shape[0], ' columns:', data.shape[1])"
   ]
  },
  {
   "cell_type": "code",
   "execution_count": 6,
   "metadata": {},
   "outputs": [],
   "source": [
    "data = data[0:8114]"
   ]
  },
  {
   "cell_type": "code",
   "execution_count": 7,
   "metadata": {},
   "outputs": [],
   "source": [
    "data = data.dropna()"
   ]
  },
  {
   "cell_type": "code",
   "execution_count": 8,
   "metadata": {},
   "outputs": [],
   "source": [
    "#from ctgan import CTGANSynthesizer\n",
    "\n",
    "# Identifies all the discrete columns\n",
    "\n",
    "# Initiates the CTGANSynthesizer and call its fit method to pass in the table\n",
    "# Another hyper-parameter that can be tunned is \n",
    "#ctgan = CTGANSynthesizer(epochs=200,verbose=True,cuda=True)\n",
    "#ctgan.fit(data, cat_columns)\n",
    "\n",
    "#generate synthetic data, 10000 rows of data\n",
    "\n",
    "#synthetic_data = ctgan.sample(10000)\n",
    "#print(synthetic_data.head(5))\n",
    "\n",
    "\n",
    "#data = pd.concat([data,synthetic_data],join='inner')\n",
    "#print('rows:', data.shape[0], ' columns:', data.shape[1])"
   ]
  },
  {
   "cell_type": "code",
   "execution_count": 9,
   "metadata": {},
   "outputs": [
    {
     "name": "stdout",
     "output_type": "stream",
     "text": [
      "yes %: 38.674470104397344- no %: 61.325529895602656\n"
     ]
    },
    {
     "data": {
      "image/png": "[encoded data removed]",
      "text/plain": [
       "<Figure size 720x360 with 1 Axes>"
      ]
     },
     "metadata": {
      "needs_background": "light"
     },
     "output_type": "display_data"
    }
   ],
   "source": [
    "target = data['Y_Faltante']\n",
    "yes = target[target == 1].count()\n",
    "no = target[target == 0].count()\n",
    "print('yes %: ' + str(yes/len(target)*100) + '- no %: ' \\\n",
    "        + str(no/len(target)*100))\n",
    "\n",
    "fig, ax = plt.subplots(figsize=(10,5))\n",
    "plt.bar(\"Faltante\", yes)\n",
    "plt.bar(\"No Faltante\", no)\n",
    "ax.set_yticks([yes,no])\n",
    "plt.xticks(fontsize=15)\n",
    "plt.yticks(fontsize=15)\n",
    "plt.show()"
   ]
  },
  {
   "cell_type": "code",
   "execution_count": 10,
   "metadata": {},
   "outputs": [
    {
     "name": "stdout",
     "output_type": "stream",
     "text": [
      "yes %: 50.0- no %: 50.0\n"
     ]
    },
    {
     "data": {
      "image/png": "[encoded data removed]",
      "text/plain": [
       "<Figure size 720x360 with 1 Axes>"
      ]
     },
     "metadata": {
      "needs_background": "light"
     },
     "output_type": "display_data"
    }
   ],
   "source": [
    "#Balanceamos a 50% - 50% nuestro conjunto de datos.\n",
    "data_yes = data[data[\"Y_Faltante\"] == 1]\n",
    "data_no = data[data[\"Y_Faltante\"] == 0]\n",
    "over_sampling = data_yes.sample(no, replace=True, \\\n",
    "random_state = 0)\n",
    "balanced_data = pd.concat([data_no, over_sampling], \\\n",
    "axis=0)\n",
    "data = balanced_data.reset_index(drop=True)\n",
    "\n",
    "\n",
    "# Revisamos (de nuevo) la proporción de datos\n",
    "target = data['Y_Faltante']\n",
    "yes = target[target == 1].count()\n",
    "no = target[target == 0].count()\n",
    "print('yes %: ' + str(yes/len(target)*100) + '- no %: ' \\\n",
    "        + str(no/len(target)*100))\n",
    "\n",
    "fig, ax = plt.subplots(figsize=(10,5))\n",
    "plt.bar(\"Faltante\", yes)\n",
    "plt.bar(\"No Faltante\", no)\n",
    "ax.set_yticks([yes,no])\n",
    "plt.xticks(fontsize=15)\n",
    "plt.yticks(fontsize=15)\n",
    "plt.show()"
   ]
  },
  {
   "cell_type": "code",
   "execution_count": 11,
   "metadata": {},
   "outputs": [
    {
     "name": "stdout",
     "output_type": "stream",
     "text": [
      "Entrenamiento: 6203  Prueba: 1551\n"
     ]
    }
   ],
   "source": [
    "X = data.drop('Y_Faltante',axis=1)\n",
    "y = data.Y_Faltante\n",
    "\n",
    "\n",
    "# Se construyen los conjuntos de entrenamiento y prueba sobre los que se aplicarán algoritmos de machine learning\n",
    "X_train, X_val, y_train, y_val = train_test_split(X,y, test_size=0.2, random_state=0)\n",
    "print('Entrenamiento:', X_train.shape[0], ' Prueba:', X_val.shape[0])"
   ]
  },
  {
   "cell_type": "code",
   "execution_count": 12,
   "metadata": {},
   "outputs": [],
   "source": [
    "# Aislamos las variables numéricas y realizamos un min-max scaling sobre ellas\n",
    "categorical = X_train.drop(columns=['Existencia','fiDesplazamiento','VentaPromedio'])\n",
    "numerical = X_train[['Existencia','fiDesplazamiento','VentaPromedio']]\n",
    "numerical_scaled = (numerical - numerical.min())/(numerical.max() - numerical.min())\n",
    "X_train = pd.concat([categorical,numerical_scaled], axis=1)\n",
    "\n",
    "\n",
    "indices_categoricos = np.where(X_train.dtypes != float)[0]\n",
    "\n",
    "num_ind = np.where(X_train.dtypes != object)[0]"
   ]
  },
  {
   "cell_type": "code",
   "execution_count": 13,
   "metadata": {},
   "outputs": [],
   "source": [
    "params = {\n",
    "    'l2_leaf_reg':int(2.0),\n",
    "    'iterations':100,\n",
    "    #'custom_loss':[metrics.Accuracy()],\n",
    "    'loss_function':metrics.Logloss(),\n",
    "    #'eval_metric':LoglossMetric(),\n",
    "    'random_seed': 0,\n",
    "    'task_type':'GPU',\n",
    "    'logging_level': 'Verbose',\n",
    "    'use_best_model': True,\n",
    "}"
   ]
  },
  {
   "cell_type": "code",
   "execution_count": 14,
   "metadata": {},
   "outputs": [
    {
     "data": {
      "application/vnd.jupyter.widget-view+json": {
       "model_id": "1723a6c9293a4f05adb0917b4aa3ae39",
       "version_major": 2,
       "version_minor": 0
      },
      "text/plain": [
       "MetricVisualizer(layout=Layout(align_self='stretch', height='500px'))"
      ]
     },
     "metadata": {},
     "output_type": "display_data"
    },
    {
     "name": "stdout",
     "output_type": "stream",
     "text": [
      "0:\tlearn: 0.6770523\ttest: 0.6780571\tbest: 0.6780571 (0)\ttotal: 7.54ms\tremaining: 747ms\n",
      "1:\tlearn: 0.6609316\ttest: 0.6623929\tbest: 0.6623929 (1)\ttotal: 14.6ms\tremaining: 716ms\n",
      "2:\tlearn: 0.6455246\ttest: 0.6475304\tbest: 0.6475304 (2)\ttotal: 19.3ms\tremaining: 624ms\n",
      "3:\tlearn: 0.6311160\ttest: 0.6335119\tbest: 0.6335119 (3)\ttotal: 24.1ms\tremaining: 578ms\n",
      "4:\tlearn: 0.6171974\ttest: 0.6195076\tbest: 0.6195076 (4)\ttotal: 27.2ms\tremaining: 516ms\n",
      "5:\tlearn: 0.6046173\ttest: 0.6074799\tbest: 0.6074799 (5)\ttotal: 32.2ms\tremaining: 504ms\n",
      "6:\tlearn: 0.5920824\ttest: 0.5954942\tbest: 0.5954942 (6)\ttotal: 37.5ms\tremaining: 498ms\n",
      "7:\tlearn: 0.5813787\ttest: 0.5842008\tbest: 0.5842008 (7)\ttotal: 41.4ms\tremaining: 476ms\n",
      "8:\tlearn: 0.5697596\ttest: 0.5729863\tbest: 0.5729863 (8)\ttotal: 46.4ms\tremaining: 469ms\n",
      "9:\tlearn: 0.5591060\ttest: 0.5627933\tbest: 0.5627933 (9)\ttotal: 50.1ms\tremaining: 451ms\n",
      "10:\tlearn: 0.5422751\ttest: 0.5499833\tbest: 0.5499833 (10)\ttotal: 53.8ms\tremaining: 435ms\n",
      "11:\tlearn: 0.5261862\ttest: 0.5352473\tbest: 0.5352473 (11)\ttotal: 57.6ms\tremaining: 423ms\n",
      "12:\tlearn: 0.5113592\ttest: 0.5215647\tbest: 0.5215647 (12)\ttotal: 61.5ms\tremaining: 412ms\n",
      "13:\tlearn: 0.4965552\ttest: 0.5077792\tbest: 0.5077792 (13)\ttotal: 65.6ms\tremaining: 403ms\n",
      "14:\tlearn: 0.4833747\ttest: 0.4959168\tbest: 0.4959168 (14)\ttotal: 70ms\tremaining: 397ms\n",
      "15:\tlearn: 0.4694739\ttest: 0.4832308\tbest: 0.4832308 (15)\ttotal: 73.5ms\tremaining: 386ms\n",
      "16:\tlearn: 0.4567220\ttest: 0.4716632\tbest: 0.4716632 (16)\ttotal: 77.4ms\tremaining: 378ms\n",
      "17:\tlearn: 0.4450813\ttest: 0.4609372\tbest: 0.4609372 (17)\ttotal: 81.1ms\tremaining: 369ms\n",
      "18:\tlearn: 0.4334192\ttest: 0.4504472\tbest: 0.4504472 (18)\ttotal: 85.1ms\tremaining: 363ms\n",
      "19:\tlearn: 0.4223284\ttest: 0.4403958\tbest: 0.4403958 (19)\ttotal: 88.9ms\tremaining: 355ms\n",
      "20:\tlearn: 0.4119979\ttest: 0.4312200\tbest: 0.4312200 (20)\ttotal: 92.3ms\tremaining: 347ms\n",
      "21:\tlearn: 0.4017452\ttest: 0.4220586\tbest: 0.4220586 (21)\ttotal: 96.3ms\tremaining: 342ms\n",
      "22:\tlearn: 0.3921720\ttest: 0.4133991\tbest: 0.4133991 (22)\ttotal: 100ms\tremaining: 335ms\n",
      "23:\tlearn: 0.3826312\ttest: 0.4050211\tbest: 0.4050211 (23)\ttotal: 105ms\tremaining: 331ms\n",
      "24:\tlearn: 0.3737060\ttest: 0.3975242\tbest: 0.3975242 (24)\ttotal: 109ms\tremaining: 327ms\n",
      "25:\tlearn: 0.3652405\ttest: 0.3899818\tbest: 0.3899818 (25)\ttotal: 112ms\tremaining: 320ms\n",
      "26:\tlearn: 0.3567716\ttest: 0.3822919\tbest: 0.3822919 (26)\ttotal: 116ms\tremaining: 315ms\n",
      "27:\tlearn: 0.3487425\ttest: 0.3749528\tbest: 0.3749528 (27)\ttotal: 120ms\tremaining: 309ms\n",
      "28:\tlearn: 0.3416582\ttest: 0.3681138\tbest: 0.3681138 (28)\ttotal: 124ms\tremaining: 304ms\n",
      "29:\tlearn: 0.3348417\ttest: 0.3624995\tbest: 0.3624995 (29)\ttotal: 128ms\tremaining: 299ms\n",
      "30:\tlearn: 0.3278461\ttest: 0.3573215\tbest: 0.3573215 (30)\ttotal: 132ms\tremaining: 293ms\n",
      "31:\tlearn: 0.3211977\ttest: 0.3515672\tbest: 0.3515672 (31)\ttotal: 136ms\tremaining: 289ms\n",
      "32:\tlearn: 0.3150996\ttest: 0.3459904\tbest: 0.3459904 (32)\ttotal: 140ms\tremaining: 283ms\n",
      "33:\tlearn: 0.3088189\ttest: 0.3405142\tbest: 0.3405142 (33)\ttotal: 143ms\tremaining: 278ms\n",
      "34:\tlearn: 0.3026898\ttest: 0.3350469\tbest: 0.3350469 (34)\ttotal: 147ms\tremaining: 273ms\n",
      "35:\tlearn: 0.2971589\ttest: 0.3311273\tbest: 0.3311273 (35)\ttotal: 151ms\tremaining: 268ms\n",
      "36:\tlearn: 0.2919724\ttest: 0.3272009\tbest: 0.3272009 (36)\ttotal: 155ms\tremaining: 263ms\n",
      "37:\tlearn: 0.2865823\ttest: 0.3227336\tbest: 0.3227336 (37)\ttotal: 158ms\tremaining: 259ms\n",
      "38:\tlearn: 0.2809185\ttest: 0.3178534\tbest: 0.3178534 (38)\ttotal: 162ms\tremaining: 254ms\n",
      "39:\tlearn: 0.2759687\ttest: 0.3135944\tbest: 0.3135944 (39)\ttotal: 166ms\tremaining: 249ms\n",
      "40:\tlearn: 0.2716081\ttest: 0.3101207\tbest: 0.3101207 (40)\ttotal: 170ms\tremaining: 244ms\n",
      "41:\tlearn: 0.2669301\ttest: 0.3059666\tbest: 0.3059666 (41)\ttotal: 174ms\tremaining: 240ms\n",
      "42:\tlearn: 0.2622470\ttest: 0.3017713\tbest: 0.3017713 (42)\ttotal: 177ms\tremaining: 235ms\n",
      "43:\tlearn: 0.2580195\ttest: 0.2983679\tbest: 0.2983679 (43)\ttotal: 181ms\tremaining: 231ms\n",
      "44:\tlearn: 0.2537004\ttest: 0.2949064\tbest: 0.2949064 (44)\ttotal: 185ms\tremaining: 226ms\n",
      "45:\tlearn: 0.2496491\ttest: 0.2919211\tbest: 0.2919211 (45)\ttotal: 190ms\tremaining: 223ms\n",
      "46:\tlearn: 0.2458197\ttest: 0.2886919\tbest: 0.2886919 (46)\ttotal: 194ms\tremaining: 219ms\n",
      "47:\tlearn: 0.2419014\ttest: 0.2853819\tbest: 0.2853819 (47)\ttotal: 200ms\tremaining: 216ms\n",
      "48:\tlearn: 0.2388116\ttest: 0.2823844\tbest: 0.2823844 (48)\ttotal: 205ms\tremaining: 213ms\n",
      "49:\tlearn: 0.2354248\ttest: 0.2796965\tbest: 0.2796965 (49)\ttotal: 211ms\tremaining: 211ms\n",
      "50:\tlearn: 0.2324262\ttest: 0.2767699\tbest: 0.2767699 (50)\ttotal: 215ms\tremaining: 206ms\n",
      "51:\tlearn: 0.2292350\ttest: 0.2736022\tbest: 0.2736022 (51)\ttotal: 220ms\tremaining: 203ms\n",
      "52:\tlearn: 0.2262767\ttest: 0.2714861\tbest: 0.2714861 (52)\ttotal: 223ms\tremaining: 198ms\n",
      "53:\tlearn: 0.2229602\ttest: 0.2686508\tbest: 0.2686508 (53)\ttotal: 228ms\tremaining: 194ms\n",
      "54:\tlearn: 0.2199264\ttest: 0.2660692\tbest: 0.2660692 (54)\ttotal: 232ms\tremaining: 190ms\n",
      "55:\tlearn: 0.2173246\ttest: 0.2635864\tbest: 0.2635864 (55)\ttotal: 238ms\tremaining: 187ms\n",
      "56:\tlearn: 0.2142714\ttest: 0.2611936\tbest: 0.2611936 (56)\ttotal: 244ms\tremaining: 184ms\n",
      "57:\tlearn: 0.2118906\ttest: 0.2594574\tbest: 0.2594574 (57)\ttotal: 247ms\tremaining: 179ms\n",
      "58:\tlearn: 0.2093363\ttest: 0.2579598\tbest: 0.2579598 (58)\ttotal: 255ms\tremaining: 177ms\n",
      "59:\tlearn: 0.2069184\ttest: 0.2558947\tbest: 0.2558947 (59)\ttotal: 263ms\tremaining: 175ms\n",
      "60:\tlearn: 0.2046116\ttest: 0.2541386\tbest: 0.2541386 (60)\ttotal: 268ms\tremaining: 171ms\n",
      "61:\tlearn: 0.2024990\ttest: 0.2524892\tbest: 0.2524892 (61)\ttotal: 275ms\tremaining: 168ms\n",
      "62:\tlearn: 0.1998557\ttest: 0.2505180\tbest: 0.2505180 (62)\ttotal: 281ms\tremaining: 165ms\n",
      "63:\tlearn: 0.1975102\ttest: 0.2484881\tbest: 0.2484881 (63)\ttotal: 285ms\tremaining: 161ms\n",
      "64:\tlearn: 0.1951758\ttest: 0.2468789\tbest: 0.2468789 (64)\ttotal: 290ms\tremaining: 156ms\n",
      "65:\tlearn: 0.1931325\ttest: 0.2450379\tbest: 0.2450379 (65)\ttotal: 294ms\tremaining: 151ms\n",
      "66:\tlearn: 0.1913232\ttest: 0.2437641\tbest: 0.2437641 (66)\ttotal: 299ms\tremaining: 147ms\n",
      "67:\tlearn: 0.1891123\ttest: 0.2420709\tbest: 0.2420709 (67)\ttotal: 305ms\tremaining: 143ms\n",
      "68:\tlearn: 0.1871421\ttest: 0.2408127\tbest: 0.2408127 (68)\ttotal: 309ms\tremaining: 139ms\n",
      "69:\tlearn: 0.1851009\ttest: 0.2395903\tbest: 0.2395903 (69)\ttotal: 316ms\tremaining: 135ms\n",
      "70:\tlearn: 0.1832241\ttest: 0.2385126\tbest: 0.2385126 (70)\ttotal: 321ms\tremaining: 131ms\n",
      "71:\tlearn: 0.1814671\ttest: 0.2379954\tbest: 0.2379954 (71)\ttotal: 324ms\tremaining: 126ms\n",
      "72:\tlearn: 0.1800955\ttest: 0.2371934\tbest: 0.2371934 (72)\ttotal: 330ms\tremaining: 122ms\n",
      "73:\tlearn: 0.1778599\ttest: 0.2335470\tbest: 0.2335470 (73)\ttotal: 334ms\tremaining: 117ms\n",
      "74:\tlearn: 0.1755207\ttest: 0.2295219\tbest: 0.2295219 (74)\ttotal: 340ms\tremaining: 113ms\n",
      "75:\tlearn: 0.1732033\ttest: 0.2258294\tbest: 0.2258294 (75)\ttotal: 344ms\tremaining: 109ms\n",
      "76:\tlearn: 0.1710517\ttest: 0.2222723\tbest: 0.2222723 (76)\ttotal: 348ms\tremaining: 104ms\n",
      "77:\tlearn: 0.1691926\ttest: 0.2194845\tbest: 0.2194845 (77)\ttotal: 352ms\tremaining: 99.4ms\n",
      "78:\tlearn: 0.1671841\ttest: 0.2162769\tbest: 0.2162769 (78)\ttotal: 357ms\tremaining: 94.8ms\n",
      "79:\tlearn: 0.1650906\ttest: 0.2131231\tbest: 0.2131231 (79)\ttotal: 365ms\tremaining: 91.2ms\n",
      "80:\tlearn: 0.1631500\ttest: 0.2102630\tbest: 0.2102630 (80)\ttotal: 371ms\tremaining: 87ms\n",
      "81:\tlearn: 0.1613462\ttest: 0.2073848\tbest: 0.2073848 (81)\ttotal: 378ms\tremaining: 82.9ms\n",
      "82:\tlearn: 0.1597065\ttest: 0.2045877\tbest: 0.2045877 (82)\ttotal: 383ms\tremaining: 78.5ms\n",
      "83:\tlearn: 0.1579618\ttest: 0.2018419\tbest: 0.2018419 (83)\ttotal: 390ms\tremaining: 74.2ms\n",
      "84:\tlearn: 0.1562705\ttest: 0.1993317\tbest: 0.1993317 (84)\ttotal: 397ms\tremaining: 70.1ms\n",
      "85:\tlearn: 0.1546884\ttest: 0.1968241\tbest: 0.1968241 (85)\ttotal: 405ms\tremaining: 66ms\n",
      "86:\tlearn: 0.1531136\ttest: 0.1942992\tbest: 0.1942992 (86)\ttotal: 411ms\tremaining: 61.3ms\n",
      "87:\tlearn: 0.1515065\ttest: 0.1917896\tbest: 0.1917896 (87)\ttotal: 420ms\tremaining: 57.3ms\n",
      "88:\tlearn: 0.1501449\ttest: 0.1894679\tbest: 0.1894679 (88)\ttotal: 430ms\tremaining: 53.2ms\n",
      "89:\tlearn: 0.1487298\ttest: 0.1871007\tbest: 0.1871007 (89)\ttotal: 439ms\tremaining: 48.7ms\n",
      "90:\tlearn: 0.1472322\ttest: 0.1851720\tbest: 0.1851720 (90)\ttotal: 447ms\tremaining: 44.2ms\n",
      "91:\tlearn: 0.1460255\ttest: 0.1831478\tbest: 0.1831478 (91)\ttotal: 456ms\tremaining: 39.6ms\n",
      "92:\tlearn: 0.1448590\ttest: 0.1825810\tbest: 0.1825810 (92)\ttotal: 465ms\tremaining: 35ms\n",
      "93:\tlearn: 0.1436795\ttest: 0.1806540\tbest: 0.1806540 (93)\ttotal: 473ms\tremaining: 30.2ms\n",
      "94:\tlearn: 0.1424985\ttest: 0.1787103\tbest: 0.1787103 (94)\ttotal: 483ms\tremaining: 25.4ms\n",
      "95:\tlearn: 0.1412843\ttest: 0.1775670\tbest: 0.1775670 (95)\ttotal: 491ms\tremaining: 20.5ms\n",
      "96:\tlearn: 0.1402222\ttest: 0.1765146\tbest: 0.1765146 (96)\ttotal: 500ms\tremaining: 15.5ms\n",
      "97:\tlearn: 0.1392164\ttest: 0.1747445\tbest: 0.1747445 (97)\ttotal: 510ms\tremaining: 10.4ms\n",
      "98:\tlearn: 0.1381558\ttest: 0.1730859\tbest: 0.1730859 (98)\ttotal: 519ms\tremaining: 5.25ms\n",
      "99:\tlearn: 0.1373362\ttest: 0.1718817\tbest: 0.1718817 (99)\ttotal: 526ms\tremaining: 0us\n",
      "bestTest = 0.1718817292\n",
      "bestIteration = 99\n",
      "Simple model tree count: 100\n",
      "Simple model validation accuracy: 0.9375\n",
      "\n"
     ]
    }
   ],
   "source": [
    "model = CatBoostClassifier(**params)\n",
    "model.fit(X_train,y_train,cat_features=indices_categoricos, eval_set=(X_val,y_val),logging_level='Verbose',save_snapshot=True,plot=True)\n",
    "\n",
    "print('Simple model tree count: {}'.format(model.tree_count_))\n",
    "print('Simple model validation accuracy: {:.4}'.format(\n",
    "    accuracy_score(y_val, model.predict(X_val))\n",
    "))\n",
    "print('')"
   ]
  },
  {
   "cell_type": "code",
   "execution_count": 15,
   "metadata": {},
   "outputs": [
    {
     "name": "stdout",
     "output_type": "stream",
     "text": [
      "Accuracy: 0.9374597034171502\n",
      "True Positive Rate 0.9074550128534704\n",
      "Precision 0.9121951219512195\n",
      "Balanced accuracy 0.9375567431667093\n",
      "f1 score 0.935719019218025\n"
     ]
    }
   ],
   "source": [
    "y_pred = model.predict(X_val)\n",
    "accuracy = accuracy_score(y_val,y_pred)\n",
    "recall = recall_score(y_val,y_pred,average='binary',pos_label=1)\n",
    "precision = precision_score(y_val,y_pred,average='binary',pos_label=0)\n",
    "balanced_accuracy = balanced_accuracy_score(y_val,y_pred)\n",
    "f1 = f1_score(y_val,y_pred,pos_label=1)\n",
    "print(f'Accuracy: {accuracy}')\n",
    "print(f'True Positive Rate {recall}')\n",
    "print(f'Precision {precision}')\n",
    "print(f'Balanced accuracy {balanced_accuracy}')\n",
    "print(f'f1 score {f1}')"
   ]
  },
  {
   "cell_type": "code",
   "execution_count": 16,
   "metadata": {},
   "outputs": [
    {
     "data": {
      "text/plain": [
       "(748, 25, 72, 706)"
      ]
     },
     "execution_count": 16,
     "metadata": {},
     "output_type": "execute_result"
    }
   ],
   "source": [
    "# Calculamos las entradas de la matriz de confusión\n",
    "tn, fp, fn, tp = confusion_matrix(y_val, y_pred).ravel()\n",
    "tn,fp,fn,tp"
   ]
  },
  {
   "cell_type": "code",
   "execution_count": 17,
   "metadata": {},
   "outputs": [
    {
     "data": {
      "image/png": "[encoded data removed]",
      "text/plain": [
       "<Figure size 864x648 with 2 Axes>"
      ]
     },
     "metadata": {
      "needs_background": "light"
     },
     "output_type": "display_data"
    }
   ],
   "source": [
    "y_pred = model.predict(X_val)\n",
    "# Dibujamos también la matriz de confusión para nuestro modelo\n",
    "mat = confusion_matrix(y_val, y_pred)\n",
    "plt.figure(figsize=(12, 9))\n",
    "sns.heatmap(mat, annot=True)\n",
    "plt.show()"
   ]
  },
  {
   "cell_type": "code",
   "execution_count": 18,
   "metadata": {},
   "outputs": [
    {
     "data": {
      "image/png": "[encoded data removed]",
      "text/plain": [
       "<Figure size 432x288 with 1 Axes>"
      ]
     },
     "metadata": {
      "needs_background": "light"
     },
     "output_type": "display_data"
    }
   ],
   "source": [
    "# Dibujamos la curva de ROC para este modelo\n",
    "from sklearn.metrics import roc_curve\n",
    "y_pred_proba = model.predict_proba(X_val)[:,1]\n",
    "fpr, tpr, thresholds = roc_curve(y_val, y_pred_proba,pos_label=1)\n",
    "plt.plot([0,1],[0,1],'k-')\n",
    "plt.plot(fpr,tpr, label='Knn')\n",
    "plt.xlabel('fpr')\n",
    "plt.ylabel('tpr')\n",
    "plt.title('ROC curve')\n",
    "plt.show()"
   ]
  },
  {
   "cell_type": "markdown",
   "metadata": {},
   "source": [
    "## Buscamos incorporar un algoritmo corrector"
   ]
  },
  {
   "cell_type": "code",
   "execution_count": 19,
   "metadata": {},
   "outputs": [],
   "source": [
    "nuevos_datos = data.copy()\n",
    "nuevos_datos['Predicción_Ago'] = model.predict(nuevos_datos.drop('Y_Faltante',axis=1))"
   ]
  },
  {
   "cell_type": "code",
   "execution_count": 20,
   "metadata": {},
   "outputs": [],
   "source": [
    "nuevos_datos[['0','1']] = model.predict_proba(nuevos_datos.drop(['Y_Faltante','Predicción_Ago'],axis=1))"
   ]
  },
  {
   "cell_type": "code",
   "execution_count": 21,
   "metadata": {},
   "outputs": [],
   "source": [
    "# 0 va a indicar acuerdo y 1 indica desacuerdo\n",
    "faltante_real = nuevos_datos['Y_Faltante']\n",
    "faltante_predicho = nuevos_datos['Predicción_Ago']\n",
    "verdaderos_positivos = (faltante_real + faltante_predicho) % 2\n",
    "nuevos_datos['Acuerdo'] = verdaderos_positivos "
   ]
  },
  {
   "cell_type": "code",
   "execution_count": 22,
   "metadata": {},
   "outputs": [
    {
     "data": {
      "text/plain": [
       "0    7458\n",
       "1     296\n",
       "dtype: int64"
      ]
     },
     "execution_count": 22,
     "metadata": {},
     "output_type": "execute_result"
    }
   ],
   "source": [
    "# Aquí reportamos el numero de acuerdos y desacuerdos\n",
    "verdaderos_positivos.value_counts()"
   ]
  },
  {
   "cell_type": "code",
   "execution_count": 23,
   "metadata": {},
   "outputs": [
    {
     "name": "stdout",
     "output_type": "stream",
     "text": [
      "yes %: 3.8173845757028633- no %: 96.18261542429714\n"
     ]
    },
    {
     "data": {
      "image/png": "[encoded data removed]",
      "text/plain": [
       "<Figure size 720x360 with 1 Axes>"
      ]
     },
     "metadata": {
      "needs_background": "light"
     },
     "output_type": "display_data"
    }
   ],
   "source": [
    "# Revisamos (de nuevo) la proporción de datos\n",
    "target = verdaderos_positivos\n",
    "yes = target[target == 1].count()\n",
    "no = target[target == 0].count()\n",
    "print('yes %: ' + str(yes/len(target)*100) + '- no %: ' \\\n",
    "        + str(no/len(target)*100))\n",
    "\n",
    "\n",
    "fig, ax = plt.subplots(figsize=(10,5))\n",
    "plt.bar(\"Desacuerdo :(\", yes)\n",
    "plt.bar(\"Acuerdo :D\", no)\n",
    "ax.set_yticks([yes,no])\n",
    "plt.xticks(fontsize=15)\n",
    "plt.yticks(fontsize=15)\n",
    "plt.show()"
   ]
  },
  {
   "cell_type": "code",
   "execution_count": 24,
   "metadata": {},
   "outputs": [],
   "source": [
    "buenas = nuevos_datos[nuevos_datos['Acuerdo']==0]\n",
    "malas = nuevos_datos[nuevos_datos['Acuerdo']==1]"
   ]
  },
  {
   "cell_type": "code",
   "execution_count": 25,
   "metadata": {},
   "outputs": [],
   "source": [
    "num = len(buenas)-len(malas)"
   ]
  },
  {
   "cell_type": "code",
   "execution_count": 26,
   "metadata": {},
   "outputs": [
    {
     "name": "stderr",
     "output_type": "stream",
     "text": [
      "/home/ramiro/anaconda3/lib/python3.9/site-packages/sklearn/mixture/_base.py:143: ConvergenceWarning: Number of distinct clusters (2) found smaller than n_clusters (10). Possibly due to duplicate points in X.\n",
      "  cluster.KMeans(\n",
      "/home/ramiro/anaconda3/lib/python3.9/site-packages/sklearn/mixture/_base.py:143: ConvergenceWarning: Number of distinct clusters (2) found smaller than n_clusters (10). Possibly due to duplicate points in X.\n",
      "  cluster.KMeans(\n",
      "/home/ramiro/anaconda3/lib/python3.9/site-packages/sklearn/mixture/_base.py:277: ConvergenceWarning: Initialization 1 did not converge. Try different init parameters, or increase max_iter, tol or check for degenerate data.\n",
      "  warnings.warn(\n",
      "/home/ramiro/anaconda3/lib/python3.9/site-packages/sklearn/mixture/_base.py:143: ConvergenceWarning: Number of distinct clusters (1) found smaller than n_clusters (10). Possibly due to duplicate points in X.\n",
      "  cluster.KMeans(\n",
      "/home/ramiro/anaconda3/lib/python3.9/site-packages/rdt/transformers/base.py:156: PerformanceWarning: DataFrame is highly fragmented.  This is usually the result of calling `frame.insert` many times, which has poor performance.  Consider joining all columns at once using pd.concat(axis=1) instead. To get a de-fragmented frame, use `newframe = frame.copy()`\n",
      "  data[columns] = columns_data\n",
      "/home/ramiro/anaconda3/lib/python3.9/site-packages/rdt/transformers/base.py:156: PerformanceWarning: DataFrame is highly fragmented.  This is usually the result of calling `frame.insert` many times, which has poor performance.  Consider joining all columns at once using pd.concat(axis=1) instead. To get a de-fragmented frame, use `newframe = frame.copy()`\n",
      "  data[columns] = columns_data\n",
      "/home/ramiro/anaconda3/lib/python3.9/site-packages/rdt/transformers/base.py:156: PerformanceWarning: DataFrame is highly fragmented.  This is usually the result of calling `frame.insert` many times, which has poor performance.  Consider joining all columns at once using pd.concat(axis=1) instead. To get a de-fragmented frame, use `newframe = frame.copy()`\n",
      "  data[columns] = columns_data\n",
      "/home/ramiro/anaconda3/lib/python3.9/site-packages/rdt/transformers/base.py:156: PerformanceWarning: DataFrame is highly fragmented.  This is usually the result of calling `frame.insert` many times, which has poor performance.  Consider joining all columns at once using pd.concat(axis=1) instead. To get a de-fragmented frame, use `newframe = frame.copy()`\n",
      "  data[columns] = columns_data\n",
      "/home/ramiro/anaconda3/lib/python3.9/site-packages/rdt/transformers/base.py:156: PerformanceWarning: DataFrame is highly fragmented.  This is usually the result of calling `frame.insert` many times, which has poor performance.  Consider joining all columns at once using pd.concat(axis=1) instead. To get a de-fragmented frame, use `newframe = frame.copy()`\n",
      "  data[columns] = columns_data\n",
      "/home/ramiro/anaconda3/lib/python3.9/site-packages/rdt/transformers/base.py:156: PerformanceWarning: DataFrame is highly fragmented.  This is usually the result of calling `frame.insert` many times, which has poor performance.  Consider joining all columns at once using pd.concat(axis=1) instead. To get a de-fragmented frame, use `newframe = frame.copy()`\n",
      "  data[columns] = columns_data\n",
      "/home/ramiro/anaconda3/lib/python3.9/site-packages/rdt/transformers/base.py:156: PerformanceWarning: DataFrame is highly fragmented.  This is usually the result of calling `frame.insert` many times, which has poor performance.  Consider joining all columns at once using pd.concat(axis=1) instead. To get a de-fragmented frame, use `newframe = frame.copy()`\n",
      "  data[columns] = columns_data\n",
      "/home/ramiro/anaconda3/lib/python3.9/site-packages/rdt/transformers/base.py:156: PerformanceWarning: DataFrame is highly fragmented.  This is usually the result of calling `frame.insert` many times, which has poor performance.  Consider joining all columns at once using pd.concat(axis=1) instead. To get a de-fragmented frame, use `newframe = frame.copy()`\n",
      "  data[columns] = columns_data\n",
      "/home/ramiro/anaconda3/lib/python3.9/site-packages/rdt/transformers/base.py:156: PerformanceWarning: DataFrame is highly fragmented.  This is usually the result of calling `frame.insert` many times, which has poor performance.  Consider joining all columns at once using pd.concat(axis=1) instead. To get a de-fragmented frame, use `newframe = frame.copy()`\n",
      "  data[columns] = columns_data\n",
      "/home/ramiro/anaconda3/lib/python3.9/site-packages/rdt/transformers/base.py:156: PerformanceWarning: DataFrame is highly fragmented.  This is usually the result of calling `frame.insert` many times, which has poor performance.  Consider joining all columns at once using pd.concat(axis=1) instead. To get a de-fragmented frame, use `newframe = frame.copy()`\n",
      "  data[columns] = columns_data\n",
      "/home/ramiro/anaconda3/lib/python3.9/site-packages/rdt/transformers/base.py:156: PerformanceWarning: DataFrame is highly fragmented.  This is usually the result of calling `frame.insert` many times, which has poor performance.  Consider joining all columns at once using pd.concat(axis=1) instead. To get a de-fragmented frame, use `newframe = frame.copy()`\n",
      "  data[columns] = columns_data\n",
      "/home/ramiro/anaconda3/lib/python3.9/site-packages/rdt/transformers/base.py:156: PerformanceWarning: DataFrame is highly fragmented.  This is usually the result of calling `frame.insert` many times, which has poor performance.  Consider joining all columns at once using pd.concat(axis=1) instead. To get a de-fragmented frame, use `newframe = frame.copy()`\n",
      "  data[columns] = columns_data\n",
      "/home/ramiro/anaconda3/lib/python3.9/site-packages/rdt/transformers/base.py:156: PerformanceWarning: DataFrame is highly fragmented.  This is usually the result of calling `frame.insert` many times, which has poor performance.  Consider joining all columns at once using pd.concat(axis=1) instead. To get a de-fragmented frame, use `newframe = frame.copy()`\n",
      "  data[columns] = columns_data\n",
      "/home/ramiro/anaconda3/lib/python3.9/site-packages/rdt/transformers/base.py:156: PerformanceWarning: DataFrame is highly fragmented.  This is usually the result of calling `frame.insert` many times, which has poor performance.  Consider joining all columns at once using pd.concat(axis=1) instead. To get a de-fragmented frame, use `newframe = frame.copy()`\n",
      "  data[columns] = columns_data\n",
      "/home/ramiro/anaconda3/lib/python3.9/site-packages/rdt/transformers/base.py:156: PerformanceWarning: DataFrame is highly fragmented.  This is usually the result of calling `frame.insert` many times, which has poor performance.  Consider joining all columns at once using pd.concat(axis=1) instead. To get a de-fragmented frame, use `newframe = frame.copy()`\n",
      "  data[columns] = columns_data\n",
      "/home/ramiro/anaconda3/lib/python3.9/site-packages/rdt/transformers/base.py:156: PerformanceWarning: DataFrame is highly fragmented.  This is usually the result of calling `frame.insert` many times, which has poor performance.  Consider joining all columns at once using pd.concat(axis=1) instead. To get a de-fragmented frame, use `newframe = frame.copy()`\n",
      "  data[columns] = columns_data\n",
      "/home/ramiro/anaconda3/lib/python3.9/site-packages/rdt/transformers/base.py:156: PerformanceWarning: DataFrame is highly fragmented.  This is usually the result of calling `frame.insert` many times, which has poor performance.  Consider joining all columns at once using pd.concat(axis=1) instead. To get a de-fragmented frame, use `newframe = frame.copy()`\n",
      "  data[columns] = columns_data\n",
      "/home/ramiro/anaconda3/lib/python3.9/site-packages/rdt/transformers/base.py:156: PerformanceWarning: DataFrame is highly fragmented.  This is usually the result of calling `frame.insert` many times, which has poor performance.  Consider joining all columns at once using pd.concat(axis=1) instead. To get a de-fragmented frame, use `newframe = frame.copy()`\n",
      "  data[columns] = columns_data\n",
      "/home/ramiro/anaconda3/lib/python3.9/site-packages/rdt/transformers/base.py:156: PerformanceWarning: DataFrame is highly fragmented.  This is usually the result of calling `frame.insert` many times, which has poor performance.  Consider joining all columns at once using pd.concat(axis=1) instead. To get a de-fragmented frame, use `newframe = frame.copy()`\n",
      "  data[columns] = columns_data\n",
      "/home/ramiro/anaconda3/lib/python3.9/site-packages/rdt/transformers/base.py:156: PerformanceWarning: DataFrame is highly fragmented.  This is usually the result of calling `frame.insert` many times, which has poor performance.  Consider joining all columns at once using pd.concat(axis=1) instead. To get a de-fragmented frame, use `newframe = frame.copy()`\n",
      "  data[columns] = columns_data\n",
      "/home/ramiro/anaconda3/lib/python3.9/site-packages/rdt/transformers/base.py:156: PerformanceWarning: DataFrame is highly fragmented.  This is usually the result of calling `frame.insert` many times, which has poor performance.  Consider joining all columns at once using pd.concat(axis=1) instead. To get a de-fragmented frame, use `newframe = frame.copy()`\n",
      "  data[columns] = columns_data\n",
      "/home/ramiro/anaconda3/lib/python3.9/site-packages/rdt/transformers/base.py:156: PerformanceWarning: DataFrame is highly fragmented.  This is usually the result of calling `frame.insert` many times, which has poor performance.  Consider joining all columns at once using pd.concat(axis=1) instead. To get a de-fragmented frame, use `newframe = frame.copy()`\n",
      "  data[columns] = columns_data\n",
      "/home/ramiro/anaconda3/lib/python3.9/site-packages/rdt/transformers/base.py:156: PerformanceWarning: DataFrame is highly fragmented.  This is usually the result of calling `frame.insert` many times, which has poor performance.  Consider joining all columns at once using pd.concat(axis=1) instead. To get a de-fragmented frame, use `newframe = frame.copy()`\n",
      "  data[columns] = columns_data\n",
      "/home/ramiro/anaconda3/lib/python3.9/site-packages/rdt/transformers/base.py:156: PerformanceWarning: DataFrame is highly fragmented.  This is usually the result of calling `frame.insert` many times, which has poor performance.  Consider joining all columns at once using pd.concat(axis=1) instead. To get a de-fragmented frame, use `newframe = frame.copy()`\n",
      "  data[columns] = columns_data\n",
      "/home/ramiro/anaconda3/lib/python3.9/site-packages/rdt/transformers/base.py:156: PerformanceWarning: DataFrame is highly fragmented.  This is usually the result of calling `frame.insert` many times, which has poor performance.  Consider joining all columns at once using pd.concat(axis=1) instead. To get a de-fragmented frame, use `newframe = frame.copy()`\n",
      "  data[columns] = columns_data\n",
      "/home/ramiro/anaconda3/lib/python3.9/site-packages/rdt/transformers/base.py:156: PerformanceWarning: DataFrame is highly fragmented.  This is usually the result of calling `frame.insert` many times, which has poor performance.  Consider joining all columns at once using pd.concat(axis=1) instead. To get a de-fragmented frame, use `newframe = frame.copy()`\n",
      "  data[columns] = columns_data\n",
      "/home/ramiro/anaconda3/lib/python3.9/site-packages/rdt/transformers/base.py:156: PerformanceWarning: DataFrame is highly fragmented.  This is usually the result of calling `frame.insert` many times, which has poor performance.  Consider joining all columns at once using pd.concat(axis=1) instead. To get a de-fragmented frame, use `newframe = frame.copy()`\n",
      "  data[columns] = columns_data\n",
      "/home/ramiro/anaconda3/lib/python3.9/site-packages/rdt/transformers/base.py:156: PerformanceWarning: DataFrame is highly fragmented.  This is usually the result of calling `frame.insert` many times, which has poor performance.  Consider joining all columns at once using pd.concat(axis=1) instead. To get a de-fragmented frame, use `newframe = frame.copy()`\n",
      "  data[columns] = columns_data\n",
      "/home/ramiro/anaconda3/lib/python3.9/site-packages/rdt/transformers/base.py:156: PerformanceWarning: DataFrame is highly fragmented.  This is usually the result of calling `frame.insert` many times, which has poor performance.  Consider joining all columns at once using pd.concat(axis=1) instead. To get a de-fragmented frame, use `newframe = frame.copy()`\n",
      "  data[columns] = columns_data\n",
      "/home/ramiro/anaconda3/lib/python3.9/site-packages/rdt/transformers/base.py:156: PerformanceWarning: DataFrame is highly fragmented.  This is usually the result of calling `frame.insert` many times, which has poor performance.  Consider joining all columns at once using pd.concat(axis=1) instead. To get a de-fragmented frame, use `newframe = frame.copy()`\n",
      "  data[columns] = columns_data\n",
      "/home/ramiro/anaconda3/lib/python3.9/site-packages/rdt/transformers/base.py:156: PerformanceWarning: DataFrame is highly fragmented.  This is usually the result of calling `frame.insert` many times, which has poor performance.  Consider joining all columns at once using pd.concat(axis=1) instead. To get a de-fragmented frame, use `newframe = frame.copy()`\n",
      "  data[columns] = columns_data\n",
      "/home/ramiro/anaconda3/lib/python3.9/site-packages/rdt/transformers/base.py:156: PerformanceWarning: DataFrame is highly fragmented.  This is usually the result of calling `frame.insert` many times, which has poor performance.  Consider joining all columns at once using pd.concat(axis=1) instead. To get a de-fragmented frame, use `newframe = frame.copy()`\n",
      "  data[columns] = columns_data\n",
      "/home/ramiro/anaconda3/lib/python3.9/site-packages/rdt/transformers/base.py:156: PerformanceWarning: DataFrame is highly fragmented.  This is usually the result of calling `frame.insert` many times, which has poor performance.  Consider joining all columns at once using pd.concat(axis=1) instead. To get a de-fragmented frame, use `newframe = frame.copy()`\n",
      "  data[columns] = columns_data\n",
      "/home/ramiro/anaconda3/lib/python3.9/site-packages/rdt/transformers/base.py:156: PerformanceWarning: DataFrame is highly fragmented.  This is usually the result of calling `frame.insert` many times, which has poor performance.  Consider joining all columns at once using pd.concat(axis=1) instead. To get a de-fragmented frame, use `newframe = frame.copy()`\n",
      "  data[columns] = columns_data\n",
      "/home/ramiro/anaconda3/lib/python3.9/site-packages/rdt/transformers/base.py:156: PerformanceWarning: DataFrame is highly fragmented.  This is usually the result of calling `frame.insert` many times, which has poor performance.  Consider joining all columns at once using pd.concat(axis=1) instead. To get a de-fragmented frame, use `newframe = frame.copy()`\n",
      "  data[columns] = columns_data\n",
      "/home/ramiro/anaconda3/lib/python3.9/site-packages/rdt/transformers/base.py:156: PerformanceWarning: DataFrame is highly fragmented.  This is usually the result of calling `frame.insert` many times, which has poor performance.  Consider joining all columns at once using pd.concat(axis=1) instead. To get a de-fragmented frame, use `newframe = frame.copy()`\n",
      "  data[columns] = columns_data\n",
      "/home/ramiro/anaconda3/lib/python3.9/site-packages/rdt/transformers/base.py:156: PerformanceWarning: DataFrame is highly fragmented.  This is usually the result of calling `frame.insert` many times, which has poor performance.  Consider joining all columns at once using pd.concat(axis=1) instead. To get a de-fragmented frame, use `newframe = frame.copy()`\n",
      "  data[columns] = columns_data\n",
      "/home/ramiro/anaconda3/lib/python3.9/site-packages/rdt/transformers/base.py:156: PerformanceWarning: DataFrame is highly fragmented.  This is usually the result of calling `frame.insert` many times, which has poor performance.  Consider joining all columns at once using pd.concat(axis=1) instead. To get a de-fragmented frame, use `newframe = frame.copy()`\n",
      "  data[columns] = columns_data\n",
      "/home/ramiro/anaconda3/lib/python3.9/site-packages/rdt/transformers/base.py:156: PerformanceWarning: DataFrame is highly fragmented.  This is usually the result of calling `frame.insert` many times, which has poor performance.  Consider joining all columns at once using pd.concat(axis=1) instead. To get a de-fragmented frame, use `newframe = frame.copy()`\n",
      "  data[columns] = columns_data\n",
      "/home/ramiro/anaconda3/lib/python3.9/site-packages/rdt/transformers/base.py:156: PerformanceWarning: DataFrame is highly fragmented.  This is usually the result of calling `frame.insert` many times, which has poor performance.  Consider joining all columns at once using pd.concat(axis=1) instead. To get a de-fragmented frame, use `newframe = frame.copy()`\n",
      "  data[columns] = columns_data\n",
      "/home/ramiro/anaconda3/lib/python3.9/site-packages/rdt/transformers/base.py:156: PerformanceWarning: DataFrame is highly fragmented.  This is usually the result of calling `frame.insert` many times, which has poor performance.  Consider joining all columns at once using pd.concat(axis=1) instead. To get a de-fragmented frame, use `newframe = frame.copy()`\n",
      "  data[columns] = columns_data\n",
      "/home/ramiro/anaconda3/lib/python3.9/site-packages/rdt/transformers/base.py:156: PerformanceWarning: DataFrame is highly fragmented.  This is usually the result of calling `frame.insert` many times, which has poor performance.  Consider joining all columns at once using pd.concat(axis=1) instead. To get a de-fragmented frame, use `newframe = frame.copy()`\n",
      "  data[columns] = columns_data\n",
      "/home/ramiro/anaconda3/lib/python3.9/site-packages/rdt/transformers/base.py:156: PerformanceWarning: DataFrame is highly fragmented.  This is usually the result of calling `frame.insert` many times, which has poor performance.  Consider joining all columns at once using pd.concat(axis=1) instead. To get a de-fragmented frame, use `newframe = frame.copy()`\n",
      "  data[columns] = columns_data\n",
      "/home/ramiro/anaconda3/lib/python3.9/site-packages/rdt/transformers/base.py:156: PerformanceWarning: DataFrame is highly fragmented.  This is usually the result of calling `frame.insert` many times, which has poor performance.  Consider joining all columns at once using pd.concat(axis=1) instead. To get a de-fragmented frame, use `newframe = frame.copy()`\n",
      "  data[columns] = columns_data\n",
      "/home/ramiro/anaconda3/lib/python3.9/site-packages/rdt/transformers/base.py:156: PerformanceWarning: DataFrame is highly fragmented.  This is usually the result of calling `frame.insert` many times, which has poor performance.  Consider joining all columns at once using pd.concat(axis=1) instead. To get a de-fragmented frame, use `newframe = frame.copy()`\n",
      "  data[columns] = columns_data\n",
      "/home/ramiro/anaconda3/lib/python3.9/site-packages/rdt/transformers/base.py:156: PerformanceWarning: DataFrame is highly fragmented.  This is usually the result of calling `frame.insert` many times, which has poor performance.  Consider joining all columns at once using pd.concat(axis=1) instead. To get a de-fragmented frame, use `newframe = frame.copy()`\n",
      "  data[columns] = columns_data\n",
      "/home/ramiro/anaconda3/lib/python3.9/site-packages/rdt/transformers/base.py:156: PerformanceWarning: DataFrame is highly fragmented.  This is usually the result of calling `frame.insert` many times, which has poor performance.  Consider joining all columns at once using pd.concat(axis=1) instead. To get a de-fragmented frame, use `newframe = frame.copy()`\n",
      "  data[columns] = columns_data\n",
      "/home/ramiro/anaconda3/lib/python3.9/site-packages/rdt/transformers/base.py:156: PerformanceWarning: DataFrame is highly fragmented.  This is usually the result of calling `frame.insert` many times, which has poor performance.  Consider joining all columns at once using pd.concat(axis=1) instead. To get a de-fragmented frame, use `newframe = frame.copy()`\n",
      "  data[columns] = columns_data\n",
      "/home/ramiro/anaconda3/lib/python3.9/site-packages/rdt/transformers/base.py:156: PerformanceWarning: DataFrame is highly fragmented.  This is usually the result of calling `frame.insert` many times, which has poor performance.  Consider joining all columns at once using pd.concat(axis=1) instead. To get a de-fragmented frame, use `newframe = frame.copy()`\n",
      "  data[columns] = columns_data\n",
      "/home/ramiro/anaconda3/lib/python3.9/site-packages/rdt/transformers/base.py:156: PerformanceWarning: DataFrame is highly fragmented.  This is usually the result of calling `frame.insert` many times, which has poor performance.  Consider joining all columns at once using pd.concat(axis=1) instead. To get a de-fragmented frame, use `newframe = frame.copy()`\n",
      "  data[columns] = columns_data\n",
      "/home/ramiro/anaconda3/lib/python3.9/site-packages/rdt/transformers/base.py:156: PerformanceWarning: DataFrame is highly fragmented.  This is usually the result of calling `frame.insert` many times, which has poor performance.  Consider joining all columns at once using pd.concat(axis=1) instead. To get a de-fragmented frame, use `newframe = frame.copy()`\n",
      "  data[columns] = columns_data\n",
      "/home/ramiro/anaconda3/lib/python3.9/site-packages/rdt/transformers/base.py:156: PerformanceWarning: DataFrame is highly fragmented.  This is usually the result of calling `frame.insert` many times, which has poor performance.  Consider joining all columns at once using pd.concat(axis=1) instead. To get a de-fragmented frame, use `newframe = frame.copy()`\n",
      "  data[columns] = columns_data\n",
      "/home/ramiro/anaconda3/lib/python3.9/site-packages/rdt/transformers/base.py:156: PerformanceWarning: DataFrame is highly fragmented.  This is usually the result of calling `frame.insert` many times, which has poor performance.  Consider joining all columns at once using pd.concat(axis=1) instead. To get a de-fragmented frame, use `newframe = frame.copy()`\n",
      "  data[columns] = columns_data\n",
      "/home/ramiro/anaconda3/lib/python3.9/site-packages/rdt/transformers/base.py:156: PerformanceWarning: DataFrame is highly fragmented.  This is usually the result of calling `frame.insert` many times, which has poor performance.  Consider joining all columns at once using pd.concat(axis=1) instead. To get a de-fragmented frame, use `newframe = frame.copy()`\n",
      "  data[columns] = columns_data\n",
      "/home/ramiro/anaconda3/lib/python3.9/site-packages/rdt/transformers/base.py:156: PerformanceWarning: DataFrame is highly fragmented.  This is usually the result of calling `frame.insert` many times, which has poor performance.  Consider joining all columns at once using pd.concat(axis=1) instead. To get a de-fragmented frame, use `newframe = frame.copy()`\n",
      "  data[columns] = columns_data\n",
      "/home/ramiro/anaconda3/lib/python3.9/site-packages/rdt/transformers/base.py:156: PerformanceWarning: DataFrame is highly fragmented.  This is usually the result of calling `frame.insert` many times, which has poor performance.  Consider joining all columns at once using pd.concat(axis=1) instead. To get a de-fragmented frame, use `newframe = frame.copy()`\n",
      "  data[columns] = columns_data\n",
      "/home/ramiro/anaconda3/lib/python3.9/site-packages/rdt/transformers/base.py:156: PerformanceWarning: DataFrame is highly fragmented.  This is usually the result of calling `frame.insert` many times, which has poor performance.  Consider joining all columns at once using pd.concat(axis=1) instead. To get a de-fragmented frame, use `newframe = frame.copy()`\n",
      "  data[columns] = columns_data\n",
      "/home/ramiro/anaconda3/lib/python3.9/site-packages/rdt/transformers/base.py:156: PerformanceWarning: DataFrame is highly fragmented.  This is usually the result of calling `frame.insert` many times, which has poor performance.  Consider joining all columns at once using pd.concat(axis=1) instead. To get a de-fragmented frame, use `newframe = frame.copy()`\n",
      "  data[columns] = columns_data\n",
      "/home/ramiro/anaconda3/lib/python3.9/site-packages/rdt/transformers/base.py:156: PerformanceWarning: DataFrame is highly fragmented.  This is usually the result of calling `frame.insert` many times, which has poor performance.  Consider joining all columns at once using pd.concat(axis=1) instead. To get a de-fragmented frame, use `newframe = frame.copy()`\n",
      "  data[columns] = columns_data\n",
      "/home/ramiro/anaconda3/lib/python3.9/site-packages/rdt/transformers/base.py:156: PerformanceWarning: DataFrame is highly fragmented.  This is usually the result of calling `frame.insert` many times, which has poor performance.  Consider joining all columns at once using pd.concat(axis=1) instead. To get a de-fragmented frame, use `newframe = frame.copy()`\n",
      "  data[columns] = columns_data\n",
      "/home/ramiro/anaconda3/lib/python3.9/site-packages/rdt/transformers/base.py:156: PerformanceWarning: DataFrame is highly fragmented.  This is usually the result of calling `frame.insert` many times, which has poor performance.  Consider joining all columns at once using pd.concat(axis=1) instead. To get a de-fragmented frame, use `newframe = frame.copy()`\n",
      "  data[columns] = columns_data\n",
      "/home/ramiro/anaconda3/lib/python3.9/site-packages/rdt/transformers/base.py:156: PerformanceWarning: DataFrame is highly fragmented.  This is usually the result of calling `frame.insert` many times, which has poor performance.  Consider joining all columns at once using pd.concat(axis=1) instead. To get a de-fragmented frame, use `newframe = frame.copy()`\n",
      "  data[columns] = columns_data\n",
      "/home/ramiro/anaconda3/lib/python3.9/site-packages/rdt/transformers/base.py:156: PerformanceWarning: DataFrame is highly fragmented.  This is usually the result of calling `frame.insert` many times, which has poor performance.  Consider joining all columns at once using pd.concat(axis=1) instead. To get a de-fragmented frame, use `newframe = frame.copy()`\n",
      "  data[columns] = columns_data\n",
      "/home/ramiro/anaconda3/lib/python3.9/site-packages/rdt/transformers/base.py:156: PerformanceWarning: DataFrame is highly fragmented.  This is usually the result of calling `frame.insert` many times, which has poor performance.  Consider joining all columns at once using pd.concat(axis=1) instead. To get a de-fragmented frame, use `newframe = frame.copy()`\n",
      "  data[columns] = columns_data\n",
      "/home/ramiro/anaconda3/lib/python3.9/site-packages/rdt/transformers/base.py:156: PerformanceWarning: DataFrame is highly fragmented.  This is usually the result of calling `frame.insert` many times, which has poor performance.  Consider joining all columns at once using pd.concat(axis=1) instead. To get a de-fragmented frame, use `newframe = frame.copy()`\n",
      "  data[columns] = columns_data\n",
      "/home/ramiro/anaconda3/lib/python3.9/site-packages/rdt/transformers/base.py:156: PerformanceWarning: DataFrame is highly fragmented.  This is usually the result of calling `frame.insert` many times, which has poor performance.  Consider joining all columns at once using pd.concat(axis=1) instead. To get a de-fragmented frame, use `newframe = frame.copy()`\n",
      "  data[columns] = columns_data\n",
      "/home/ramiro/anaconda3/lib/python3.9/site-packages/rdt/transformers/base.py:156: PerformanceWarning: DataFrame is highly fragmented.  This is usually the result of calling `frame.insert` many times, which has poor performance.  Consider joining all columns at once using pd.concat(axis=1) instead. To get a de-fragmented frame, use `newframe = frame.copy()`\n",
      "  data[columns] = columns_data\n",
      "/home/ramiro/anaconda3/lib/python3.9/site-packages/rdt/transformers/base.py:156: PerformanceWarning: DataFrame is highly fragmented.  This is usually the result of calling `frame.insert` many times, which has poor performance.  Consider joining all columns at once using pd.concat(axis=1) instead. To get a de-fragmented frame, use `newframe = frame.copy()`\n",
      "  data[columns] = columns_data\n",
      "/home/ramiro/anaconda3/lib/python3.9/site-packages/rdt/transformers/base.py:156: PerformanceWarning: DataFrame is highly fragmented.  This is usually the result of calling `frame.insert` many times, which has poor performance.  Consider joining all columns at once using pd.concat(axis=1) instead. To get a de-fragmented frame, use `newframe = frame.copy()`\n",
      "  data[columns] = columns_data\n",
      "/home/ramiro/anaconda3/lib/python3.9/site-packages/rdt/transformers/base.py:156: PerformanceWarning: DataFrame is highly fragmented.  This is usually the result of calling `frame.insert` many times, which has poor performance.  Consider joining all columns at once using pd.concat(axis=1) instead. To get a de-fragmented frame, use `newframe = frame.copy()`\n",
      "  data[columns] = columns_data\n",
      "/home/ramiro/anaconda3/lib/python3.9/site-packages/rdt/transformers/base.py:156: PerformanceWarning: DataFrame is highly fragmented.  This is usually the result of calling `frame.insert` many times, which has poor performance.  Consider joining all columns at once using pd.concat(axis=1) instead. To get a de-fragmented frame, use `newframe = frame.copy()`\n",
      "  data[columns] = columns_data\n",
      "/home/ramiro/anaconda3/lib/python3.9/site-packages/rdt/transformers/base.py:156: PerformanceWarning: DataFrame is highly fragmented.  This is usually the result of calling `frame.insert` many times, which has poor performance.  Consider joining all columns at once using pd.concat(axis=1) instead. To get a de-fragmented frame, use `newframe = frame.copy()`\n",
      "  data[columns] = columns_data\n",
      "/home/ramiro/anaconda3/lib/python3.9/site-packages/rdt/transformers/base.py:156: PerformanceWarning: DataFrame is highly fragmented.  This is usually the result of calling `frame.insert` many times, which has poor performance.  Consider joining all columns at once using pd.concat(axis=1) instead. To get a de-fragmented frame, use `newframe = frame.copy()`\n",
      "  data[columns] = columns_data\n",
      "/home/ramiro/anaconda3/lib/python3.9/site-packages/rdt/transformers/base.py:156: PerformanceWarning: DataFrame is highly fragmented.  This is usually the result of calling `frame.insert` many times, which has poor performance.  Consider joining all columns at once using pd.concat(axis=1) instead. To get a de-fragmented frame, use `newframe = frame.copy()`\n",
      "  data[columns] = columns_data\n",
      "/home/ramiro/anaconda3/lib/python3.9/site-packages/rdt/transformers/base.py:156: PerformanceWarning: DataFrame is highly fragmented.  This is usually the result of calling `frame.insert` many times, which has poor performance.  Consider joining all columns at once using pd.concat(axis=1) instead. To get a de-fragmented frame, use `newframe = frame.copy()`\n",
      "  data[columns] = columns_data\n",
      "/home/ramiro/anaconda3/lib/python3.9/site-packages/rdt/transformers/base.py:156: PerformanceWarning: DataFrame is highly fragmented.  This is usually the result of calling `frame.insert` many times, which has poor performance.  Consider joining all columns at once using pd.concat(axis=1) instead. To get a de-fragmented frame, use `newframe = frame.copy()`\n",
      "  data[columns] = columns_data\n",
      "/home/ramiro/anaconda3/lib/python3.9/site-packages/rdt/transformers/base.py:156: PerformanceWarning: DataFrame is highly fragmented.  This is usually the result of calling `frame.insert` many times, which has poor performance.  Consider joining all columns at once using pd.concat(axis=1) instead. To get a de-fragmented frame, use `newframe = frame.copy()`\n",
      "  data[columns] = columns_data\n",
      "/home/ramiro/anaconda3/lib/python3.9/site-packages/rdt/transformers/base.py:156: PerformanceWarning: DataFrame is highly fragmented.  This is usually the result of calling `frame.insert` many times, which has poor performance.  Consider joining all columns at once using pd.concat(axis=1) instead. To get a de-fragmented frame, use `newframe = frame.copy()`\n",
      "  data[columns] = columns_data\n",
      "/home/ramiro/anaconda3/lib/python3.9/site-packages/rdt/transformers/base.py:156: PerformanceWarning: DataFrame is highly fragmented.  This is usually the result of calling `frame.insert` many times, which has poor performance.  Consider joining all columns at once using pd.concat(axis=1) instead. To get a de-fragmented frame, use `newframe = frame.copy()`\n",
      "  data[columns] = columns_data\n",
      "/home/ramiro/anaconda3/lib/python3.9/site-packages/ctgan/data_transformer.py:111: SettingWithCopyWarning: \n",
      "A value is trying to be set on a copy of a slice from a DataFrame.\n",
      "Try using .loc[row_indexer,col_indexer] = value instead\n",
      "\n",
      "See the caveats in the documentation: https://pandas.pydata.org/pandas-docs/stable/user_guide/indexing.html#returning-a-view-versus-a-copy\n",
      "  data[column_name] = data[column_name].to_numpy().flatten()\n",
      "/home/ramiro/anaconda3/lib/python3.9/site-packages/ctgan/data_transformer.py:111: SettingWithCopyWarning: \n",
      "A value is trying to be set on a copy of a slice from a DataFrame.\n",
      "Try using .loc[row_indexer,col_indexer] = value instead\n",
      "\n",
      "See the caveats in the documentation: https://pandas.pydata.org/pandas-docs/stable/user_guide/indexing.html#returning-a-view-versus-a-copy\n",
      "  data[column_name] = data[column_name].to_numpy().flatten()\n",
      "/home/ramiro/anaconda3/lib/python3.9/site-packages/ctgan/data_transformer.py:111: SettingWithCopyWarning: \n",
      "A value is trying to be set on a copy of a slice from a DataFrame.\n",
      "Try using .loc[row_indexer,col_indexer] = value instead\n",
      "\n",
      "See the caveats in the documentation: https://pandas.pydata.org/pandas-docs/stable/user_guide/indexing.html#returning-a-view-versus-a-copy\n",
      "  data[column_name] = data[column_name].to_numpy().flatten()\n",
      "/home/ramiro/anaconda3/lib/python3.9/site-packages/ctgan/data_transformer.py:111: SettingWithCopyWarning: \n",
      "A value is trying to be set on a copy of a slice from a DataFrame.\n",
      "Try using .loc[row_indexer,col_indexer] = value instead\n",
      "\n",
      "See the caveats in the documentation: https://pandas.pydata.org/pandas-docs/stable/user_guide/indexing.html#returning-a-view-versus-a-copy\n",
      "  data[column_name] = data[column_name].to_numpy().flatten()\n",
      "/home/ramiro/anaconda3/lib/python3.9/site-packages/ctgan/data_transformer.py:111: SettingWithCopyWarning: \n",
      "A value is trying to be set on a copy of a slice from a DataFrame.\n",
      "Try using .loc[row_indexer,col_indexer] = value instead\n",
      "\n",
      "See the caveats in the documentation: https://pandas.pydata.org/pandas-docs/stable/user_guide/indexing.html#returning-a-view-versus-a-copy\n",
      "  data[column_name] = data[column_name].to_numpy().flatten()\n",
      "/home/ramiro/anaconda3/lib/python3.9/site-packages/ctgan/data_transformer.py:111: SettingWithCopyWarning: \n",
      "A value is trying to be set on a copy of a slice from a DataFrame.\n",
      "Try using .loc[row_indexer,col_indexer] = value instead\n",
      "\n",
      "See the caveats in the documentation: https://pandas.pydata.org/pandas-docs/stable/user_guide/indexing.html#returning-a-view-versus-a-copy\n",
      "  data[column_name] = data[column_name].to_numpy().flatten()\n",
      "/home/ramiro/anaconda3/lib/python3.9/site-packages/ctgan/data_transformer.py:111: SettingWithCopyWarning: \n",
      "A value is trying to be set on a copy of a slice from a DataFrame.\n",
      "Try using .loc[row_indexer,col_indexer] = value instead\n",
      "\n",
      "See the caveats in the documentation: https://pandas.pydata.org/pandas-docs/stable/user_guide/indexing.html#returning-a-view-versus-a-copy\n",
      "  data[column_name] = data[column_name].to_numpy().flatten()\n",
      "/home/ramiro/anaconda3/lib/python3.9/site-packages/ctgan/data_transformer.py:111: SettingWithCopyWarning: \n",
      "A value is trying to be set on a copy of a slice from a DataFrame.\n",
      "Try using .loc[row_indexer,col_indexer] = value instead\n",
      "\n",
      "See the caveats in the documentation: https://pandas.pydata.org/pandas-docs/stable/user_guide/indexing.html#returning-a-view-versus-a-copy\n",
      "  data[column_name] = data[column_name].to_numpy().flatten()\n"
     ]
    },
    {
     "name": "stdout",
     "output_type": "stream",
     "text": [
      "Epoch 1, Loss G:  2.7067,Loss D:  0.0006\n",
      "Epoch 2, Loss G:  2.6354,Loss D: -0.0044\n",
      "Epoch 3, Loss G:  2.6250,Loss D: -0.0207\n",
      "Epoch 4, Loss G:  2.7532,Loss D: -0.0256\n",
      "Epoch 5, Loss G:  2.6235,Loss D: -0.0502\n",
      "Epoch 6, Loss G:  2.7263,Loss D: -0.0655\n",
      "Epoch 7, Loss G:  2.6785,Loss D: -0.0915\n",
      "Epoch 8, Loss G:  2.7322,Loss D: -0.1472\n",
      "Epoch 9, Loss G:  2.7909,Loss D: -0.1524\n",
      "Epoch 10, Loss G:  2.4730,Loss D: -0.1817\n",
      "Epoch 11, Loss G:  2.6701,Loss D: -0.1967\n",
      "Epoch 12, Loss G:  2.6523,Loss D: -0.2014\n",
      "Epoch 13, Loss G:  2.7049,Loss D: -0.2022\n",
      "Epoch 14, Loss G:  2.6277,Loss D: -0.2179\n",
      "Epoch 15, Loss G:  2.5315,Loss D: -0.2304\n",
      "Epoch 16, Loss G:  2.7215,Loss D: -0.1893\n",
      "Epoch 17, Loss G:  2.6965,Loss D: -0.1871\n",
      "Epoch 18, Loss G:  2.6386,Loss D: -0.1673\n",
      "Epoch 19, Loss G:  2.5943,Loss D: -0.1679\n",
      "Epoch 20, Loss G:  2.6176,Loss D: -0.1523\n",
      "Epoch 21, Loss G:  2.5435,Loss D: -0.1466\n",
      "Epoch 22, Loss G:  2.6904,Loss D: -0.1785\n",
      "Epoch 23, Loss G:  2.6535,Loss D: -0.1280\n",
      "Epoch 24, Loss G:  2.5373,Loss D: -0.1415\n",
      "Epoch 25, Loss G:  2.4878,Loss D: -0.1065\n",
      "Epoch 26, Loss G:  2.5071,Loss D: -0.0792\n",
      "Epoch 27, Loss G:  2.6354,Loss D: -0.1124\n",
      "Epoch 28, Loss G:  2.4078,Loss D: -0.0324\n",
      "Epoch 29, Loss G:  2.5574,Loss D: -0.0418\n",
      "Epoch 30, Loss G:  2.4123,Loss D:  0.0092\n",
      "Epoch 31, Loss G:  2.5272,Loss D: -0.0050\n",
      "Epoch 32, Loss G:  2.4704,Loss D:  0.0794\n",
      "Epoch 33, Loss G:  2.4206,Loss D:  0.0353\n",
      "Epoch 34, Loss G:  2.3886,Loss D: -0.0002\n",
      "Epoch 35, Loss G:  2.4263,Loss D:  0.0087\n",
      "Epoch 36, Loss G:  2.4386,Loss D:  0.0715\n",
      "Epoch 37, Loss G:  2.4517,Loss D: -0.0222\n",
      "Epoch 38, Loss G:  2.4060,Loss D:  0.0173\n",
      "Epoch 39, Loss G:  2.4400,Loss D: -0.0228\n",
      "Epoch 40, Loss G:  2.6492,Loss D: -0.0554\n",
      "Epoch 41, Loss G:  2.4905,Loss D: -0.0463\n",
      "Epoch 42, Loss G:  2.4614,Loss D: -0.0532\n",
      "Epoch 43, Loss G:  2.4710,Loss D: -0.1001\n",
      "Epoch 44, Loss G:  2.5097,Loss D: -0.0145\n",
      "Epoch 45, Loss G:  2.4739,Loss D: -0.1017\n",
      "Epoch 46, Loss G:  2.5880,Loss D:  0.0211\n",
      "Epoch 47, Loss G:  2.5325,Loss D: -0.0839\n",
      "Epoch 48, Loss G:  2.4770,Loss D: -0.0258\n",
      "Epoch 49, Loss G:  2.5614,Loss D: -0.0549\n",
      "Epoch 50, Loss G:  2.5221,Loss D: -0.0239\n",
      "Epoch 51, Loss G:  2.3877,Loss D: -0.0163\n",
      "Epoch 52, Loss G:  2.4355,Loss D:  0.0327\n",
      "Epoch 53, Loss G:  2.5084,Loss D:  0.0456\n",
      "Epoch 54, Loss G:  2.5157,Loss D: -0.0017\n",
      "Epoch 55, Loss G:  2.4186,Loss D:  0.0873\n",
      "Epoch 56, Loss G:  2.5092,Loss D: -0.0321\n",
      "Epoch 57, Loss G:  2.5177,Loss D: -0.0124\n",
      "Epoch 58, Loss G:  2.6347,Loss D: -0.0527\n",
      "Epoch 59, Loss G:  2.6041,Loss D: -0.1183\n",
      "Epoch 60, Loss G:  2.5929,Loss D: -0.0204\n",
      "Epoch 61, Loss G:  2.5670,Loss D: -0.0839\n",
      "Epoch 62, Loss G:  2.5890,Loss D: -0.1058\n",
      "Epoch 63, Loss G:  2.4917,Loss D: -0.1338\n",
      "Epoch 64, Loss G:  2.6832,Loss D: -0.0873\n",
      "Epoch 65, Loss G:  2.7877,Loss D: -0.0717\n",
      "Epoch 66, Loss G:  2.5746,Loss D: -0.0844\n",
      "Epoch 67, Loss G:  2.7090,Loss D: -0.0607\n",
      "Epoch 68, Loss G:  2.6568,Loss D: -0.0597\n",
      "Epoch 69, Loss G:  2.5198,Loss D: -0.0513\n",
      "Epoch 70, Loss G:  2.6826,Loss D:  0.0524\n",
      "Epoch 71, Loss G:  2.6689,Loss D:  0.0666\n",
      "Epoch 72, Loss G:  2.4746,Loss D:  0.0585\n",
      "Epoch 73, Loss G:  2.5611,Loss D:  0.0599\n",
      "Epoch 74, Loss G:  2.4373,Loss D:  0.0783\n",
      "Epoch 75, Loss G:  2.4801,Loss D:  0.1471\n",
      "Epoch 76, Loss G:  2.3519,Loss D:  0.1694\n",
      "Epoch 77, Loss G:  2.5609,Loss D:  0.2323\n",
      "Epoch 78, Loss G:  2.4053,Loss D:  0.1733\n",
      "Epoch 79, Loss G:  2.4357,Loss D:  0.2062\n",
      "Epoch 80, Loss G:  2.2854,Loss D:  0.1587\n",
      "Epoch 81, Loss G:  2.3313,Loss D:  0.1182\n",
      "Epoch 82, Loss G:  2.4495,Loss D:  0.1069\n",
      "Epoch 83, Loss G:  2.3585,Loss D:  0.0612\n",
      "Epoch 84, Loss G:  2.2868,Loss D:  0.0843\n",
      "Epoch 85, Loss G:  2.4085,Loss D:  0.0684\n",
      "Epoch 86, Loss G:  2.3114,Loss D:  0.0174\n",
      "Epoch 87, Loss G:  2.2987,Loss D:  0.0284\n",
      "Epoch 88, Loss G:  2.4566,Loss D:  0.0471\n",
      "Epoch 89, Loss G:  2.4094,Loss D:  0.0287\n",
      "Epoch 90, Loss G:  2.4479,Loss D: -0.0122\n",
      "Epoch 91, Loss G:  2.3006,Loss D: -0.0649\n",
      "Epoch 92, Loss G:  2.5778,Loss D: -0.0286\n",
      "Epoch 93, Loss G:  2.3928,Loss D: -0.0465\n",
      "Epoch 94, Loss G:  2.4256,Loss D:  0.0058\n",
      "Epoch 95, Loss G:  2.3106,Loss D: -0.0286\n",
      "Epoch 96, Loss G:  2.2672,Loss D: -0.0670\n",
      "Epoch 97, Loss G:  2.2468,Loss D: -0.1007\n",
      "Epoch 98, Loss G:  2.1896,Loss D: -0.0708\n",
      "Epoch 99, Loss G:  2.2759,Loss D: -0.0203\n",
      "Epoch 100, Loss G:  2.3143,Loss D:  0.0720\n",
      "       SKU                               Tienda            FORMATO  \\\n",
      "0  3108163    CHEDRAUI GUADALAJARA LOMAS TONALA        CHEDRAUI CD   \n",
      "1  3675174    CHEDRAUI GUADALAJARA LOMAS TONALA        CHEDRAUI CD   \n",
      "2  3368652  SUPER CHEDRAUI FELIPE CARRILLO PUER  SUPER CHEDRAUI CD   \n",
      "3  3293170  SUPER CHEDRAUI FELIPE CARRILLO PUER        CHEDRAUI CD   \n",
      "4  3004381    CHEDRAUI GUADALAJARA LOMAS TONALA        CHEDRAUI CD   \n",
      "\n",
      "                      Categoria                        CLASE SCLASE DiaSem  \\\n",
      "0          LIMPIADORES DE BAÑOS                        SOPAS      5      5   \n",
      "1                   LAVATRASTES            ALIMENTACIÓN SECA      5      2   \n",
      "2  COOLERS Y BEBIDAS PREPARADAS             PASTAS PARA SOPA      8      5   \n",
      "3                   LECHE POLVO  BRONCEADORES Y BLOQUEADORES     13      5   \n",
      "4                     CAPILARES                AROMATIZANTES      5      4   \n",
      "\n",
      "  Sem  Existencia  fiDesplazamiento  VentaPromedio  Y_Faltante  \\\n",
      "0  20   74.095802        -27.543788    1380.904976           1   \n",
      "1  18  151.469635        -15.360903     116.977387           0   \n",
      "2  18  167.694623         -3.708304      58.025666           1   \n",
      "3  18   37.459017         55.343763    1219.079907           1   \n",
      "4  18  189.307945        -20.313457    5110.210257           1   \n",
      "\n",
      "   Predicción_Ago         0         1  Acuerdo  \n",
      "0               0  0.765627  0.065831        1  \n",
      "1               0  0.689793  0.028090        1  \n",
      "2               1  0.344584  0.083579        1  \n",
      "3               0  0.470399  0.061631        1  \n",
      "4               1  0.309651  0.582540        1  \n",
      "rows: 14916  columns: 16\n"
     ]
    }
   ],
   "source": [
    "from ctgan import CTGANSynthesizer\n",
    "\n",
    "# Identifies all the discrete columns\n",
    "\n",
    "# Initiates the CTGANSynthesizer and call its fit method to pass in the table\n",
    "# Another hyper-parameter that can be tunned is \n",
    "ctgan = CTGANSynthesizer(epochs=100,verbose=True,cuda=True)\n",
    "ctgan.fit(malas, cat_columns)\n",
    "\n",
    "#generate synthetic data, 10000 rows of data\n",
    "\n",
    "synthetic_data = ctgan.sample(num)\n",
    "print(synthetic_data.head(5))\n",
    "\n",
    "malas_oversampleadas = pd.concat([malas,synthetic_data])\n",
    "\n",
    "data = pd.concat([buenas,malas_oversampleadas],join='inner')\n",
    "print('rows:', data.shape[0], ' columns:', data.shape[1])"
   ]
  },
  {
   "cell_type": "code",
   "execution_count": 27,
   "metadata": {},
   "outputs": [],
   "source": [
    "X = data[['Predicción_Ago','0','1']]\n",
    "y = data.Y_Faltante"
   ]
  },
  {
   "cell_type": "code",
   "execution_count": 28,
   "metadata": {},
   "outputs": [
    {
     "name": "stdout",
     "output_type": "stream",
     "text": [
      "Entrenamiento: 12678  Prueba: 2238\n"
     ]
    }
   ],
   "source": [
    "# Se construyen los conjuntos de entrenamiento y prueba sobre los que se aplicarán algoritmos de machine learning\n",
    "X_train, X_val, y_train, y_val = train_test_split(X, y, test_size=0.15, random_state=0)\n",
    "print('Entrenamiento:', X_train.shape[0], ' Prueba:', X_val.shape[0])"
   ]
  },
  {
   "cell_type": "markdown",
   "metadata": {},
   "source": [
    "# Implementamos Random Forest como corrector"
   ]
  },
  {
   "cell_type": "code",
   "execution_count": 29,
   "metadata": {},
   "outputs": [
    {
     "name": "stdout",
     "output_type": "stream",
     "text": [
      "Precisión entrenamiento: 0.9992, Presición validación: 0.8123\n"
     ]
    }
   ],
   "source": [
    "from sklearn.ensemble import RandomForestClassifier\n",
    "rfc = RandomForestClassifier(random_state=0)\n",
    "rfc.fit(X_train, y_train)\n",
    "rfc.predict(X_val)\n",
    "acc_train = rfc.score(X_train,y_train)\n",
    "acc_test = rfc.score(X_val,y_val)\n",
    "\n",
    "print(f'Precisión entrenamiento: {acc_train.round(4)}, Presición validación: {acc_test.round(4)}')"
   ]
  },
  {
   "cell_type": "code",
   "execution_count": 30,
   "metadata": {},
   "outputs": [
    {
     "data": {
      "image/png": "[encoded data removed]",
      "text/plain": [
       "<Figure size 864x648 with 2 Axes>"
      ]
     },
     "metadata": {
      "needs_background": "light"
     },
     "output_type": "display_data"
    }
   ],
   "source": [
    "from sklearn.metrics import confusion_matrix\n",
    "#y_test = label_test\n",
    "y_pred = rfc.predict(X_val)\n",
    "mat = confusion_matrix(y_val, y_pred)\n",
    "plt.figure(figsize=(12, 9))\n",
    "sns.heatmap(mat, annot=True)\n",
    "plt.show()"
   ]
  },
  {
   "cell_type": "code",
   "execution_count": 31,
   "metadata": {},
   "outputs": [
    {
     "name": "stdout",
     "output_type": "stream",
     "text": [
      "Accuracy: 0.8123324396782842\n",
      "True Positive Rate 0.8991723100075244\n",
      "Precision 0.8068872383524646\n",
      "Balanced accuracy 0.7922704234306048\n",
      "f1 score 0.8505338078291815\n"
     ]
    }
   ],
   "source": [
    "accuracy = accuracy_score(y_val,y_pred)\n",
    "recall = recall_score(y_val,y_pred)\n",
    "precision = precision_score(y_val,y_pred)\n",
    "balanced_accuracy = balanced_accuracy_score(y_val,y_pred)\n",
    "f1 = f1_score(y_val,y_pred)\n",
    "print(f'Accuracy: {accuracy}')\n",
    "print(f'True Positive Rate {recall}')\n",
    "print(f'Precision {precision}')\n",
    "print(f'Balanced accuracy {balanced_accuracy}')\n",
    "print(f'f1 score {f1}')"
   ]
  },
  {
   "cell_type": "code",
   "execution_count": 32,
   "metadata": {},
   "outputs": [
    {
     "data": {
      "text/plain": [
       "(623, 286, 134, 1195)"
      ]
     },
     "execution_count": 32,
     "metadata": {},
     "output_type": "execute_result"
    }
   ],
   "source": [
    "# Calculamos las entradas de la matriz de confusión\n",
    "tn, fp, fn, tp = confusion_matrix(y_val, y_pred).ravel()\n",
    "tn,fp,fn,tp"
   ]
  }
 ],
 "metadata": {
  "kernelspec": {
   "display_name": "Python 3.9.13 ('base')",
   "language": "python",
   "name": "python3"
  },
  "language_info": {
   "codemirror_mode": {
    "name": "ipython",
    "version": 3
   },
   "file_extension": ".py",
   "mimetype": "text/x-python",
   "name": "python",
   "nbconvert_exporter": "python",
   "pygments_lexer": "ipython3",
   "version": "3.9.13"
  },
  "orig_nbformat": 4,
  "vscode": {
   "interpreter": {
    "hash": "28d32912ff785b10df1024f38ee4319211f818f7e33b0bebdd22a348463283c4"
   }
  }
 },
 "nbformat": 4,
 "nbformat_minor": 2
}
